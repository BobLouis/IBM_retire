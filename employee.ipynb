{
 "cells": [
  {
   "cell_type": "markdown",
   "metadata": {},
   "source": [
    "# data preprocess"
   ]
  },
  {
   "cell_type": "code",
   "execution_count": 1,
   "metadata": {},
   "outputs": [],
   "source": [
    "import pandas as pd\n",
    "import numpy as np\n",
    "import matplotlib.pyplot as plt\n",
    "import xlrd"
   ]
  },
  {
   "cell_type": "code",
   "execution_count": 2,
   "metadata": {},
   "outputs": [],
   "source": [
    "data = pd.read_csv(\"./data/HR-Employee.csv\")"
   ]
  },
  {
   "cell_type": "code",
   "execution_count": 3,
   "metadata": {},
   "outputs": [
    {
     "data": {
      "text/html": [
       "<div>\n",
       "<style scoped>\n",
       "    .dataframe tbody tr th:only-of-type {\n",
       "        vertical-align: middle;\n",
       "    }\n",
       "\n",
       "    .dataframe tbody tr th {\n",
       "        vertical-align: top;\n",
       "    }\n",
       "\n",
       "    .dataframe thead th {\n",
       "        text-align: right;\n",
       "    }\n",
       "</style>\n",
       "<table border=\"1\" class=\"dataframe\">\n",
       "  <thead>\n",
       "    <tr style=\"text-align: right;\">\n",
       "      <th></th>\n",
       "      <th>Age</th>\n",
       "      <th>Attrition</th>\n",
       "      <th>BusinessTravel</th>\n",
       "      <th>DailyRate</th>\n",
       "      <th>Department</th>\n",
       "      <th>DistanceFromHome</th>\n",
       "      <th>Education</th>\n",
       "      <th>EducationField</th>\n",
       "      <th>EmployeeCount</th>\n",
       "      <th>EmployeeNumber</th>\n",
       "      <th>...</th>\n",
       "      <th>RelationshipSatisfaction</th>\n",
       "      <th>StandardHours</th>\n",
       "      <th>StockOptionLevel</th>\n",
       "      <th>TotalWorkingYears</th>\n",
       "      <th>TrainingTimesLastYear</th>\n",
       "      <th>WorkLifeBalance</th>\n",
       "      <th>YearsAtCompany</th>\n",
       "      <th>YearsInCurrentRole</th>\n",
       "      <th>YearsSinceLastPromotion</th>\n",
       "      <th>YearsWithCurrManager</th>\n",
       "    </tr>\n",
       "  </thead>\n",
       "  <tbody>\n",
       "    <tr>\n",
       "      <th>0</th>\n",
       "      <td>41</td>\n",
       "      <td>Yes</td>\n",
       "      <td>Travel_Rarely</td>\n",
       "      <td>1102</td>\n",
       "      <td>Sales</td>\n",
       "      <td>1</td>\n",
       "      <td>2</td>\n",
       "      <td>Life Sciences</td>\n",
       "      <td>1</td>\n",
       "      <td>1</td>\n",
       "      <td>...</td>\n",
       "      <td>1</td>\n",
       "      <td>80</td>\n",
       "      <td>0</td>\n",
       "      <td>8</td>\n",
       "      <td>0</td>\n",
       "      <td>1</td>\n",
       "      <td>6</td>\n",
       "      <td>4</td>\n",
       "      <td>0</td>\n",
       "      <td>5</td>\n",
       "    </tr>\n",
       "    <tr>\n",
       "      <th>1</th>\n",
       "      <td>49</td>\n",
       "      <td>No</td>\n",
       "      <td>Travel_Frequently</td>\n",
       "      <td>279</td>\n",
       "      <td>Research &amp; Development</td>\n",
       "      <td>8</td>\n",
       "      <td>1</td>\n",
       "      <td>Life Sciences</td>\n",
       "      <td>1</td>\n",
       "      <td>2</td>\n",
       "      <td>...</td>\n",
       "      <td>4</td>\n",
       "      <td>80</td>\n",
       "      <td>1</td>\n",
       "      <td>10</td>\n",
       "      <td>3</td>\n",
       "      <td>3</td>\n",
       "      <td>10</td>\n",
       "      <td>7</td>\n",
       "      <td>1</td>\n",
       "      <td>7</td>\n",
       "    </tr>\n",
       "    <tr>\n",
       "      <th>2</th>\n",
       "      <td>37</td>\n",
       "      <td>Yes</td>\n",
       "      <td>Travel_Rarely</td>\n",
       "      <td>1373</td>\n",
       "      <td>Research &amp; Development</td>\n",
       "      <td>2</td>\n",
       "      <td>2</td>\n",
       "      <td>Other</td>\n",
       "      <td>1</td>\n",
       "      <td>4</td>\n",
       "      <td>...</td>\n",
       "      <td>2</td>\n",
       "      <td>80</td>\n",
       "      <td>0</td>\n",
       "      <td>7</td>\n",
       "      <td>3</td>\n",
       "      <td>3</td>\n",
       "      <td>0</td>\n",
       "      <td>0</td>\n",
       "      <td>0</td>\n",
       "      <td>0</td>\n",
       "    </tr>\n",
       "    <tr>\n",
       "      <th>3</th>\n",
       "      <td>33</td>\n",
       "      <td>No</td>\n",
       "      <td>Travel_Frequently</td>\n",
       "      <td>1392</td>\n",
       "      <td>Research &amp; Development</td>\n",
       "      <td>3</td>\n",
       "      <td>4</td>\n",
       "      <td>Life Sciences</td>\n",
       "      <td>1</td>\n",
       "      <td>5</td>\n",
       "      <td>...</td>\n",
       "      <td>3</td>\n",
       "      <td>80</td>\n",
       "      <td>0</td>\n",
       "      <td>8</td>\n",
       "      <td>3</td>\n",
       "      <td>3</td>\n",
       "      <td>8</td>\n",
       "      <td>7</td>\n",
       "      <td>3</td>\n",
       "      <td>0</td>\n",
       "    </tr>\n",
       "    <tr>\n",
       "      <th>4</th>\n",
       "      <td>27</td>\n",
       "      <td>No</td>\n",
       "      <td>Travel_Rarely</td>\n",
       "      <td>591</td>\n",
       "      <td>Research &amp; Development</td>\n",
       "      <td>2</td>\n",
       "      <td>1</td>\n",
       "      <td>Medical</td>\n",
       "      <td>1</td>\n",
       "      <td>7</td>\n",
       "      <td>...</td>\n",
       "      <td>4</td>\n",
       "      <td>80</td>\n",
       "      <td>1</td>\n",
       "      <td>6</td>\n",
       "      <td>3</td>\n",
       "      <td>3</td>\n",
       "      <td>2</td>\n",
       "      <td>2</td>\n",
       "      <td>2</td>\n",
       "      <td>2</td>\n",
       "    </tr>\n",
       "    <tr>\n",
       "      <th>...</th>\n",
       "      <td>...</td>\n",
       "      <td>...</td>\n",
       "      <td>...</td>\n",
       "      <td>...</td>\n",
       "      <td>...</td>\n",
       "      <td>...</td>\n",
       "      <td>...</td>\n",
       "      <td>...</td>\n",
       "      <td>...</td>\n",
       "      <td>...</td>\n",
       "      <td>...</td>\n",
       "      <td>...</td>\n",
       "      <td>...</td>\n",
       "      <td>...</td>\n",
       "      <td>...</td>\n",
       "      <td>...</td>\n",
       "      <td>...</td>\n",
       "      <td>...</td>\n",
       "      <td>...</td>\n",
       "      <td>...</td>\n",
       "      <td>...</td>\n",
       "    </tr>\n",
       "    <tr>\n",
       "      <th>1465</th>\n",
       "      <td>36</td>\n",
       "      <td>No</td>\n",
       "      <td>Travel_Frequently</td>\n",
       "      <td>884</td>\n",
       "      <td>Research &amp; Development</td>\n",
       "      <td>23</td>\n",
       "      <td>2</td>\n",
       "      <td>Medical</td>\n",
       "      <td>1</td>\n",
       "      <td>2061</td>\n",
       "      <td>...</td>\n",
       "      <td>3</td>\n",
       "      <td>80</td>\n",
       "      <td>1</td>\n",
       "      <td>17</td>\n",
       "      <td>3</td>\n",
       "      <td>3</td>\n",
       "      <td>5</td>\n",
       "      <td>2</td>\n",
       "      <td>0</td>\n",
       "      <td>3</td>\n",
       "    </tr>\n",
       "    <tr>\n",
       "      <th>1466</th>\n",
       "      <td>39</td>\n",
       "      <td>No</td>\n",
       "      <td>Travel_Rarely</td>\n",
       "      <td>613</td>\n",
       "      <td>Research &amp; Development</td>\n",
       "      <td>6</td>\n",
       "      <td>1</td>\n",
       "      <td>Medical</td>\n",
       "      <td>1</td>\n",
       "      <td>2062</td>\n",
       "      <td>...</td>\n",
       "      <td>1</td>\n",
       "      <td>80</td>\n",
       "      <td>1</td>\n",
       "      <td>9</td>\n",
       "      <td>5</td>\n",
       "      <td>3</td>\n",
       "      <td>7</td>\n",
       "      <td>7</td>\n",
       "      <td>1</td>\n",
       "      <td>7</td>\n",
       "    </tr>\n",
       "    <tr>\n",
       "      <th>1467</th>\n",
       "      <td>27</td>\n",
       "      <td>No</td>\n",
       "      <td>Travel_Rarely</td>\n",
       "      <td>155</td>\n",
       "      <td>Research &amp; Development</td>\n",
       "      <td>4</td>\n",
       "      <td>3</td>\n",
       "      <td>Life Sciences</td>\n",
       "      <td>1</td>\n",
       "      <td>2064</td>\n",
       "      <td>...</td>\n",
       "      <td>2</td>\n",
       "      <td>80</td>\n",
       "      <td>1</td>\n",
       "      <td>6</td>\n",
       "      <td>0</td>\n",
       "      <td>3</td>\n",
       "      <td>6</td>\n",
       "      <td>2</td>\n",
       "      <td>0</td>\n",
       "      <td>3</td>\n",
       "    </tr>\n",
       "    <tr>\n",
       "      <th>1468</th>\n",
       "      <td>49</td>\n",
       "      <td>No</td>\n",
       "      <td>Travel_Frequently</td>\n",
       "      <td>1023</td>\n",
       "      <td>Sales</td>\n",
       "      <td>2</td>\n",
       "      <td>3</td>\n",
       "      <td>Medical</td>\n",
       "      <td>1</td>\n",
       "      <td>2065</td>\n",
       "      <td>...</td>\n",
       "      <td>4</td>\n",
       "      <td>80</td>\n",
       "      <td>0</td>\n",
       "      <td>17</td>\n",
       "      <td>3</td>\n",
       "      <td>2</td>\n",
       "      <td>9</td>\n",
       "      <td>6</td>\n",
       "      <td>0</td>\n",
       "      <td>8</td>\n",
       "    </tr>\n",
       "    <tr>\n",
       "      <th>1469</th>\n",
       "      <td>34</td>\n",
       "      <td>No</td>\n",
       "      <td>Travel_Rarely</td>\n",
       "      <td>628</td>\n",
       "      <td>Research &amp; Development</td>\n",
       "      <td>8</td>\n",
       "      <td>3</td>\n",
       "      <td>Medical</td>\n",
       "      <td>1</td>\n",
       "      <td>2068</td>\n",
       "      <td>...</td>\n",
       "      <td>1</td>\n",
       "      <td>80</td>\n",
       "      <td>0</td>\n",
       "      <td>6</td>\n",
       "      <td>3</td>\n",
       "      <td>4</td>\n",
       "      <td>4</td>\n",
       "      <td>3</td>\n",
       "      <td>1</td>\n",
       "      <td>2</td>\n",
       "    </tr>\n",
       "  </tbody>\n",
       "</table>\n",
       "<p>1470 rows × 35 columns</p>\n",
       "</div>"
      ],
      "text/plain": [
       "      Age Attrition     BusinessTravel  DailyRate              Department  \\\n",
       "0      41       Yes      Travel_Rarely       1102                   Sales   \n",
       "1      49        No  Travel_Frequently        279  Research & Development   \n",
       "2      37       Yes      Travel_Rarely       1373  Research & Development   \n",
       "3      33        No  Travel_Frequently       1392  Research & Development   \n",
       "4      27        No      Travel_Rarely        591  Research & Development   \n",
       "...   ...       ...                ...        ...                     ...   \n",
       "1465   36        No  Travel_Frequently        884  Research & Development   \n",
       "1466   39        No      Travel_Rarely        613  Research & Development   \n",
       "1467   27        No      Travel_Rarely        155  Research & Development   \n",
       "1468   49        No  Travel_Frequently       1023                   Sales   \n",
       "1469   34        No      Travel_Rarely        628  Research & Development   \n",
       "\n",
       "      DistanceFromHome  Education EducationField  EmployeeCount  \\\n",
       "0                    1          2  Life Sciences              1   \n",
       "1                    8          1  Life Sciences              1   \n",
       "2                    2          2          Other              1   \n",
       "3                    3          4  Life Sciences              1   \n",
       "4                    2          1        Medical              1   \n",
       "...                ...        ...            ...            ...   \n",
       "1465                23          2        Medical              1   \n",
       "1466                 6          1        Medical              1   \n",
       "1467                 4          3  Life Sciences              1   \n",
       "1468                 2          3        Medical              1   \n",
       "1469                 8          3        Medical              1   \n",
       "\n",
       "      EmployeeNumber  ...  RelationshipSatisfaction StandardHours  \\\n",
       "0                  1  ...                         1            80   \n",
       "1                  2  ...                         4            80   \n",
       "2                  4  ...                         2            80   \n",
       "3                  5  ...                         3            80   \n",
       "4                  7  ...                         4            80   \n",
       "...              ...  ...                       ...           ...   \n",
       "1465            2061  ...                         3            80   \n",
       "1466            2062  ...                         1            80   \n",
       "1467            2064  ...                         2            80   \n",
       "1468            2065  ...                         4            80   \n",
       "1469            2068  ...                         1            80   \n",
       "\n",
       "      StockOptionLevel  TotalWorkingYears  TrainingTimesLastYear  \\\n",
       "0                    0                  8                      0   \n",
       "1                    1                 10                      3   \n",
       "2                    0                  7                      3   \n",
       "3                    0                  8                      3   \n",
       "4                    1                  6                      3   \n",
       "...                ...                ...                    ...   \n",
       "1465                 1                 17                      3   \n",
       "1466                 1                  9                      5   \n",
       "1467                 1                  6                      0   \n",
       "1468                 0                 17                      3   \n",
       "1469                 0                  6                      3   \n",
       "\n",
       "     WorkLifeBalance  YearsAtCompany YearsInCurrentRole  \\\n",
       "0                  1               6                  4   \n",
       "1                  3              10                  7   \n",
       "2                  3               0                  0   \n",
       "3                  3               8                  7   \n",
       "4                  3               2                  2   \n",
       "...              ...             ...                ...   \n",
       "1465               3               5                  2   \n",
       "1466               3               7                  7   \n",
       "1467               3               6                  2   \n",
       "1468               2               9                  6   \n",
       "1469               4               4                  3   \n",
       "\n",
       "      YearsSinceLastPromotion  YearsWithCurrManager  \n",
       "0                           0                     5  \n",
       "1                           1                     7  \n",
       "2                           0                     0  \n",
       "3                           3                     0  \n",
       "4                           2                     2  \n",
       "...                       ...                   ...  \n",
       "1465                        0                     3  \n",
       "1466                        1                     7  \n",
       "1467                        0                     3  \n",
       "1468                        0                     8  \n",
       "1469                        1                     2  \n",
       "\n",
       "[1470 rows x 35 columns]"
      ]
     },
     "execution_count": 3,
     "metadata": {},
     "output_type": "execute_result"
    }
   ],
   "source": [
    "data"
   ]
  },
  {
   "cell_type": "markdown",
   "metadata": {},
   "source": [
    "### non value columns\n",
    "EmployeeCount\n",
    "EmployeeNumber\n",
    "Over18"
   ]
  },
  {
   "cell_type": "code",
   "execution_count": 4,
   "metadata": {},
   "outputs": [
    {
     "name": "stdout",
     "output_type": "stream",
     "text": [
      "<class 'pandas.core.frame.DataFrame'>\n",
      "RangeIndex: 1470 entries, 0 to 1469\n",
      "Data columns (total 35 columns):\n",
      " #   Column                    Non-Null Count  Dtype \n",
      "---  ------                    --------------  ----- \n",
      " 0   Age                       1470 non-null   int64 \n",
      " 1   Attrition                 1470 non-null   object\n",
      " 2   BusinessTravel            1470 non-null   object\n",
      " 3   DailyRate                 1470 non-null   int64 \n",
      " 4   Department                1470 non-null   object\n",
      " 5   DistanceFromHome          1470 non-null   int64 \n",
      " 6   Education                 1470 non-null   int64 \n",
      " 7   EducationField            1470 non-null   object\n",
      " 8   EmployeeCount             1470 non-null   int64 \n",
      " 9   EmployeeNumber            1470 non-null   int64 \n",
      " 10  EnvironmentSatisfaction   1470 non-null   int64 \n",
      " 11  Gender                    1470 non-null   object\n",
      " 12  HourlyRate                1470 non-null   int64 \n",
      " 13  JobInvolvement            1470 non-null   int64 \n",
      " 14  JobLevel                  1470 non-null   int64 \n",
      " 15  JobRole                   1470 non-null   object\n",
      " 16  JobSatisfaction           1470 non-null   int64 \n",
      " 17  MaritalStatus             1470 non-null   object\n",
      " 18  MonthlyIncome             1470 non-null   int64 \n",
      " 19  MonthlyRate               1470 non-null   int64 \n",
      " 20  NumCompaniesWorked        1470 non-null   int64 \n",
      " 21  Over18                    1470 non-null   object\n",
      " 22  OverTime                  1470 non-null   object\n",
      " 23  PercentSalaryHike         1470 non-null   int64 \n",
      " 24  PerformanceRating         1470 non-null   int64 \n",
      " 25  RelationshipSatisfaction  1470 non-null   int64 \n",
      " 26  StandardHours             1470 non-null   int64 \n",
      " 27  StockOptionLevel          1470 non-null   int64 \n",
      " 28  TotalWorkingYears         1470 non-null   int64 \n",
      " 29  TrainingTimesLastYear     1470 non-null   int64 \n",
      " 30  WorkLifeBalance           1470 non-null   int64 \n",
      " 31  YearsAtCompany            1470 non-null   int64 \n",
      " 32  YearsInCurrentRole        1470 non-null   int64 \n",
      " 33  YearsSinceLastPromotion   1470 non-null   int64 \n",
      " 34  YearsWithCurrManager      1470 non-null   int64 \n",
      "dtypes: int64(26), object(9)\n",
      "memory usage: 402.1+ KB\n"
     ]
    }
   ],
   "source": [
    "data.info()"
   ]
  },
  {
   "cell_type": "code",
   "execution_count": 5,
   "metadata": {},
   "outputs": [
    {
     "name": "stdout",
     "output_type": "stream",
     "text": [
      "Index(['Age', 'Attrition', 'BusinessTravel', 'DailyRate', 'Department',\n",
      "       'DistanceFromHome', 'Education', 'EducationField', 'EmployeeCount',\n",
      "       'EmployeeNumber', 'EnvironmentSatisfaction', 'Gender', 'HourlyRate',\n",
      "       'JobInvolvement', 'JobLevel', 'JobRole', 'JobSatisfaction',\n",
      "       'MaritalStatus', 'MonthlyIncome', 'MonthlyRate', 'NumCompaniesWorked',\n",
      "       'Over18', 'OverTime', 'PercentSalaryHike', 'PerformanceRating',\n",
      "       'RelationshipSatisfaction', 'StandardHours', 'StockOptionLevel',\n",
      "       'TotalWorkingYears', 'TrainingTimesLastYear', 'WorkLifeBalance',\n",
      "       'YearsAtCompany', 'YearsInCurrentRole', 'YearsSinceLastPromotion',\n",
      "       'YearsWithCurrManager'],\n",
      "      dtype='object')\n"
     ]
    }
   ],
   "source": [
    "data.describe()\n",
    "data.shape\n",
    "print(data.columns)"
   ]
  },
  {
   "cell_type": "code",
   "execution_count": 6,
   "metadata": {},
   "outputs": [],
   "source": [
    "data.drop('EmployeeCount', axis=1, inplace=True) # drop the EmployeeCount column\n",
    "data.drop('EmployeeNumber', axis=1, inplace=True) # drop the EmployeeNumber column\n",
    "data.drop('Over18', axis=1, inplace=True) # drop the EmployeeNumber column"
   ]
  },
  {
   "cell_type": "code",
   "execution_count": 7,
   "metadata": {},
   "outputs": [
    {
     "data": {
      "text/plain": [
       "0"
      ]
     },
     "execution_count": 7,
     "metadata": {},
     "output_type": "execute_result"
    }
   ],
   "source": [
    "data.duplicated().sum() # check for duplicates"
   ]
  },
  {
   "cell_type": "code",
   "execution_count": 8,
   "metadata": {},
   "outputs": [
    {
     "data": {
      "text/plain": [
       "Attrition\n",
       "No     1233\n",
       "Yes     237\n",
       "Name: count, dtype: int64"
      ]
     },
     "execution_count": 8,
     "metadata": {},
     "output_type": "execute_result"
    }
   ],
   "source": [
    "data.Attrition.value_counts()"
   ]
  },
  {
   "cell_type": "code",
   "execution_count": 9,
   "metadata": {},
   "outputs": [
    {
     "data": {
      "text/plain": [
       "Gender\n",
       "Male      882\n",
       "Female    588\n",
       "Name: count, dtype: int64"
      ]
     },
     "execution_count": 9,
     "metadata": {},
     "output_type": "execute_result"
    }
   ],
   "source": [
    "data.Gender.value_counts()"
   ]
  },
  {
   "cell_type": "code",
   "execution_count": 10,
   "metadata": {},
   "outputs": [
    {
     "data": {
      "text/plain": [
       "Education\n",
       "3    572\n",
       "4    398\n",
       "2    282\n",
       "1    170\n",
       "5     48\n",
       "Name: count, dtype: int64"
      ]
     },
     "execution_count": 10,
     "metadata": {},
     "output_type": "execute_result"
    }
   ],
   "source": [
    "data.Education.value_counts()"
   ]
  },
  {
   "cell_type": "code",
   "execution_count": 11,
   "metadata": {},
   "outputs": [
    {
     "data": {
      "text/plain": [
       "MaritalStatus\n",
       "Married     673\n",
       "Single      470\n",
       "Divorced    327\n",
       "Name: count, dtype: int64"
      ]
     },
     "execution_count": 11,
     "metadata": {},
     "output_type": "execute_result"
    }
   ],
   "source": [
    "data.MaritalStatus.value_counts()"
   ]
  },
  {
   "cell_type": "code",
   "execution_count": 12,
   "metadata": {},
   "outputs": [],
   "source": [
    "import seaborn as sns"
   ]
  },
  {
   "cell_type": "code",
   "execution_count": 13,
   "metadata": {},
   "outputs": [
    {
     "data": {
      "text/plain": [
       "<seaborn.axisgrid.FacetGrid at 0x7f382270af40>"
      ]
     },
     "execution_count": 13,
     "metadata": {},
     "output_type": "execute_result"
    },
    {
     "data": {
      "image/png": "[encoded data removed]",
      "text/plain": [
       "<Figure size 572.125x500 with 1 Axes>"
      ]
     },
     "metadata": {},
     "output_type": "display_data"
    }
   ],
   "source": [
    "sns.catplot(x='Gender', y='DailyRate', hue='Attrition', kind='box', data=data)"
   ]
  },
  {
   "cell_type": "code",
   "execution_count": 14,
   "metadata": {},
   "outputs": [
    {
     "data": {
      "text/plain": [
       "<Axes: >"
      ]
     },
     "execution_count": 14,
     "metadata": {},
     "output_type": "execute_result"
    },
    {
     "data": {
      "image/png": "[encoded data removed]",
      "text/plain": [
       "<Figure size 5000x700 with 1 Axes>"
      ]
     },
     "metadata": {},
     "output_type": "display_data"
    }
   ],
   "source": [
    "plt.figure(figsize=(50, 7))\n",
    "data.boxplot()"
   ]
  },
  {
   "cell_type": "code",
   "execution_count": 15,
   "metadata": {},
   "outputs": [
    {
     "data": {
      "image/png": "[encoded data removed]",
      "text/plain": [
       "<Figure size 640x480 with 1 Axes>"
      ]
     },
     "metadata": {},
     "output_type": "display_data"
    }
   ],
   "source": [
    "features = ['DailyRate']\n",
    "for feature in features:\n",
    "    sns.boxplot(x=feature, data=data)\n",
    "    plt.show()"
   ]
  },
  {
   "cell_type": "code",
   "execution_count": 16,
   "metadata": {},
   "outputs": [],
   "source": [
    "# train = data[(data['AGE'] <= 60) & (data['PAY_0'] <=2) & (data['PAY_2'] <=2) & (data['PAY_3'] <=2) & (data['PAY_4'] <=2) & (data['PAY_5'] <=2) & (data['PAY_6'] <=2) & (data['LIMIT_BAL'] <=600000)]\n",
    "train = data"
   ]
  },
  {
   "cell_type": "code",
   "execution_count": 17,
   "metadata": {},
   "outputs": [
    {
     "name": "stdout",
     "output_type": "stream",
     "text": [
      "<class 'pandas.core.frame.DataFrame'>\n",
      "RangeIndex: 1470 entries, 0 to 1469\n",
      "Data columns (total 32 columns):\n",
      " #   Column                    Non-Null Count  Dtype \n",
      "---  ------                    --------------  ----- \n",
      " 0   Age                       1470 non-null   int64 \n",
      " 1   Attrition                 1470 non-null   object\n",
      " 2   BusinessTravel            1470 non-null   object\n",
      " 3   DailyRate                 1470 non-null   int64 \n",
      " 4   Department                1470 non-null   object\n",
      " 5   DistanceFromHome          1470 non-null   int64 \n",
      " 6   Education                 1470 non-null   int64 \n",
      " 7   EducationField            1470 non-null   object\n",
      " 8   EnvironmentSatisfaction   1470 non-null   int64 \n",
      " 9   Gender                    1470 non-null   object\n",
      " 10  HourlyRate                1470 non-null   int64 \n",
      " 11  JobInvolvement            1470 non-null   int64 \n",
      " 12  JobLevel                  1470 non-null   int64 \n",
      " 13  JobRole                   1470 non-null   object\n",
      " 14  JobSatisfaction           1470 non-null   int64 \n",
      " 15  MaritalStatus             1470 non-null   object\n",
      " 16  MonthlyIncome             1470 non-null   int64 \n",
      " 17  MonthlyRate               1470 non-null   int64 \n",
      " 18  NumCompaniesWorked        1470 non-null   int64 \n",
      " 19  OverTime                  1470 non-null   object\n",
      " 20  PercentSalaryHike         1470 non-null   int64 \n",
      " 21  PerformanceRating         1470 non-null   int64 \n",
      " 22  RelationshipSatisfaction  1470 non-null   int64 \n",
      " 23  StandardHours             1470 non-null   int64 \n",
      " 24  StockOptionLevel          1470 non-null   int64 \n",
      " 25  TotalWorkingYears         1470 non-null   int64 \n",
      " 26  TrainingTimesLastYear     1470 non-null   int64 \n",
      " 27  WorkLifeBalance           1470 non-null   int64 \n",
      " 28  YearsAtCompany            1470 non-null   int64 \n",
      " 29  YearsInCurrentRole        1470 non-null   int64 \n",
      " 30  YearsSinceLastPromotion   1470 non-null   int64 \n",
      " 31  YearsWithCurrManager      1470 non-null   int64 \n",
      "dtypes: int64(24), object(8)\n",
      "memory usage: 367.6+ KB\n"
     ]
    }
   ],
   "source": [
    "train.info()"
   ]
  },
  {
   "cell_type": "code",
   "execution_count": 18,
   "metadata": {},
   "outputs": [
    {
     "data": {
      "text/plain": [
       "Attrition\n",
       "No     1233\n",
       "Yes     237\n",
       "Name: count, dtype: int64"
      ]
     },
     "execution_count": 18,
     "metadata": {},
     "output_type": "execute_result"
    }
   ],
   "source": [
    "train.Attrition.value_counts()"
   ]
  },
  {
   "cell_type": "code",
   "execution_count": 19,
   "metadata": {},
   "outputs": [
    {
     "data": {
      "text/html": [
       "<div>\n",
       "<style scoped>\n",
       "    .dataframe tbody tr th:only-of-type {\n",
       "        vertical-align: middle;\n",
       "    }\n",
       "\n",
       "    .dataframe tbody tr th {\n",
       "        vertical-align: top;\n",
       "    }\n",
       "\n",
       "    .dataframe thead th {\n",
       "        text-align: right;\n",
       "    }\n",
       "</style>\n",
       "<table border=\"1\" class=\"dataframe\">\n",
       "  <thead>\n",
       "    <tr style=\"text-align: right;\">\n",
       "      <th></th>\n",
       "      <th>Age</th>\n",
       "      <th>Attrition</th>\n",
       "      <th>BusinessTravel</th>\n",
       "      <th>DailyRate</th>\n",
       "      <th>Department</th>\n",
       "      <th>DistanceFromHome</th>\n",
       "      <th>Education</th>\n",
       "      <th>EducationField</th>\n",
       "      <th>EnvironmentSatisfaction</th>\n",
       "      <th>Gender</th>\n",
       "      <th>...</th>\n",
       "      <th>RelationshipSatisfaction</th>\n",
       "      <th>StandardHours</th>\n",
       "      <th>StockOptionLevel</th>\n",
       "      <th>TotalWorkingYears</th>\n",
       "      <th>TrainingTimesLastYear</th>\n",
       "      <th>WorkLifeBalance</th>\n",
       "      <th>YearsAtCompany</th>\n",
       "      <th>YearsInCurrentRole</th>\n",
       "      <th>YearsSinceLastPromotion</th>\n",
       "      <th>YearsWithCurrManager</th>\n",
       "    </tr>\n",
       "  </thead>\n",
       "  <tbody>\n",
       "    <tr>\n",
       "      <th>0</th>\n",
       "      <td>41</td>\n",
       "      <td>Yes</td>\n",
       "      <td>Travel_Rarely</td>\n",
       "      <td>1102</td>\n",
       "      <td>Sales</td>\n",
       "      <td>1</td>\n",
       "      <td>2</td>\n",
       "      <td>Life Sciences</td>\n",
       "      <td>2</td>\n",
       "      <td>Female</td>\n",
       "      <td>...</td>\n",
       "      <td>1</td>\n",
       "      <td>80</td>\n",
       "      <td>0</td>\n",
       "      <td>8</td>\n",
       "      <td>0</td>\n",
       "      <td>1</td>\n",
       "      <td>6</td>\n",
       "      <td>4</td>\n",
       "      <td>0</td>\n",
       "      <td>5</td>\n",
       "    </tr>\n",
       "    <tr>\n",
       "      <th>1</th>\n",
       "      <td>49</td>\n",
       "      <td>No</td>\n",
       "      <td>Travel_Frequently</td>\n",
       "      <td>279</td>\n",
       "      <td>Research &amp; Development</td>\n",
       "      <td>8</td>\n",
       "      <td>1</td>\n",
       "      <td>Life Sciences</td>\n",
       "      <td>3</td>\n",
       "      <td>Male</td>\n",
       "      <td>...</td>\n",
       "      <td>4</td>\n",
       "      <td>80</td>\n",
       "      <td>1</td>\n",
       "      <td>10</td>\n",
       "      <td>3</td>\n",
       "      <td>3</td>\n",
       "      <td>10</td>\n",
       "      <td>7</td>\n",
       "      <td>1</td>\n",
       "      <td>7</td>\n",
       "    </tr>\n",
       "    <tr>\n",
       "      <th>2</th>\n",
       "      <td>37</td>\n",
       "      <td>Yes</td>\n",
       "      <td>Travel_Rarely</td>\n",
       "      <td>1373</td>\n",
       "      <td>Research &amp; Development</td>\n",
       "      <td>2</td>\n",
       "      <td>2</td>\n",
       "      <td>Other</td>\n",
       "      <td>4</td>\n",
       "      <td>Male</td>\n",
       "      <td>...</td>\n",
       "      <td>2</td>\n",
       "      <td>80</td>\n",
       "      <td>0</td>\n",
       "      <td>7</td>\n",
       "      <td>3</td>\n",
       "      <td>3</td>\n",
       "      <td>0</td>\n",
       "      <td>0</td>\n",
       "      <td>0</td>\n",
       "      <td>0</td>\n",
       "    </tr>\n",
       "    <tr>\n",
       "      <th>3</th>\n",
       "      <td>33</td>\n",
       "      <td>No</td>\n",
       "      <td>Travel_Frequently</td>\n",
       "      <td>1392</td>\n",
       "      <td>Research &amp; Development</td>\n",
       "      <td>3</td>\n",
       "      <td>4</td>\n",
       "      <td>Life Sciences</td>\n",
       "      <td>4</td>\n",
       "      <td>Female</td>\n",
       "      <td>...</td>\n",
       "      <td>3</td>\n",
       "      <td>80</td>\n",
       "      <td>0</td>\n",
       "      <td>8</td>\n",
       "      <td>3</td>\n",
       "      <td>3</td>\n",
       "      <td>8</td>\n",
       "      <td>7</td>\n",
       "      <td>3</td>\n",
       "      <td>0</td>\n",
       "    </tr>\n",
       "    <tr>\n",
       "      <th>4</th>\n",
       "      <td>27</td>\n",
       "      <td>No</td>\n",
       "      <td>Travel_Rarely</td>\n",
       "      <td>591</td>\n",
       "      <td>Research &amp; Development</td>\n",
       "      <td>2</td>\n",
       "      <td>1</td>\n",
       "      <td>Medical</td>\n",
       "      <td>1</td>\n",
       "      <td>Male</td>\n",
       "      <td>...</td>\n",
       "      <td>4</td>\n",
       "      <td>80</td>\n",
       "      <td>1</td>\n",
       "      <td>6</td>\n",
       "      <td>3</td>\n",
       "      <td>3</td>\n",
       "      <td>2</td>\n",
       "      <td>2</td>\n",
       "      <td>2</td>\n",
       "      <td>2</td>\n",
       "    </tr>\n",
       "    <tr>\n",
       "      <th>...</th>\n",
       "      <td>...</td>\n",
       "      <td>...</td>\n",
       "      <td>...</td>\n",
       "      <td>...</td>\n",
       "      <td>...</td>\n",
       "      <td>...</td>\n",
       "      <td>...</td>\n",
       "      <td>...</td>\n",
       "      <td>...</td>\n",
       "      <td>...</td>\n",
       "      <td>...</td>\n",
       "      <td>...</td>\n",
       "      <td>...</td>\n",
       "      <td>...</td>\n",
       "      <td>...</td>\n",
       "      <td>...</td>\n",
       "      <td>...</td>\n",
       "      <td>...</td>\n",
       "      <td>...</td>\n",
       "      <td>...</td>\n",
       "      <td>...</td>\n",
       "    </tr>\n",
       "    <tr>\n",
       "      <th>1465</th>\n",
       "      <td>36</td>\n",
       "      <td>No</td>\n",
       "      <td>Travel_Frequently</td>\n",
       "      <td>884</td>\n",
       "      <td>Research &amp; Development</td>\n",
       "      <td>23</td>\n",
       "      <td>2</td>\n",
       "      <td>Medical</td>\n",
       "      <td>3</td>\n",
       "      <td>Male</td>\n",
       "      <td>...</td>\n",
       "      <td>3</td>\n",
       "      <td>80</td>\n",
       "      <td>1</td>\n",
       "      <td>17</td>\n",
       "      <td>3</td>\n",
       "      <td>3</td>\n",
       "      <td>5</td>\n",
       "      <td>2</td>\n",
       "      <td>0</td>\n",
       "      <td>3</td>\n",
       "    </tr>\n",
       "    <tr>\n",
       "      <th>1466</th>\n",
       "      <td>39</td>\n",
       "      <td>No</td>\n",
       "      <td>Travel_Rarely</td>\n",
       "      <td>613</td>\n",
       "      <td>Research &amp; Development</td>\n",
       "      <td>6</td>\n",
       "      <td>1</td>\n",
       "      <td>Medical</td>\n",
       "      <td>4</td>\n",
       "      <td>Male</td>\n",
       "      <td>...</td>\n",
       "      <td>1</td>\n",
       "      <td>80</td>\n",
       "      <td>1</td>\n",
       "      <td>9</td>\n",
       "      <td>5</td>\n",
       "      <td>3</td>\n",
       "      <td>7</td>\n",
       "      <td>7</td>\n",
       "      <td>1</td>\n",
       "      <td>7</td>\n",
       "    </tr>\n",
       "    <tr>\n",
       "      <th>1467</th>\n",
       "      <td>27</td>\n",
       "      <td>No</td>\n",
       "      <td>Travel_Rarely</td>\n",
       "      <td>155</td>\n",
       "      <td>Research &amp; Development</td>\n",
       "      <td>4</td>\n",
       "      <td>3</td>\n",
       "      <td>Life Sciences</td>\n",
       "      <td>2</td>\n",
       "      <td>Male</td>\n",
       "      <td>...</td>\n",
       "      <td>2</td>\n",
       "      <td>80</td>\n",
       "      <td>1</td>\n",
       "      <td>6</td>\n",
       "      <td>0</td>\n",
       "      <td>3</td>\n",
       "      <td>6</td>\n",
       "      <td>2</td>\n",
       "      <td>0</td>\n",
       "      <td>3</td>\n",
       "    </tr>\n",
       "    <tr>\n",
       "      <th>1468</th>\n",
       "      <td>49</td>\n",
       "      <td>No</td>\n",
       "      <td>Travel_Frequently</td>\n",
       "      <td>1023</td>\n",
       "      <td>Sales</td>\n",
       "      <td>2</td>\n",
       "      <td>3</td>\n",
       "      <td>Medical</td>\n",
       "      <td>4</td>\n",
       "      <td>Male</td>\n",
       "      <td>...</td>\n",
       "      <td>4</td>\n",
       "      <td>80</td>\n",
       "      <td>0</td>\n",
       "      <td>17</td>\n",
       "      <td>3</td>\n",
       "      <td>2</td>\n",
       "      <td>9</td>\n",
       "      <td>6</td>\n",
       "      <td>0</td>\n",
       "      <td>8</td>\n",
       "    </tr>\n",
       "    <tr>\n",
       "      <th>1469</th>\n",
       "      <td>34</td>\n",
       "      <td>No</td>\n",
       "      <td>Travel_Rarely</td>\n",
       "      <td>628</td>\n",
       "      <td>Research &amp; Development</td>\n",
       "      <td>8</td>\n",
       "      <td>3</td>\n",
       "      <td>Medical</td>\n",
       "      <td>2</td>\n",
       "      <td>Male</td>\n",
       "      <td>...</td>\n",
       "      <td>1</td>\n",
       "      <td>80</td>\n",
       "      <td>0</td>\n",
       "      <td>6</td>\n",
       "      <td>3</td>\n",
       "      <td>4</td>\n",
       "      <td>4</td>\n",
       "      <td>3</td>\n",
       "      <td>1</td>\n",
       "      <td>2</td>\n",
       "    </tr>\n",
       "  </tbody>\n",
       "</table>\n",
       "<p>1470 rows × 32 columns</p>\n",
       "</div>"
      ],
      "text/plain": [
       "      Age Attrition     BusinessTravel  DailyRate              Department  \\\n",
       "0      41       Yes      Travel_Rarely       1102                   Sales   \n",
       "1      49        No  Travel_Frequently        279  Research & Development   \n",
       "2      37       Yes      Travel_Rarely       1373  Research & Development   \n",
       "3      33        No  Travel_Frequently       1392  Research & Development   \n",
       "4      27        No      Travel_Rarely        591  Research & Development   \n",
       "...   ...       ...                ...        ...                     ...   \n",
       "1465   36        No  Travel_Frequently        884  Research & Development   \n",
       "1466   39        No      Travel_Rarely        613  Research & Development   \n",
       "1467   27        No      Travel_Rarely        155  Research & Development   \n",
       "1468   49        No  Travel_Frequently       1023                   Sales   \n",
       "1469   34        No      Travel_Rarely        628  Research & Development   \n",
       "\n",
       "      DistanceFromHome  Education EducationField  EnvironmentSatisfaction  \\\n",
       "0                    1          2  Life Sciences                        2   \n",
       "1                    8          1  Life Sciences                        3   \n",
       "2                    2          2          Other                        4   \n",
       "3                    3          4  Life Sciences                        4   \n",
       "4                    2          1        Medical                        1   \n",
       "...                ...        ...            ...                      ...   \n",
       "1465                23          2        Medical                        3   \n",
       "1466                 6          1        Medical                        4   \n",
       "1467                 4          3  Life Sciences                        2   \n",
       "1468                 2          3        Medical                        4   \n",
       "1469                 8          3        Medical                        2   \n",
       "\n",
       "      Gender  ...  RelationshipSatisfaction  StandardHours  StockOptionLevel  \\\n",
       "0     Female  ...                         1             80                 0   \n",
       "1       Male  ...                         4             80                 1   \n",
       "2       Male  ...                         2             80                 0   \n",
       "3     Female  ...                         3             80                 0   \n",
       "4       Male  ...                         4             80                 1   \n",
       "...      ...  ...                       ...            ...               ...   \n",
       "1465    Male  ...                         3             80                 1   \n",
       "1466    Male  ...                         1             80                 1   \n",
       "1467    Male  ...                         2             80                 1   \n",
       "1468    Male  ...                         4             80                 0   \n",
       "1469    Male  ...                         1             80                 0   \n",
       "\n",
       "     TotalWorkingYears  TrainingTimesLastYear WorkLifeBalance  YearsAtCompany  \\\n",
       "0                    8                      0               1               6   \n",
       "1                   10                      3               3              10   \n",
       "2                    7                      3               3               0   \n",
       "3                    8                      3               3               8   \n",
       "4                    6                      3               3               2   \n",
       "...                ...                    ...             ...             ...   \n",
       "1465                17                      3               3               5   \n",
       "1466                 9                      5               3               7   \n",
       "1467                 6                      0               3               6   \n",
       "1468                17                      3               2               9   \n",
       "1469                 6                      3               4               4   \n",
       "\n",
       "      YearsInCurrentRole  YearsSinceLastPromotion YearsWithCurrManager  \n",
       "0                      4                        0                    5  \n",
       "1                      7                        1                    7  \n",
       "2                      0                        0                    0  \n",
       "3                      7                        3                    0  \n",
       "4                      2                        2                    2  \n",
       "...                  ...                      ...                  ...  \n",
       "1465                   2                        0                    3  \n",
       "1466                   7                        1                    7  \n",
       "1467                   2                        0                    3  \n",
       "1468                   6                        0                    8  \n",
       "1469                   3                        1                    2  \n",
       "\n",
       "[1470 rows x 32 columns]"
      ]
     },
     "execution_count": 19,
     "metadata": {},
     "output_type": "execute_result"
    }
   ],
   "source": [
    "train"
   ]
  },
  {
   "cell_type": "code",
   "execution_count": 20,
   "metadata": {},
   "outputs": [],
   "source": [
    "train = pd.get_dummies(train, columns=['BusinessTravel','Department', 'EducationField','JobRole','MaritalStatus' ], dtype=int, drop_first=True) # change education and marriage to categorical variables"
   ]
  },
  {
   "cell_type": "code",
   "execution_count": 21,
   "metadata": {},
   "outputs": [
    {
     "data": {
      "text/plain": [
       "Attrition\n",
       "No     1233\n",
       "Yes     237\n",
       "Name: count, dtype: int64"
      ]
     },
     "execution_count": 21,
     "metadata": {},
     "output_type": "execute_result"
    }
   ],
   "source": [
    "train.Attrition.value_counts()"
   ]
  },
  {
   "cell_type": "code",
   "execution_count": 22,
   "metadata": {},
   "outputs": [],
   "source": [
    "encoders_nums = {\n",
    "    \"Gender\": {\"Female\": 0, \"Male\": 1},\n",
    "    \"OverTime\": {\"No\": 0, \"Yes\": 1},\n",
    "    \"Attrition\": {\"No\": 0, \"Yes\": 1},\n",
    "\n",
    "}\n",
    "train = train.replace(encoders_nums)"
   ]
  },
  {
   "cell_type": "code",
   "execution_count": 23,
   "metadata": {},
   "outputs": [
    {
     "data": {
      "text/html": [
       "<div>\n",
       "<style scoped>\n",
       "    .dataframe tbody tr th:only-of-type {\n",
       "        vertical-align: middle;\n",
       "    }\n",
       "\n",
       "    .dataframe tbody tr th {\n",
       "        vertical-align: top;\n",
       "    }\n",
       "\n",
       "    .dataframe thead th {\n",
       "        text-align: right;\n",
       "    }\n",
       "</style>\n",
       "<table border=\"1\" class=\"dataframe\">\n",
       "  <thead>\n",
       "    <tr style=\"text-align: right;\">\n",
       "      <th></th>\n",
       "      <th>Age</th>\n",
       "      <th>Attrition</th>\n",
       "      <th>DailyRate</th>\n",
       "      <th>DistanceFromHome</th>\n",
       "      <th>Education</th>\n",
       "      <th>EnvironmentSatisfaction</th>\n",
       "      <th>Gender</th>\n",
       "      <th>HourlyRate</th>\n",
       "      <th>JobInvolvement</th>\n",
       "      <th>JobLevel</th>\n",
       "      <th>...</th>\n",
       "      <th>JobRole_Human Resources</th>\n",
       "      <th>JobRole_Laboratory Technician</th>\n",
       "      <th>JobRole_Manager</th>\n",
       "      <th>JobRole_Manufacturing Director</th>\n",
       "      <th>JobRole_Research Director</th>\n",
       "      <th>JobRole_Research Scientist</th>\n",
       "      <th>JobRole_Sales Executive</th>\n",
       "      <th>JobRole_Sales Representative</th>\n",
       "      <th>MaritalStatus_Married</th>\n",
       "      <th>MaritalStatus_Single</th>\n",
       "    </tr>\n",
       "  </thead>\n",
       "  <tbody>\n",
       "    <tr>\n",
       "      <th>0</th>\n",
       "      <td>41</td>\n",
       "      <td>1</td>\n",
       "      <td>1102</td>\n",
       "      <td>1</td>\n",
       "      <td>2</td>\n",
       "      <td>2</td>\n",
       "      <td>0</td>\n",
       "      <td>94</td>\n",
       "      <td>3</td>\n",
       "      <td>2</td>\n",
       "      <td>...</td>\n",
       "      <td>0</td>\n",
       "      <td>0</td>\n",
       "      <td>0</td>\n",
       "      <td>0</td>\n",
       "      <td>0</td>\n",
       "      <td>0</td>\n",
       "      <td>1</td>\n",
       "      <td>0</td>\n",
       "      <td>0</td>\n",
       "      <td>1</td>\n",
       "    </tr>\n",
       "    <tr>\n",
       "      <th>1</th>\n",
       "      <td>49</td>\n",
       "      <td>0</td>\n",
       "      <td>279</td>\n",
       "      <td>8</td>\n",
       "      <td>1</td>\n",
       "      <td>3</td>\n",
       "      <td>1</td>\n",
       "      <td>61</td>\n",
       "      <td>2</td>\n",
       "      <td>2</td>\n",
       "      <td>...</td>\n",
       "      <td>0</td>\n",
       "      <td>0</td>\n",
       "      <td>0</td>\n",
       "      <td>0</td>\n",
       "      <td>0</td>\n",
       "      <td>1</td>\n",
       "      <td>0</td>\n",
       "      <td>0</td>\n",
       "      <td>1</td>\n",
       "      <td>0</td>\n",
       "    </tr>\n",
       "    <tr>\n",
       "      <th>2</th>\n",
       "      <td>37</td>\n",
       "      <td>1</td>\n",
       "      <td>1373</td>\n",
       "      <td>2</td>\n",
       "      <td>2</td>\n",
       "      <td>4</td>\n",
       "      <td>1</td>\n",
       "      <td>92</td>\n",
       "      <td>2</td>\n",
       "      <td>1</td>\n",
       "      <td>...</td>\n",
       "      <td>0</td>\n",
       "      <td>1</td>\n",
       "      <td>0</td>\n",
       "      <td>0</td>\n",
       "      <td>0</td>\n",
       "      <td>0</td>\n",
       "      <td>0</td>\n",
       "      <td>0</td>\n",
       "      <td>0</td>\n",
       "      <td>1</td>\n",
       "    </tr>\n",
       "    <tr>\n",
       "      <th>3</th>\n",
       "      <td>33</td>\n",
       "      <td>0</td>\n",
       "      <td>1392</td>\n",
       "      <td>3</td>\n",
       "      <td>4</td>\n",
       "      <td>4</td>\n",
       "      <td>0</td>\n",
       "      <td>56</td>\n",
       "      <td>3</td>\n",
       "      <td>1</td>\n",
       "      <td>...</td>\n",
       "      <td>0</td>\n",
       "      <td>0</td>\n",
       "      <td>0</td>\n",
       "      <td>0</td>\n",
       "      <td>0</td>\n",
       "      <td>1</td>\n",
       "      <td>0</td>\n",
       "      <td>0</td>\n",
       "      <td>1</td>\n",
       "      <td>0</td>\n",
       "    </tr>\n",
       "    <tr>\n",
       "      <th>4</th>\n",
       "      <td>27</td>\n",
       "      <td>0</td>\n",
       "      <td>591</td>\n",
       "      <td>2</td>\n",
       "      <td>1</td>\n",
       "      <td>1</td>\n",
       "      <td>1</td>\n",
       "      <td>40</td>\n",
       "      <td>3</td>\n",
       "      <td>1</td>\n",
       "      <td>...</td>\n",
       "      <td>0</td>\n",
       "      <td>1</td>\n",
       "      <td>0</td>\n",
       "      <td>0</td>\n",
       "      <td>0</td>\n",
       "      <td>0</td>\n",
       "      <td>0</td>\n",
       "      <td>0</td>\n",
       "      <td>1</td>\n",
       "      <td>0</td>\n",
       "    </tr>\n",
       "    <tr>\n",
       "      <th>...</th>\n",
       "      <td>...</td>\n",
       "      <td>...</td>\n",
       "      <td>...</td>\n",
       "      <td>...</td>\n",
       "      <td>...</td>\n",
       "      <td>...</td>\n",
       "      <td>...</td>\n",
       "      <td>...</td>\n",
       "      <td>...</td>\n",
       "      <td>...</td>\n",
       "      <td>...</td>\n",
       "      <td>...</td>\n",
       "      <td>...</td>\n",
       "      <td>...</td>\n",
       "      <td>...</td>\n",
       "      <td>...</td>\n",
       "      <td>...</td>\n",
       "      <td>...</td>\n",
       "      <td>...</td>\n",
       "      <td>...</td>\n",
       "      <td>...</td>\n",
       "    </tr>\n",
       "    <tr>\n",
       "      <th>1465</th>\n",
       "      <td>36</td>\n",
       "      <td>0</td>\n",
       "      <td>884</td>\n",
       "      <td>23</td>\n",
       "      <td>2</td>\n",
       "      <td>3</td>\n",
       "      <td>1</td>\n",
       "      <td>41</td>\n",
       "      <td>4</td>\n",
       "      <td>2</td>\n",
       "      <td>...</td>\n",
       "      <td>0</td>\n",
       "      <td>1</td>\n",
       "      <td>0</td>\n",
       "      <td>0</td>\n",
       "      <td>0</td>\n",
       "      <td>0</td>\n",
       "      <td>0</td>\n",
       "      <td>0</td>\n",
       "      <td>1</td>\n",
       "      <td>0</td>\n",
       "    </tr>\n",
       "    <tr>\n",
       "      <th>1466</th>\n",
       "      <td>39</td>\n",
       "      <td>0</td>\n",
       "      <td>613</td>\n",
       "      <td>6</td>\n",
       "      <td>1</td>\n",
       "      <td>4</td>\n",
       "      <td>1</td>\n",
       "      <td>42</td>\n",
       "      <td>2</td>\n",
       "      <td>3</td>\n",
       "      <td>...</td>\n",
       "      <td>0</td>\n",
       "      <td>0</td>\n",
       "      <td>0</td>\n",
       "      <td>0</td>\n",
       "      <td>0</td>\n",
       "      <td>0</td>\n",
       "      <td>0</td>\n",
       "      <td>0</td>\n",
       "      <td>1</td>\n",
       "      <td>0</td>\n",
       "    </tr>\n",
       "    <tr>\n",
       "      <th>1467</th>\n",
       "      <td>27</td>\n",
       "      <td>0</td>\n",
       "      <td>155</td>\n",
       "      <td>4</td>\n",
       "      <td>3</td>\n",
       "      <td>2</td>\n",
       "      <td>1</td>\n",
       "      <td>87</td>\n",
       "      <td>4</td>\n",
       "      <td>2</td>\n",
       "      <td>...</td>\n",
       "      <td>0</td>\n",
       "      <td>0</td>\n",
       "      <td>0</td>\n",
       "      <td>1</td>\n",
       "      <td>0</td>\n",
       "      <td>0</td>\n",
       "      <td>0</td>\n",
       "      <td>0</td>\n",
       "      <td>1</td>\n",
       "      <td>0</td>\n",
       "    </tr>\n",
       "    <tr>\n",
       "      <th>1468</th>\n",
       "      <td>49</td>\n",
       "      <td>0</td>\n",
       "      <td>1023</td>\n",
       "      <td>2</td>\n",
       "      <td>3</td>\n",
       "      <td>4</td>\n",
       "      <td>1</td>\n",
       "      <td>63</td>\n",
       "      <td>2</td>\n",
       "      <td>2</td>\n",
       "      <td>...</td>\n",
       "      <td>0</td>\n",
       "      <td>0</td>\n",
       "      <td>0</td>\n",
       "      <td>0</td>\n",
       "      <td>0</td>\n",
       "      <td>0</td>\n",
       "      <td>1</td>\n",
       "      <td>0</td>\n",
       "      <td>1</td>\n",
       "      <td>0</td>\n",
       "    </tr>\n",
       "    <tr>\n",
       "      <th>1469</th>\n",
       "      <td>34</td>\n",
       "      <td>0</td>\n",
       "      <td>628</td>\n",
       "      <td>8</td>\n",
       "      <td>3</td>\n",
       "      <td>2</td>\n",
       "      <td>1</td>\n",
       "      <td>82</td>\n",
       "      <td>4</td>\n",
       "      <td>2</td>\n",
       "      <td>...</td>\n",
       "      <td>0</td>\n",
       "      <td>1</td>\n",
       "      <td>0</td>\n",
       "      <td>0</td>\n",
       "      <td>0</td>\n",
       "      <td>0</td>\n",
       "      <td>0</td>\n",
       "      <td>0</td>\n",
       "      <td>1</td>\n",
       "      <td>0</td>\n",
       "    </tr>\n",
       "  </tbody>\n",
       "</table>\n",
       "<p>1470 rows × 46 columns</p>\n",
       "</div>"
      ],
      "text/plain": [
       "      Age  Attrition  DailyRate  DistanceFromHome  Education  \\\n",
       "0      41          1       1102                 1          2   \n",
       "1      49          0        279                 8          1   \n",
       "2      37          1       1373                 2          2   \n",
       "3      33          0       1392                 3          4   \n",
       "4      27          0        591                 2          1   \n",
       "...   ...        ...        ...               ...        ...   \n",
       "1465   36          0        884                23          2   \n",
       "1466   39          0        613                 6          1   \n",
       "1467   27          0        155                 4          3   \n",
       "1468   49          0       1023                 2          3   \n",
       "1469   34          0        628                 8          3   \n",
       "\n",
       "      EnvironmentSatisfaction  Gender  HourlyRate  JobInvolvement  JobLevel  \\\n",
       "0                           2       0          94               3         2   \n",
       "1                           3       1          61               2         2   \n",
       "2                           4       1          92               2         1   \n",
       "3                           4       0          56               3         1   \n",
       "4                           1       1          40               3         1   \n",
       "...                       ...     ...         ...             ...       ...   \n",
       "1465                        3       1          41               4         2   \n",
       "1466                        4       1          42               2         3   \n",
       "1467                        2       1          87               4         2   \n",
       "1468                        4       1          63               2         2   \n",
       "1469                        2       1          82               4         2   \n",
       "\n",
       "      ...  JobRole_Human Resources  JobRole_Laboratory Technician  \\\n",
       "0     ...                        0                              0   \n",
       "1     ...                        0                              0   \n",
       "2     ...                        0                              1   \n",
       "3     ...                        0                              0   \n",
       "4     ...                        0                              1   \n",
       "...   ...                      ...                            ...   \n",
       "1465  ...                        0                              1   \n",
       "1466  ...                        0                              0   \n",
       "1467  ...                        0                              0   \n",
       "1468  ...                        0                              0   \n",
       "1469  ...                        0                              1   \n",
       "\n",
       "      JobRole_Manager  JobRole_Manufacturing Director  \\\n",
       "0                   0                               0   \n",
       "1                   0                               0   \n",
       "2                   0                               0   \n",
       "3                   0                               0   \n",
       "4                   0                               0   \n",
       "...               ...                             ...   \n",
       "1465                0                               0   \n",
       "1466                0                               0   \n",
       "1467                0                               1   \n",
       "1468                0                               0   \n",
       "1469                0                               0   \n",
       "\n",
       "      JobRole_Research Director  JobRole_Research Scientist  \\\n",
       "0                             0                           0   \n",
       "1                             0                           1   \n",
       "2                             0                           0   \n",
       "3                             0                           1   \n",
       "4                             0                           0   \n",
       "...                         ...                         ...   \n",
       "1465                          0                           0   \n",
       "1466                          0                           0   \n",
       "1467                          0                           0   \n",
       "1468                          0                           0   \n",
       "1469                          0                           0   \n",
       "\n",
       "      JobRole_Sales Executive  JobRole_Sales Representative  \\\n",
       "0                           1                             0   \n",
       "1                           0                             0   \n",
       "2                           0                             0   \n",
       "3                           0                             0   \n",
       "4                           0                             0   \n",
       "...                       ...                           ...   \n",
       "1465                        0                             0   \n",
       "1466                        0                             0   \n",
       "1467                        0                             0   \n",
       "1468                        1                             0   \n",
       "1469                        0                             0   \n",
       "\n",
       "      MaritalStatus_Married  MaritalStatus_Single  \n",
       "0                         0                     1  \n",
       "1                         1                     0  \n",
       "2                         0                     1  \n",
       "3                         1                     0  \n",
       "4                         1                     0  \n",
       "...                     ...                   ...  \n",
       "1465                      1                     0  \n",
       "1466                      1                     0  \n",
       "1467                      1                     0  \n",
       "1468                      1                     0  \n",
       "1469                      1                     0  \n",
       "\n",
       "[1470 rows x 46 columns]"
      ]
     },
     "execution_count": 23,
     "metadata": {},
     "output_type": "execute_result"
    }
   ],
   "source": [
    "train"
   ]
  },
  {
   "cell_type": "code",
   "execution_count": 24,
   "metadata": {},
   "outputs": [],
   "source": [
    "X = train.drop('Attrition', axis=1)\n",
    "y = train.Attrition\n"
   ]
  },
  {
   "cell_type": "code",
   "execution_count": 25,
   "metadata": {},
   "outputs": [
    {
     "data": {
      "text/plain": [
       "Attrition\n",
       "0    1233\n",
       "1     237\n",
       "Name: count, dtype: int64"
      ]
     },
     "execution_count": 25,
     "metadata": {},
     "output_type": "execute_result"
    }
   ],
   "source": [
    "y.value_counts()"
   ]
  },
  {
   "cell_type": "code",
   "execution_count": 26,
   "metadata": {},
   "outputs": [],
   "source": [
    "columns = train.drop('Attrition', axis=1).columns"
   ]
  },
  {
   "cell_type": "code",
   "execution_count": 27,
   "metadata": {},
   "outputs": [
    {
     "data": {
      "text/plain": [
       "Index(['Age', 'DailyRate', 'DistanceFromHome', 'Education',\n",
       "       'EnvironmentSatisfaction', 'Gender', 'HourlyRate', 'JobInvolvement',\n",
       "       'JobLevel', 'JobSatisfaction', 'MonthlyIncome', 'MonthlyRate',\n",
       "       'NumCompaniesWorked', 'OverTime', 'PercentSalaryHike',\n",
       "       'PerformanceRating', 'RelationshipSatisfaction', 'StandardHours',\n",
       "       'StockOptionLevel', 'TotalWorkingYears', 'TrainingTimesLastYear',\n",
       "       'WorkLifeBalance', 'YearsAtCompany', 'YearsInCurrentRole',\n",
       "       'YearsSinceLastPromotion', 'YearsWithCurrManager',\n",
       "       'BusinessTravel_Travel_Frequently', 'BusinessTravel_Travel_Rarely',\n",
       "       'Department_Research & Development', 'Department_Sales',\n",
       "       'EducationField_Life Sciences', 'EducationField_Marketing',\n",
       "       'EducationField_Medical', 'EducationField_Other',\n",
       "       'EducationField_Technical Degree', 'JobRole_Human Resources',\n",
       "       'JobRole_Laboratory Technician', 'JobRole_Manager',\n",
       "       'JobRole_Manufacturing Director', 'JobRole_Research Director',\n",
       "       'JobRole_Research Scientist', 'JobRole_Sales Executive',\n",
       "       'JobRole_Sales Representative', 'MaritalStatus_Married',\n",
       "       'MaritalStatus_Single'],\n",
       "      dtype='object')"
      ]
     },
     "execution_count": 27,
     "metadata": {},
     "output_type": "execute_result"
    }
   ],
   "source": [
    "columns"
   ]
  },
  {
   "cell_type": "code",
   "execution_count": 28,
   "metadata": {},
   "outputs": [],
   "source": [
    "from imblearn.over_sampling import SMOTE\n",
    "\n",
    "sm = SMOTE(random_state=42)\n",
    "\n",
    "X, y = sm.fit_resample(X, y) # make the x y balanced"
   ]
  },
  {
   "cell_type": "code",
   "execution_count": 29,
   "metadata": {},
   "outputs": [
    {
     "data": {
      "text/plain": [
       "Attrition\n",
       "1    1233\n",
       "0    1233\n",
       "Name: count, dtype: int64"
      ]
     },
     "execution_count": 29,
     "metadata": {},
     "output_type": "execute_result"
    }
   ],
   "source": [
    "y.value_counts()"
   ]
  },
  {
   "cell_type": "code",
   "execution_count": 30,
   "metadata": {},
   "outputs": [
    {
     "data": {
      "text/plain": [
       "Age  DailyRate  DistanceFromHome  Education  EnvironmentSatisfaction  Gender  HourlyRate  JobInvolvement  JobLevel  JobSatisfaction  MonthlyIncome  MonthlyRate  NumCompaniesWorked  OverTime  PercentSalaryHike  PerformanceRating  RelationshipSatisfaction  StandardHours  StockOptionLevel  TotalWorkingYears  TrainingTimesLastYear  WorkLifeBalance  YearsAtCompany  YearsInCurrentRole  YearsSinceLastPromotion  YearsWithCurrManager  BusinessTravel_Travel_Frequently  BusinessTravel_Travel_Rarely  Department_Research & Development  Department_Sales  EducationField_Life Sciences  EducationField_Marketing  EducationField_Medical  EducationField_Other  EducationField_Technical Degree  JobRole_Human Resources  JobRole_Laboratory Technician  JobRole_Manager  JobRole_Manufacturing Director  JobRole_Research Director  JobRole_Research Scientist  JobRole_Sales Executive  JobRole_Sales Representative  MaritalStatus_Married  MaritalStatus_Single\n",
       "21   585        15                2          4                        1       41          3               1         1                1735           26891        1                   0         19                 3                  2                         80             0                 0                  2                      2                0               0                   0                        0                     0                                 0                             0                                  1                 0                             1                         0                       0                     0                                0                        0                              0                0                               0                          0                           0                        1                             0                      0                       2\n",
       "31   703        2                 2          3                        0       90          2               1         3                2779           11875        6                   0         13                 3                  3                         80             0                 3                  3                      3                1               0                   0                        0                     1                                 0                             0                                  1                 0                             0                         0                       0                     0                                0                        0                              0                0                               0                          0                           0                        1                             0                      0                       2\n",
       "29   978        16                2          2                        0       74          3               2         3                9838           23117        3                   0         11                 3                  2                         80             0                 9                  1                      3                1               0                   0                        0                     0                                 0                             0                                  0                 0                             0                         0                       0                     0                                0                        0                              0                0                               0                          0                           0                        0                             0                      0                       2\n",
       "38   1490       2                 2          4                        1       42          3               1         4                1702           12106        1                   1         23                 4                  3                         80             1                 1                  3                      3                1               0                   0                        0                     1                                 0                             1                                  0                 1                             0                         0                       0                     0                                0                        1                              0                0                               0                          0                           0                        0                             1                      0                       1\n",
       "     1336       2                 3          1                        1       100         3               1         2                2592           7129         5                   0         13                 3                  4                         80             3                 13                 3                      3                11              10                  3                        8                     0                                 0                             0                                  0                 0                             0                         0                       0                     0                                1                        0                              0                0                               0                          0                           0                        0                             0                      0                       1\n",
       "                                                                                                                                                                                                                                                                                                                                                                                                                                                                                                                                                                                                                                                                                                                                                                                                                                                                                                                                                                               ..\n",
       "31   453        15                1          4                        1       50          3               1         3                1926           26634        1                   0         20                 3                  3                         80             0                 2                  2                      2                0               0                   0                        0                     0                                 1                             0                                  0                 0                             0                         0                       0                     0                                0                        0                              0                0                               0                          0                           0                        0                             0                      1                       1\n",
       "     460        8                 3          2                        1       92          3               1         2                3428           21239        3                   0         14                 3                  3                         80             0                 5                  2                      1                1               1                   1                        1                     0                                 0                             0                                  0                 0                             0                         0                       0                     0                                0                        0                              0                0                               0                          0                           0                        0                             1                      0                       1\n",
       "     461        6                 3          3                        0       48          2               1         3                2552           9408         3                   0         12                 3                  2                         80             0                 3                  1                      2                2               0                   0                        0                     0                                 0                             0                                  0                 0                             0                         0                       0                     0                                0                        0                              0                0                               0                          0                           0                        0                             0                      0                       1\n",
       "     468        17                4          3                        1       81          3               1         1                2830           21653        1                   0         16                 3                  3                         80             0                 3                  3                      2                1               0                   0                        0                     0                                 1                             0                                  0                 0                             0                         0                       0                     0                                0                        0                              0                0                               0                          0                           0                        0                             1                      0                       1\n",
       "60   1499       28                3          3                        0       80          2               3         1                10266          2845         4                   0         19                 3                  4                         80             0                 22                 5                      4                18              13                  13                       11                    1                                 0                             0                                  1                 0                             1                         0                       0                     0                                0                        0                              0                0                               0                          0                           1                        0                             1                      0                       1\n",
       "Name: count, Length: 2463, dtype: int64"
      ]
     },
     "execution_count": 30,
     "metadata": {},
     "output_type": "execute_result"
    }
   ],
   "source": [
    "X.value_counts()"
   ]
  },
  {
   "cell_type": "code",
   "execution_count": 31,
   "metadata": {},
   "outputs": [],
   "source": [
    "from sklearn.preprocessing import StandardScaler\n",
    "scaler = StandardScaler()\n",
    "X = scaler.fit_transform(X) # scale the data to make it easier for the model to learn"
   ]
  },
  {
   "cell_type": "code",
   "execution_count": 32,
   "metadata": {},
   "outputs": [
    {
     "data": {
      "text/plain": [
       "array([[ 0.61580999,  0.85104375, -1.13962904, ..., -0.22116816,\n",
       "        -0.71098137,  1.53761389],\n",
       "       [ 1.50863716, -1.32745367, -0.23286359, ..., -0.22116816,\n",
       "         1.40650662, -0.65035833],\n",
       "       [ 0.1693964 ,  1.56838616, -1.01009112, ..., -0.22116816,\n",
       "        -0.71098137,  1.53761389],\n",
       "       ...,\n",
       "       [-0.61182738, -0.45658411,  0.93297771, ..., -0.22116816,\n",
       "         1.40650662, -0.65035833],\n",
       "       [-1.50465456, -1.20833777, -0.62147735, ..., -0.22116816,\n",
       "        -0.71098137,  1.53761389],\n",
       "       [-0.50022399,  0.85633779, -0.75101528, ..., -0.22116816,\n",
       "        -0.71098137, -0.65035833]])"
      ]
     },
     "execution_count": 32,
     "metadata": {},
     "output_type": "execute_result"
    }
   ],
   "source": [
    "X"
   ]
  },
  {
   "cell_type": "code",
   "execution_count": 33,
   "metadata": {},
   "outputs": [],
   "source": [
    "from sklearn.model_selection import train_test_split\n",
    "test_ratio = 0.3\n",
    "X_train, X_test, y_train, y_test = train_test_split(\n",
    "    X, y, test_size=test_ratio, random_state=42)"
   ]
  },
  {
   "cell_type": "markdown",
   "metadata": {},
   "source": [
    "# logistic regression"
   ]
  },
  {
   "cell_type": "code",
   "execution_count": 34,
   "metadata": {},
   "outputs": [],
   "source": [
    "from sklearn.svm import SVC\n",
    "from sklearn.neighbors import KNeighborsClassifier\n",
    "from sklearn import tree\n",
    "from sklearn.tree import DecisionTreeClassifier\n",
    "from xgboost import XGBClassifier\n",
    "from sklearn.ensemble import RandomForestClassifier\n",
    "from sklearn.naive_bayes import GaussianNB\n",
    "from sklearn.metrics import confusion_matrix, classification_report, roc_curve, roc_auc_score, auc\n",
    "from mlxtend.plotting import plot_confusion_matrix\n",
    "from sklearn.linear_model import LogisticRegression\n",
    "from sklearn.model_selection import GridSearchCV"
   ]
  },
  {
   "cell_type": "code",
   "execution_count": 35,
   "metadata": {},
   "outputs": [
    {
     "name": "stdout",
     "output_type": "stream",
     "text": [
      "0.7324324324324324\n"
     ]
    }
   ],
   "source": [
    "gnb = GaussianNB()\n",
    "gnb.fit(X_train, y_train)\n",
    "print(gnb.score(X_test, y_test))"
   ]
  },
  {
   "cell_type": "markdown",
   "metadata": {},
   "source": [
    "正則化是機器學習和統計模型中用於防止過擬合（overfitting）的一種技術。過擬合發生在模型過於複雜，以至於它開始捕捉訓練數據中的隨機噪聲而不是底層的數據分佈。正則化通過對模型增加一個懲罰項（penalty term）來解決這個問題，這有助於降低模型的複雜性，從而提高其泛化能力。\n",
    "\n",
    "### **正則化的主要類型**\n",
    "\n",
    "1. **L1 正則化（Lasso）**:\n",
    "    - 在L1正則化中，懲罰項是模型權重的絕對值之和。\n",
    "    - 公式表示為：損失函數 + λ * (Σ |w|)，其中 w 是模型權重，λ 是正則化強度。\n",
    "    - L1 正則化有助於生成一個稀疏模型，其中一些權重變為零。這意味著它可以用於特徵選擇。\n",
    "2. **L2 正則化（Ridge）**:\n",
    "    - 在L2正則化中，懲罰項是模型權重的平方和。\n",
    "    - 公式表示為：損失函數 + λ * (Σ w²)。\n",
    "    - L2 正則化會使權重更平均分布，並傾向於避免讓任何一個權重變得過大。這有助於處理特徵之間的多重共線性問題。\n",
    "3. **彈性網（Elastic Net）**:\n",
    "    - 彈性網結合了L1和L2正則化。\n",
    "    - 它在懲罰項中同時包含權重的絕對值和平方和。\n",
    "    - 彈性網通常在特徵之間有關聯時使用，當需要進行特徵選擇同時控制模型參數的時候特別有用。\n",
    "\n",
    "### **正則化的作用**\n",
    "\n",
    "- **防止過擬合**:\n",
    "    - 正則化通過懲罰過於複雜的模型來減少過擬合。\n",
    "    - 它限制了模型的自由度，使模型不能完美擬合訓練數據中的每一個細節。\n",
    "- **提高模型泛化能力**:\n",
    "    - 通過減少模型的複雜性，正則化有助於提高模型在未見數據上的性能。\n",
    "- **處理共線性問題**:\n",
    "    - 特別是L2正則化，它能夠減少特徵間的相互依賴，這在處理共線性高的數據時非常有幫助。\n",
    "\n",
    "### **調整正則化強度**\n",
    "\n",
    "- 正則化的強度通常由一個參數（比如 λ）控制。\n",
    "- 選擇一個適當的 λ 值非常關鍵。太小的 λ 值會導致過擬合，而太大的 λ 值則可能導致模型過於簡單（underfitting）。\n",
    "- 在實踐中，通常通過交叉驗證來找到最佳的 λ 值。"
   ]
  },
  {
   "cell_type": "code",
   "execution_count": 36,
   "metadata": {},
   "outputs": [],
   "source": [
    "param_lr = {'penalty': ['none','l2'], 'C' : [0.001, 0.01, 0.1, 1, 10, 100, 1000] }"
   ]
  },
  {
   "cell_type": "markdown",
   "metadata": {},
   "source": [
    "這段代碼使用了 Scikit-learn 的 **`GridSearchCV`** 函數，用於尋找邏輯回歸（**`LogisticRegression`**）模型的最佳參數。我將詳細解釋每個部分及其參數：\n",
    "\n",
    "### **`GridSearchCV` 功能**\n",
    "\n",
    "**`GridSearchCV`** 是一種廣泛使用的方法，用於自動化地尋找最佳參數組合，從而優化模型的性能。它通過在指定的參數範圍內進行積極的搜索和交叉驗證來實現這一點。\n",
    "\n",
    "### **參數解釋**\n",
    "\n",
    "1. **第一個參數 `LogisticRegression()`**:\n",
    "    - 這是要進行調優的模型。在這個例子中，使用的是邏輯回歸模型。\n",
    "    - **`LogisticRegression`** 是一種常用於二元分類問題的模型。\n",
    "2. **第二個參數 `param_lr`**:\n",
    "    - 這是一個字典，包含了要嘗試的參數範圍。\n",
    "    - 在您的代碼中，**`param_lr = {'penalty': ['none','l2'], 'C': [0.001, 0.01, 0.1, 1, 10, 100, 1000]}`**。\n",
    "    - **`penalty`** 參數用於指定正則化類型，而 **`C`** 是正則化強度的倒數。\n",
    "3. **`scoring='accuracy'`**:\n",
    "    - 這個參數指定了評估模型性能的指標。在這裡使用的是「準確度」（accuracy）。\n",
    "    - 準確度是模型正確預測的樣本數佔總樣本數的比例。\n",
    "4. **`n_jobs=-1`**:\n",
    "    - 這個參數決定了用於計算的CPU核心數量。\n",
    "    - **`n_jobs=-1`** 表示使用所有可用的核心。\n",
    "5. **`verbose=1`**:\n",
    "    - 這個參數控制輸出的詳細程度。數字越大，輸出的信息越詳細。\n",
    "    - 在這個例子中，**`verbose=1`** 提供了較詳細的輸出，這有助於跟蹤Grid Search的進度和性能。\n",
    "6. **`cv=5`**:\n",
    "    - 這個參數指定了交叉驗證的折數。\n",
    "    - **`cv=5`** 表示使用5折交叉驗證。在5折交叉驗證中，數據集被分成五個部分，每個部分依次作為驗證集，其餘部分作為訓練集。\n",
    "\n",
    "### **`grid_lr.fit(X_train, y_train)`**\n",
    "\n",
    "- 這行代碼執行實際的網格搜索。\n",
    "- **`X_train`** 和 **`y_train`** 分別是訓練數據集的特徵和標籤。\n",
    "- **`fit`** 方法將對每一種參數組合進行訓練和評估，並使用交叉驗證來確保結果的穩健性。\n",
    "- 最終，**`grid_lr`** 將包含表現最佳的參數組合和相關信息。"
   ]
  },
  {
   "cell_type": "code",
   "execution_count": 37,
   "metadata": {},
   "outputs": [
    {
     "name": "stdout",
     "output_type": "stream",
     "text": [
      "Fitting 5 folds for each of 14 candidates, totalling 70 fits\n"
     ]
    },
    {
     "name": "stderr",
     "output_type": "stream",
     "text": [
      "/home/louis/anaconda3/envs/big_data/lib/python3.8/site-packages/sklearn/linear_model/_logistic.py:1183: FutureWarning: `penalty='none'`has been deprecated in 1.2 and will be removed in 1.4. To keep the past behaviour, set `penalty=None`.\n",
      "  warnings.warn(\n",
      "/home/louis/anaconda3/envs/big_data/lib/python3.8/site-packages/sklearn/linear_model/_logistic.py:1193: UserWarning: Setting penalty=None will ignore the C and l1_ratio parameters\n",
      "  warnings.warn(\n",
      "/home/louis/anaconda3/envs/big_data/lib/python3.8/site-packages/sklearn/linear_model/_logistic.py:1183: FutureWarning: `penalty='none'`has been deprecated in 1.2 and will be removed in 1.4. To keep the past behaviour, set `penalty=None`.\n",
      "  warnings.warn(\n",
      "/home/louis/anaconda3/envs/big_data/lib/python3.8/site-packages/sklearn/linear_model/_logistic.py:1193: UserWarning: Setting penalty=None will ignore the C and l1_ratio parameters\n",
      "  warnings.warn(\n",
      "/home/louis/anaconda3/envs/big_data/lib/python3.8/site-packages/sklearn/linear_model/_logistic.py:1183: FutureWarning: `penalty='none'`has been deprecated in 1.2 and will be removed in 1.4. To keep the past behaviour, set `penalty=None`.\n",
      "  warnings.warn(\n",
      "/home/louis/anaconda3/envs/big_data/lib/python3.8/site-packages/sklearn/linear_model/_logistic.py:1193: UserWarning: Setting penalty=None will ignore the C and l1_ratio parameters\n",
      "  warnings.warn(\n",
      "/home/louis/anaconda3/envs/big_data/lib/python3.8/site-packages/sklearn/linear_model/_logistic.py:1183: FutureWarning: `penalty='none'`has been deprecated in 1.2 and will be removed in 1.4. To keep the past behaviour, set `penalty=None`.\n",
      "  warnings.warn(\n",
      "/home/louis/anaconda3/envs/big_data/lib/python3.8/site-packages/sklearn/linear_model/_logistic.py:1193: UserWarning: Setting penalty=None will ignore the C and l1_ratio parameters\n",
      "  warnings.warn(\n",
      "/home/louis/anaconda3/envs/big_data/lib/python3.8/site-packages/sklearn/linear_model/_logistic.py:1183: FutureWarning: `penalty='none'`has been deprecated in 1.2 and will be removed in 1.4. To keep the past behaviour, set `penalty=None`.\n",
      "  warnings.warn(\n",
      "/home/louis/anaconda3/envs/big_data/lib/python3.8/site-packages/sklearn/linear_model/_logistic.py:1193: UserWarning: Setting penalty=None will ignore the C and l1_ratio parameters\n",
      "  warnings.warn(\n",
      "/home/louis/anaconda3/envs/big_data/lib/python3.8/site-packages/sklearn/linear_model/_logistic.py:1183: FutureWarning: `penalty='none'`has been deprecated in 1.2 and will be removed in 1.4. To keep the past behaviour, set `penalty=None`.\n",
      "  warnings.warn(\n",
      "/home/louis/anaconda3/envs/big_data/lib/python3.8/site-packages/sklearn/linear_model/_logistic.py:1193: UserWarning: Setting penalty=None will ignore the C and l1_ratio parameters\n",
      "  warnings.warn(\n",
      "/home/louis/anaconda3/envs/big_data/lib/python3.8/site-packages/sklearn/linear_model/_logistic.py:1183: FutureWarning: `penalty='none'`has been deprecated in 1.2 and will be removed in 1.4. To keep the past behaviour, set `penalty=None`.\n",
      "  warnings.warn(\n",
      "/home/louis/anaconda3/envs/big_data/lib/python3.8/site-packages/sklearn/linear_model/_logistic.py:1193: UserWarning: Setting penalty=None will ignore the C and l1_ratio parameters\n",
      "  warnings.warn(\n",
      "/home/louis/anaconda3/envs/big_data/lib/python3.8/site-packages/sklearn/linear_model/_logistic.py:1183: FutureWarning: `penalty='none'`has been deprecated in 1.2 and will be removed in 1.4. To keep the past behaviour, set `penalty=None`.\n",
      "  warnings.warn(\n",
      "/home/louis/anaconda3/envs/big_data/lib/python3.8/site-packages/sklearn/linear_model/_logistic.py:1193: UserWarning: Setting penalty=None will ignore the C and l1_ratio parameters\n",
      "  warnings.warn(\n",
      "/home/louis/anaconda3/envs/big_data/lib/python3.8/site-packages/sklearn/linear_model/_logistic.py:1183: FutureWarning: `penalty='none'`has been deprecated in 1.2 and will be removed in 1.4. To keep the past behaviour, set `penalty=None`.\n",
      "  warnings.warn(\n",
      "/home/louis/anaconda3/envs/big_data/lib/python3.8/site-packages/sklearn/linear_model/_logistic.py:1193: UserWarning: Setting penalty=None will ignore the C and l1_ratio parameters\n",
      "  warnings.warn(\n",
      "/home/louis/anaconda3/envs/big_data/lib/python3.8/site-packages/sklearn/linear_model/_logistic.py:1183: FutureWarning: `penalty='none'`has been deprecated in 1.2 and will be removed in 1.4. To keep the past behaviour, set `penalty=None`.\n",
      "  warnings.warn(\n",
      "/home/louis/anaconda3/envs/big_data/lib/python3.8/site-packages/sklearn/linear_model/_logistic.py:1193: UserWarning: Setting penalty=None will ignore the C and l1_ratio parameters\n",
      "  warnings.warn(\n",
      "/home/louis/anaconda3/envs/big_data/lib/python3.8/site-packages/sklearn/linear_model/_logistic.py:1183: FutureWarning: `penalty='none'`has been deprecated in 1.2 and will be removed in 1.4. To keep the past behaviour, set `penalty=None`.\n",
      "  warnings.warn(\n",
      "/home/louis/anaconda3/envs/big_data/lib/python3.8/site-packages/sklearn/linear_model/_logistic.py:1193: UserWarning: Setting penalty=None will ignore the C and l1_ratio parameters\n",
      "  warnings.warn(\n",
      "/home/louis/anaconda3/envs/big_data/lib/python3.8/site-packages/sklearn/linear_model/_logistic.py:1183: FutureWarning: `penalty='none'`has been deprecated in 1.2 and will be removed in 1.4. To keep the past behaviour, set `penalty=None`.\n",
      "  warnings.warn(\n",
      "/home/louis/anaconda3/envs/big_data/lib/python3.8/site-packages/sklearn/linear_model/_logistic.py:1183: FutureWarning: `penalty='none'`has been deprecated in 1.2 and will be removed in 1.4. To keep the past behaviour, set `penalty=None`.\n",
      "  warnings.warn(\n",
      "/home/louis/anaconda3/envs/big_data/lib/python3.8/site-packages/sklearn/linear_model/_logistic.py:1183: FutureWarning: `penalty='none'`has been deprecated in 1.2 and will be removed in 1.4. To keep the past behaviour, set `penalty=None`.\n",
      "  warnings.warn(\n",
      "/home/louis/anaconda3/envs/big_data/lib/python3.8/site-packages/sklearn/linear_model/_logistic.py:1183: FutureWarning: `penalty='none'`has been deprecated in 1.2 and will be removed in 1.4. To keep the past behaviour, set `penalty=None`.\n",
      "  warnings.warn(\n",
      "/home/louis/anaconda3/envs/big_data/lib/python3.8/site-packages/sklearn/linear_model/_logistic.py:1183: FutureWarning: `penalty='none'`has been deprecated in 1.2 and will be removed in 1.4. To keep the past behaviour, set `penalty=None`.\n",
      "  warnings.warn(\n",
      "/home/louis/anaconda3/envs/big_data/lib/python3.8/site-packages/sklearn/linear_model/_logistic.py:1183: FutureWarning: `penalty='none'`has been deprecated in 1.2 and will be removed in 1.4. To keep the past behaviour, set `penalty=None`.\n",
      "  warnings.warn(\n",
      "/home/louis/anaconda3/envs/big_data/lib/python3.8/site-packages/sklearn/linear_model/_logistic.py:1193: UserWarning: Setting penalty=None will ignore the C and l1_ratio parameters\n",
      "  warnings.warn(\n",
      "/home/louis/anaconda3/envs/big_data/lib/python3.8/site-packages/sklearn/linear_model/_logistic.py:1183: FutureWarning: `penalty='none'`has been deprecated in 1.2 and will be removed in 1.4. To keep the past behaviour, set `penalty=None`.\n",
      "  warnings.warn(\n",
      "/home/louis/anaconda3/envs/big_data/lib/python3.8/site-packages/sklearn/linear_model/_logistic.py:1193: UserWarning: Setting penalty=None will ignore the C and l1_ratio parameters\n",
      "  warnings.warn(\n",
      "/home/louis/anaconda3/envs/big_data/lib/python3.8/site-packages/sklearn/linear_model/_logistic.py:1183: FutureWarning: `penalty='none'`has been deprecated in 1.2 and will be removed in 1.4. To keep the past behaviour, set `penalty=None`.\n",
      "  warnings.warn(\n",
      "/home/louis/anaconda3/envs/big_data/lib/python3.8/site-packages/sklearn/linear_model/_logistic.py:1193: UserWarning: Setting penalty=None will ignore the C and l1_ratio parameters\n",
      "  warnings.warn(\n",
      "/home/louis/anaconda3/envs/big_data/lib/python3.8/site-packages/sklearn/linear_model/_logistic.py:1183: FutureWarning: `penalty='none'`has been deprecated in 1.2 and will be removed in 1.4. To keep the past behaviour, set `penalty=None`.\n",
      "  warnings.warn(\n",
      "/home/louis/anaconda3/envs/big_data/lib/python3.8/site-packages/sklearn/linear_model/_logistic.py:1193: UserWarning: Setting penalty=None will ignore the C and l1_ratio parameters\n",
      "  warnings.warn(\n",
      "/home/louis/anaconda3/envs/big_data/lib/python3.8/site-packages/sklearn/linear_model/_logistic.py:1183: FutureWarning: `penalty='none'`has been deprecated in 1.2 and will be removed in 1.4. To keep the past behaviour, set `penalty=None`.\n",
      "  warnings.warn(\n",
      "/home/louis/anaconda3/envs/big_data/lib/python3.8/site-packages/sklearn/linear_model/_logistic.py:1193: UserWarning: Setting penalty=None will ignore the C and l1_ratio parameters\n",
      "  warnings.warn(\n",
      "/home/louis/anaconda3/envs/big_data/lib/python3.8/site-packages/sklearn/linear_model/_logistic.py:1183: FutureWarning: `penalty='none'`has been deprecated in 1.2 and will be removed in 1.4. To keep the past behaviour, set `penalty=None`.\n",
      "  warnings.warn(\n",
      "/home/louis/anaconda3/envs/big_data/lib/python3.8/site-packages/sklearn/linear_model/_logistic.py:1193: UserWarning: Setting penalty=None will ignore the C and l1_ratio parameters\n",
      "  warnings.warn(\n",
      "/home/louis/anaconda3/envs/big_data/lib/python3.8/site-packages/sklearn/linear_model/_logistic.py:1183: FutureWarning: `penalty='none'`has been deprecated in 1.2 and will be removed in 1.4. To keep the past behaviour, set `penalty=None`.\n",
      "  warnings.warn(\n",
      "/home/louis/anaconda3/envs/big_data/lib/python3.8/site-packages/sklearn/linear_model/_logistic.py:1193: UserWarning: Setting penalty=None will ignore the C and l1_ratio parameters\n",
      "  warnings.warn(\n",
      "/home/louis/anaconda3/envs/big_data/lib/python3.8/site-packages/sklearn/linear_model/_logistic.py:1183: FutureWarning: `penalty='none'`has been deprecated in 1.2 and will be removed in 1.4. To keep the past behaviour, set `penalty=None`.\n",
      "  warnings.warn(\n",
      "/home/louis/anaconda3/envs/big_data/lib/python3.8/site-packages/sklearn/linear_model/_logistic.py:1193: UserWarning: Setting penalty=None will ignore the C and l1_ratio parameters\n",
      "  warnings.warn(\n",
      "/home/louis/anaconda3/envs/big_data/lib/python3.8/site-packages/sklearn/linear_model/_logistic.py:1183: FutureWarning: `penalty='none'`has been deprecated in 1.2 and will be removed in 1.4. To keep the past behaviour, set `penalty=None`.\n",
      "  warnings.warn(\n",
      "/home/louis/anaconda3/envs/big_data/lib/python3.8/site-packages/sklearn/linear_model/_logistic.py:1193: UserWarning: Setting penalty=None will ignore the C and l1_ratio parameters\n",
      "  warnings.warn(\n",
      "/home/louis/anaconda3/envs/big_data/lib/python3.8/site-packages/sklearn/linear_model/_logistic.py:1183: FutureWarning: `penalty='none'`has been deprecated in 1.2 and will be removed in 1.4. To keep the past behaviour, set `penalty=None`.\n",
      "  warnings.warn(\n",
      "/home/louis/anaconda3/envs/big_data/lib/python3.8/site-packages/sklearn/linear_model/_logistic.py:1193: UserWarning: Setting penalty=None will ignore the C and l1_ratio parameters\n",
      "  warnings.warn(\n",
      "/home/louis/anaconda3/envs/big_data/lib/python3.8/site-packages/sklearn/linear_model/_logistic.py:1183: FutureWarning: `penalty='none'`has been deprecated in 1.2 and will be removed in 1.4. To keep the past behaviour, set `penalty=None`.\n",
      "  warnings.warn(\n",
      "/home/louis/anaconda3/envs/big_data/lib/python3.8/site-packages/sklearn/linear_model/_logistic.py:1193: UserWarning: Setting penalty=None will ignore the C and l1_ratio parameters\n",
      "  warnings.warn(\n",
      "/home/louis/anaconda3/envs/big_data/lib/python3.8/site-packages/sklearn/linear_model/_logistic.py:1183: FutureWarning: `penalty='none'`has been deprecated in 1.2 and will be removed in 1.4. To keep the past behaviour, set `penalty=None`.\n",
      "  warnings.warn(\n",
      "/home/louis/anaconda3/envs/big_data/lib/python3.8/site-packages/sklearn/linear_model/_logistic.py:1193: UserWarning: Setting penalty=None will ignore the C and l1_ratio parameters\n",
      "  warnings.warn(\n",
      "/home/louis/anaconda3/envs/big_data/lib/python3.8/site-packages/sklearn/linear_model/_logistic.py:1183: FutureWarning: `penalty='none'`has been deprecated in 1.2 and will be removed in 1.4. To keep the past behaviour, set `penalty=None`.\n",
      "  warnings.warn(\n",
      "/home/louis/anaconda3/envs/big_data/lib/python3.8/site-packages/sklearn/linear_model/_logistic.py:1193: UserWarning: Setting penalty=None will ignore the C and l1_ratio parameters\n",
      "  warnings.warn(\n",
      "/home/louis/anaconda3/envs/big_data/lib/python3.8/site-packages/sklearn/linear_model/_logistic.py:1183: FutureWarning: `penalty='none'`has been deprecated in 1.2 and will be removed in 1.4. To keep the past behaviour, set `penalty=None`.\n",
      "  warnings.warn(\n",
      "/home/louis/anaconda3/envs/big_data/lib/python3.8/site-packages/sklearn/linear_model/_logistic.py:1193: UserWarning: Setting penalty=None will ignore the C and l1_ratio parameters\n",
      "  warnings.warn(\n",
      "/home/louis/anaconda3/envs/big_data/lib/python3.8/site-packages/sklearn/linear_model/_logistic.py:1183: FutureWarning: `penalty='none'`has been deprecated in 1.2 and will be removed in 1.4. To keep the past behaviour, set `penalty=None`.\n",
      "  warnings.warn(\n",
      "/home/louis/anaconda3/envs/big_data/lib/python3.8/site-packages/sklearn/linear_model/_logistic.py:1193: UserWarning: Setting penalty=None will ignore the C and l1_ratio parameters\n",
      "  warnings.warn(\n",
      "/home/louis/anaconda3/envs/big_data/lib/python3.8/site-packages/sklearn/linear_model/_logistic.py:1183: FutureWarning: `penalty='none'`has been deprecated in 1.2 and will be removed in 1.4. To keep the past behaviour, set `penalty=None`.\n",
      "  warnings.warn(\n",
      "/home/louis/anaconda3/envs/big_data/lib/python3.8/site-packages/sklearn/linear_model/_logistic.py:1193: UserWarning: Setting penalty=None will ignore the C and l1_ratio parameters\n",
      "  warnings.warn(\n",
      "/home/louis/anaconda3/envs/big_data/lib/python3.8/site-packages/sklearn/linear_model/_logistic.py:1183: FutureWarning: `penalty='none'`has been deprecated in 1.2 and will be removed in 1.4. To keep the past behaviour, set `penalty=None`.\n",
      "  warnings.warn(\n",
      "/home/louis/anaconda3/envs/big_data/lib/python3.8/site-packages/sklearn/linear_model/_logistic.py:1193: UserWarning: Setting penalty=None will ignore the C and l1_ratio parameters\n",
      "  warnings.warn(\n",
      "/home/louis/anaconda3/envs/big_data/lib/python3.8/site-packages/sklearn/linear_model/_logistic.py:1183: FutureWarning: `penalty='none'`has been deprecated in 1.2 and will be removed in 1.4. To keep the past behaviour, set `penalty=None`.\n",
      "  warnings.warn(\n",
      "/home/louis/anaconda3/envs/big_data/lib/python3.8/site-packages/sklearn/linear_model/_logistic.py:1193: UserWarning: Setting penalty=None will ignore the C and l1_ratio parameters\n",
      "  warnings.warn(\n",
      "/home/louis/anaconda3/envs/big_data/lib/python3.8/site-packages/sklearn/linear_model/_logistic.py:1183: FutureWarning: `penalty='none'`has been deprecated in 1.2 and will be removed in 1.4. To keep the past behaviour, set `penalty=None`.\n",
      "  warnings.warn(\n",
      "/home/louis/anaconda3/envs/big_data/lib/python3.8/site-packages/sklearn/linear_model/_logistic.py:1193: UserWarning: Setting penalty=None will ignore the C and l1_ratio parameters\n",
      "  warnings.warn(\n"
     ]
    },
    {
     "data": {
      "text/html": [
       "<style>#sk-container-id-1 {color: black;}#sk-container-id-1 pre{padding: 0;}#sk-container-id-1 div.sk-toggleable {background-color: white;}#sk-container-id-1 label.sk-toggleable__label {cursor: pointer;display: block;width: 100%;margin-bottom: 0;padding: 0.3em;box-sizing: border-box;text-align: center;}#sk-container-id-1 label.sk-toggleable__label-arrow:before {content: \"▸\";float: left;margin-right: 0.25em;color: #696969;}#sk-container-id-1 label.sk-toggleable__label-arrow:hover:before {color: black;}#sk-container-id-1 div.sk-estimator:hover label.sk-toggleable__label-arrow:before {color: black;}#sk-container-id-1 div.sk-toggleable__content {max-height: 0;max-width: 0;overflow: hidden;text-align: left;background-color: #f0f8ff;}#sk-container-id-1 div.sk-toggleable__content pre {margin: 0.2em;color: black;border-radius: 0.25em;background-color: #f0f8ff;}#sk-container-id-1 input.sk-toggleable__control:checked~div.sk-toggleable__content {max-height: 200px;max-width: 100%;overflow: auto;}#sk-container-id-1 input.sk-toggleable__control:checked~label.sk-toggleable__label-arrow:before {content: \"▾\";}#sk-container-id-1 div.sk-estimator input.sk-toggleable__control:checked~label.sk-toggleable__label {background-color: #d4ebff;}#sk-container-id-1 div.sk-label input.sk-toggleable__control:checked~label.sk-toggleable__label {background-color: #d4ebff;}#sk-container-id-1 input.sk-hidden--visually {border: 0;clip: rect(1px 1px 1px 1px);clip: rect(1px, 1px, 1px, 1px);height: 1px;margin: -1px;overflow: hidden;padding: 0;position: absolute;width: 1px;}#sk-container-id-1 div.sk-estimator {font-family: monospace;background-color: #f0f8ff;border: 1px dotted black;border-radius: 0.25em;box-sizing: border-box;margin-bottom: 0.5em;}#sk-container-id-1 div.sk-estimator:hover {background-color: #d4ebff;}#sk-container-id-1 div.sk-parallel-item::after {content: \"\";width: 100%;border-bottom: 1px solid gray;flex-grow: 1;}#sk-container-id-1 div.sk-label:hover label.sk-toggleable__label {background-color: #d4ebff;}#sk-container-id-1 div.sk-serial::before {content: \"\";position: absolute;border-left: 1px solid gray;box-sizing: border-box;top: 0;bottom: 0;left: 50%;z-index: 0;}#sk-container-id-1 div.sk-serial {display: flex;flex-direction: column;align-items: center;background-color: white;padding-right: 0.2em;padding-left: 0.2em;position: relative;}#sk-container-id-1 div.sk-item {position: relative;z-index: 1;}#sk-container-id-1 div.sk-parallel {display: flex;align-items: stretch;justify-content: center;background-color: white;position: relative;}#sk-container-id-1 div.sk-item::before, #sk-container-id-1 div.sk-parallel-item::before {content: \"\";position: absolute;border-left: 1px solid gray;box-sizing: border-box;top: 0;bottom: 0;left: 50%;z-index: -1;}#sk-container-id-1 div.sk-parallel-item {display: flex;flex-direction: column;z-index: 1;position: relative;background-color: white;}#sk-container-id-1 div.sk-parallel-item:first-child::after {align-self: flex-end;width: 50%;}#sk-container-id-1 div.sk-parallel-item:last-child::after {align-self: flex-start;width: 50%;}#sk-container-id-1 div.sk-parallel-item:only-child::after {width: 0;}#sk-container-id-1 div.sk-dashed-wrapped {border: 1px dashed gray;margin: 0 0.4em 0.5em 0.4em;box-sizing: border-box;padding-bottom: 0.4em;background-color: white;}#sk-container-id-1 div.sk-label label {font-family: monospace;font-weight: bold;display: inline-block;line-height: 1.2em;}#sk-container-id-1 div.sk-label-container {text-align: center;}#sk-container-id-1 div.sk-container {/* jupyter's `normalize.less` sets `[hidden] { display: none; }` but bootstrap.min.css set `[hidden] { display: none !important; }` so we also need the `!important` here to be able to override the default hidden behavior on the sphinx rendered scikit-learn.org. See: https://github.com/scikit-learn/scikit-learn/issues/21755 */display: inline-block !important;position: relative;}#sk-container-id-1 div.sk-text-repr-fallback {display: none;}</style><div id=\"sk-container-id-1\" class=\"sk-top-container\"><div class=\"sk-text-repr-fallback\"><pre>GridSearchCV(cv=5, estimator=LogisticRegression(), n_jobs=-1,\n",
       "             param_grid={&#x27;C&#x27;: [0.001, 0.01, 0.1, 1, 10, 100, 1000],\n",
       "                         &#x27;penalty&#x27;: [&#x27;none&#x27;, &#x27;l2&#x27;]},\n",
       "             scoring=&#x27;accuracy&#x27;, verbose=1)</pre><b>In a Jupyter environment, please rerun this cell to show the HTML representation or trust the notebook. <br />On GitHub, the HTML representation is unable to render, please try loading this page with nbviewer.org.</b></div><div class=\"sk-container\" hidden><div class=\"sk-item sk-dashed-wrapped\"><div class=\"sk-label-container\"><div class=\"sk-label sk-toggleable\"><input class=\"sk-toggleable__control sk-hidden--visually\" id=\"sk-estimator-id-1\" type=\"checkbox\" ><label for=\"sk-estimator-id-1\" class=\"sk-toggleable__label sk-toggleable__label-arrow\">GridSearchCV</label><div class=\"sk-toggleable__content\"><pre>GridSearchCV(cv=5, estimator=LogisticRegression(), n_jobs=-1,\n",
       "             param_grid={&#x27;C&#x27;: [0.001, 0.01, 0.1, 1, 10, 100, 1000],\n",
       "                         &#x27;penalty&#x27;: [&#x27;none&#x27;, &#x27;l2&#x27;]},\n",
       "             scoring=&#x27;accuracy&#x27;, verbose=1)</pre></div></div></div><div class=\"sk-parallel\"><div class=\"sk-parallel-item\"><div class=\"sk-item\"><div class=\"sk-label-container\"><div class=\"sk-label sk-toggleable\"><input class=\"sk-toggleable__control sk-hidden--visually\" id=\"sk-estimator-id-2\" type=\"checkbox\" ><label for=\"sk-estimator-id-2\" class=\"sk-toggleable__label sk-toggleable__label-arrow\">estimator: LogisticRegression</label><div class=\"sk-toggleable__content\"><pre>LogisticRegression()</pre></div></div></div><div class=\"sk-serial\"><div class=\"sk-item\"><div class=\"sk-estimator sk-toggleable\"><input class=\"sk-toggleable__control sk-hidden--visually\" id=\"sk-estimator-id-3\" type=\"checkbox\" ><label for=\"sk-estimator-id-3\" class=\"sk-toggleable__label sk-toggleable__label-arrow\">LogisticRegression</label><div class=\"sk-toggleable__content\"><pre>LogisticRegression()</pre></div></div></div></div></div></div></div></div></div></div>"
      ],
      "text/plain": [
       "GridSearchCV(cv=5, estimator=LogisticRegression(), n_jobs=-1,\n",
       "             param_grid={'C': [0.001, 0.01, 0.1, 1, 10, 100, 1000],\n",
       "                         'penalty': ['none', 'l2']},\n",
       "             scoring='accuracy', verbose=1)"
      ]
     },
     "execution_count": 37,
     "metadata": {},
     "output_type": "execute_result"
    }
   ],
   "source": [
    "grid_lr = GridSearchCV(LogisticRegression(), param_lr,\n",
    "                       scoring='accuracy', n_jobs=-1, verbose=1, cv=5)\n",
    "grid_lr.fit(X_train, y_train)"
   ]
  },
  {
   "cell_type": "code",
   "execution_count": 38,
   "metadata": {},
   "outputs": [
    {
     "data": {
      "text/html": [
       "<style>#sk-container-id-2 {color: black;}#sk-container-id-2 pre{padding: 0;}#sk-container-id-2 div.sk-toggleable {background-color: white;}#sk-container-id-2 label.sk-toggleable__label {cursor: pointer;display: block;width: 100%;margin-bottom: 0;padding: 0.3em;box-sizing: border-box;text-align: center;}#sk-container-id-2 label.sk-toggleable__label-arrow:before {content: \"▸\";float: left;margin-right: 0.25em;color: #696969;}#sk-container-id-2 label.sk-toggleable__label-arrow:hover:before {color: black;}#sk-container-id-2 div.sk-estimator:hover label.sk-toggleable__label-arrow:before {color: black;}#sk-container-id-2 div.sk-toggleable__content {max-height: 0;max-width: 0;overflow: hidden;text-align: left;background-color: #f0f8ff;}#sk-container-id-2 div.sk-toggleable__content pre {margin: 0.2em;color: black;border-radius: 0.25em;background-color: #f0f8ff;}#sk-container-id-2 input.sk-toggleable__control:checked~div.sk-toggleable__content {max-height: 200px;max-width: 100%;overflow: auto;}#sk-container-id-2 input.sk-toggleable__control:checked~label.sk-toggleable__label-arrow:before {content: \"▾\";}#sk-container-id-2 div.sk-estimator input.sk-toggleable__control:checked~label.sk-toggleable__label {background-color: #d4ebff;}#sk-container-id-2 div.sk-label input.sk-toggleable__control:checked~label.sk-toggleable__label {background-color: #d4ebff;}#sk-container-id-2 input.sk-hidden--visually {border: 0;clip: rect(1px 1px 1px 1px);clip: rect(1px, 1px, 1px, 1px);height: 1px;margin: -1px;overflow: hidden;padding: 0;position: absolute;width: 1px;}#sk-container-id-2 div.sk-estimator {font-family: monospace;background-color: #f0f8ff;border: 1px dotted black;border-radius: 0.25em;box-sizing: border-box;margin-bottom: 0.5em;}#sk-container-id-2 div.sk-estimator:hover {background-color: #d4ebff;}#sk-container-id-2 div.sk-parallel-item::after {content: \"\";width: 100%;border-bottom: 1px solid gray;flex-grow: 1;}#sk-container-id-2 div.sk-label:hover label.sk-toggleable__label {background-color: #d4ebff;}#sk-container-id-2 div.sk-serial::before {content: \"\";position: absolute;border-left: 1px solid gray;box-sizing: border-box;top: 0;bottom: 0;left: 50%;z-index: 0;}#sk-container-id-2 div.sk-serial {display: flex;flex-direction: column;align-items: center;background-color: white;padding-right: 0.2em;padding-left: 0.2em;position: relative;}#sk-container-id-2 div.sk-item {position: relative;z-index: 1;}#sk-container-id-2 div.sk-parallel {display: flex;align-items: stretch;justify-content: center;background-color: white;position: relative;}#sk-container-id-2 div.sk-item::before, #sk-container-id-2 div.sk-parallel-item::before {content: \"\";position: absolute;border-left: 1px solid gray;box-sizing: border-box;top: 0;bottom: 0;left: 50%;z-index: -1;}#sk-container-id-2 div.sk-parallel-item {display: flex;flex-direction: column;z-index: 1;position: relative;background-color: white;}#sk-container-id-2 div.sk-parallel-item:first-child::after {align-self: flex-end;width: 50%;}#sk-container-id-2 div.sk-parallel-item:last-child::after {align-self: flex-start;width: 50%;}#sk-container-id-2 div.sk-parallel-item:only-child::after {width: 0;}#sk-container-id-2 div.sk-dashed-wrapped {border: 1px dashed gray;margin: 0 0.4em 0.5em 0.4em;box-sizing: border-box;padding-bottom: 0.4em;background-color: white;}#sk-container-id-2 div.sk-label label {font-family: monospace;font-weight: bold;display: inline-block;line-height: 1.2em;}#sk-container-id-2 div.sk-label-container {text-align: center;}#sk-container-id-2 div.sk-container {/* jupyter's `normalize.less` sets `[hidden] { display: none; }` but bootstrap.min.css set `[hidden] { display: none !important; }` so we also need the `!important` here to be able to override the default hidden behavior on the sphinx rendered scikit-learn.org. See: https://github.com/scikit-learn/scikit-learn/issues/21755 */display: inline-block !important;position: relative;}#sk-container-id-2 div.sk-text-repr-fallback {display: none;}</style><div id=\"sk-container-id-2\" class=\"sk-top-container\"><div class=\"sk-text-repr-fallback\"><pre>LogisticRegression(C=1)</pre><b>In a Jupyter environment, please rerun this cell to show the HTML representation or trust the notebook. <br />On GitHub, the HTML representation is unable to render, please try loading this page with nbviewer.org.</b></div><div class=\"sk-container\" hidden><div class=\"sk-item\"><div class=\"sk-estimator sk-toggleable\"><input class=\"sk-toggleable__control sk-hidden--visually\" id=\"sk-estimator-id-4\" type=\"checkbox\" checked><label for=\"sk-estimator-id-4\" class=\"sk-toggleable__label sk-toggleable__label-arrow\">LogisticRegression</label><div class=\"sk-toggleable__content\"><pre>LogisticRegression(C=1)</pre></div></div></div></div></div>"
      ],
      "text/plain": [
       "LogisticRegression(C=1)"
      ]
     },
     "execution_count": 38,
     "metadata": {},
     "output_type": "execute_result"
    }
   ],
   "source": [
    "optimized_lr = grid_lr.best_estimator_\n",
    "optimized_lr"
   ]
  },
  {
   "cell_type": "code",
   "execution_count": 39,
   "metadata": {},
   "outputs": [
    {
     "data": {
      "text/plain": [
       "0.9032336432939599"
      ]
     },
     "execution_count": 39,
     "metadata": {},
     "output_type": "execute_result"
    }
   ],
   "source": [
    "grid_lr.best_score_"
   ]
  },
  {
   "cell_type": "code",
   "execution_count": 40,
   "metadata": {},
   "outputs": [
    {
     "data": {
      "text/plain": [
       "{'C': 1, 'penalty': 'l2'}"
      ]
     },
     "execution_count": 40,
     "metadata": {},
     "output_type": "execute_result"
    }
   ],
   "source": [
    "grid_lr.best_params_"
   ]
  },
  {
   "cell_type": "code",
   "execution_count": 41,
   "metadata": {},
   "outputs": [],
   "source": [
    "lr_train_pred = optimized_lr.predict(X_train)\n",
    "lr_test_pred = optimized_lr.predict(X_test)"
   ]
  },
  {
   "cell_type": "code",
   "execution_count": 42,
   "metadata": {},
   "outputs": [
    {
     "name": "stdout",
     "output_type": "stream",
     "text": [
      "The accuracy on train data is  0.9154113557358053\n",
      "The accuracy on test data is  0.904054054054054\n",
      "The precision on test data is  0.889487870619946\n",
      "The recall on test data is  0.9166666666666666\n",
      "The f1 on test data is  0.9028727770177838\n",
      "The roc_score on test data is  0.9043859649122806\n"
     ]
    }
   ],
   "source": [
    "\n",
    "from sklearn.metrics import accuracy_score, precision_score, recall_score, f1_score, roc_auc_score\n",
    "print(\"The accuracy on train data is \", accuracy_score(lr_train_pred, y_train))\n",
    "logistic_accuracy = accuracy_score(lr_test_pred, y_test)\n",
    "print(\"The accuracy on test data is \", accuracy_score(lr_test_pred, y_test))\n",
    "print(\"The precision on test data is \", precision_score(lr_test_pred, y_test))\n",
    "print(\"The recall on test data is \", recall_score(lr_test_pred, y_test))\n",
    "print(\"The f1 on test data is \", f1_score(lr_test_pred, y_test))\n",
    "print(\"The roc_score on test data is \", roc_auc_score(lr_test_pred, y_test))"
   ]
  },
  {
   "cell_type": "code",
   "execution_count": 43,
   "metadata": {},
   "outputs": [
    {
     "data": {
      "text/plain": [
       "[Text(0, 0.5, 'Not Defaulter'), Text(0, 1.5, 'Defaulter')]"
      ]
     },
     "execution_count": 43,
     "metadata": {},
     "output_type": "execute_result"
    },
    {
     "data": {
      "image/png": "[encoded data removed]",
      "text/plain": [
       "<Figure size 640x480 with 2 Axes>"
      ]
     },
     "metadata": {},
     "output_type": "display_data"
    }
   ],
   "source": [
    "labels = ['Not Defaulter', 'Defaulter']\n",
    "cm = confusion_matrix(y_test, lr_test_pred)\n",
    "\n",
    "\n",
    "ax = plt.subplot()\n",
    "sns.heatmap(cm,\n",
    "            xticklabels=['Not Default', 'Default'],\n",
    "            yticklabels=['Not Default', 'Default'],\n",
    "            annot=True, ax=ax,\n",
    "            linewidths=.2, linecolor=\"Darkblue\", cmap=\"Blues\")  # annot=True to annotate cells\n",
    "\n",
    "# labels, title and ticks\n",
    "ax.set_xlabel('Predicted labels')\n",
    "ax.set_ylabel('True labels')\n",
    "ax.set_title('Confusion Matrix (Logistic Regression)')\n",
    "ax.xaxis.set_ticklabels(labels)\n",
    "ax.yaxis.set_ticklabels(labels)"
   ]
  },
  {
   "cell_type": "code",
   "execution_count": 44,
   "metadata": {},
   "outputs": [
    {
     "data": {
      "image/png": "[encoded data removed]",
      "text/plain": [
       "<Figure size 640x480 with 1 Axes>"
      ]
     },
     "metadata": {},
     "output_type": "display_data"
    }
   ],
   "source": [
    "y_preds_proba_lr = optimized_lr.predict_proba(X_test)[::, 1]\n",
    "y_pred_proba = y_preds_proba_lr\n",
    "fpr, tpr, _ = roc_curve(y_test,  y_pred_proba)\n",
    "auc = roc_auc_score(y_test, y_pred_proba)\n",
    "plt.plot(fpr, tpr, label=\"data 1, auc=\"+str(auc))\n",
    "plt.title('Logistic Regression')\n",
    "plt.legend(loc=4)\n",
    "plt.show()"
   ]
  },
  {
   "cell_type": "markdown",
   "metadata": {},
   "source": [
    "# Decision Tree\n"
   ]
  },
  {
   "cell_type": "markdown",
   "metadata": {},
   "source": [
    "1. **`DecisionTreeClassifier(max_depth=8, max_features=15, random_state=42)`**:\n",
    "    - **`DecisionTreeClassifier`** 是一種常用於分類問題的決策樹模型。\n",
    "    - **`max_depth=8`**: 這個參數限制了樹的最大深度。在這裡設為8意味著樹可以分裂成最多8層。控制樹的深度有助於防止過擬合。\n",
    "    - **`max_features=15`**: 這表示在尋找最佳分割時，每次只考慮15個特徵。這可以提高訓練速度，同時也有助於防止過擬合。\n",
    "    - **`random_state=42`**: 這是隨機數生成器的種子。設定這個值確保了結果的可重現性。\n",
    "\n",
    "### **訓練過程**\n",
    "\n",
    "1. **`dt.fit(X_train, y_train)`**:\n",
    "    - **`fit`** 方法用於在訓練數據集（**`X_train`**, **`y_train`**）上訓練模型。\n",
    "    - **`X_train`** 包含了訓練數據的特徵，而 **`y_train`** 是相應的標籤。\n",
    "\n",
    "### **模型評估**\n",
    "\n",
    "1. **`print(dt.score(X_test, y_test))`**:\n",
    "    - **`score`** 方法用於評估模型在測試數據集（**`X_test`**, **`y_test`**）上的表現。\n",
    "    - 它返回的是模型的準確率，即模型正確預測的標籤佔總標籤的比例。\n",
    "    - 這一步是檢查模型在未見數據上的泛化能力的關鍵。\n",
    "\n",
    "### **總結**\n",
    "\n",
    "這段代碼展示了使用決策樹進行分類的基本流程：模型初始化、訓練和性能評估。決策樹是一種直觀且常用的分類方法，它通過樹狀結構來進行決策，每個節點代表一個特徵的檢查，而每個分支則代表一個決策方向。\n",
    "\n",
    "理解這一過程對於數據分析學生至關重要，因為它提供了關於如何訓練、調整參數以及評估機器學習模型的基礎知識。此外，理解不同參數（如 **`max_depth`** 和 **`max_features`**）對模型性能的影響是進行有效模型調優的關鍵。"
   ]
  },
  {
   "cell_type": "code",
   "execution_count": 45,
   "metadata": {},
   "outputs": [
    {
     "name": "stdout",
     "output_type": "stream",
     "text": [
      "0.8364864864864865\n"
     ]
    }
   ],
   "source": [
    "dt = DecisionTreeClassifier(max_depth=8, max_features=15, random_state=42)\n",
    "dt.fit(X_train, y_train)\n",
    "print(dt.score(X_test, y_test))"
   ]
  },
  {
   "cell_type": "code",
   "execution_count": 46,
   "metadata": {},
   "outputs": [
    {
     "name": "stdout",
     "output_type": "stream",
     "text": [
      "Fitting 4 folds for each of 3120 candidates, totalling 12480 fits\n"
     ]
    },
    {
     "data": {
      "text/html": [
       "<style>#sk-container-id-3 {color: black;}#sk-container-id-3 pre{padding: 0;}#sk-container-id-3 div.sk-toggleable {background-color: white;}#sk-container-id-3 label.sk-toggleable__label {cursor: pointer;display: block;width: 100%;margin-bottom: 0;padding: 0.3em;box-sizing: border-box;text-align: center;}#sk-container-id-3 label.sk-toggleable__label-arrow:before {content: \"▸\";float: left;margin-right: 0.25em;color: #696969;}#sk-container-id-3 label.sk-toggleable__label-arrow:hover:before {color: black;}#sk-container-id-3 div.sk-estimator:hover label.sk-toggleable__label-arrow:before {color: black;}#sk-container-id-3 div.sk-toggleable__content {max-height: 0;max-width: 0;overflow: hidden;text-align: left;background-color: #f0f8ff;}#sk-container-id-3 div.sk-toggleable__content pre {margin: 0.2em;color: black;border-radius: 0.25em;background-color: #f0f8ff;}#sk-container-id-3 input.sk-toggleable__control:checked~div.sk-toggleable__content {max-height: 200px;max-width: 100%;overflow: auto;}#sk-container-id-3 input.sk-toggleable__control:checked~label.sk-toggleable__label-arrow:before {content: \"▾\";}#sk-container-id-3 div.sk-estimator input.sk-toggleable__control:checked~label.sk-toggleable__label {background-color: #d4ebff;}#sk-container-id-3 div.sk-label input.sk-toggleable__control:checked~label.sk-toggleable__label {background-color: #d4ebff;}#sk-container-id-3 input.sk-hidden--visually {border: 0;clip: rect(1px 1px 1px 1px);clip: rect(1px, 1px, 1px, 1px);height: 1px;margin: -1px;overflow: hidden;padding: 0;position: absolute;width: 1px;}#sk-container-id-3 div.sk-estimator {font-family: monospace;background-color: #f0f8ff;border: 1px dotted black;border-radius: 0.25em;box-sizing: border-box;margin-bottom: 0.5em;}#sk-container-id-3 div.sk-estimator:hover {background-color: #d4ebff;}#sk-container-id-3 div.sk-parallel-item::after {content: \"\";width: 100%;border-bottom: 1px solid gray;flex-grow: 1;}#sk-container-id-3 div.sk-label:hover label.sk-toggleable__label {background-color: #d4ebff;}#sk-container-id-3 div.sk-serial::before {content: \"\";position: absolute;border-left: 1px solid gray;box-sizing: border-box;top: 0;bottom: 0;left: 50%;z-index: 0;}#sk-container-id-3 div.sk-serial {display: flex;flex-direction: column;align-items: center;background-color: white;padding-right: 0.2em;padding-left: 0.2em;position: relative;}#sk-container-id-3 div.sk-item {position: relative;z-index: 1;}#sk-container-id-3 div.sk-parallel {display: flex;align-items: stretch;justify-content: center;background-color: white;position: relative;}#sk-container-id-3 div.sk-item::before, #sk-container-id-3 div.sk-parallel-item::before {content: \"\";position: absolute;border-left: 1px solid gray;box-sizing: border-box;top: 0;bottom: 0;left: 50%;z-index: -1;}#sk-container-id-3 div.sk-parallel-item {display: flex;flex-direction: column;z-index: 1;position: relative;background-color: white;}#sk-container-id-3 div.sk-parallel-item:first-child::after {align-self: flex-end;width: 50%;}#sk-container-id-3 div.sk-parallel-item:last-child::after {align-self: flex-start;width: 50%;}#sk-container-id-3 div.sk-parallel-item:only-child::after {width: 0;}#sk-container-id-3 div.sk-dashed-wrapped {border: 1px dashed gray;margin: 0 0.4em 0.5em 0.4em;box-sizing: border-box;padding-bottom: 0.4em;background-color: white;}#sk-container-id-3 div.sk-label label {font-family: monospace;font-weight: bold;display: inline-block;line-height: 1.2em;}#sk-container-id-3 div.sk-label-container {text-align: center;}#sk-container-id-3 div.sk-container {/* jupyter's `normalize.less` sets `[hidden] { display: none; }` but bootstrap.min.css set `[hidden] { display: none !important; }` so we also need the `!important` here to be able to override the default hidden behavior on the sphinx rendered scikit-learn.org. See: https://github.com/scikit-learn/scikit-learn/issues/21755 */display: inline-block !important;position: relative;}#sk-container-id-3 div.sk-text-repr-fallback {display: none;}</style><div id=\"sk-container-id-3\" class=\"sk-top-container\"><div class=\"sk-text-repr-fallback\"><pre>GridSearchCV(cv=4,\n",
       "             estimator=DecisionTreeClassifier(max_depth=8, max_features=15,\n",
       "                                              random_state=42),\n",
       "             n_jobs=-1,\n",
       "             param_grid={&#x27;max_depth&#x27;: range(5, 15),\n",
       "                         &#x27;max_features&#x27;: range(5, 18),\n",
       "                         &#x27;min_samples_leaf&#x27;: range(1, 4),\n",
       "                         &#x27;min_samples_split&#x27;: range(2, 10)},\n",
       "             scoring=&#x27;accuracy&#x27;, verbose=1)</pre><b>In a Jupyter environment, please rerun this cell to show the HTML representation or trust the notebook. <br />On GitHub, the HTML representation is unable to render, please try loading this page with nbviewer.org.</b></div><div class=\"sk-container\" hidden><div class=\"sk-item sk-dashed-wrapped\"><div class=\"sk-label-container\"><div class=\"sk-label sk-toggleable\"><input class=\"sk-toggleable__control sk-hidden--visually\" id=\"sk-estimator-id-5\" type=\"checkbox\" ><label for=\"sk-estimator-id-5\" class=\"sk-toggleable__label sk-toggleable__label-arrow\">GridSearchCV</label><div class=\"sk-toggleable__content\"><pre>GridSearchCV(cv=4,\n",
       "             estimator=DecisionTreeClassifier(max_depth=8, max_features=15,\n",
       "                                              random_state=42),\n",
       "             n_jobs=-1,\n",
       "             param_grid={&#x27;max_depth&#x27;: range(5, 15),\n",
       "                         &#x27;max_features&#x27;: range(5, 18),\n",
       "                         &#x27;min_samples_leaf&#x27;: range(1, 4),\n",
       "                         &#x27;min_samples_split&#x27;: range(2, 10)},\n",
       "             scoring=&#x27;accuracy&#x27;, verbose=1)</pre></div></div></div><div class=\"sk-parallel\"><div class=\"sk-parallel-item\"><div class=\"sk-item\"><div class=\"sk-label-container\"><div class=\"sk-label sk-toggleable\"><input class=\"sk-toggleable__control sk-hidden--visually\" id=\"sk-estimator-id-6\" type=\"checkbox\" ><label for=\"sk-estimator-id-6\" class=\"sk-toggleable__label sk-toggleable__label-arrow\">estimator: DecisionTreeClassifier</label><div class=\"sk-toggleable__content\"><pre>DecisionTreeClassifier(max_depth=8, max_features=15, random_state=42)</pre></div></div></div><div class=\"sk-serial\"><div class=\"sk-item\"><div class=\"sk-estimator sk-toggleable\"><input class=\"sk-toggleable__control sk-hidden--visually\" id=\"sk-estimator-id-7\" type=\"checkbox\" ><label for=\"sk-estimator-id-7\" class=\"sk-toggleable__label sk-toggleable__label-arrow\">DecisionTreeClassifier</label><div class=\"sk-toggleable__content\"><pre>DecisionTreeClassifier(max_depth=8, max_features=15, random_state=42)</pre></div></div></div></div></div></div></div></div></div></div>"
      ],
      "text/plain": [
       "GridSearchCV(cv=4,\n",
       "             estimator=DecisionTreeClassifier(max_depth=8, max_features=15,\n",
       "                                              random_state=42),\n",
       "             n_jobs=-1,\n",
       "             param_grid={'max_depth': range(5, 15),\n",
       "                         'max_features': range(5, 18),\n",
       "                         'min_samples_leaf': range(1, 4),\n",
       "                         'min_samples_split': range(2, 10)},\n",
       "             scoring='accuracy', verbose=1)"
      ]
     },
     "execution_count": 46,
     "metadata": {},
     "output_type": "execute_result"
    }
   ],
   "source": [
    "param_dt = {\n",
    "    # 'max_depth': [5, 10, 15],  # Maximum depth of each tree\n",
    "    'max_depth': range(5, 15),  # Maximum depth of each tree\n",
    "    # Minimum number of samples required to split an internal node\n",
    "    'min_samples_split': range(2, 10),\n",
    "    # Minimum number of samples required to be at a leaf node\n",
    "    'min_samples_leaf': range(1, 4),\n",
    "    'max_features': range(5, 18)\n",
    "}\n",
    "# param_dt = {\n",
    "#     'max_depth': [5, 10, 15],  # Maximum depth of each tree\n",
    "#     # Minimum number of samples required to split an internal node\n",
    "#     'min_samples_split': [2, 5, 10],\n",
    "#     # Minimum number of samples required to be at a leaf node\n",
    "#     'min_samples_leaf': [1, 2, 4],\n",
    "#     'max_features': [5, 10, 15, 18]\n",
    "# }\n",
    "\n",
    "\n",
    "grid_dt = GridSearchCV(estimator=dt, param_grid=param_dt,\n",
    "                       cv=4, scoring='accuracy', n_jobs=-1, verbose=1)\n",
    "\n",
    "grid_dt.fit(X_train, y_train)"
   ]
  },
  {
   "cell_type": "code",
   "execution_count": 47,
   "metadata": {},
   "outputs": [],
   "source": [
    "optimized_dt = grid_dt.best_estimator_"
   ]
  },
  {
   "cell_type": "code",
   "execution_count": 48,
   "metadata": {},
   "outputs": [
    {
     "data": {
      "text/plain": [
       "0.82443123227636"
      ]
     },
     "execution_count": 48,
     "metadata": {},
     "output_type": "execute_result"
    }
   ],
   "source": [
    "grid_dt.best_score_"
   ]
  },
  {
   "cell_type": "code",
   "execution_count": 49,
   "metadata": {},
   "outputs": [
    {
     "data": {
      "text/plain": [
       "{'max_depth': 14,\n",
       " 'max_features': 17,\n",
       " 'min_samples_leaf': 1,\n",
       " 'min_samples_split': 2}"
      ]
     },
     "execution_count": 49,
     "metadata": {},
     "output_type": "execute_result"
    }
   ],
   "source": [
    "grid_dt.best_params_"
   ]
  },
  {
   "cell_type": "code",
   "execution_count": 50,
   "metadata": {},
   "outputs": [],
   "source": [
    "dt_train_pred = optimized_dt.predict(X_train)\n",
    "dt_test_pred = optimized_dt.predict(X_test)"
   ]
  },
  {
   "cell_type": "code",
   "execution_count": 51,
   "metadata": {},
   "outputs": [
    {
     "name": "stdout",
     "output_type": "stream",
     "text": [
      "The accuracy on train data is  1.0\n",
      "The accuracy on test data is  0.8094594594594594\n",
      "The precision on test data is  0.8328840970350404\n",
      "The recall on test data is  0.7963917525773195\n",
      "The f1 on test data is  0.8142292490118577\n",
      "The roc_score on test data is  0.8101276944704778\n"
     ]
    }
   ],
   "source": [
    "from sklearn.metrics import accuracy_score, precision_score, recall_score, f1_score, roc_auc_score\n",
    "print(\"The accuracy on train data is \", accuracy_score(dt_train_pred, y_train))\n",
    "decision_tree_accuracy = accuracy_score(dt_test_pred, y_test)\n",
    "print(\"The accuracy on test data is \", accuracy_score(dt_test_pred, y_test))\n",
    "print(\"The precision on test data is \", precision_score(dt_test_pred, y_test))\n",
    "print(\"The recall on test data is \", recall_score(dt_test_pred, y_test))\n",
    "print(\"The f1 on test data is \", f1_score(dt_test_pred, y_test))\n",
    "print(\"The roc_score on test data is \", roc_auc_score(dt_test_pred, y_test))"
   ]
  },
  {
   "cell_type": "code",
   "execution_count": 52,
   "metadata": {},
   "outputs": [
    {
     "data": {
      "text/plain": [
       "[Text(0, 0.5, 'Not Defaulter'), Text(0, 1.5, 'Defaulter')]"
      ]
     },
     "execution_count": 52,
     "metadata": {},
     "output_type": "execute_result"
    },
    {
     "data": {
      "image/png": "[encoded data removed]",
      "text/plain": [
       "<Figure size 640x480 with 2 Axes>"
      ]
     },
     "metadata": {},
     "output_type": "display_data"
    }
   ],
   "source": [
    "labels = ['Not Defaulter', 'Defaulter']\n",
    "cm = confusion_matrix(y_test, dt_test_pred)\n",
    "\n",
    "\n",
    "ax = plt.subplot()\n",
    "sns.heatmap(cm,\n",
    "            xticklabels=['Not Default', 'Default'],\n",
    "            yticklabels=['Not Default', 'Default'],\n",
    "            annot=True, ax=ax,\n",
    "            linewidths=.2, linecolor=\"Darkblue\", cmap=\"Blues\")  # annot=True to annotate cells\n",
    "\n",
    "# labels, title and ticks\n",
    "ax.set_xlabel('Predicted labels')\n",
    "ax.set_ylabel('True labels')\n",
    "ax.set_title('Confusion Matrix (Decision Tree)')\n",
    "ax.xaxis.set_ticklabels(labels)\n",
    "ax.yaxis.set_ticklabels(labels)"
   ]
  },
  {
   "cell_type": "code",
   "execution_count": 53,
   "metadata": {},
   "outputs": [
    {
     "data": {
      "image/png": "[encoded data removed]",
      "text/plain": [
       "<Figure size 640x480 with 1 Axes>"
      ]
     },
     "metadata": {},
     "output_type": "display_data"
    }
   ],
   "source": [
    "y_preds_proba_dt = optimized_dt.predict_proba(X_test)[::, 1]\n",
    "y_pred_proba = y_preds_proba_dt\n",
    "fpr, tpr, _ = roc_curve(y_test,  y_pred_proba)\n",
    "auc = roc_auc_score(y_test, y_pred_proba)\n",
    "plt.plot(fpr, tpr, label=\"data 1, auc=\"+str(auc))\n",
    "plt.title('Decision Tree')\n",
    "plt.legend(loc=4)\n",
    "plt.show()"
   ]
  },
  {
   "cell_type": "markdown",
   "metadata": {},
   "source": [
    "# Random Forest"
   ]
  },
  {
   "cell_type": "markdown",
   "metadata": {},
   "source": [
    "### **隨機森林分類器（RandomForestClassifier）**\n",
    "\n",
    "1. **創建模型**:\n",
    "    - **`RandomForestClassifier(max_depth=10, max_features=15, random_state=42)`** 創建了一個隨機森林分類器的實例。\n",
    "    - **`max_depth=10`**: 這個參數限制了每棵樹的最大深度。設定深度可以幫助防止過擬合，因為過深的樹可能會學習到訓練數據的噪聲。\n",
    "    - **`max_features=15`**: 指每次分裂時考慮的最大特徵數。這可以幫助提高模型的多樣性，減少樹與樹之間的相關性，並提高泛化能力。\n",
    "    - **`random_state=42`**: 確保每次運行代碼時結果的一致性，方便調試和比較。\n",
    "2. **訓練模型**:\n",
    "    - **`rf.fit(X_train, y_train)`**: 這一步將模型與訓練數據（**`X_train`** 和 **`y_train`**）進行擬合。**`X_train`** 包含了訓練數據的特徵，而 **`y_train`** 是相應的標籤。\n",
    "3. **評估模型**:\n",
    "    - **`print(rf.score(X_test, y_test))`**: 這行代碼評估了模型在測試數據集（**`X_test`**, **`y_test`**）上的表現。\n",
    "    - **`score`** 方法返回的是準確率，即模型正確預測的標籤佔總標籤的比例。\n",
    "    - 這一步驗證了模型在未見過的數據上的泛化能力。\n",
    "\n",
    "### **隨機森林的優點**\n",
    "\n",
    "隨機森林是一種集成學習方法，它通過組合多棵決策樹來提高模型的穩定性和準確性。它的主要優點包括：\n",
    "\n",
    "- **泛化能力強**：通過平均多棵樹的預測，減少了模型的方差，使得模型對於未見數據有更好的泛化能力。\n",
    "- **過擬合風險低**：相對於單一的決策樹，隨機森林更不容易過擬合。\n",
    "- **特徵選擇的靈活性**：在每次分裂過程中考慮的隨機特徵子集，使得隨機森林可以更好地處理具有大量特徵的數據集。"
   ]
  },
  {
   "cell_type": "code",
   "execution_count": 54,
   "metadata": {},
   "outputs": [
    {
     "name": "stdout",
     "output_type": "stream",
     "text": [
      "0.918918918918919\n"
     ]
    }
   ],
   "source": [
    "rf = RandomForestClassifier(max_depth=10, max_features=15, random_state=42)\n",
    "rf.fit(X_train, y_train)\n",
    "print(rf.score(X_test, y_test))"
   ]
  },
  {
   "cell_type": "markdown",
   "metadata": {},
   "source": [
    "### **`max_depth` 的意義與影響**\n",
    "\n",
    "1. **意義**:\n",
    "    - **`max_depth`** 參數指定了決策樹的最大深度，即樹可以生長的最大層數。\n",
    "    - 深度限制了從根節點到最遠葉節點的最長路徑。\n",
    "2. **對模型的影響**:\n",
    "    - **防止過擬合**：較小的 **`max_depth`** 可以防止樹過於複雜，這有助於減少過擬合的風險。過深的樹可能會學習到訓練數據中的噪聲。\n",
    "    - **影響模型複雜度**：較大的深度允許模型學習更細分的模式，但也可能導致模型在訓練數據上過度擬合，從而影響其在新數據上的表現。\n",
    "    - **平衡準確度和泛化能力**：適當的 **`max_depth`** 需要根據具體問題進行調整，以平衡訓練準確度和泛化能力。\n",
    "\n",
    "### **`max_features` 的意義與影響**\n",
    "\n",
    "1. **意義**:\n",
    "    - **`max_features`** 決定了在分裂決策樹節點時，每次隨機選擇的特徵數量的上限。\n",
    "    - 這個參數可以是整數（直接指定特徵數量）、浮點數（作為特徵總數的比例）、**`\"auto\"`**（等於特徵數）、**`\"sqrt\"`**（特徵數的平方根）或 **`\"log2\"`**（以2為底的特徵數對數）。\n",
    "2. **對模型的影響**:\n",
    "    - **提高隨機性**：在隨機森林中，較小的 **`max_features`** 增加了模型中各個樹之間的差異，提高了整體模型的隨機性，從而可能提高其泛化能力。\n",
    "    - **防止過擬合**：這個參數有助於減少模型對單一特徵的依賴，從而降低過擬合的風險。\n",
    "    - **影響訓練速度**：較小的 **`max_features`** 可以加快訓練速度，因為在每次分裂時需要評估的特徵數量減少了。\n",
    "    - **平衡特徵與決策的重要性**：適當的 **`max_features`** 值有助於平衡在決策過程中考慮的特徵數量和模型的預測能力。"
   ]
  },
  {
   "cell_type": "code",
   "execution_count": 55,
   "metadata": {},
   "outputs": [
    {
     "name": "stdout",
     "output_type": "stream",
     "text": [
      "Fitting 4 folds for each of 891 candidates, totalling 3564 fits\n"
     ]
    },
    {
     "data": {
      "text/html": [
       "<style>#sk-container-id-4 {color: black;}#sk-container-id-4 pre{padding: 0;}#sk-container-id-4 div.sk-toggleable {background-color: white;}#sk-container-id-4 label.sk-toggleable__label {cursor: pointer;display: block;width: 100%;margin-bottom: 0;padding: 0.3em;box-sizing: border-box;text-align: center;}#sk-container-id-4 label.sk-toggleable__label-arrow:before {content: \"▸\";float: left;margin-right: 0.25em;color: #696969;}#sk-container-id-4 label.sk-toggleable__label-arrow:hover:before {color: black;}#sk-container-id-4 div.sk-estimator:hover label.sk-toggleable__label-arrow:before {color: black;}#sk-container-id-4 div.sk-toggleable__content {max-height: 0;max-width: 0;overflow: hidden;text-align: left;background-color: #f0f8ff;}#sk-container-id-4 div.sk-toggleable__content pre {margin: 0.2em;color: black;border-radius: 0.25em;background-color: #f0f8ff;}#sk-container-id-4 input.sk-toggleable__control:checked~div.sk-toggleable__content {max-height: 200px;max-width: 100%;overflow: auto;}#sk-container-id-4 input.sk-toggleable__control:checked~label.sk-toggleable__label-arrow:before {content: \"▾\";}#sk-container-id-4 div.sk-estimator input.sk-toggleable__control:checked~label.sk-toggleable__label {background-color: #d4ebff;}#sk-container-id-4 div.sk-label input.sk-toggleable__control:checked~label.sk-toggleable__label {background-color: #d4ebff;}#sk-container-id-4 input.sk-hidden--visually {border: 0;clip: rect(1px 1px 1px 1px);clip: rect(1px, 1px, 1px, 1px);height: 1px;margin: -1px;overflow: hidden;padding: 0;position: absolute;width: 1px;}#sk-container-id-4 div.sk-estimator {font-family: monospace;background-color: #f0f8ff;border: 1px dotted black;border-radius: 0.25em;box-sizing: border-box;margin-bottom: 0.5em;}#sk-container-id-4 div.sk-estimator:hover {background-color: #d4ebff;}#sk-container-id-4 div.sk-parallel-item::after {content: \"\";width: 100%;border-bottom: 1px solid gray;flex-grow: 1;}#sk-container-id-4 div.sk-label:hover label.sk-toggleable__label {background-color: #d4ebff;}#sk-container-id-4 div.sk-serial::before {content: \"\";position: absolute;border-left: 1px solid gray;box-sizing: border-box;top: 0;bottom: 0;left: 50%;z-index: 0;}#sk-container-id-4 div.sk-serial {display: flex;flex-direction: column;align-items: center;background-color: white;padding-right: 0.2em;padding-left: 0.2em;position: relative;}#sk-container-id-4 div.sk-item {position: relative;z-index: 1;}#sk-container-id-4 div.sk-parallel {display: flex;align-items: stretch;justify-content: center;background-color: white;position: relative;}#sk-container-id-4 div.sk-item::before, #sk-container-id-4 div.sk-parallel-item::before {content: \"\";position: absolute;border-left: 1px solid gray;box-sizing: border-box;top: 0;bottom: 0;left: 50%;z-index: -1;}#sk-container-id-4 div.sk-parallel-item {display: flex;flex-direction: column;z-index: 1;position: relative;background-color: white;}#sk-container-id-4 div.sk-parallel-item:first-child::after {align-self: flex-end;width: 50%;}#sk-container-id-4 div.sk-parallel-item:last-child::after {align-self: flex-start;width: 50%;}#sk-container-id-4 div.sk-parallel-item:only-child::after {width: 0;}#sk-container-id-4 div.sk-dashed-wrapped {border: 1px dashed gray;margin: 0 0.4em 0.5em 0.4em;box-sizing: border-box;padding-bottom: 0.4em;background-color: white;}#sk-container-id-4 div.sk-label label {font-family: monospace;font-weight: bold;display: inline-block;line-height: 1.2em;}#sk-container-id-4 div.sk-label-container {text-align: center;}#sk-container-id-4 div.sk-container {/* jupyter's `normalize.less` sets `[hidden] { display: none; }` but bootstrap.min.css set `[hidden] { display: none !important; }` so we also need the `!important` here to be able to override the default hidden behavior on the sphinx rendered scikit-learn.org. See: https://github.com/scikit-learn/scikit-learn/issues/21755 */display: inline-block !important;position: relative;}#sk-container-id-4 div.sk-text-repr-fallback {display: none;}</style><div id=\"sk-container-id-4\" class=\"sk-top-container\"><div class=\"sk-text-repr-fallback\"><pre>GridSearchCV(cv=4,\n",
       "             estimator=RandomForestClassifier(max_depth=10, max_features=15,\n",
       "                                              random_state=42),\n",
       "             n_jobs=-1,\n",
       "             param_grid={&#x27;max_depth&#x27;: [5, 10, 12, 13, 14, 15, 16, 17, 18],\n",
       "                         &#x27;max_features&#x27;: [3, 4, 5, 6, 7, 8, 10, 15, 18],\n",
       "                         &#x27;n_estimators&#x27;: [100, 170, 180, 190, 200, 210, 220,\n",
       "                                          230, 240, 300, 350]},\n",
       "             scoring=&#x27;accuracy&#x27;, verbose=1)</pre><b>In a Jupyter environment, please rerun this cell to show the HTML representation or trust the notebook. <br />On GitHub, the HTML representation is unable to render, please try loading this page with nbviewer.org.</b></div><div class=\"sk-container\" hidden><div class=\"sk-item sk-dashed-wrapped\"><div class=\"sk-label-container\"><div class=\"sk-label sk-toggleable\"><input class=\"sk-toggleable__control sk-hidden--visually\" id=\"sk-estimator-id-8\" type=\"checkbox\" ><label for=\"sk-estimator-id-8\" class=\"sk-toggleable__label sk-toggleable__label-arrow\">GridSearchCV</label><div class=\"sk-toggleable__content\"><pre>GridSearchCV(cv=4,\n",
       "             estimator=RandomForestClassifier(max_depth=10, max_features=15,\n",
       "                                              random_state=42),\n",
       "             n_jobs=-1,\n",
       "             param_grid={&#x27;max_depth&#x27;: [5, 10, 12, 13, 14, 15, 16, 17, 18],\n",
       "                         &#x27;max_features&#x27;: [3, 4, 5, 6, 7, 8, 10, 15, 18],\n",
       "                         &#x27;n_estimators&#x27;: [100, 170, 180, 190, 200, 210, 220,\n",
       "                                          230, 240, 300, 350]},\n",
       "             scoring=&#x27;accuracy&#x27;, verbose=1)</pre></div></div></div><div class=\"sk-parallel\"><div class=\"sk-parallel-item\"><div class=\"sk-item\"><div class=\"sk-label-container\"><div class=\"sk-label sk-toggleable\"><input class=\"sk-toggleable__control sk-hidden--visually\" id=\"sk-estimator-id-9\" type=\"checkbox\" ><label for=\"sk-estimator-id-9\" class=\"sk-toggleable__label sk-toggleable__label-arrow\">estimator: RandomForestClassifier</label><div class=\"sk-toggleable__content\"><pre>RandomForestClassifier(max_depth=10, max_features=15, random_state=42)</pre></div></div></div><div class=\"sk-serial\"><div class=\"sk-item\"><div class=\"sk-estimator sk-toggleable\"><input class=\"sk-toggleable__control sk-hidden--visually\" id=\"sk-estimator-id-10\" type=\"checkbox\" ><label for=\"sk-estimator-id-10\" class=\"sk-toggleable__label sk-toggleable__label-arrow\">RandomForestClassifier</label><div class=\"sk-toggleable__content\"><pre>RandomForestClassifier(max_depth=10, max_features=15, random_state=42)</pre></div></div></div></div></div></div></div></div></div></div>"
      ],
      "text/plain": [
       "GridSearchCV(cv=4,\n",
       "             estimator=RandomForestClassifier(max_depth=10, max_features=15,\n",
       "                                              random_state=42),\n",
       "             n_jobs=-1,\n",
       "             param_grid={'max_depth': [5, 10, 12, 13, 14, 15, 16, 17, 18],\n",
       "                         'max_features': [3, 4, 5, 6, 7, 8, 10, 15, 18],\n",
       "                         'n_estimators': [100, 170, 180, 190, 200, 210, 220,\n",
       "                                          230, 240, 300, 350]},\n",
       "             scoring='accuracy', verbose=1)"
      ]
     },
     "execution_count": 55,
     "metadata": {},
     "output_type": "execute_result"
    }
   ],
   "source": [
    "# param_grid = {\n",
    "#     'n_estimators': [100, 200, 300, 350],  # Number of trees in the forest\n",
    "#     'max_depth': [5, 10, 15],  # Maximum depth of each tree\n",
    "#     # 'min_samples_split': [2, 5, 10],  # Minimum number of samples required to split an internal node\n",
    "#     # 'min_samples_leaf': [1, 2, 4],  # Minimum number of samples required to be at a leaf node\n",
    "#     'max_features': [5, 10, 15, 18]\n",
    "# }\n",
    "\n",
    "param_grid = {\n",
    "    'n_estimators': [100, 170,180,190,200,210,220,230,240 ,300, 350],  # Number of trees in the forest\n",
    "    'max_depth': [5, 10, 12,13,14, 15, 16,17,18],  # Maximum depth of each tree\n",
    "    # 'min_samples_split': [2, 5, 10],  # Minimum number of samples required to split an internal node\n",
    "    # 'min_samples_leaf': [1, 2, 4],  # Minimum number of samples required to be at a leaf node\n",
    "    'max_features': [3,4,5,6,7,8, 10, 15, 18]\n",
    "}\n",
    "# param_grid = {\n",
    "#     'n_estimators': range(300, 300),  # Number of trees in the forest\n",
    "#     'max_depth': range(5, 15),  # Maximum depth of each tree\n",
    "#     # 'min_samples_split': [2, 5, 10],  # Minimum number of samples required to split an internal node\n",
    "#     # 'min_samples_leaf': [1, 2, 4],  # Minimum number of samples required to be at a leaf node\n",
    "#     'max_features': range(5, 18)\n",
    "# }\n",
    "\n",
    "grid_search = GridSearchCV(estimator=rf, param_grid=param_grid,\n",
    "                           cv=4, scoring='accuracy', n_jobs=-1, verbose=1)\n",
    "\n",
    "grid_search.fit(X_train, y_train)"
   ]
  },
  {
   "cell_type": "code",
   "execution_count": 56,
   "metadata": {},
   "outputs": [],
   "source": [
    "optimized_rf = grid_search.best_estimator_"
   ]
  },
  {
   "cell_type": "code",
   "execution_count": 57,
   "metadata": {},
   "outputs": [
    {
     "data": {
      "text/plain": [
       "0.9217810109993985"
      ]
     },
     "execution_count": 57,
     "metadata": {},
     "output_type": "execute_result"
    }
   ],
   "source": [
    "grid_search.best_score_"
   ]
  },
  {
   "cell_type": "code",
   "execution_count": 58,
   "metadata": {},
   "outputs": [
    {
     "data": {
      "text/plain": [
       "{'max_depth': 17, 'max_features': 3, 'n_estimators': 190}"
      ]
     },
     "execution_count": 58,
     "metadata": {},
     "output_type": "execute_result"
    }
   ],
   "source": [
    "grid_search.best_params_"
   ]
  },
  {
   "cell_type": "code",
   "execution_count": 59,
   "metadata": {},
   "outputs": [],
   "source": [
    "rf_train_pred = optimized_rf.predict(X_train)\n",
    "rf_test_pred = optimized_rf.predict(X_test)"
   ]
  },
  {
   "cell_type": "code",
   "execution_count": 60,
   "metadata": {},
   "outputs": [
    {
     "name": "stdout",
     "output_type": "stream",
     "text": [
      "The accuracy on train data is  1.0\n",
      "The accuracy on test data is  0.9283783783783783\n",
      "The precision on test data is  0.9110512129380054\n",
      "The recall on test data is  0.9441340782122905\n",
      "The f1 on test data is  0.9272976680384087\n",
      "The roc_score on test data is  0.9288733218286584\n"
     ]
    }
   ],
   "source": [
    "print(\"The accuracy on train data is \", accuracy_score(rf_train_pred, y_train))\n",
    "random_forest_accuracy = accuracy_score(rf_test_pred, y_test)\n",
    "print(\"The accuracy on test data is \", accuracy_score(rf_test_pred, y_test))\n",
    "print(\"The precision on test data is \", precision_score(rf_test_pred, y_test))\n",
    "print(\"The recall on test data is \", recall_score(rf_test_pred, y_test))\n",
    "print(\"The f1 on test data is \", f1_score(rf_test_pred, y_test))\n",
    "print(\"The roc_score on test data is \", roc_auc_score(rf_test_pred, y_test))"
   ]
  },
  {
   "cell_type": "code",
   "execution_count": 61,
   "metadata": {},
   "outputs": [
    {
     "data": {
      "text/plain": [
       "[Text(0, 0.5, 'Not Defaulter'), Text(0, 1.5, 'Defaulter')]"
      ]
     },
     "execution_count": 61,
     "metadata": {},
     "output_type": "execute_result"
    },
    {
     "data": {
      "image/png": "[encoded data removed]",
      "text/plain": [
       "<Figure size 640x480 with 2 Axes>"
      ]
     },
     "metadata": {},
     "output_type": "display_data"
    }
   ],
   "source": [
    "labels = ['Not Defaulter', 'Defaulter']\n",
    "cm = confusion_matrix(y_test, rf_test_pred)\n",
    "\n",
    "\n",
    "ax = plt.subplot()\n",
    "sns.heatmap(cm,\n",
    "            xticklabels=['Not Default', 'Default'],\n",
    "            yticklabels=['Not Default', 'Default'],\n",
    "            annot=True, ax=ax,\n",
    "            linewidths=.2, linecolor=\"Darkblue\", cmap=\"Blues\")  # annot=True to annotate cells\n",
    "\n",
    "# labels, title and ticks\n",
    "ax.set_xlabel('Predicted labels')\n",
    "ax.set_ylabel('True labels')\n",
    "ax.set_title('Confusion Matrix (Random Forest)')\n",
    "ax.xaxis.set_ticklabels(labels)\n",
    "ax.yaxis.set_ticklabels(labels)"
   ]
  },
  {
   "cell_type": "code",
   "execution_count": 62,
   "metadata": {},
   "outputs": [
    {
     "data": {
      "image/png": "[encoded data removed]",
      "text/plain": [
       "<Figure size 640x480 with 1 Axes>"
      ]
     },
     "metadata": {},
     "output_type": "display_data"
    }
   ],
   "source": [
    "y_preds_proba_rf = optimized_rf.predict_proba(X_test)[::, 1]\n",
    "y_pred_proba = y_preds_proba_rf\n",
    "fpr, tpr, _ = roc_curve(y_test,  y_pred_proba)\n",
    "auc = roc_auc_score(y_test, y_pred_proba)\n",
    "plt.plot(fpr, tpr, label=\"data 1, auc=\"+str(auc))\n",
    "plt.title('Random Forest')\n",
    "plt.legend(loc=4)\n",
    "plt.show()"
   ]
  },
  {
   "cell_type": "markdown",
   "metadata": {},
   "source": [
    "# XGBoost"
   ]
  },
  {
   "cell_type": "markdown",
   "metadata": {},
   "source": [
    "### **基本概念**\n",
    "\n",
    "1. **梯度提升（Gradient Boosting）**:\n",
    "    - XGBoost 屬於梯度提升的家族。梯度提升是一種機器學習技術，它逐步建立模型，每一步都試圖糾正前一步的錯誤。\n",
    "    - 基本思想是結合多個簡單的模型（如決策樹），每個模型都專注於改進前一個模型的不足之處。\n",
    "2. **梯度提升決策樹（GBDT）**:\n",
    "    - XGBoost 使用決策樹作為基學習器（weak learner）。這些樹是按順序一個接一個建立的，每棵新樹的建立都基於之前樹的結果。\n",
    "\n",
    "### **XGBoost 的特點**\n",
    "\n",
    "1. **效率和靈活性**:\n",
    "    - XGBoost 在計算上非常高效。它使用了一些先進的技術，如樹剪枝（tree pruning）、正則化（regularization）和分布式計算，以提高速度和效率。\n",
    "    - 它非常靈活，支持自定義優化目標和評估標準。\n",
    "2. **正則化**:\n",
    "    - XGBoost 在梯度提升的基礎上增加了正則化項（L1 和 L2 正則化），這有助於避免過擬合，提高模型的泛化能力。\n",
    "3. **處理缺失值**:\n",
    "    - XGBoost 能自動處理缺失值的問題。在訓練過程中，它會學習缺失值應該如何處理。\n",
    "4. **樹剪枝**:\n",
    "    - 與傳統的梯度提升方法不同，XGBoost 從最大深度開始生長樹，然後進行剪枝。這種「深度優先」的方法有助於減少過擬合的風險。\n",
    "5. **內建交叉驗證**:\n",
    "    - XGBoost 可以在每一輪迭代過程中進行交叉驗證，這使得模型的調參和評估更加簡單高效。\n",
    "6. **多線程和分布式處理**:\n",
    "    - XGBoost 支持多線程，這意味著它可以利用多核 CPU 進行快速計算。它還支持分布式計算，可以處理大型數據集。"
   ]
  },
  {
   "cell_type": "markdown",
   "metadata": {},
   "source": [
    "### **XGBoost 和 `XGBClassifier`**\n",
    "\n",
    "- **XGBoost** 是一種基於梯度提升決策樹的機器學習算法，廣泛用於分類問題，尤其是在具有高維特徵的數據集上表現出色。\n",
    "- **`XGBClassifier(objective='binary:logistic')`**:\n",
    "    - 這是創建 XGBoost 分類器的步驟，用於二元分類。\n",
    "    - **`objective='binary:logistic'`** 指定了損失函數的類型，適用於二元分類問題。\n",
    "\n",
    "### **GridSearchCV 參數優化**\n",
    "\n",
    "- **`GridSearchCV`** 是一種系統化尋找最佳參數（hyperparameters）組合的方法，用於提升模型性能。\n",
    "- **參數解釋**:\n",
    "    - **`estimator=xgb`**: 指定要優化的模型。\n",
    "    - **`param_grid=parm_xgb`**: 指定要嘗試的參數範圍。在這裡，有三個參數：\n",
    "        - **`max_depth`**: 決策樹的最大深度。\n",
    "        - **`n_estimators`**: 模型中梯度提升樹的數量。\n",
    "        - **`learning_rate`**: 每棵樹對最終結果的貢獻率，也稱為步長。\n",
    "    - **`scoring='accuracy'`**: 評估模型性能的指標，這裡使用準確度。\n",
    "    - **`cv=5`**: 交叉驗證的折數，這裡使用5折交叉驗證。\n",
    "    - **`n_jobs=-1`**: 使用所有可用的 CPU 核心進行計算。\n",
    "    - **`verbose=1`**: 表示顯示詳細的進度信息。\n",
    "\n",
    "### **模型訓練與結果**\n",
    "\n",
    "- **`grid_result = grid_xgb.fit(X_train, y_train)`**:\n",
    "    - 這一步將 **`GridSearchCV`** 應用於訓練數據集，開始尋找最佳參數組合。\n",
    "    - **`X_train`** 和 **`y_train`** 分別是特徵數據和目標標籤。\n",
    "    - **`grid_result`** 保存了優化過程的結果，包括最佳參數、最佳模型等。"
   ]
  },
  {
   "cell_type": "code",
   "execution_count": 63,
   "metadata": {},
   "outputs": [
    {
     "name": "stdout",
     "output_type": "stream",
     "text": [
      "Fitting 5 folds for each of 392 candidates, totalling 1960 fits\n"
     ]
    }
   ],
   "source": [
    "xgb = XGBClassifier(objective='binary:logistic')\n",
    "parm_xgb = {'max_depth': [5, 6, 7, 8, 9, 10, 11, 12], 'n_estimators': [\n",
    "    280, 290, 300, 305, 310, 315, 320], 'learning_rate': [0.05, 0.07, 0.09, 0.1, 0.11, 0.13, 0.15]}\n",
    "grid_xgb = GridSearchCV(estimator=xgb, param_grid=parm_xgb,\n",
    "                        scoring='accuracy', cv=5, n_jobs=-1, verbose=1)\n",
    "grid_result = grid_xgb.fit(X_train, y_train)"
   ]
  },
  {
   "cell_type": "code",
   "execution_count": 64,
   "metadata": {},
   "outputs": [],
   "source": [
    "optimized_xgb = grid_xgb.best_estimator_"
   ]
  },
  {
   "cell_type": "code",
   "execution_count": 65,
   "metadata": {},
   "outputs": [
    {
     "data": {
      "text/plain": [
       "0.9101951914216302"
      ]
     },
     "execution_count": 65,
     "metadata": {},
     "output_type": "execute_result"
    }
   ],
   "source": [
    "grid_xgb.best_score_"
   ]
  },
  {
   "cell_type": "code",
   "execution_count": 66,
   "metadata": {},
   "outputs": [
    {
     "data": {
      "text/plain": [
       "{'learning_rate': 0.1, 'max_depth': 7, 'n_estimators': 280}"
      ]
     },
     "execution_count": 66,
     "metadata": {},
     "output_type": "execute_result"
    }
   ],
   "source": [
    "grid_xgb.best_params_"
   ]
  },
  {
   "cell_type": "code",
   "execution_count": 67,
   "metadata": {},
   "outputs": [],
   "source": [
    "xgb_train_pred = optimized_xgb.predict(X_train)\n",
    "xgb_test_pred = optimized_xgb.predict(X_test)"
   ]
  },
  {
   "cell_type": "code",
   "execution_count": 68,
   "metadata": {},
   "outputs": [
    {
     "data": {
      "text/plain": [
       "(1726,)"
      ]
     },
     "execution_count": 68,
     "metadata": {},
     "output_type": "execute_result"
    }
   ],
   "source": [
    "y_train.shape"
   ]
  },
  {
   "cell_type": "code",
   "execution_count": 69,
   "metadata": {},
   "outputs": [
    {
     "name": "stdout",
     "output_type": "stream",
     "text": [
      "The accuracy on train data is  1.0\n",
      "The accuracy on test data is  0.927027027027027\n",
      "The precision on test data is  0.9029649595687331\n",
      "The recall on test data is  0.9490084985835694\n",
      "The f1 on test data is  0.925414364640884\n",
      "The roc_score on test data is  0.927992621384808\n"
     ]
    }
   ],
   "source": [
    "print(\"The accuracy on train data is \",\n",
    "      accuracy_score(xgb_train_pred, y_train))\n",
    "xgboost_accuracy = accuracy_score(xgb_test_pred, y_test)\n",
    "print(\"The accuracy on test data is \", accuracy_score(xgb_test_pred, y_test))\n",
    "print(\"The precision on test data is \", precision_score(xgb_test_pred, y_test))\n",
    "print(\"The recall on test data is \", recall_score(xgb_test_pred, y_test))\n",
    "print(\"The f1 on test data is \", f1_score(xgb_test_pred, y_test))\n",
    "print(\"The roc_score on test data is \", roc_auc_score(xgb_test_pred, y_test))"
   ]
  },
  {
   "cell_type": "code",
   "execution_count": 70,
   "metadata": {},
   "outputs": [
    {
     "data": {
      "text/plain": [
       "[Text(0, 0.5, 'Not Defaulter'), Text(0, 1.5, 'Defaulter')]"
      ]
     },
     "execution_count": 70,
     "metadata": {},
     "output_type": "execute_result"
    },
    {
     "data": {
      "image/png": "[encoded data removed]",
      "text/plain": [
       "<Figure size 640x480 with 2 Axes>"
      ]
     },
     "metadata": {},
     "output_type": "display_data"
    }
   ],
   "source": [
    "labels = ['Not Defaulter', 'Defaulter']\n",
    "cm = confusion_matrix(y_test, xgb_test_pred)\n",
    "\n",
    "\n",
    "ax = plt.subplot()\n",
    "sns.heatmap(cm,\n",
    "            xticklabels=['Not Default', 'Default'],\n",
    "            yticklabels=['Not Default', 'Default'],\n",
    "            annot=True, ax=ax,\n",
    "            linewidths=.2, linecolor=\"Darkblue\", cmap=\"Blues\")  # annot=True to annotate cells\n",
    "\n",
    "# labels, title and ticks\n",
    "ax.set_xlabel('Predicted labels')\n",
    "ax.set_ylabel('True labels')\n",
    "ax.set_title('Confusion Matrix (XGBoost)')\n",
    "ax.xaxis.set_ticklabels(labels)\n",
    "ax.yaxis.set_ticklabels(labels)"
   ]
  },
  {
   "cell_type": "code",
   "execution_count": 71,
   "metadata": {},
   "outputs": [
    {
     "data": {
      "image/png": "[encoded data removed]",
      "text/plain": [
       "<Figure size 640x480 with 1 Axes>"
      ]
     },
     "metadata": {},
     "output_type": "display_data"
    }
   ],
   "source": [
    "y_preds_proba_xgb = optimized_xgb.predict_proba(X_test)[::, 1]\n",
    "y_pred_proba = y_preds_proba_xgb\n",
    "fpr, tpr, _ = roc_curve(y_test,  y_pred_proba)\n",
    "auc = roc_auc_score(y_test, y_pred_proba)\n",
    "plt.plot(fpr, tpr, label=\"data 1, auc=\"+str(auc))\n",
    "plt.title('XGBoost')\n",
    "plt.legend(loc=4)\n",
    "plt.show()"
   ]
  },
  {
   "cell_type": "markdown",
   "metadata": {},
   "source": [
    "### **特徵重要性提取**\n",
    "\n",
    "- **`feature_importances_xgb = pd.DataFrame(optimized_xgb.feature_importances_, index=columns, columns=['importance_xgb']).sort_values('importance_xgb', ascending=False)[:20]`**:\n",
    "    - **`optimized_xgb.feature_importances_`** 獲取了 XGBoost 模型中各個特徵的重要性。這些值表示每個特徵對於模型的預測能力貢獻的相對重要性。\n",
    "    - 這些重要性值被轉換成了一個 Pandas DataFrame，其中 **`index=columns`** 指定了每個特徵的名稱。\n",
    "    - **`.sort_values('importance_xgb', ascending=False)`** 對特徵按其重要性進行降序排序。\n",
    "    - **`[:20]`** 選取了前20個最重要的特徵。\n",
    "\n",
    "### **數據可視化**\n",
    "\n",
    "- **使用 Matplotlib 繪製條形圖**:\n",
    "    - **`plt.subplots(figsize=(17, 6))`**: 創建一個圖形和一個子圖，設定圖形大小為寬17英寸、高6英寸。\n",
    "    - **`plt.title(\"Feature importances from XGBoost\")`**: 給圖形添加標題。\n",
    "    - **`plt.bar(...)`**: 繪製條形圖，展示每個特徵的重要性。**`feature_importances_xgb.index`** 和 **`feature_importances_xgb['importance_xgb']`** 分別提供了 X 軸（特徵名稱）和 Y 軸（重要性值）的數據。\n",
    "    - **`plt.xticks(...)`**: 設置 X 軸的刻度標籤，並將其旋轉 45 度，以便於閱讀。\n",
    "    - **`plt.show()`**: 顯示圖表。"
   ]
  },
  {
   "cell_type": "code",
   "execution_count": 72,
   "metadata": {},
   "outputs": [
    {
     "data": {
      "image/png": "[encoded data removed]",
      "text/plain": [
       "<Figure size 3000x600 with 1 Axes>"
      ]
     },
     "metadata": {},
     "output_type": "display_data"
    }
   ],
   "source": [
    "# Feature Importance~\n",
    "feature_importances_xgb = pd.DataFrame(optimized_xgb.feature_importances_,\n",
    "                                       index=columns,\n",
    "                                       columns=['importance_xgb']).sort_values('importance_xgb',\n",
    "                                                                               ascending=False)[:30]\n",
    "\n",
    "plt.subplots(figsize=(30, 6))\n",
    "plt.title(\"Feature importances from XGBoost\")\n",
    "plt.bar(feature_importances_xgb.index, feature_importances_xgb['importance_xgb'],\n",
    "        color=\"b\",  align=\"center\")\n",
    "plt.xticks(feature_importances_xgb.index, rotation=45)\n",
    "# plt.xlim([-1, X.shape[1]])\n",
    "plt.show()"
   ]
  },
  {
   "cell_type": "markdown",
   "metadata": {},
   "source": [
    "# XGBoost with Hyperparameter "
   ]
  },
  {
   "cell_type": "code",
   "execution_count": 74,
   "metadata": {},
   "outputs": [],
   "source": [
    "# import packages for hyperparameters tuning\n",
    "from hyperopt import STATUS_OK, Trials, fmin, hp, tpe\n",
    "import xgboost as xgb"
   ]
  },
  {
   "cell_type": "code",
   "execution_count": 75,
   "metadata": {},
   "outputs": [
    {
     "name": "stdout",
     "output_type": "stream",
     "text": [
      "SCORE:                                                 \n",
      "0.9256756756756757                                     \n",
      "  1%|          | 1/150 [00:00<00:28,  5.19trial/s, best loss: -0.9256756756756757]"
     ]
    },
    {
     "name": "stderr",
     "output_type": "stream",
     "text": [
      "/home/louis/anaconda3/envs/big_data/lib/python3.8/site-packages/xgboost/sklearn.py:889: UserWarning: `early_stopping_rounds` in `fit` method is deprecated for better compatibility with scikit-learn, use `early_stopping_rounds` in constructor or`set_params` instead.\n",
      "  warnings.warn(\n",
      "\n",
      "/home/louis/anaconda3/envs/big_data/lib/python3.8/site-packages/xgboost/sklearn.py:889: UserWarning: `early_stopping_rounds` in `fit` method is deprecated for better compatibility with scikit-learn, use `early_stopping_rounds` in constructor or`set_params` instead.\n",
      "  warnings.warn(\n",
      "\n"
     ]
    },
    {
     "name": "stdout",
     "output_type": "stream",
     "text": [
      "SCORE:                                                                            \n",
      "0.8216216216216217                                                                \n",
      "SCORE:                                                                            \n",
      "0.9067567567567567                                                                \n",
      "SCORE:                                                                            \n",
      "0.9013513513513514                                                                \n",
      "  3%|▎         | 4/150 [00:00<00:10, 13.50trial/s, best loss: -0.9256756756756757]"
     ]
    },
    {
     "name": "stderr",
     "output_type": "stream",
     "text": [
      "/home/louis/anaconda3/envs/big_data/lib/python3.8/site-packages/xgboost/sklearn.py:889: UserWarning: `early_stopping_rounds` in `fit` method is deprecated for better compatibility with scikit-learn, use `early_stopping_rounds` in constructor or`set_params` instead.\n",
      "  warnings.warn(\n",
      "\n",
      "/home/louis/anaconda3/envs/big_data/lib/python3.8/site-packages/xgboost/sklearn.py:889: UserWarning: `early_stopping_rounds` in `fit` method is deprecated for better compatibility with scikit-learn, use `early_stopping_rounds` in constructor or`set_params` instead.\n",
      "  warnings.warn(\n",
      "\n",
      "/home/louis/anaconda3/envs/big_data/lib/python3.8/site-packages/xgboost/sklearn.py:889: UserWarning: `early_stopping_rounds` in `fit` method is deprecated for better compatibility with scikit-learn, use `early_stopping_rounds` in constructor or`set_params` instead.\n",
      "  warnings.warn(\n",
      "\n"
     ]
    },
    {
     "name": "stdout",
     "output_type": "stream",
     "text": [
      "SCORE:                                                                            \n",
      "0.9094594594594595                                                                \n",
      "SCORE:                                                                            \n",
      "0.9027027027027027                                                                \n",
      "SCORE:                                                                            \n",
      "0.904054054054054                                                                 \n",
      "  4%|▍         | 6/150 [00:00<00:12, 11.80trial/s, best loss: -0.9256756756756757]"
     ]
    },
    {
     "name": "stderr",
     "output_type": "stream",
     "text": [
      "/home/louis/anaconda3/envs/big_data/lib/python3.8/site-packages/xgboost/sklearn.py:889: UserWarning: `early_stopping_rounds` in `fit` method is deprecated for better compatibility with scikit-learn, use `early_stopping_rounds` in constructor or`set_params` instead.\n",
      "  warnings.warn(\n",
      "\n",
      "/home/louis/anaconda3/envs/big_data/lib/python3.8/site-packages/xgboost/sklearn.py:889: UserWarning: `early_stopping_rounds` in `fit` method is deprecated for better compatibility with scikit-learn, use `early_stopping_rounds` in constructor or`set_params` instead.\n",
      "  warnings.warn(\n",
      "\n",
      "/home/louis/anaconda3/envs/big_data/lib/python3.8/site-packages/xgboost/sklearn.py:889: UserWarning: `early_stopping_rounds` in `fit` method is deprecated for better compatibility with scikit-learn, use `early_stopping_rounds` in constructor or`set_params` instead.\n",
      "  warnings.warn(\n",
      "\n"
     ]
    },
    {
     "name": "stdout",
     "output_type": "stream",
     "text": [
      "SCORE:                                                                            \n",
      "0.9067567567567567                                                                \n",
      "SCORE:                                                                            \n",
      "0.904054054054054                                                                 \n",
      "SCORE:                                                                            \n",
      "0.8202702702702702                                                                \n",
      "SCORE:                                                                             \n",
      "0.904054054054054                                                                  \n",
      "  7%|▋         | 10/150 [00:00<00:10, 12.75trial/s, best loss: -0.9256756756756757]"
     ]
    },
    {
     "name": "stderr",
     "output_type": "stream",
     "text": [
      "/home/louis/anaconda3/envs/big_data/lib/python3.8/site-packages/xgboost/sklearn.py:889: UserWarning: `early_stopping_rounds` in `fit` method is deprecated for better compatibility with scikit-learn, use `early_stopping_rounds` in constructor or`set_params` instead.\n",
      "  warnings.warn(\n",
      "\n",
      "/home/louis/anaconda3/envs/big_data/lib/python3.8/site-packages/xgboost/sklearn.py:889: UserWarning: `early_stopping_rounds` in `fit` method is deprecated for better compatibility with scikit-learn, use `early_stopping_rounds` in constructor or`set_params` instead.\n",
      "  warnings.warn(\n",
      "\n",
      "/home/louis/anaconda3/envs/big_data/lib/python3.8/site-packages/xgboost/sklearn.py:889: UserWarning: `early_stopping_rounds` in `fit` method is deprecated for better compatibility with scikit-learn, use `early_stopping_rounds` in constructor or`set_params` instead.\n",
      "  warnings.warn(\n",
      "\n",
      "/home/louis/anaconda3/envs/big_data/lib/python3.8/site-packages/xgboost/sklearn.py:889: UserWarning: `early_stopping_rounds` in `fit` method is deprecated for better compatibility with scikit-learn, use `early_stopping_rounds` in constructor or`set_params` instead.\n",
      "  warnings.warn(\n",
      "\n"
     ]
    },
    {
     "name": "stdout",
     "output_type": "stream",
     "text": [
      "SCORE:                                                                             \n",
      "0.9013513513513514                                                                 \n",
      "SCORE:                                                                             \n",
      "0.9027027027027027                                                                 \n",
      "SCORE:                                                                             \n",
      "0.8986486486486487                                                                 \n",
      "SCORE:                                                                             \n",
      "0.85                                                                               \n",
      "  9%|▉         | 14/150 [00:01<00:10, 12.71trial/s, best loss: -0.9256756756756757]"
     ]
    },
    {
     "name": "stderr",
     "output_type": "stream",
     "text": [
      "/home/louis/anaconda3/envs/big_data/lib/python3.8/site-packages/xgboost/sklearn.py:889: UserWarning: `early_stopping_rounds` in `fit` method is deprecated for better compatibility with scikit-learn, use `early_stopping_rounds` in constructor or`set_params` instead.\n",
      "  warnings.warn(\n",
      "\n",
      "/home/louis/anaconda3/envs/big_data/lib/python3.8/site-packages/xgboost/sklearn.py:889: UserWarning: `early_stopping_rounds` in `fit` method is deprecated for better compatibility with scikit-learn, use `early_stopping_rounds` in constructor or`set_params` instead.\n",
      "  warnings.warn(\n",
      "\n",
      "/home/louis/anaconda3/envs/big_data/lib/python3.8/site-packages/xgboost/sklearn.py:889: UserWarning: `early_stopping_rounds` in `fit` method is deprecated for better compatibility with scikit-learn, use `early_stopping_rounds` in constructor or`set_params` instead.\n",
      "  warnings.warn(\n",
      "\n",
      "/home/louis/anaconda3/envs/big_data/lib/python3.8/site-packages/xgboost/sklearn.py:889: UserWarning: `early_stopping_rounds` in `fit` method is deprecated for better compatibility with scikit-learn, use `early_stopping_rounds` in constructor or`set_params` instead.\n",
      "  warnings.warn(\n",
      "\n"
     ]
    },
    {
     "name": "stdout",
     "output_type": "stream",
     "text": [
      "SCORE:                                                                             \n",
      "0.9148648648648648                                                                 \n",
      "SCORE:                                                                             \n",
      "0.918918918918919                                                                  \n",
      "SCORE:                                                                             \n",
      "0.9121621621621622                                                                 \n",
      " 11%|█▏        | 17/150 [00:01<00:09, 14.02trial/s, best loss: -0.9256756756756757]"
     ]
    },
    {
     "name": "stderr",
     "output_type": "stream",
     "text": [
      "/home/louis/anaconda3/envs/big_data/lib/python3.8/site-packages/xgboost/sklearn.py:889: UserWarning: `early_stopping_rounds` in `fit` method is deprecated for better compatibility with scikit-learn, use `early_stopping_rounds` in constructor or`set_params` instead.\n",
      "  warnings.warn(\n",
      "\n",
      "/home/louis/anaconda3/envs/big_data/lib/python3.8/site-packages/xgboost/sklearn.py:889: UserWarning: `early_stopping_rounds` in `fit` method is deprecated for better compatibility with scikit-learn, use `early_stopping_rounds` in constructor or`set_params` instead.\n",
      "  warnings.warn(\n",
      "\n",
      "/home/louis/anaconda3/envs/big_data/lib/python3.8/site-packages/xgboost/sklearn.py:889: UserWarning: `early_stopping_rounds` in `fit` method is deprecated for better compatibility with scikit-learn, use `early_stopping_rounds` in constructor or`set_params` instead.\n",
      "  warnings.warn(\n",
      "\n"
     ]
    },
    {
     "name": "stdout",
     "output_type": "stream",
     "text": [
      "SCORE:                                                                             \n",
      "0.9135135135135135                                                                 \n",
      "SCORE:                                                                             \n",
      "0.8486486486486486                                                                 \n",
      "SCORE:                                                                             \n",
      "0.9202702702702703                                                                 \n",
      " 14%|█▍        | 21/150 [00:01<00:09, 13.58trial/s, best loss: -0.9256756756756757]"
     ]
    },
    {
     "name": "stderr",
     "output_type": "stream",
     "text": [
      "/home/louis/anaconda3/envs/big_data/lib/python3.8/site-packages/xgboost/sklearn.py:889: UserWarning: `early_stopping_rounds` in `fit` method is deprecated for better compatibility with scikit-learn, use `early_stopping_rounds` in constructor or`set_params` instead.\n",
      "  warnings.warn(\n",
      "\n",
      "/home/louis/anaconda3/envs/big_data/lib/python3.8/site-packages/xgboost/sklearn.py:889: UserWarning: `early_stopping_rounds` in `fit` method is deprecated for better compatibility with scikit-learn, use `early_stopping_rounds` in constructor or`set_params` instead.\n",
      "  warnings.warn(\n",
      "\n",
      "/home/louis/anaconda3/envs/big_data/lib/python3.8/site-packages/xgboost/sklearn.py:889: UserWarning: `early_stopping_rounds` in `fit` method is deprecated for better compatibility with scikit-learn, use `early_stopping_rounds` in constructor or`set_params` instead.\n",
      "  warnings.warn(\n",
      "\n"
     ]
    },
    {
     "name": "stdout",
     "output_type": "stream",
     "text": [
      "SCORE:                                                                             \n",
      "0.9216216216216216                                                                 \n",
      "SCORE:                                                                             \n",
      "0.9148648648648648                                                                 \n",
      "SCORE:                                                                             \n",
      "0.9013513513513514                                                                 \n",
      " 15%|█▌        | 23/150 [00:01<00:11, 11.20trial/s, best loss: -0.9256756756756757]"
     ]
    },
    {
     "name": "stderr",
     "output_type": "stream",
     "text": [
      "/home/louis/anaconda3/envs/big_data/lib/python3.8/site-packages/xgboost/sklearn.py:889: UserWarning: `early_stopping_rounds` in `fit` method is deprecated for better compatibility with scikit-learn, use `early_stopping_rounds` in constructor or`set_params` instead.\n",
      "  warnings.warn(\n",
      "\n",
      "/home/louis/anaconda3/envs/big_data/lib/python3.8/site-packages/xgboost/sklearn.py:889: UserWarning: `early_stopping_rounds` in `fit` method is deprecated for better compatibility with scikit-learn, use `early_stopping_rounds` in constructor or`set_params` instead.\n",
      "  warnings.warn(\n",
      "\n"
     ]
    },
    {
     "name": "stdout",
     "output_type": "stream",
     "text": [
      "SCORE:                                                                             \n",
      "0.8824324324324324                                                                 \n",
      "SCORE:                                                                             \n",
      "0.9135135135135135                                                                 \n",
      " 17%|█▋        | 25/150 [00:02<00:10, 11.42trial/s, best loss: -0.9256756756756757]"
     ]
    },
    {
     "name": "stderr",
     "output_type": "stream",
     "text": [
      "/home/louis/anaconda3/envs/big_data/lib/python3.8/site-packages/xgboost/sklearn.py:889: UserWarning: `early_stopping_rounds` in `fit` method is deprecated for better compatibility with scikit-learn, use `early_stopping_rounds` in constructor or`set_params` instead.\n",
      "  warnings.warn(\n",
      "\n",
      "/home/louis/anaconda3/envs/big_data/lib/python3.8/site-packages/xgboost/sklearn.py:889: UserWarning: `early_stopping_rounds` in `fit` method is deprecated for better compatibility with scikit-learn, use `early_stopping_rounds` in constructor or`set_params` instead.\n",
      "  warnings.warn(\n",
      "\n",
      "/home/louis/anaconda3/envs/big_data/lib/python3.8/site-packages/xgboost/sklearn.py:889: UserWarning: `early_stopping_rounds` in `fit` method is deprecated for better compatibility with scikit-learn, use `early_stopping_rounds` in constructor or`set_params` instead.\n",
      "  warnings.warn(\n",
      "\n"
     ]
    },
    {
     "name": "stdout",
     "output_type": "stream",
     "text": [
      "SCORE:                                                                             \n",
      "0.918918918918919                                                                  \n",
      "SCORE:                                                                             \n",
      "0.922972972972973                                                                  \n",
      " 18%|█▊        | 27/150 [00:02<00:11, 10.74trial/s, best loss: -0.9256756756756757]"
     ]
    },
    {
     "name": "stderr",
     "output_type": "stream",
     "text": [
      "/home/louis/anaconda3/envs/big_data/lib/python3.8/site-packages/xgboost/sklearn.py:889: UserWarning: `early_stopping_rounds` in `fit` method is deprecated for better compatibility with scikit-learn, use `early_stopping_rounds` in constructor or`set_params` instead.\n",
      "  warnings.warn(\n",
      "\n",
      "/home/louis/anaconda3/envs/big_data/lib/python3.8/site-packages/xgboost/sklearn.py:889: UserWarning: `early_stopping_rounds` in `fit` method is deprecated for better compatibility with scikit-learn, use `early_stopping_rounds` in constructor or`set_params` instead.\n",
      "  warnings.warn(\n",
      "\n"
     ]
    },
    {
     "name": "stdout",
     "output_type": "stream",
     "text": [
      "SCORE:                                                                             \n",
      "0.9243243243243243                                                                 \n",
      "SCORE:                                                                             \n",
      "0.9121621621621622                                                                 \n",
      "SCORE:                                                                             \n",
      "0.918918918918919                                                                  \n",
      " 21%|██        | 31/150 [00:02<00:11, 10.38trial/s, best loss: -0.9256756756756757]"
     ]
    },
    {
     "name": "stderr",
     "output_type": "stream",
     "text": [
      "/home/louis/anaconda3/envs/big_data/lib/python3.8/site-packages/xgboost/sklearn.py:889: UserWarning: `early_stopping_rounds` in `fit` method is deprecated for better compatibility with scikit-learn, use `early_stopping_rounds` in constructor or`set_params` instead.\n",
      "  warnings.warn(\n",
      "\n",
      "/home/louis/anaconda3/envs/big_data/lib/python3.8/site-packages/xgboost/sklearn.py:889: UserWarning: `early_stopping_rounds` in `fit` method is deprecated for better compatibility with scikit-learn, use `early_stopping_rounds` in constructor or`set_params` instead.\n",
      "  warnings.warn(\n",
      "\n",
      "/home/louis/anaconda3/envs/big_data/lib/python3.8/site-packages/xgboost/sklearn.py:889: UserWarning: `early_stopping_rounds` in `fit` method is deprecated for better compatibility with scikit-learn, use `early_stopping_rounds` in constructor or`set_params` instead.\n",
      "  warnings.warn(\n",
      "\n"
     ]
    },
    {
     "name": "stdout",
     "output_type": "stream",
     "text": [
      "SCORE:                                                                             \n",
      "0.9148648648648648                                                                 \n",
      "SCORE:                                                                             \n",
      "0.9108108108108108                                                                 \n",
      "SCORE:                                                                             \n",
      "0.9148648648648648                                                                 \n",
      " 22%|██▏       | 33/150 [00:02<00:11,  9.80trial/s, best loss: -0.9256756756756757]"
     ]
    },
    {
     "name": "stderr",
     "output_type": "stream",
     "text": [
      "/home/louis/anaconda3/envs/big_data/lib/python3.8/site-packages/xgboost/sklearn.py:889: UserWarning: `early_stopping_rounds` in `fit` method is deprecated for better compatibility with scikit-learn, use `early_stopping_rounds` in constructor or`set_params` instead.\n",
      "  warnings.warn(\n",
      "\n",
      "/home/louis/anaconda3/envs/big_data/lib/python3.8/site-packages/xgboost/sklearn.py:889: UserWarning: `early_stopping_rounds` in `fit` method is deprecated for better compatibility with scikit-learn, use `early_stopping_rounds` in constructor or`set_params` instead.\n",
      "  warnings.warn(\n",
      "\n",
      "/home/louis/anaconda3/envs/big_data/lib/python3.8/site-packages/xgboost/sklearn.py:889: UserWarning: `early_stopping_rounds` in `fit` method is deprecated for better compatibility with scikit-learn, use `early_stopping_rounds` in constructor or`set_params` instead.\n",
      "  warnings.warn(\n",
      "\n"
     ]
    },
    {
     "name": "stdout",
     "output_type": "stream",
     "text": [
      "SCORE:                                                                             \n",
      "0.9216216216216216                                                                 \n",
      "SCORE:                                                                             \n",
      "0.9256756756756757                                                                 \n",
      "SCORE:                                                                             \n",
      "0.9054054054054054                                                                 \n",
      " 25%|██▍       | 37/150 [00:03<00:11, 10.17trial/s, best loss: -0.9256756756756757]"
     ]
    },
    {
     "name": "stderr",
     "output_type": "stream",
     "text": [
      "/home/louis/anaconda3/envs/big_data/lib/python3.8/site-packages/xgboost/sklearn.py:889: UserWarning: `early_stopping_rounds` in `fit` method is deprecated for better compatibility with scikit-learn, use `early_stopping_rounds` in constructor or`set_params` instead.\n",
      "  warnings.warn(\n",
      "\n",
      "/home/louis/anaconda3/envs/big_data/lib/python3.8/site-packages/xgboost/sklearn.py:889: UserWarning: `early_stopping_rounds` in `fit` method is deprecated for better compatibility with scikit-learn, use `early_stopping_rounds` in constructor or`set_params` instead.\n",
      "  warnings.warn(\n",
      "\n",
      "/home/louis/anaconda3/envs/big_data/lib/python3.8/site-packages/xgboost/sklearn.py:889: UserWarning: `early_stopping_rounds` in `fit` method is deprecated for better compatibility with scikit-learn, use `early_stopping_rounds` in constructor or`set_params` instead.\n",
      "  warnings.warn(\n",
      "\n"
     ]
    },
    {
     "name": "stdout",
     "output_type": "stream",
     "text": [
      "SCORE:                                                                             \n",
      "0.9067567567567567                                                                 \n",
      "SCORE:                                                                             \n",
      "0.9108108108108108                                                                 \n",
      "SCORE:                                                                             \n",
      "0.9175675675675675                                                                 \n",
      " 26%|██▌       | 39/150 [00:03<00:10, 10.38trial/s, best loss: -0.9256756756756757]"
     ]
    },
    {
     "name": "stderr",
     "output_type": "stream",
     "text": [
      "/home/louis/anaconda3/envs/big_data/lib/python3.8/site-packages/xgboost/sklearn.py:889: UserWarning: `early_stopping_rounds` in `fit` method is deprecated for better compatibility with scikit-learn, use `early_stopping_rounds` in constructor or`set_params` instead.\n",
      "  warnings.warn(\n",
      "\n",
      "/home/louis/anaconda3/envs/big_data/lib/python3.8/site-packages/xgboost/sklearn.py:889: UserWarning: `early_stopping_rounds` in `fit` method is deprecated for better compatibility with scikit-learn, use `early_stopping_rounds` in constructor or`set_params` instead.\n",
      "  warnings.warn(\n",
      "\n",
      "/home/louis/anaconda3/envs/big_data/lib/python3.8/site-packages/xgboost/sklearn.py:889: UserWarning: `early_stopping_rounds` in `fit` method is deprecated for better compatibility with scikit-learn, use `early_stopping_rounds` in constructor or`set_params` instead.\n",
      "  warnings.warn(\n",
      "\n"
     ]
    },
    {
     "name": "stdout",
     "output_type": "stream",
     "text": [
      "SCORE:                                                                             \n",
      "0.9148648648648648                                                                 \n",
      "SCORE:                                                                             \n",
      "0.9175675675675675                                                                 \n",
      " 27%|██▋       | 41/150 [00:03<00:10, 10.77trial/s, best loss: -0.9256756756756757]"
     ]
    },
    {
     "name": "stderr",
     "output_type": "stream",
     "text": [
      "/home/louis/anaconda3/envs/big_data/lib/python3.8/site-packages/xgboost/sklearn.py:889: UserWarning: `early_stopping_rounds` in `fit` method is deprecated for better compatibility with scikit-learn, use `early_stopping_rounds` in constructor or`set_params` instead.\n",
      "  warnings.warn(\n",
      "\n",
      "/home/louis/anaconda3/envs/big_data/lib/python3.8/site-packages/xgboost/sklearn.py:889: UserWarning: `early_stopping_rounds` in `fit` method is deprecated for better compatibility with scikit-learn, use `early_stopping_rounds` in constructor or`set_params` instead.\n",
      "  warnings.warn(\n",
      "\n"
     ]
    },
    {
     "name": "stdout",
     "output_type": "stream",
     "text": [
      "SCORE:                                                                             \n",
      "0.9054054054054054                                                                 \n",
      "SCORE:                                                                             \n",
      "0.9121621621621622                                                                 \n",
      " 29%|██▊       | 43/150 [00:03<00:10,  9.75trial/s, best loss: -0.9256756756756757]"
     ]
    },
    {
     "name": "stderr",
     "output_type": "stream",
     "text": [
      "/home/louis/anaconda3/envs/big_data/lib/python3.8/site-packages/xgboost/sklearn.py:889: UserWarning: `early_stopping_rounds` in `fit` method is deprecated for better compatibility with scikit-learn, use `early_stopping_rounds` in constructor or`set_params` instead.\n",
      "  warnings.warn(\n",
      "\n",
      "/home/louis/anaconda3/envs/big_data/lib/python3.8/site-packages/xgboost/sklearn.py:889: UserWarning: `early_stopping_rounds` in `fit` method is deprecated for better compatibility with scikit-learn, use `early_stopping_rounds` in constructor or`set_params` instead.\n",
      "  warnings.warn(\n",
      "\n"
     ]
    },
    {
     "name": "stdout",
     "output_type": "stream",
     "text": [
      "SCORE:                                                                             \n",
      "0.9162162162162162                                                                 \n",
      "SCORE:                                                                             \n",
      "0.8972972972972973                                                                 \n",
      "SCORE:                                                                             \n",
      "0.9108108108108108                                                                 \n",
      "SCORE:                                                                             \n",
      "0.8972972972972973                                                                 \n",
      " 31%|███▏      | 47/150 [00:04<00:09, 10.53trial/s, best loss: -0.9256756756756757]"
     ]
    },
    {
     "name": "stderr",
     "output_type": "stream",
     "text": [
      "/home/louis/anaconda3/envs/big_data/lib/python3.8/site-packages/xgboost/sklearn.py:889: UserWarning: `early_stopping_rounds` in `fit` method is deprecated for better compatibility with scikit-learn, use `early_stopping_rounds` in constructor or`set_params` instead.\n",
      "  warnings.warn(\n",
      "\n",
      "/home/louis/anaconda3/envs/big_data/lib/python3.8/site-packages/xgboost/sklearn.py:889: UserWarning: `early_stopping_rounds` in `fit` method is deprecated for better compatibility with scikit-learn, use `early_stopping_rounds` in constructor or`set_params` instead.\n",
      "  warnings.warn(\n",
      "\n",
      "/home/louis/anaconda3/envs/big_data/lib/python3.8/site-packages/xgboost/sklearn.py:889: UserWarning: `early_stopping_rounds` in `fit` method is deprecated for better compatibility with scikit-learn, use `early_stopping_rounds` in constructor or`set_params` instead.\n",
      "  warnings.warn(\n",
      "\n"
     ]
    },
    {
     "name": "stdout",
     "output_type": "stream",
     "text": [
      "SCORE:                                                                             \n",
      "0.927027027027027                                                                  \n",
      "SCORE:                                                                             \n",
      "0.8148648648648649                                                                \n",
      " 33%|███▎      | 49/150 [00:04<00:09, 10.50trial/s, best loss: -0.927027027027027]"
     ]
    },
    {
     "name": "stderr",
     "output_type": "stream",
     "text": [
      "/home/louis/anaconda3/envs/big_data/lib/python3.8/site-packages/xgboost/sklearn.py:889: UserWarning: `early_stopping_rounds` in `fit` method is deprecated for better compatibility with scikit-learn, use `early_stopping_rounds` in constructor or`set_params` instead.\n",
      "  warnings.warn(\n",
      "\n",
      "/home/louis/anaconda3/envs/big_data/lib/python3.8/site-packages/xgboost/sklearn.py:889: UserWarning: `early_stopping_rounds` in `fit` method is deprecated for better compatibility with scikit-learn, use `early_stopping_rounds` in constructor or`set_params` instead.\n",
      "  warnings.warn(\n",
      "\n",
      "/home/louis/anaconda3/envs/big_data/lib/python3.8/site-packages/xgboost/sklearn.py:889: UserWarning: `early_stopping_rounds` in `fit` method is deprecated for better compatibility with scikit-learn, use `early_stopping_rounds` in constructor or`set_params` instead.\n",
      "  warnings.warn(\n",
      "\n"
     ]
    },
    {
     "name": "stdout",
     "output_type": "stream",
     "text": [
      "SCORE:                                                                            \n",
      "0.904054054054054                                                                 \n",
      "SCORE:                                                                            \n",
      "0.8959459459459459                                                                \n",
      " 35%|███▍      | 52/150 [00:04<00:09, 10.89trial/s, best loss: -0.927027027027027]"
     ]
    },
    {
     "name": "stderr",
     "output_type": "stream",
     "text": [
      "/home/louis/anaconda3/envs/big_data/lib/python3.8/site-packages/xgboost/sklearn.py:889: UserWarning: `early_stopping_rounds` in `fit` method is deprecated for better compatibility with scikit-learn, use `early_stopping_rounds` in constructor or`set_params` instead.\n",
      "  warnings.warn(\n",
      "\n",
      "/home/louis/anaconda3/envs/big_data/lib/python3.8/site-packages/xgboost/sklearn.py:889: UserWarning: `early_stopping_rounds` in `fit` method is deprecated for better compatibility with scikit-learn, use `early_stopping_rounds` in constructor or`set_params` instead.\n",
      "  warnings.warn(\n",
      "\n"
     ]
    },
    {
     "name": "stdout",
     "output_type": "stream",
     "text": [
      "SCORE:                                                                            \n",
      "0.8324324324324325                                                                \n",
      "SCORE:                                                                            \n",
      "0.9121621621621622                                                                \n",
      " 36%|███▌      | 54/150 [00:04<00:08, 11.20trial/s, best loss: -0.927027027027027]"
     ]
    },
    {
     "name": "stderr",
     "output_type": "stream",
     "text": [
      "/home/louis/anaconda3/envs/big_data/lib/python3.8/site-packages/xgboost/sklearn.py:889: UserWarning: `early_stopping_rounds` in `fit` method is deprecated for better compatibility with scikit-learn, use `early_stopping_rounds` in constructor or`set_params` instead.\n",
      "  warnings.warn(\n",
      "\n",
      "/home/louis/anaconda3/envs/big_data/lib/python3.8/site-packages/xgboost/sklearn.py:889: UserWarning: `early_stopping_rounds` in `fit` method is deprecated for better compatibility with scikit-learn, use `early_stopping_rounds` in constructor or`set_params` instead.\n",
      "  warnings.warn(\n",
      "\n"
     ]
    },
    {
     "name": "stdout",
     "output_type": "stream",
     "text": [
      "SCORE:                                                                            \n",
      "0.9054054054054054                                                                \n",
      "SCORE:                                                                            \n",
      "0.8121621621621622                                                                \n",
      "SCORE:                                                                            \n",
      "0.9081081081081082                                                                \n",
      "SCORE:                                                                            \n",
      "0.9027027027027027                                                                \n",
      " 39%|███▊      | 58/150 [00:05<00:07, 11.90trial/s, best loss: -0.927027027027027]"
     ]
    },
    {
     "name": "stderr",
     "output_type": "stream",
     "text": [
      "/home/louis/anaconda3/envs/big_data/lib/python3.8/site-packages/xgboost/sklearn.py:889: UserWarning: `early_stopping_rounds` in `fit` method is deprecated for better compatibility with scikit-learn, use `early_stopping_rounds` in constructor or`set_params` instead.\n",
      "  warnings.warn(\n",
      "\n",
      "/home/louis/anaconda3/envs/big_data/lib/python3.8/site-packages/xgboost/sklearn.py:889: UserWarning: `early_stopping_rounds` in `fit` method is deprecated for better compatibility with scikit-learn, use `early_stopping_rounds` in constructor or`set_params` instead.\n",
      "  warnings.warn(\n",
      "\n",
      "/home/louis/anaconda3/envs/big_data/lib/python3.8/site-packages/xgboost/sklearn.py:889: UserWarning: `early_stopping_rounds` in `fit` method is deprecated for better compatibility with scikit-learn, use `early_stopping_rounds` in constructor or`set_params` instead.\n",
      "  warnings.warn(\n",
      "\n",
      "/home/louis/anaconda3/envs/big_data/lib/python3.8/site-packages/xgboost/sklearn.py:889: UserWarning: `early_stopping_rounds` in `fit` method is deprecated for better compatibility with scikit-learn, use `early_stopping_rounds` in constructor or`set_params` instead.\n",
      "  warnings.warn(\n",
      "\n"
     ]
    },
    {
     "name": "stdout",
     "output_type": "stream",
     "text": [
      "SCORE:                                                                            \n",
      "0.9243243243243243                                                                \n",
      "SCORE:                                                                            \n",
      "0.8932432432432432                                                                \n",
      "SCORE:                                                                            \n",
      "0.922972972972973                                                                 \n",
      " 40%|████      | 60/150 [00:05<00:08, 10.10trial/s, best loss: -0.927027027027027]"
     ]
    },
    {
     "name": "stderr",
     "output_type": "stream",
     "text": [
      "/home/louis/anaconda3/envs/big_data/lib/python3.8/site-packages/xgboost/sklearn.py:889: UserWarning: `early_stopping_rounds` in `fit` method is deprecated for better compatibility with scikit-learn, use `early_stopping_rounds` in constructor or`set_params` instead.\n",
      "  warnings.warn(\n",
      "\n",
      "/home/louis/anaconda3/envs/big_data/lib/python3.8/site-packages/xgboost/sklearn.py:889: UserWarning: `early_stopping_rounds` in `fit` method is deprecated for better compatibility with scikit-learn, use `early_stopping_rounds` in constructor or`set_params` instead.\n",
      "  warnings.warn(\n",
      "\n",
      "/home/louis/anaconda3/envs/big_data/lib/python3.8/site-packages/xgboost/sklearn.py:889: UserWarning: `early_stopping_rounds` in `fit` method is deprecated for better compatibility with scikit-learn, use `early_stopping_rounds` in constructor or`set_params` instead.\n",
      "  warnings.warn(\n",
      "\n"
     ]
    },
    {
     "name": "stdout",
     "output_type": "stream",
     "text": [
      "SCORE:                                                                            \n",
      "0.9121621621621622                                                                \n",
      "SCORE:                                                                            \n",
      "0.9081081081081082                                                                \n",
      "SCORE:                                                                            \n",
      "0.9054054054054054                                                                \n",
      " 43%|████▎     | 64/150 [00:05<00:07, 11.06trial/s, best loss: -0.927027027027027]"
     ]
    },
    {
     "name": "stderr",
     "output_type": "stream",
     "text": [
      "/home/louis/anaconda3/envs/big_data/lib/python3.8/site-packages/xgboost/sklearn.py:889: UserWarning: `early_stopping_rounds` in `fit` method is deprecated for better compatibility with scikit-learn, use `early_stopping_rounds` in constructor or`set_params` instead.\n",
      "  warnings.warn(\n",
      "\n",
      "/home/louis/anaconda3/envs/big_data/lib/python3.8/site-packages/xgboost/sklearn.py:889: UserWarning: `early_stopping_rounds` in `fit` method is deprecated for better compatibility with scikit-learn, use `early_stopping_rounds` in constructor or`set_params` instead.\n",
      "  warnings.warn(\n",
      "\n",
      "/home/louis/anaconda3/envs/big_data/lib/python3.8/site-packages/xgboost/sklearn.py:889: UserWarning: `early_stopping_rounds` in `fit` method is deprecated for better compatibility with scikit-learn, use `early_stopping_rounds` in constructor or`set_params` instead.\n",
      "  warnings.warn(\n",
      "\n"
     ]
    },
    {
     "name": "stdout",
     "output_type": "stream",
     "text": [
      "SCORE:                                                                            \n",
      "0.9094594594594595                                                                \n",
      "SCORE:                                                                            \n",
      "0.918918918918919                                                                 \n",
      "SCORE:                                                                            \n",
      "0.9202702702702703                                                                \n",
      " 44%|████▍     | 66/150 [00:06<00:07, 11.10trial/s, best loss: -0.927027027027027]"
     ]
    },
    {
     "name": "stderr",
     "output_type": "stream",
     "text": [
      "/home/louis/anaconda3/envs/big_data/lib/python3.8/site-packages/xgboost/sklearn.py:889: UserWarning: `early_stopping_rounds` in `fit` method is deprecated for better compatibility with scikit-learn, use `early_stopping_rounds` in constructor or`set_params` instead.\n",
      "  warnings.warn(\n",
      "\n",
      "/home/louis/anaconda3/envs/big_data/lib/python3.8/site-packages/xgboost/sklearn.py:889: UserWarning: `early_stopping_rounds` in `fit` method is deprecated for better compatibility with scikit-learn, use `early_stopping_rounds` in constructor or`set_params` instead.\n",
      "  warnings.warn(\n",
      "\n",
      "/home/louis/anaconda3/envs/big_data/lib/python3.8/site-packages/xgboost/sklearn.py:889: UserWarning: `early_stopping_rounds` in `fit` method is deprecated for better compatibility with scikit-learn, use `early_stopping_rounds` in constructor or`set_params` instead.\n",
      "  warnings.warn(\n",
      "\n"
     ]
    },
    {
     "name": "stdout",
     "output_type": "stream",
     "text": [
      "SCORE:                                                                            \n",
      "0.9135135135135135                                                                \n",
      "SCORE:                                                                            \n",
      "0.8662162162162163                                                                \n",
      "SCORE:                                                                            \n",
      "0.927027027027027                                                                 \n",
      " 47%|████▋     | 70/150 [00:06<00:07, 10.66trial/s, best loss: -0.927027027027027]"
     ]
    },
    {
     "name": "stderr",
     "output_type": "stream",
     "text": [
      "/home/louis/anaconda3/envs/big_data/lib/python3.8/site-packages/xgboost/sklearn.py:889: UserWarning: `early_stopping_rounds` in `fit` method is deprecated for better compatibility with scikit-learn, use `early_stopping_rounds` in constructor or`set_params` instead.\n",
      "  warnings.warn(\n",
      "\n",
      "/home/louis/anaconda3/envs/big_data/lib/python3.8/site-packages/xgboost/sklearn.py:889: UserWarning: `early_stopping_rounds` in `fit` method is deprecated for better compatibility with scikit-learn, use `early_stopping_rounds` in constructor or`set_params` instead.\n",
      "  warnings.warn(\n",
      "\n",
      "/home/louis/anaconda3/envs/big_data/lib/python3.8/site-packages/xgboost/sklearn.py:889: UserWarning: `early_stopping_rounds` in `fit` method is deprecated for better compatibility with scikit-learn, use `early_stopping_rounds` in constructor or`set_params` instead.\n",
      "  warnings.warn(\n",
      "\n"
     ]
    },
    {
     "name": "stdout",
     "output_type": "stream",
     "text": [
      "SCORE:                                                                            \n",
      "0.9216216216216216                                                                \n",
      "SCORE:                                                                            \n",
      "0.9135135135135135                                                                \n",
      " 48%|████▊     | 72/150 [00:06<00:07, 10.54trial/s, best loss: -0.927027027027027]"
     ]
    },
    {
     "name": "stderr",
     "output_type": "stream",
     "text": [
      "/home/louis/anaconda3/envs/big_data/lib/python3.8/site-packages/xgboost/sklearn.py:889: UserWarning: `early_stopping_rounds` in `fit` method is deprecated for better compatibility with scikit-learn, use `early_stopping_rounds` in constructor or`set_params` instead.\n",
      "  warnings.warn(\n",
      "\n",
      "/home/louis/anaconda3/envs/big_data/lib/python3.8/site-packages/xgboost/sklearn.py:889: UserWarning: `early_stopping_rounds` in `fit` method is deprecated for better compatibility with scikit-learn, use `early_stopping_rounds` in constructor or`set_params` instead.\n",
      "  warnings.warn(\n",
      "\n"
     ]
    },
    {
     "name": "stdout",
     "output_type": "stream",
     "text": [
      "SCORE:                                                                            \n",
      "0.9216216216216216                                                                \n",
      "SCORE:                                                                            \n",
      "0.8405405405405405                                                                \n",
      "SCORE:                                                                            \n",
      "0.8513513513513513                                                                \n",
      "SCORE:                                                                            \n",
      "0.9202702702702703                                                                \n",
      " 51%|█████     | 76/150 [00:06<00:06, 10.82trial/s, best loss: -0.927027027027027]"
     ]
    },
    {
     "name": "stderr",
     "output_type": "stream",
     "text": [
      "/home/louis/anaconda3/envs/big_data/lib/python3.8/site-packages/xgboost/sklearn.py:889: UserWarning: `early_stopping_rounds` in `fit` method is deprecated for better compatibility with scikit-learn, use `early_stopping_rounds` in constructor or`set_params` instead.\n",
      "  warnings.warn(\n",
      "\n",
      "/home/louis/anaconda3/envs/big_data/lib/python3.8/site-packages/xgboost/sklearn.py:889: UserWarning: `early_stopping_rounds` in `fit` method is deprecated for better compatibility with scikit-learn, use `early_stopping_rounds` in constructor or`set_params` instead.\n",
      "  warnings.warn(\n",
      "\n",
      "/home/louis/anaconda3/envs/big_data/lib/python3.8/site-packages/xgboost/sklearn.py:889: UserWarning: `early_stopping_rounds` in `fit` method is deprecated for better compatibility with scikit-learn, use `early_stopping_rounds` in constructor or`set_params` instead.\n",
      "  warnings.warn(\n",
      "\n",
      "/home/louis/anaconda3/envs/big_data/lib/python3.8/site-packages/xgboost/sklearn.py:889: UserWarning: `early_stopping_rounds` in `fit` method is deprecated for better compatibility with scikit-learn, use `early_stopping_rounds` in constructor or`set_params` instead.\n",
      "  warnings.warn(\n",
      "\n"
     ]
    },
    {
     "name": "stdout",
     "output_type": "stream",
     "text": [
      "SCORE:                                                                            \n",
      "0.8729729729729729                                                                \n",
      "SCORE:                                                                            \n",
      "0.9121621621621622                                                                \n",
      " 52%|█████▏    | 78/150 [00:07<00:07,  9.93trial/s, best loss: -0.927027027027027]"
     ]
    },
    {
     "name": "stderr",
     "output_type": "stream",
     "text": [
      "/home/louis/anaconda3/envs/big_data/lib/python3.8/site-packages/xgboost/sklearn.py:889: UserWarning: `early_stopping_rounds` in `fit` method is deprecated for better compatibility with scikit-learn, use `early_stopping_rounds` in constructor or`set_params` instead.\n",
      "  warnings.warn(\n",
      "\n",
      "/home/louis/anaconda3/envs/big_data/lib/python3.8/site-packages/xgboost/sklearn.py:889: UserWarning: `early_stopping_rounds` in `fit` method is deprecated for better compatibility with scikit-learn, use `early_stopping_rounds` in constructor or`set_params` instead.\n",
      "  warnings.warn(\n",
      "\n"
     ]
    },
    {
     "name": "stdout",
     "output_type": "stream",
     "text": [
      "SCORE:                                                                            \n",
      "0.9067567567567567                                                                \n",
      "SCORE:                                                                            \n",
      "0.9094594594594595                                                                \n",
      "SCORE:                                                                            \n",
      "0.922972972972973                                                                 \n",
      " 53%|█████▎    | 80/150 [00:07<00:09,  7.64trial/s, best loss: -0.927027027027027]"
     ]
    },
    {
     "name": "stderr",
     "output_type": "stream",
     "text": [
      "/home/louis/anaconda3/envs/big_data/lib/python3.8/site-packages/xgboost/sklearn.py:889: UserWarning: `early_stopping_rounds` in `fit` method is deprecated for better compatibility with scikit-learn, use `early_stopping_rounds` in constructor or`set_params` instead.\n",
      "  warnings.warn(\n",
      "\n",
      "/home/louis/anaconda3/envs/big_data/lib/python3.8/site-packages/xgboost/sklearn.py:889: UserWarning: `early_stopping_rounds` in `fit` method is deprecated for better compatibility with scikit-learn, use `early_stopping_rounds` in constructor or`set_params` instead.\n",
      "  warnings.warn(\n",
      "\n",
      "/home/louis/anaconda3/envs/big_data/lib/python3.8/site-packages/xgboost/sklearn.py:889: UserWarning: `early_stopping_rounds` in `fit` method is deprecated for better compatibility with scikit-learn, use `early_stopping_rounds` in constructor or`set_params` instead.\n",
      "  warnings.warn(\n",
      "\n"
     ]
    },
    {
     "name": "stdout",
     "output_type": "stream",
     "text": [
      "SCORE:                                                                            \n",
      "0.9094594594594595                                                                \n",
      "SCORE:                                                                            \n",
      "0.9121621621621622                                                                \n",
      "SCORE:                                                                            \n",
      "0.904054054054054                                                                 \n",
      " 55%|█████▌    | 83/150 [00:08<00:08,  7.84trial/s, best loss: -0.927027027027027]"
     ]
    },
    {
     "name": "stderr",
     "output_type": "stream",
     "text": [
      "/home/louis/anaconda3/envs/big_data/lib/python3.8/site-packages/xgboost/sklearn.py:889: UserWarning: `early_stopping_rounds` in `fit` method is deprecated for better compatibility with scikit-learn, use `early_stopping_rounds` in constructor or`set_params` instead.\n",
      "  warnings.warn(\n",
      "\n",
      "/home/louis/anaconda3/envs/big_data/lib/python3.8/site-packages/xgboost/sklearn.py:889: UserWarning: `early_stopping_rounds` in `fit` method is deprecated for better compatibility with scikit-learn, use `early_stopping_rounds` in constructor or`set_params` instead.\n",
      "  warnings.warn(\n",
      "\n",
      "/home/louis/anaconda3/envs/big_data/lib/python3.8/site-packages/xgboost/sklearn.py:889: UserWarning: `early_stopping_rounds` in `fit` method is deprecated for better compatibility with scikit-learn, use `early_stopping_rounds` in constructor or`set_params` instead.\n",
      "  warnings.warn(\n",
      "\n"
     ]
    },
    {
     "name": "stdout",
     "output_type": "stream",
     "text": [
      "SCORE:                                                                            \n",
      "0.9135135135135135                                                                \n",
      "SCORE:                                                                            \n",
      "0.9067567567567567                                                                \n",
      " 57%|█████▋    | 86/150 [00:08<00:08,  7.84trial/s, best loss: -0.927027027027027]"
     ]
    },
    {
     "name": "stderr",
     "output_type": "stream",
     "text": [
      "/home/louis/anaconda3/envs/big_data/lib/python3.8/site-packages/xgboost/sklearn.py:889: UserWarning: `early_stopping_rounds` in `fit` method is deprecated for better compatibility with scikit-learn, use `early_stopping_rounds` in constructor or`set_params` instead.\n",
      "  warnings.warn(\n",
      "\n",
      "/home/louis/anaconda3/envs/big_data/lib/python3.8/site-packages/xgboost/sklearn.py:889: UserWarning: `early_stopping_rounds` in `fit` method is deprecated for better compatibility with scikit-learn, use `early_stopping_rounds` in constructor or`set_params` instead.\n",
      "  warnings.warn(\n",
      "\n"
     ]
    },
    {
     "name": "stdout",
     "output_type": "stream",
     "text": [
      "SCORE:                                                                            \n",
      "0.9027027027027027                                                                \n",
      "SCORE:                                                                            \n",
      "0.9162162162162162                                                                \n",
      "SCORE:                                                                            \n",
      "0.922972972972973                                                                 \n",
      " 59%|█████▉    | 89/150 [00:08<00:07,  8.65trial/s, best loss: -0.927027027027027]"
     ]
    },
    {
     "name": "stderr",
     "output_type": "stream",
     "text": [
      "/home/louis/anaconda3/envs/big_data/lib/python3.8/site-packages/xgboost/sklearn.py:889: UserWarning: `early_stopping_rounds` in `fit` method is deprecated for better compatibility with scikit-learn, use `early_stopping_rounds` in constructor or`set_params` instead.\n",
      "  warnings.warn(\n",
      "\n",
      "/home/louis/anaconda3/envs/big_data/lib/python3.8/site-packages/xgboost/sklearn.py:889: UserWarning: `early_stopping_rounds` in `fit` method is deprecated for better compatibility with scikit-learn, use `early_stopping_rounds` in constructor or`set_params` instead.\n",
      "  warnings.warn(\n",
      "\n",
      "/home/louis/anaconda3/envs/big_data/lib/python3.8/site-packages/xgboost/sklearn.py:889: UserWarning: `early_stopping_rounds` in `fit` method is deprecated for better compatibility with scikit-learn, use `early_stopping_rounds` in constructor or`set_params` instead.\n",
      "  warnings.warn(\n",
      "\n"
     ]
    },
    {
     "name": "stdout",
     "output_type": "stream",
     "text": [
      "SCORE:                                                                            \n",
      "0.904054054054054                                                                 \n",
      "SCORE:                                                                            \n",
      "0.9162162162162162                                                                \n",
      "SCORE:                                                                            \n",
      "0.9202702702702703                                                                \n",
      " 61%|██████▏   | 92/150 [00:08<00:05,  9.83trial/s, best loss: -0.927027027027027]"
     ]
    },
    {
     "name": "stderr",
     "output_type": "stream",
     "text": [
      "/home/louis/anaconda3/envs/big_data/lib/python3.8/site-packages/xgboost/sklearn.py:889: UserWarning: `early_stopping_rounds` in `fit` method is deprecated for better compatibility with scikit-learn, use `early_stopping_rounds` in constructor or`set_params` instead.\n",
      "  warnings.warn(\n",
      "\n",
      "/home/louis/anaconda3/envs/big_data/lib/python3.8/site-packages/xgboost/sklearn.py:889: UserWarning: `early_stopping_rounds` in `fit` method is deprecated for better compatibility with scikit-learn, use `early_stopping_rounds` in constructor or`set_params` instead.\n",
      "  warnings.warn(\n",
      "\n",
      "/home/louis/anaconda3/envs/big_data/lib/python3.8/site-packages/xgboost/sklearn.py:889: UserWarning: `early_stopping_rounds` in `fit` method is deprecated for better compatibility with scikit-learn, use `early_stopping_rounds` in constructor or`set_params` instead.\n",
      "  warnings.warn(\n",
      "\n"
     ]
    },
    {
     "name": "stdout",
     "output_type": "stream",
     "text": [
      "SCORE:                                                                            \n",
      "0.9054054054054054                                                                \n",
      "SCORE:                                                                            \n",
      "0.8067567567567567                                                                \n",
      "SCORE:                                                                            \n",
      "0.9243243243243243                                                                \n",
      " 63%|██████▎   | 95/150 [00:09<00:05, 10.80trial/s, best loss: -0.927027027027027]"
     ]
    },
    {
     "name": "stderr",
     "output_type": "stream",
     "text": [
      "/home/louis/anaconda3/envs/big_data/lib/python3.8/site-packages/xgboost/sklearn.py:889: UserWarning: `early_stopping_rounds` in `fit` method is deprecated for better compatibility with scikit-learn, use `early_stopping_rounds` in constructor or`set_params` instead.\n",
      "  warnings.warn(\n",
      "\n",
      "/home/louis/anaconda3/envs/big_data/lib/python3.8/site-packages/xgboost/sklearn.py:889: UserWarning: `early_stopping_rounds` in `fit` method is deprecated for better compatibility with scikit-learn, use `early_stopping_rounds` in constructor or`set_params` instead.\n",
      "  warnings.warn(\n",
      "\n",
      "/home/louis/anaconda3/envs/big_data/lib/python3.8/site-packages/xgboost/sklearn.py:889: UserWarning: `early_stopping_rounds` in `fit` method is deprecated for better compatibility with scikit-learn, use `early_stopping_rounds` in constructor or`set_params` instead.\n",
      "  warnings.warn(\n",
      "\n"
     ]
    },
    {
     "name": "stdout",
     "output_type": "stream",
     "text": [
      "SCORE:                                                                            \n",
      "0.9243243243243243                                                                \n",
      "SCORE:                                                                            \n",
      "0.9135135135135135                                                                \n",
      "SCORE:                                                                            \n",
      "0.9027027027027027                                                                \n",
      "SCORE:                                                                            \n",
      "0.9094594594594595                                                                \n",
      " 66%|██████▌   | 99/150 [00:09<00:04, 10.74trial/s, best loss: -0.927027027027027]"
     ]
    },
    {
     "name": "stderr",
     "output_type": "stream",
     "text": [
      "/home/louis/anaconda3/envs/big_data/lib/python3.8/site-packages/xgboost/sklearn.py:889: UserWarning: `early_stopping_rounds` in `fit` method is deprecated for better compatibility with scikit-learn, use `early_stopping_rounds` in constructor or`set_params` instead.\n",
      "  warnings.warn(\n",
      "\n",
      "/home/louis/anaconda3/envs/big_data/lib/python3.8/site-packages/xgboost/sklearn.py:889: UserWarning: `early_stopping_rounds` in `fit` method is deprecated for better compatibility with scikit-learn, use `early_stopping_rounds` in constructor or`set_params` instead.\n",
      "  warnings.warn(\n",
      "\n",
      "/home/louis/anaconda3/envs/big_data/lib/python3.8/site-packages/xgboost/sklearn.py:889: UserWarning: `early_stopping_rounds` in `fit` method is deprecated for better compatibility with scikit-learn, use `early_stopping_rounds` in constructor or`set_params` instead.\n",
      "  warnings.warn(\n",
      "\n",
      "/home/louis/anaconda3/envs/big_data/lib/python3.8/site-packages/xgboost/sklearn.py:889: UserWarning: `early_stopping_rounds` in `fit` method is deprecated for better compatibility with scikit-learn, use `early_stopping_rounds` in constructor or`set_params` instead.\n",
      "  warnings.warn(\n",
      "\n"
     ]
    },
    {
     "name": "stdout",
     "output_type": "stream",
     "text": [
      "SCORE:                                                                            \n",
      "0.9054054054054054                                                                \n",
      "SCORE:                                                                            \n",
      "0.9175675675675675                                                                 \n",
      " 67%|██████▋   | 101/150 [00:09<00:05,  9.00trial/s, best loss: -0.927027027027027]"
     ]
    },
    {
     "name": "stderr",
     "output_type": "stream",
     "text": [
      "/home/louis/anaconda3/envs/big_data/lib/python3.8/site-packages/xgboost/sklearn.py:889: UserWarning: `early_stopping_rounds` in `fit` method is deprecated for better compatibility with scikit-learn, use `early_stopping_rounds` in constructor or`set_params` instead.\n",
      "  warnings.warn(\n",
      "\n",
      "/home/louis/anaconda3/envs/big_data/lib/python3.8/site-packages/xgboost/sklearn.py:889: UserWarning: `early_stopping_rounds` in `fit` method is deprecated for better compatibility with scikit-learn, use `early_stopping_rounds` in constructor or`set_params` instead.\n",
      "  warnings.warn(\n",
      "\n"
     ]
    },
    {
     "name": "stdout",
     "output_type": "stream",
     "text": [
      "SCORE:                                                                             \n",
      "0.9121621621621622                                                                 \n",
      "SCORE:                                                                             \n",
      "0.9121621621621622                                                                 \n",
      " 69%|██████▊   | 103/150 [00:10<00:06,  7.23trial/s, best loss: -0.927027027027027]"
     ]
    },
    {
     "name": "stderr",
     "output_type": "stream",
     "text": [
      "/home/louis/anaconda3/envs/big_data/lib/python3.8/site-packages/xgboost/sklearn.py:889: UserWarning: `early_stopping_rounds` in `fit` method is deprecated for better compatibility with scikit-learn, use `early_stopping_rounds` in constructor or`set_params` instead.\n",
      "  warnings.warn(\n",
      "\n"
     ]
    },
    {
     "name": "stdout",
     "output_type": "stream",
     "text": [
      "SCORE:                                                                             \n",
      "0.8891891891891892                                                                 \n",
      "SCORE:                                                                             \n",
      "0.9202702702702703                                                                 \n",
      " 70%|███████   | 105/150 [00:10<00:05,  8.16trial/s, best loss: -0.927027027027027]"
     ]
    },
    {
     "name": "stderr",
     "output_type": "stream",
     "text": [
      "/home/louis/anaconda3/envs/big_data/lib/python3.8/site-packages/xgboost/sklearn.py:889: UserWarning: `early_stopping_rounds` in `fit` method is deprecated for better compatibility with scikit-learn, use `early_stopping_rounds` in constructor or`set_params` instead.\n",
      "  warnings.warn(\n",
      "\n",
      "/home/louis/anaconda3/envs/big_data/lib/python3.8/site-packages/xgboost/sklearn.py:889: UserWarning: `early_stopping_rounds` in `fit` method is deprecated for better compatibility with scikit-learn, use `early_stopping_rounds` in constructor or`set_params` instead.\n",
      "  warnings.warn(\n",
      "\n",
      "/home/louis/anaconda3/envs/big_data/lib/python3.8/site-packages/xgboost/sklearn.py:889: UserWarning: `early_stopping_rounds` in `fit` method is deprecated for better compatibility with scikit-learn, use `early_stopping_rounds` in constructor or`set_params` instead.\n",
      "  warnings.warn(\n",
      "\n"
     ]
    },
    {
     "name": "stdout",
     "output_type": "stream",
     "text": [
      "SCORE:                                                                             \n",
      "0.918918918918919                                                                  \n",
      "SCORE:                                                                             \n",
      "0.8986486486486487                                                                 \n",
      "SCORE:                                                                             \n",
      "0.9148648648648648                                                                 \n",
      " 72%|███████▏  | 108/150 [00:10<00:04,  9.80trial/s, best loss: -0.927027027027027]"
     ]
    },
    {
     "name": "stderr",
     "output_type": "stream",
     "text": [
      "/home/louis/anaconda3/envs/big_data/lib/python3.8/site-packages/xgboost/sklearn.py:889: UserWarning: `early_stopping_rounds` in `fit` method is deprecated for better compatibility with scikit-learn, use `early_stopping_rounds` in constructor or`set_params` instead.\n",
      "  warnings.warn(\n",
      "\n",
      "/home/louis/anaconda3/envs/big_data/lib/python3.8/site-packages/xgboost/sklearn.py:889: UserWarning: `early_stopping_rounds` in `fit` method is deprecated for better compatibility with scikit-learn, use `early_stopping_rounds` in constructor or`set_params` instead.\n",
      "  warnings.warn(\n",
      "\n",
      "/home/louis/anaconda3/envs/big_data/lib/python3.8/site-packages/xgboost/sklearn.py:889: UserWarning: `early_stopping_rounds` in `fit` method is deprecated for better compatibility with scikit-learn, use `early_stopping_rounds` in constructor or`set_params` instead.\n",
      "  warnings.warn(\n",
      "\n"
     ]
    },
    {
     "name": "stdout",
     "output_type": "stream",
     "text": [
      "SCORE:                                                                             \n",
      "0.922972972972973                                                                  \n",
      "SCORE:                                                                             \n",
      "0.9054054054054054                                                                 \n",
      " 73%|███████▎  | 110/150 [00:11<00:04,  8.19trial/s, best loss: -0.927027027027027]"
     ]
    },
    {
     "name": "stderr",
     "output_type": "stream",
     "text": [
      "/home/louis/anaconda3/envs/big_data/lib/python3.8/site-packages/xgboost/sklearn.py:889: UserWarning: `early_stopping_rounds` in `fit` method is deprecated for better compatibility with scikit-learn, use `early_stopping_rounds` in constructor or`set_params` instead.\n",
      "  warnings.warn(\n",
      "\n",
      "/home/louis/anaconda3/envs/big_data/lib/python3.8/site-packages/xgboost/sklearn.py:889: UserWarning: `early_stopping_rounds` in `fit` method is deprecated for better compatibility with scikit-learn, use `early_stopping_rounds` in constructor or`set_params` instead.\n",
      "  warnings.warn(\n",
      "\n"
     ]
    },
    {
     "name": "stdout",
     "output_type": "stream",
     "text": [
      "SCORE:                                                                             \n",
      "0.9202702702702703                                                                 \n",
      "SCORE:                                                                             \n",
      "0.904054054054054                                                                  \n",
      "SCORE:                                                                             \n",
      "0.8391891891891892                                                                 \n",
      " 75%|███████▍  | 112/150 [00:11<00:04,  9.22trial/s, best loss: -0.927027027027027]"
     ]
    },
    {
     "name": "stderr",
     "output_type": "stream",
     "text": [
      "/home/louis/anaconda3/envs/big_data/lib/python3.8/site-packages/xgboost/sklearn.py:889: UserWarning: `early_stopping_rounds` in `fit` method is deprecated for better compatibility with scikit-learn, use `early_stopping_rounds` in constructor or`set_params` instead.\n",
      "  warnings.warn(\n",
      "\n",
      "/home/louis/anaconda3/envs/big_data/lib/python3.8/site-packages/xgboost/sklearn.py:889: UserWarning: `early_stopping_rounds` in `fit` method is deprecated for better compatibility with scikit-learn, use `early_stopping_rounds` in constructor or`set_params` instead.\n",
      "  warnings.warn(\n",
      "\n",
      "/home/louis/anaconda3/envs/big_data/lib/python3.8/site-packages/xgboost/sklearn.py:889: UserWarning: `early_stopping_rounds` in `fit` method is deprecated for better compatibility with scikit-learn, use `early_stopping_rounds` in constructor or`set_params` instead.\n",
      "  warnings.warn(\n",
      "\n"
     ]
    },
    {
     "name": "stdout",
     "output_type": "stream",
     "text": [
      "SCORE:                                                                             \n",
      "0.9067567567567567                                                                 \n",
      "SCORE:                                                                             \n",
      "0.9216216216216216                                                                 \n",
      " 77%|███████▋  | 115/150 [00:11<00:04,  7.79trial/s, best loss: -0.927027027027027]"
     ]
    },
    {
     "name": "stderr",
     "output_type": "stream",
     "text": [
      "/home/louis/anaconda3/envs/big_data/lib/python3.8/site-packages/xgboost/sklearn.py:889: UserWarning: `early_stopping_rounds` in `fit` method is deprecated for better compatibility with scikit-learn, use `early_stopping_rounds` in constructor or`set_params` instead.\n",
      "  warnings.warn(\n",
      "\n",
      "/home/louis/anaconda3/envs/big_data/lib/python3.8/site-packages/xgboost/sklearn.py:889: UserWarning: `early_stopping_rounds` in `fit` method is deprecated for better compatibility with scikit-learn, use `early_stopping_rounds` in constructor or`set_params` instead.\n",
      "  warnings.warn(\n",
      "\n"
     ]
    },
    {
     "name": "stdout",
     "output_type": "stream",
     "text": [
      "SCORE:                                                                             \n",
      "0.9108108108108108                                                                 \n",
      "SCORE:                                                                             \n",
      "0.9243243243243243                                                                 \n",
      "SCORE:                                                                             \n",
      "0.9108108108108108                                                                 \n",
      " 78%|███████▊  | 117/150 [00:11<00:04,  7.64trial/s, best loss: -0.927027027027027]"
     ]
    },
    {
     "name": "stderr",
     "output_type": "stream",
     "text": [
      "/home/louis/anaconda3/envs/big_data/lib/python3.8/site-packages/xgboost/sklearn.py:889: UserWarning: `early_stopping_rounds` in `fit` method is deprecated for better compatibility with scikit-learn, use `early_stopping_rounds` in constructor or`set_params` instead.\n",
      "  warnings.warn(\n",
      "\n",
      "/home/louis/anaconda3/envs/big_data/lib/python3.8/site-packages/xgboost/sklearn.py:889: UserWarning: `early_stopping_rounds` in `fit` method is deprecated for better compatibility with scikit-learn, use `early_stopping_rounds` in constructor or`set_params` instead.\n",
      "  warnings.warn(\n",
      "\n",
      "/home/louis/anaconda3/envs/big_data/lib/python3.8/site-packages/xgboost/sklearn.py:889: UserWarning: `early_stopping_rounds` in `fit` method is deprecated for better compatibility with scikit-learn, use `early_stopping_rounds` in constructor or`set_params` instead.\n",
      "  warnings.warn(\n",
      "\n"
     ]
    },
    {
     "name": "stdout",
     "output_type": "stream",
     "text": [
      "SCORE:                                                                             \n",
      "0.9108108108108108                                                                 \n",
      "SCORE:                                                                             \n",
      "0.9148648648648648                                                                 \n",
      "SCORE:                                                                             \n",
      "0.9                                                                                \n",
      " 81%|████████  | 121/150 [00:12<00:03,  9.53trial/s, best loss: -0.927027027027027]"
     ]
    },
    {
     "name": "stderr",
     "output_type": "stream",
     "text": [
      "/home/louis/anaconda3/envs/big_data/lib/python3.8/site-packages/xgboost/sklearn.py:889: UserWarning: `early_stopping_rounds` in `fit` method is deprecated for better compatibility with scikit-learn, use `early_stopping_rounds` in constructor or`set_params` instead.\n",
      "  warnings.warn(\n",
      "\n",
      "/home/louis/anaconda3/envs/big_data/lib/python3.8/site-packages/xgboost/sklearn.py:889: UserWarning: `early_stopping_rounds` in `fit` method is deprecated for better compatibility with scikit-learn, use `early_stopping_rounds` in constructor or`set_params` instead.\n",
      "  warnings.warn(\n",
      "\n",
      "/home/louis/anaconda3/envs/big_data/lib/python3.8/site-packages/xgboost/sklearn.py:889: UserWarning: `early_stopping_rounds` in `fit` method is deprecated for better compatibility with scikit-learn, use `early_stopping_rounds` in constructor or`set_params` instead.\n",
      "  warnings.warn(\n",
      "\n"
     ]
    },
    {
     "name": "stdout",
     "output_type": "stream",
     "text": [
      "SCORE:                                                                             \n",
      "0.9067567567567567                                                                 \n",
      "SCORE:                                                                             \n",
      "0.918918918918919                                                                  \n",
      "SCORE:                                                                             \n",
      "0.9094594594594595                                                                 \n",
      "                                                                                   "
     ]
    },
    {
     "name": "stderr",
     "output_type": "stream",
     "text": [
      "/home/louis/anaconda3/envs/big_data/lib/python3.8/site-packages/xgboost/sklearn.py:889: UserWarning: `early_stopping_rounds` in `fit` method is deprecated for better compatibility with scikit-learn, use `early_stopping_rounds` in constructor or`set_params` instead.\n",
      "  warnings.warn(\n",
      "\n",
      "/home/louis/anaconda3/envs/big_data/lib/python3.8/site-packages/xgboost/sklearn.py:889: UserWarning: `early_stopping_rounds` in `fit` method is deprecated for better compatibility with scikit-learn, use `early_stopping_rounds` in constructor or`set_params` instead.\n",
      "  warnings.warn(\n",
      "\n",
      "/home/louis/anaconda3/envs/big_data/lib/python3.8/site-packages/xgboost/sklearn.py:889: UserWarning: `early_stopping_rounds` in `fit` method is deprecated for better compatibility with scikit-learn, use `early_stopping_rounds` in constructor or`set_params` instead.\n",
      "  warnings.warn(\n",
      "\n"
     ]
    },
    {
     "name": "stdout",
     "output_type": "stream",
     "text": [
      "SCORE:\n",
      "0.9216216216216216                                                                 \n",
      "SCORE:                                                                             \n",
      "0.9027027027027027                                                                 \n",
      " 84%|████████▍ | 126/150 [00:12<00:02, 10.99trial/s, best loss: -0.927027027027027]"
     ]
    },
    {
     "name": "stderr",
     "output_type": "stream",
     "text": [
      "/home/louis/anaconda3/envs/big_data/lib/python3.8/site-packages/xgboost/sklearn.py:889: UserWarning: `early_stopping_rounds` in `fit` method is deprecated for better compatibility with scikit-learn, use `early_stopping_rounds` in constructor or`set_params` instead.\n",
      "  warnings.warn(\n",
      "\n",
      "/home/louis/anaconda3/envs/big_data/lib/python3.8/site-packages/xgboost/sklearn.py:889: UserWarning: `early_stopping_rounds` in `fit` method is deprecated for better compatibility with scikit-learn, use `early_stopping_rounds` in constructor or`set_params` instead.\n",
      "  warnings.warn(\n",
      "\n"
     ]
    },
    {
     "name": "stdout",
     "output_type": "stream",
     "text": [
      "SCORE:                                                                             \n",
      "0.9135135135135135                                                                 \n",
      "SCORE:                                                                             \n",
      "0.9202702702702703                                                                 \n",
      " 85%|████████▌ | 128/150 [00:12<00:02,  9.78trial/s, best loss: -0.927027027027027]"
     ]
    },
    {
     "name": "stderr",
     "output_type": "stream",
     "text": [
      "/home/louis/anaconda3/envs/big_data/lib/python3.8/site-packages/xgboost/sklearn.py:889: UserWarning: `early_stopping_rounds` in `fit` method is deprecated for better compatibility with scikit-learn, use `early_stopping_rounds` in constructor or`set_params` instead.\n",
      "  warnings.warn(\n",
      "\n",
      "/home/louis/anaconda3/envs/big_data/lib/python3.8/site-packages/xgboost/sklearn.py:889: UserWarning: `early_stopping_rounds` in `fit` method is deprecated for better compatibility with scikit-learn, use `early_stopping_rounds` in constructor or`set_params` instead.\n",
      "  warnings.warn(\n",
      "\n"
     ]
    },
    {
     "name": "stdout",
     "output_type": "stream",
     "text": [
      "SCORE:                                                                             \n",
      "0.8905405405405405                                                                 \n",
      "SCORE:                                                                             \n",
      "0.9013513513513514                                                                 \n",
      " 87%|████████▋ | 130/150 [00:13<00:02,  8.52trial/s, best loss: -0.927027027027027]"
     ]
    },
    {
     "name": "stderr",
     "output_type": "stream",
     "text": [
      "/home/louis/anaconda3/envs/big_data/lib/python3.8/site-packages/xgboost/sklearn.py:889: UserWarning: `early_stopping_rounds` in `fit` method is deprecated for better compatibility with scikit-learn, use `early_stopping_rounds` in constructor or`set_params` instead.\n",
      "  warnings.warn(\n",
      "\n",
      "/home/louis/anaconda3/envs/big_data/lib/python3.8/site-packages/xgboost/sklearn.py:889: UserWarning: `early_stopping_rounds` in `fit` method is deprecated for better compatibility with scikit-learn, use `early_stopping_rounds` in constructor or`set_params` instead.\n",
      "  warnings.warn(\n",
      "\n"
     ]
    },
    {
     "name": "stdout",
     "output_type": "stream",
     "text": [
      "SCORE:                                                                             \n",
      "0.9081081081081082                                                                 \n",
      "SCORE:                                                                             \n",
      "0.918918918918919                                                                  \n",
      "SCORE:                                                                             \n",
      "0.8783783783783784                                                                 \n",
      " 88%|████████▊ | 132/150 [00:13<00:02,  8.02trial/s, best loss: -0.927027027027027]"
     ]
    },
    {
     "name": "stderr",
     "output_type": "stream",
     "text": [
      "/home/louis/anaconda3/envs/big_data/lib/python3.8/site-packages/xgboost/sklearn.py:889: UserWarning: `early_stopping_rounds` in `fit` method is deprecated for better compatibility with scikit-learn, use `early_stopping_rounds` in constructor or`set_params` instead.\n",
      "  warnings.warn(\n",
      "\n",
      "/home/louis/anaconda3/envs/big_data/lib/python3.8/site-packages/xgboost/sklearn.py:889: UserWarning: `early_stopping_rounds` in `fit` method is deprecated for better compatibility with scikit-learn, use `early_stopping_rounds` in constructor or`set_params` instead.\n",
      "  warnings.warn(\n",
      "\n",
      "/home/louis/anaconda3/envs/big_data/lib/python3.8/site-packages/xgboost/sklearn.py:889: UserWarning: `early_stopping_rounds` in `fit` method is deprecated for better compatibility with scikit-learn, use `early_stopping_rounds` in constructor or`set_params` instead.\n",
      "  warnings.warn(\n",
      "\n"
     ]
    },
    {
     "name": "stdout",
     "output_type": "stream",
     "text": [
      "SCORE:                                                                             \n",
      "0.9067567567567567                                                                 \n",
      "SCORE:                                                                             \n",
      "0.9135135135135135                                                                 \n",
      "SCORE:                                                                             \n",
      "0.9013513513513514                                                                 \n",
      " 90%|█████████ | 135/150 [00:13<00:01,  9.16trial/s, best loss: -0.927027027027027]"
     ]
    },
    {
     "name": "stderr",
     "output_type": "stream",
     "text": [
      "/home/louis/anaconda3/envs/big_data/lib/python3.8/site-packages/xgboost/sklearn.py:889: UserWarning: `early_stopping_rounds` in `fit` method is deprecated for better compatibility with scikit-learn, use `early_stopping_rounds` in constructor or`set_params` instead.\n",
      "  warnings.warn(\n",
      "\n",
      "/home/louis/anaconda3/envs/big_data/lib/python3.8/site-packages/xgboost/sklearn.py:889: UserWarning: `early_stopping_rounds` in `fit` method is deprecated for better compatibility with scikit-learn, use `early_stopping_rounds` in constructor or`set_params` instead.\n",
      "  warnings.warn(\n",
      "\n",
      "/home/louis/anaconda3/envs/big_data/lib/python3.8/site-packages/xgboost/sklearn.py:889: UserWarning: `early_stopping_rounds` in `fit` method is deprecated for better compatibility with scikit-learn, use `early_stopping_rounds` in constructor or`set_params` instead.\n",
      "  warnings.warn(\n",
      "\n"
     ]
    },
    {
     "name": "stdout",
     "output_type": "stream",
     "text": [
      "SCORE:                                                                             \n",
      "0.9054054054054054                                                                 \n",
      "SCORE:                                                                             \n",
      "0.9162162162162162                                                                 \n",
      "SCORE:                                                                             \n",
      "0.9216216216216216                                                                 \n",
      " 93%|█████████▎| 139/150 [00:14<00:01,  8.31trial/s, best loss: -0.927027027027027]"
     ]
    },
    {
     "name": "stderr",
     "output_type": "stream",
     "text": [
      "/home/louis/anaconda3/envs/big_data/lib/python3.8/site-packages/xgboost/sklearn.py:889: UserWarning: `early_stopping_rounds` in `fit` method is deprecated for better compatibility with scikit-learn, use `early_stopping_rounds` in constructor or`set_params` instead.\n",
      "  warnings.warn(\n",
      "\n",
      "/home/louis/anaconda3/envs/big_data/lib/python3.8/site-packages/xgboost/sklearn.py:889: UserWarning: `early_stopping_rounds` in `fit` method is deprecated for better compatibility with scikit-learn, use `early_stopping_rounds` in constructor or`set_params` instead.\n",
      "  warnings.warn(\n",
      "\n",
      "/home/louis/anaconda3/envs/big_data/lib/python3.8/site-packages/xgboost/sklearn.py:889: UserWarning: `early_stopping_rounds` in `fit` method is deprecated for better compatibility with scikit-learn, use `early_stopping_rounds` in constructor or`set_params` instead.\n",
      "  warnings.warn(\n",
      "\n"
     ]
    },
    {
     "name": "stdout",
     "output_type": "stream",
     "text": [
      "SCORE:                                                                             \n",
      "0.918918918918919                                                                  \n",
      "SCORE:                                                                             \n",
      "0.922972972972973                                                                  \n",
      " 94%|█████████▍| 141/150 [00:14<00:01,  8.83trial/s, best loss: -0.927027027027027]"
     ]
    },
    {
     "name": "stderr",
     "output_type": "stream",
     "text": [
      "/home/louis/anaconda3/envs/big_data/lib/python3.8/site-packages/xgboost/sklearn.py:889: UserWarning: `early_stopping_rounds` in `fit` method is deprecated for better compatibility with scikit-learn, use `early_stopping_rounds` in constructor or`set_params` instead.\n",
      "  warnings.warn(\n",
      "\n",
      "/home/louis/anaconda3/envs/big_data/lib/python3.8/site-packages/xgboost/sklearn.py:889: UserWarning: `early_stopping_rounds` in `fit` method is deprecated for better compatibility with scikit-learn, use `early_stopping_rounds` in constructor or`set_params` instead.\n",
      "  warnings.warn(\n",
      "\n"
     ]
    },
    {
     "name": "stdout",
     "output_type": "stream",
     "text": [
      "SCORE:                                                                             \n",
      "0.9297297297297298                                                                 \n",
      " 95%|█████████▍| 142/150 [00:14<00:01,  6.69trial/s, best loss: -0.9297297297297298]"
     ]
    },
    {
     "name": "stderr",
     "output_type": "stream",
     "text": [
      "/home/louis/anaconda3/envs/big_data/lib/python3.8/site-packages/xgboost/sklearn.py:889: UserWarning: `early_stopping_rounds` in `fit` method is deprecated for better compatibility with scikit-learn, use `early_stopping_rounds` in constructor or`set_params` instead.\n",
      "  warnings.warn(\n",
      "\n"
     ]
    },
    {
     "name": "stdout",
     "output_type": "stream",
     "text": [
      "SCORE:                                                                              \n",
      "0.9081081081081082                                                                  \n",
      "SCORE:                                                                              \n",
      "0.9054054054054054                                                                  \n",
      "SCORE:                                                                              \n",
      "0.8743243243243243                                                                  \n",
      " 97%|█████████▋| 145/150 [00:15<00:00,  7.43trial/s, best loss: -0.9297297297297298]"
     ]
    },
    {
     "name": "stderr",
     "output_type": "stream",
     "text": [
      "/home/louis/anaconda3/envs/big_data/lib/python3.8/site-packages/xgboost/sklearn.py:889: UserWarning: `early_stopping_rounds` in `fit` method is deprecated for better compatibility with scikit-learn, use `early_stopping_rounds` in constructor or`set_params` instead.\n",
      "  warnings.warn(\n",
      "\n",
      "/home/louis/anaconda3/envs/big_data/lib/python3.8/site-packages/xgboost/sklearn.py:889: UserWarning: `early_stopping_rounds` in `fit` method is deprecated for better compatibility with scikit-learn, use `early_stopping_rounds` in constructor or`set_params` instead.\n",
      "  warnings.warn(\n",
      "\n",
      "/home/louis/anaconda3/envs/big_data/lib/python3.8/site-packages/xgboost/sklearn.py:889: UserWarning: `early_stopping_rounds` in `fit` method is deprecated for better compatibility with scikit-learn, use `early_stopping_rounds` in constructor or`set_params` instead.\n",
      "  warnings.warn(\n",
      "\n"
     ]
    },
    {
     "name": "stdout",
     "output_type": "stream",
     "text": [
      "SCORE:                                                                              \n",
      "0.927027027027027                                                                   \n",
      "SCORE:                                                                              \n",
      "0.9283783783783783                                                                  \n",
      " 98%|█████████▊| 147/150 [00:15<00:00,  6.48trial/s, best loss: -0.9297297297297298]"
     ]
    },
    {
     "name": "stderr",
     "output_type": "stream",
     "text": [
      "/home/louis/anaconda3/envs/big_data/lib/python3.8/site-packages/xgboost/sklearn.py:889: UserWarning: `early_stopping_rounds` in `fit` method is deprecated for better compatibility with scikit-learn, use `early_stopping_rounds` in constructor or`set_params` instead.\n",
      "  warnings.warn(\n",
      "\n",
      "/home/louis/anaconda3/envs/big_data/lib/python3.8/site-packages/xgboost/sklearn.py:889: UserWarning: `early_stopping_rounds` in `fit` method is deprecated for better compatibility with scikit-learn, use `early_stopping_rounds` in constructor or`set_params` instead.\n",
      "  warnings.warn(\n",
      "\n"
     ]
    },
    {
     "name": "stdout",
     "output_type": "stream",
     "text": [
      "SCORE:                                                                              \n",
      "0.9243243243243243                                                                  \n",
      " 99%|█████████▊| 148/150 [00:15<00:00,  6.19trial/s, best loss: -0.9297297297297298]"
     ]
    },
    {
     "name": "stderr",
     "output_type": "stream",
     "text": [
      "/home/louis/anaconda3/envs/big_data/lib/python3.8/site-packages/xgboost/sklearn.py:889: UserWarning: `early_stopping_rounds` in `fit` method is deprecated for better compatibility with scikit-learn, use `early_stopping_rounds` in constructor or`set_params` instead.\n",
      "  warnings.warn(\n",
      "\n"
     ]
    },
    {
     "name": "stdout",
     "output_type": "stream",
     "text": [
      "SCORE:                                                                              \n",
      "0.9162162162162162                                                                  \n",
      "SCORE:                                                                              \n",
      "0.9297297297297298                                                                  \n",
      "100%|██████████| 150/150 [00:16<00:00,  9.24trial/s, best loss: -0.9297297297297298]\n",
      "The best hyperparameters are:  {'colsample_bytree': 0.598921853720481, 'gamma': 0.28798222411474866, 'learning_rate': 0.01688447810744774, 'max_depth': 8.0, 'min_child_weight': 2.0, 'n_estimators': 730.0, 'reg_alpha': 1.0}\n"
     ]
    },
    {
     "name": "stderr",
     "output_type": "stream",
     "text": [
      "/home/louis/anaconda3/envs/big_data/lib/python3.8/site-packages/xgboost/sklearn.py:889: UserWarning: `early_stopping_rounds` in `fit` method is deprecated for better compatibility with scikit-learn, use `early_stopping_rounds` in constructor or`set_params` instead.\n",
      "  warnings.warn(\n",
      "\n"
     ]
    }
   ],
   "source": [
    "import xgboost as xgb\n",
    "from hyperopt import fmin, tpe, hp, Trials, STATUS_OK\n",
    "from sklearn.metrics import accuracy_score\n",
    "\n",
    "# Define the hyperparameter space\n",
    "space = {\n",
    "    'n_estimators': hp.quniform('n_estimators', 100, 1000, 10),\n",
    "    'max_depth': hp.quniform('max_depth', 3, 10, 1),\n",
    "    'gamma': hp.uniform('gamma', 0.1, 0.5),\n",
    "    'reg_alpha': hp.quniform('reg_alpha', 0, 10, 1),\n",
    "    'min_child_weight': hp.quniform('min_child_weight', 1, 10, 1),\n",
    "    'colsample_bytree': hp.uniform('colsample_bytree', 0.5, 1),\n",
    "    'learning_rate': hp.uniform('learning_rate', 0.01, 0.3)\n",
    "}\n",
    "\n",
    "\n",
    "def objective(space):\n",
    "    clf = xgb.XGBClassifier(\n",
    "        n_estimators=int(space['n_estimators']),\n",
    "        max_depth=int(space['max_depth']),\n",
    "        gamma=space['gamma'],\n",
    "        reg_alpha=int(space['reg_alpha']),\n",
    "        min_child_weight=int(space['min_child_weight']),\n",
    "        colsample_bytree=space['colsample_bytree'],\n",
    "        learning_rate=space['learning_rate'],\n",
    "        objective='binary:logistic',\n",
    "        eval_metric='auc'\n",
    "    )\n",
    "\n",
    "    evaluation = [(X_test, y_test)]\n",
    "\n",
    "    clf.fit(X_train, y_train, eval_set=evaluation,\n",
    "            early_stopping_rounds=10, verbose=False)\n",
    "\n",
    "    pred = clf.predict(X_test)\n",
    "    accuracy = accuracy_score(y_test, pred)\n",
    "    print(\"SCORE:\", accuracy)\n",
    "    return {'loss': -accuracy, 'status': STATUS_OK}\n",
    "\n",
    "\n",
    "trials = Trials()\n",
    "\n",
    "best_hyperparams = fmin(fn=objective,\n",
    "                        space=space,\n",
    "                        algo=tpe.suggest,\n",
    "                        max_evals=150,\n",
    "                        trials=trials)\n",
    "\n",
    "print(\"The best hyperparameters are: \", best_hyperparams)"
   ]
  },
  {
   "cell_type": "code",
   "execution_count": null,
   "metadata": {},
   "outputs": [],
   "source": [
    "space = {'max_depth': hp.uniform(\"max_depth\", 3, 18),\n",
    "        'gamma': hp.uniform ('gamma', 1,9),\n",
    "        'reg_alpha' : hp.quniform('reg_alpha', 40,180,1),\n",
    "        'reg_lambda' : hp.uniform('reg_lambda', 0,1),\n",
    "        'colsample_bytree' : hp.uniform('colsample_bytree', 0.5,1),\n",
    "        'min_child_weight' : hp.uniform('min_child_weight', 260, 330),\n",
    "        'learning_rate' : hp.quniform('learning_rate', 0.05, 0.15, 0.01),\n",
    "        'n_estimators': hp.uniform('n_estimators', 270, 330),\n",
    "        'seed': 0\n",
    "    }\n",
    "\n",
    "\n",
    "\n",
    "# parm_xgb = {'max_depth': [5, 6, 7, 8, 9, 10, 11, 12], \n",
    "#     'n_estimators': [280, 290, 300, 305, 310, 315, 320], \n",
    "#     'learning_rate': [0.05, 0.07, 0.09, 0.1, 0.11, 0.13, 0.15]}"
   ]
  },
  {
   "cell_type": "code",
   "execution_count": null,
   "metadata": {},
   "outputs": [],
   "source": [
    "def objective(space):\n",
    "    clf=xgb.XGBClassifier(\n",
    "                    n_estimators = int(space['n_estimators']), \n",
    "                    max_depth = int(space['max_depth']), \n",
    "                    gamma = space['gamma'],\n",
    "                    reg_alpha = int(space['reg_alpha']),\n",
    "                    min_child_weight=int(space['min_child_weight']),\n",
    "                    colsample_bytree=int(space['colsample_bytree']),\n",
    "                    learning_rate = space['learning_rate'],\n",
    "                    boosting = 'gbdt',\n",
    "                    eval_metric=\"auc\",\n",
    "                    early_stopping_rounds=10\n",
    "                    )\n",
    "    \n",
    "    evaluation = [( X_test, y_test)]\n",
    "    \n",
    "    clf.fit(X_train, y_train,\n",
    "            eval_set=evaluation, \n",
    "\n",
    "            verbose=False)\n",
    "    \n",
    "\n",
    "    pred = clf.predict(X_test)\n",
    "    accuracy = accuracy_score(y_test, pred>0.9)\n",
    "    print (\"SCORE:\", accuracy)\n",
    "    return {'loss': -accuracy, 'status': STATUS_OK }"
   ]
  },
  {
   "cell_type": "code",
   "execution_count": null,
   "metadata": {},
   "outputs": [
    {
     "name": "stdout",
     "output_type": "stream",
     "text": [
      "[15:31:38] WARNING: /croot/xgboost-split_1675457761144/work/src/learner.cc:767: \n",
      "Parameters: { \"boosting\" } are not used.\n",
      "\n",
      "SCORE:                                                 \n",
      "0.49864864864864866                                    \n",
      "[15:31:38] WARNING: /croot/xgboost-split_1675457761144/work/src/learner.cc:767: \n",
      "Parameters: { \"boosting\" } are not used.\n",
      "\n",
      "SCORE:                                                                             \n",
      "0.49864864864864866                                                                \n",
      "[15:31:38] WARNING: /croot/xgboost-split_1675457761144/work/src/learner.cc:767:    \n",
      "Parameters: { \"boosting\" } are not used.\n",
      "\n",
      "SCORE:                                                                             \n",
      "0.49864864864864866                                                                \n",
      "[15:31:38] WARNING: /croot/xgboost-split_1675457761144/work/src/learner.cc:767:    \n",
      "Parameters: { \"boosting\" } are not used.\n",
      "\n",
      "SCORE:                                                                             \n",
      "0.49864864864864866                                                                \n",
      "[15:31:38] WARNING: /croot/xgboost-split_1675457761144/work/src/learner.cc:767:    \n",
      "Parameters: { \"boosting\" } are not used.\n",
      "\n",
      "SCORE:                                                                             \n",
      "0.49864864864864866                                                                \n",
      "[15:31:38] WARNING: /croot/xgboost-split_1675457761144/work/src/learner.cc:767:    \n",
      "Parameters: { \"boosting\" } are not used.\n",
      "\n",
      "SCORE:                                                                             \n",
      "0.49864864864864866                                                                \n",
      "[15:31:38] WARNING: /croot/xgboost-split_1675457761144/work/src/learner.cc:767:    \n",
      "Parameters: { \"boosting\" } are not used.\n",
      "\n",
      "SCORE:                                                                             \n",
      "0.49864864864864866                                                                \n",
      "[15:31:38] WARNING: /croot/xgboost-split_1675457761144/work/src/learner.cc:767:    \n",
      "Parameters: { \"boosting\" } are not used.\n",
      "\n",
      "SCORE:                                                                             \n",
      "0.49864864864864866                                                                \n",
      "[15:31:38] WARNING: /croot/xgboost-split_1675457761144/work/src/learner.cc:767:    \n",
      "Parameters: { \"boosting\" } are not used.\n",
      "\n",
      "SCORE:                                                                             \n",
      "0.49864864864864866                                                                \n",
      "[15:31:38] WARNING: /croot/xgboost-split_1675457761144/work/src/learner.cc:767:    \n",
      "Parameters: { \"boosting\" } are not used.\n",
      "\n",
      "SCORE:                                                                             \n",
      "0.49864864864864866                                                                \n",
      "[15:31:38] WARNING: /croot/xgboost-split_1675457761144/work/src/learner.cc:767:    \n",
      "Parameters: { \"boosting\" } are not used.\n",
      "\n",
      "SCORE:                                                                              \n",
      "0.49864864864864866                                                                 \n",
      "[15:31:38] WARNING: /croot/xgboost-split_1675457761144/work/src/learner.cc:767:     \n",
      "Parameters: { \"boosting\" } are not used.\n",
      "\n",
      "SCORE:                                                                              \n",
      "0.49864864864864866                                                                 \n",
      "[15:31:38] WARNING: /croot/xgboost-split_1675457761144/work/src/learner.cc:767:     \n",
      "Parameters: { \"boosting\" } are not used.\n",
      "\n",
      "SCORE:                                                                              \n",
      "0.49864864864864866                                                                 \n",
      "[15:31:38] WARNING: /croot/xgboost-split_1675457761144/work/src/learner.cc:767:     \n",
      "Parameters: { \"boosting\" } are not used.\n",
      "\n",
      "SCORE:                                                                              \n",
      "0.49864864864864866                                                                 \n",
      "[15:31:38] WARNING: /croot/xgboost-split_1675457761144/work/src/learner.cc:767:     \n",
      "Parameters: { \"boosting\" } are not used.\n",
      "\n",
      "SCORE:                                                                              \n",
      "0.49864864864864866                                                                 \n",
      "[15:31:38] WARNING: /croot/xgboost-split_1675457761144/work/src/learner.cc:767:     \n",
      "Parameters: { \"boosting\" } are not used.\n",
      "\n",
      "SCORE:                                                                              \n",
      "0.49864864864864866                                                                 \n",
      "[15:31:38] WARNING: /croot/xgboost-split_1675457761144/work/src/learner.cc:767:     \n",
      "Parameters: { \"boosting\" } are not used.\n",
      "\n",
      "SCORE:                                                                              \n",
      "0.49864864864864866                                                                 \n",
      "[15:31:38] WARNING: /croot/xgboost-split_1675457761144/work/src/learner.cc:767:     \n",
      "Parameters: { \"boosting\" } are not used.\n",
      "\n",
      "SCORE:                                                                              \n",
      "0.49864864864864866                                                                 \n",
      "[15:31:38] WARNING: /croot/xgboost-split_1675457761144/work/src/learner.cc:767:     \n",
      "Parameters: { \"boosting\" } are not used.\n",
      "\n",
      "SCORE:                                                                              \n",
      "0.49864864864864866                                                                 \n",
      "[15:31:38] WARNING: /croot/xgboost-split_1675457761144/work/src/learner.cc:767:     \n",
      "Parameters: { \"boosting\" } are not used.\n",
      "\n",
      "SCORE:                                                                              \n",
      "0.49864864864864866                                                                 \n",
      "[15:31:38] WARNING: /croot/xgboost-split_1675457761144/work/src/learner.cc:767:     \n",
      "Parameters: { \"boosting\" } are not used.\n",
      "\n",
      "SCORE:                                                                              \n",
      "0.49864864864864866                                                                 \n",
      "[15:31:38] WARNING: /croot/xgboost-split_1675457761144/work/src/learner.cc:767:     \n",
      "Parameters: { \"boosting\" } are not used.\n",
      "\n",
      "SCORE:                                                                              \n",
      "0.49864864864864866                                                                 \n",
      "[15:31:38] WARNING: /croot/xgboost-split_1675457761144/work/src/learner.cc:767:     \n",
      "Parameters: { \"boosting\" } are not used.\n",
      "\n",
      "SCORE:                                                                              \n",
      "0.49864864864864866                                                                 \n",
      "[15:31:39] WARNING: /croot/xgboost-split_1675457761144/work/src/learner.cc:767:     \n",
      "Parameters: { \"boosting\" } are not used.\n",
      "\n",
      "SCORE:                                                                              \n",
      "0.49864864864864866                                                                 \n",
      "[15:31:39] WARNING: /croot/xgboost-split_1675457761144/work/src/learner.cc:767:     \n",
      "Parameters: { \"boosting\" } are not used.\n",
      "\n",
      "SCORE:                                                                              \n",
      "0.49864864864864866                                                                 \n",
      "[15:31:39] WARNING: /croot/xgboost-split_1675457761144/work/src/learner.cc:767:     \n",
      "Parameters: { \"boosting\" } are not used.\n",
      "\n",
      "SCORE:                                                                              \n",
      "0.49864864864864866                                                                 \n",
      "[15:31:39] WARNING: /croot/xgboost-split_1675457761144/work/src/learner.cc:767:     \n",
      "Parameters: { \"boosting\" } are not used.\n",
      "\n",
      "SCORE:                                                                              \n",
      "0.49864864864864866                                                                 \n",
      "[15:31:39] WARNING: /croot/xgboost-split_1675457761144/work/src/learner.cc:767:     \n",
      "Parameters: { \"boosting\" } are not used.\n",
      "\n",
      "SCORE:                                                                              \n",
      "0.49864864864864866                                                                 \n",
      "[15:31:39] WARNING: /croot/xgboost-split_1675457761144/work/src/learner.cc:767:     \n",
      "Parameters: { \"boosting\" } are not used.\n",
      "\n",
      "SCORE:                                                                              \n",
      "0.49864864864864866                                                                 \n",
      "[15:31:39] WARNING: /croot/xgboost-split_1675457761144/work/src/learner.cc:767:     \n",
      "Parameters: { \"boosting\" } are not used.\n",
      "\n",
      "SCORE:                                                                              \n",
      "0.49864864864864866                                                                 \n",
      "[15:31:39] WARNING: /croot/xgboost-split_1675457761144/work/src/learner.cc:767:     \n",
      "Parameters: { \"boosting\" } are not used.\n",
      "\n",
      "SCORE:                                                                              \n",
      "0.49864864864864866                                                                 \n",
      "[15:31:39] WARNING: /croot/xgboost-split_1675457761144/work/src/learner.cc:767:     \n",
      "Parameters: { \"boosting\" } are not used.\n",
      "\n",
      "SCORE:                                                                              \n",
      "0.49864864864864866                                                                 \n",
      "[15:31:39] WARNING: /croot/xgboost-split_1675457761144/work/src/learner.cc:767:     \n",
      "Parameters: { \"boosting\" } are not used.\n",
      "\n",
      "SCORE:                                                                              \n",
      "0.49864864864864866                                                                 \n",
      "[15:31:39] WARNING: /croot/xgboost-split_1675457761144/work/src/learner.cc:767:     \n",
      "Parameters: { \"boosting\" } are not used.\n",
      "\n",
      "SCORE:                                                                              \n",
      "0.49864864864864866                                                                 \n",
      "[15:31:39] WARNING: /croot/xgboost-split_1675457761144/work/src/learner.cc:767:     \n",
      "Parameters: { \"boosting\" } are not used.\n",
      "\n",
      "SCORE:                                                                              \n",
      "0.49864864864864866                                                                 \n",
      "[15:31:39] WARNING: /croot/xgboost-split_1675457761144/work/src/learner.cc:767:     \n",
      "Parameters: { \"boosting\" } are not used.\n",
      "\n",
      "SCORE:                                                                              \n",
      "0.49864864864864866                                                                 \n",
      "[15:31:39] WARNING: /croot/xgboost-split_1675457761144/work/src/learner.cc:767:     \n",
      "Parameters: { \"boosting\" } are not used.\n",
      "\n",
      "SCORE:                                                                              \n",
      "0.49864864864864866                                                                 \n",
      "[15:31:39] WARNING: /croot/xgboost-split_1675457761144/work/src/learner.cc:767:     \n",
      "Parameters: { \"boosting\" } are not used.\n",
      "\n",
      "SCORE:                                                                              \n",
      "0.49864864864864866                                                                 \n",
      "[15:31:39] WARNING: /croot/xgboost-split_1675457761144/work/src/learner.cc:767:     \n",
      "Parameters: { \"boosting\" } are not used.\n",
      "\n",
      "SCORE:                                                                              \n",
      "0.49864864864864866                                                                 \n",
      "[15:31:39] WARNING: /croot/xgboost-split_1675457761144/work/src/learner.cc:767:     \n",
      "Parameters: { \"boosting\" } are not used.\n",
      "\n",
      "SCORE:                                                                              \n",
      "0.49864864864864866                                                                 \n",
      "[15:31:39] WARNING: /croot/xgboost-split_1675457761144/work/src/learner.cc:767:     \n",
      "Parameters: { \"boosting\" } are not used.\n",
      "\n",
      "SCORE:                                                                              \n",
      "0.49864864864864866                                                                 \n",
      "[15:31:39] WARNING: /croot/xgboost-split_1675457761144/work/src/learner.cc:767:     \n",
      "Parameters: { \"boosting\" } are not used.\n",
      "\n",
      "SCORE:                                                                              \n",
      "0.49864864864864866                                                                 \n",
      "[15:31:39] WARNING: /croot/xgboost-split_1675457761144/work/src/learner.cc:767:     \n",
      "Parameters: { \"boosting\" } are not used.\n",
      "\n",
      "SCORE:                                                                              \n",
      "0.49864864864864866                                                                 \n",
      "[15:31:39] WARNING: /croot/xgboost-split_1675457761144/work/src/learner.cc:767:     \n",
      "Parameters: { \"boosting\" } are not used.\n",
      "\n",
      "SCORE:                                                                              \n",
      "0.49864864864864866                                                                 \n",
      "[15:31:39] WARNING: /croot/xgboost-split_1675457761144/work/src/learner.cc:767:     \n",
      "Parameters: { \"boosting\" } are not used.\n",
      "\n",
      "SCORE:                                                                              \n",
      "0.49864864864864866                                                                 \n",
      "[15:31:39] WARNING: /croot/xgboost-split_1675457761144/work/src/learner.cc:767:     \n",
      "Parameters: { \"boosting\" } are not used.\n",
      "\n",
      "SCORE:                                                                              \n",
      "0.49864864864864866                                                                 \n",
      "[15:31:39] WARNING: /croot/xgboost-split_1675457761144/work/src/learner.cc:767:     \n",
      "Parameters: { \"boosting\" } are not used.\n",
      "\n",
      "SCORE:                                                                              \n",
      "0.49864864864864866                                                                 \n",
      "[15:31:39] WARNING: /croot/xgboost-split_1675457761144/work/src/learner.cc:767:     \n",
      "Parameters: { \"boosting\" } are not used.\n",
      "\n",
      "SCORE:                                                                              \n",
      "0.49864864864864866                                                                 \n",
      "[15:31:39] WARNING: /croot/xgboost-split_1675457761144/work/src/learner.cc:767:     \n",
      "Parameters: { \"boosting\" } are not used.\n",
      "\n",
      "SCORE:                                                                              \n",
      "0.49864864864864866                                                                 \n",
      "[15:31:39] WARNING: /croot/xgboost-split_1675457761144/work/src/learner.cc:767:     \n",
      "Parameters: { \"boosting\" } are not used.\n",
      "\n",
      "SCORE:                                                                              \n",
      "0.49864864864864866                                                                 \n",
      "[15:31:39] WARNING: /croot/xgboost-split_1675457761144/work/src/learner.cc:767:     \n",
      "Parameters: { \"boosting\" } are not used.\n",
      "\n",
      "SCORE:                                                                              \n",
      "0.49864864864864866                                                                 \n",
      "[15:31:39] WARNING: /croot/xgboost-split_1675457761144/work/src/learner.cc:767:     \n",
      "Parameters: { \"boosting\" } are not used.\n",
      "\n",
      "SCORE:                                                                              \n",
      "0.49864864864864866                                                                 \n",
      "[15:31:39] WARNING: /croot/xgboost-split_1675457761144/work/src/learner.cc:767:     \n",
      "Parameters: { \"boosting\" } are not used.\n",
      "\n",
      "SCORE:                                                                              \n",
      "0.49864864864864866                                                                 \n",
      "[15:31:39] WARNING: /croot/xgboost-split_1675457761144/work/src/learner.cc:767:     \n",
      "Parameters: { \"boosting\" } are not used.\n",
      "\n",
      "SCORE:                                                                              \n",
      "0.49864864864864866                                                                 \n",
      "[15:31:39] WARNING: /croot/xgboost-split_1675457761144/work/src/learner.cc:767:     \n",
      "Parameters: { \"boosting\" } are not used.\n",
      "\n",
      "SCORE:                                                                              \n",
      "0.49864864864864866                                                                 \n",
      "[15:31:39] WARNING: /croot/xgboost-split_1675457761144/work/src/learner.cc:767:     \n",
      "Parameters: { \"boosting\" } are not used.\n",
      "\n",
      "SCORE:                                                                              \n",
      "0.49864864864864866                                                                 \n",
      "[15:31:39] WARNING: /croot/xgboost-split_1675457761144/work/src/learner.cc:767:     \n",
      "Parameters: { \"boosting\" } are not used.\n",
      "\n",
      "SCORE:                                                                              \n",
      "0.49864864864864866                                                                 \n",
      "[15:31:40] WARNING: /croot/xgboost-split_1675457761144/work/src/learner.cc:767:     \n",
      "Parameters: { \"boosting\" } are not used.\n",
      "\n",
      "SCORE:                                                                              \n",
      "0.49864864864864866                                                                 \n",
      "[15:31:40] WARNING: /croot/xgboost-split_1675457761144/work/src/learner.cc:767:     \n",
      "Parameters: { \"boosting\" } are not used.\n",
      "\n",
      "SCORE:                                                                              \n",
      "0.49864864864864866                                                                 \n",
      "[15:31:40] WARNING: /croot/xgboost-split_1675457761144/work/src/learner.cc:767:     \n",
      "Parameters: { \"boosting\" } are not used.\n",
      "\n",
      "SCORE:                                                                              \n",
      "0.49864864864864866                                                                 \n",
      "[15:31:40] WARNING: /croot/xgboost-split_1675457761144/work/src/learner.cc:767:     \n",
      "Parameters: { \"boosting\" } are not used.\n",
      "\n",
      "SCORE:                                                                              \n",
      "0.49864864864864866                                                                 \n",
      "[15:31:40] WARNING: /croot/xgboost-split_1675457761144/work/src/learner.cc:767:     \n",
      "Parameters: { \"boosting\" } are not used.\n",
      "\n",
      "SCORE:                                                                              \n",
      "0.49864864864864866                                                                 \n",
      "[15:31:40] WARNING: /croot/xgboost-split_1675457761144/work/src/learner.cc:767:     \n",
      "Parameters: { \"boosting\" } are not used.\n",
      "\n",
      "SCORE:                                                                              \n",
      "0.49864864864864866                                                                 \n",
      "[15:31:40] WARNING: /croot/xgboost-split_1675457761144/work/src/learner.cc:767:     \n",
      "Parameters: { \"boosting\" } are not used.\n",
      "\n",
      "SCORE:                                                                              \n",
      "0.49864864864864866                                                                 \n",
      "[15:31:40] WARNING: /croot/xgboost-split_1675457761144/work/src/learner.cc:767:     \n",
      "Parameters: { \"boosting\" } are not used.\n",
      "\n",
      "SCORE:                                                                              \n",
      "0.49864864864864866                                                                 \n",
      "[15:31:40] WARNING: /croot/xgboost-split_1675457761144/work/src/learner.cc:767:     \n",
      "Parameters: { \"boosting\" } are not used.\n",
      "\n",
      "SCORE:                                                                              \n",
      "0.49864864864864866                                                                 \n",
      "[15:31:40] WARNING: /croot/xgboost-split_1675457761144/work/src/learner.cc:767:     \n",
      "Parameters: { \"boosting\" } are not used.\n",
      "\n",
      "SCORE:                                                                              \n",
      "0.49864864864864866                                                                 \n",
      "[15:31:40] WARNING: /croot/xgboost-split_1675457761144/work/src/learner.cc:767:     \n",
      "Parameters: { \"boosting\" } are not used.\n",
      "\n",
      "SCORE:                                                                              \n",
      "0.49864864864864866                                                                 \n",
      "[15:31:40] WARNING: /croot/xgboost-split_1675457761144/work/src/learner.cc:767:     \n",
      "Parameters: { \"boosting\" } are not used.\n",
      "\n",
      "SCORE:                                                                              \n",
      "0.49864864864864866                                                                 \n",
      "[15:31:40] WARNING: /croot/xgboost-split_1675457761144/work/src/learner.cc:767:     \n",
      "Parameters: { \"boosting\" } are not used.\n",
      "\n",
      "SCORE:                                                                              \n",
      "0.49864864864864866                                                                 \n",
      "[15:31:40] WARNING: /croot/xgboost-split_1675457761144/work/src/learner.cc:767:     \n",
      "Parameters: { \"boosting\" } are not used.\n",
      "\n",
      "SCORE:                                                                              \n",
      "0.49864864864864866                                                                 \n",
      "[15:31:40] WARNING: /croot/xgboost-split_1675457761144/work/src/learner.cc:767:     \n",
      "Parameters: { \"boosting\" } are not used.\n",
      "\n",
      "SCORE:                                                                              \n",
      "0.49864864864864866                                                                 \n",
      "[15:31:40] WARNING: /croot/xgboost-split_1675457761144/work/src/learner.cc:767:     \n",
      "Parameters: { \"boosting\" } are not used.\n",
      "\n",
      "SCORE:                                                                              \n",
      "0.49864864864864866                                                                 \n",
      "[15:31:40] WARNING: /croot/xgboost-split_1675457761144/work/src/learner.cc:767:     \n",
      "Parameters: { \"boosting\" } are not used.\n",
      "\n",
      "SCORE:                                                                              \n",
      "0.49864864864864866                                                                 \n",
      "[15:31:40] WARNING: /croot/xgboost-split_1675457761144/work/src/learner.cc:767:     \n",
      "Parameters: { \"boosting\" } are not used.\n",
      "\n",
      "SCORE:                                                                              \n",
      "0.49864864864864866                                                                 \n",
      "[15:31:40] WARNING: /croot/xgboost-split_1675457761144/work/src/learner.cc:767:     \n",
      "Parameters: { \"boosting\" } are not used.\n",
      "\n",
      "SCORE:                                                                              \n",
      "0.49864864864864866                                                                 \n",
      "[15:31:40] WARNING: /croot/xgboost-split_1675457761144/work/src/learner.cc:767:     \n",
      "Parameters: { \"boosting\" } are not used.\n",
      "\n",
      "SCORE:                                                                              \n",
      "0.49864864864864866                                                                 \n",
      "[15:31:40] WARNING: /croot/xgboost-split_1675457761144/work/src/learner.cc:767:     \n",
      "Parameters: { \"boosting\" } are not used.\n",
      "\n",
      "SCORE:                                                                              \n",
      "0.49864864864864866                                                                 \n",
      "[15:31:40] WARNING: /croot/xgboost-split_1675457761144/work/src/learner.cc:767:     \n",
      "Parameters: { \"boosting\" } are not used.\n",
      "\n",
      "SCORE:                                                                              \n",
      "0.49864864864864866                                                                 \n",
      "[15:31:40] WARNING: /croot/xgboost-split_1675457761144/work/src/learner.cc:767:     \n",
      "Parameters: { \"boosting\" } are not used.\n",
      "\n",
      "SCORE:                                                                              \n",
      "0.49864864864864866                                                                 \n",
      "[15:31:40] WARNING: /croot/xgboost-split_1675457761144/work/src/learner.cc:767:     \n",
      "Parameters: { \"boosting\" } are not used.\n",
      "\n",
      "SCORE:                                                                              \n",
      "0.49864864864864866                                                                 \n",
      "[15:31:40] WARNING: /croot/xgboost-split_1675457761144/work/src/learner.cc:767:     \n",
      "Parameters: { \"boosting\" } are not used.\n",
      "\n",
      "SCORE:                                                                              \n",
      "0.49864864864864866                                                                 \n",
      "[15:31:40] WARNING: /croot/xgboost-split_1675457761144/work/src/learner.cc:767:     \n",
      "Parameters: { \"boosting\" } are not used.\n",
      "\n",
      "SCORE:                                                                              \n",
      "0.49864864864864866                                                                 \n",
      "[15:31:40] WARNING: /croot/xgboost-split_1675457761144/work/src/learner.cc:767:     \n",
      "Parameters: { \"boosting\" } are not used.\n",
      "\n",
      "SCORE:                                                                              \n",
      "0.49864864864864866                                                                 \n",
      "[15:31:40] WARNING: /croot/xgboost-split_1675457761144/work/src/learner.cc:767:     \n",
      "Parameters: { \"boosting\" } are not used.\n",
      "\n",
      "SCORE:                                                                              \n",
      "0.49864864864864866                                                                 \n",
      "[15:31:40] WARNING: /croot/xgboost-split_1675457761144/work/src/learner.cc:767:     \n",
      "Parameters: { \"boosting\" } are not used.\n",
      "\n",
      "SCORE:                                                                              \n",
      "0.49864864864864866                                                                 \n",
      "[15:31:40] WARNING: /croot/xgboost-split_1675457761144/work/src/learner.cc:767:     \n",
      "Parameters: { \"boosting\" } are not used.\n",
      "\n",
      "SCORE:                                                                              \n",
      "0.49864864864864866                                                                 \n",
      "[15:31:40] WARNING: /croot/xgboost-split_1675457761144/work/src/learner.cc:767:     \n",
      "Parameters: { \"boosting\" } are not used.\n",
      "\n",
      "SCORE:                                                                              \n",
      "0.49864864864864866                                                                 \n",
      "[15:31:40] WARNING: /croot/xgboost-split_1675457761144/work/src/learner.cc:767:     \n",
      "Parameters: { \"boosting\" } are not used.\n",
      "\n",
      "SCORE:                                                                              \n",
      "0.49864864864864866                                                                 \n",
      "[15:31:40] WARNING: /croot/xgboost-split_1675457761144/work/src/learner.cc:767:     \n",
      "Parameters: { \"boosting\" } are not used.\n",
      "\n",
      "SCORE:                                                                              \n",
      "0.49864864864864866                                                                 \n",
      "[15:31:41] WARNING: /croot/xgboost-split_1675457761144/work/src/learner.cc:767:     \n",
      "Parameters: { \"boosting\" } are not used.\n",
      "\n",
      "SCORE:                                                                              \n",
      "0.49864864864864866                                                                 \n",
      "[15:31:41] WARNING: /croot/xgboost-split_1675457761144/work/src/learner.cc:767:     \n",
      "Parameters: { \"boosting\" } are not used.\n",
      "\n",
      "SCORE:                                                                              \n",
      "0.49864864864864866                                                                 \n",
      "[15:31:41] WARNING: /croot/xgboost-split_1675457761144/work/src/learner.cc:767:     \n",
      "Parameters: { \"boosting\" } are not used.\n",
      "\n",
      "SCORE:                                                                              \n",
      "0.49864864864864866                                                                 \n",
      "[15:31:41] WARNING: /croot/xgboost-split_1675457761144/work/src/learner.cc:767:     \n",
      "Parameters: { \"boosting\" } are not used.\n",
      "\n",
      "SCORE:                                                                              \n",
      "0.49864864864864866                                                                 \n",
      "[15:31:41] WARNING: /croot/xgboost-split_1675457761144/work/src/learner.cc:767:     \n",
      "Parameters: { \"boosting\" } are not used.\n",
      "\n",
      "SCORE:                                                                              \n",
      "0.49864864864864866                                                                 \n",
      "[15:31:41] WARNING: /croot/xgboost-split_1675457761144/work/src/learner.cc:767:     \n",
      "Parameters: { \"boosting\" } are not used.\n",
      "\n",
      "SCORE:                                                                              \n",
      "0.49864864864864866                                                                 \n",
      "[15:31:41] WARNING: /croot/xgboost-split_1675457761144/work/src/learner.cc:767:     \n",
      "Parameters: { \"boosting\" } are not used.\n",
      "\n",
      "SCORE:                                                                              \n",
      "0.49864864864864866                                                                 \n",
      "[15:31:41] WARNING: /croot/xgboost-split_1675457761144/work/src/learner.cc:767:     \n",
      "Parameters: { \"boosting\" } are not used.\n",
      "\n",
      "SCORE:                                                                              \n",
      "0.49864864864864866                                                                 \n",
      "[15:31:41] WARNING: /croot/xgboost-split_1675457761144/work/src/learner.cc:767:     \n",
      "Parameters: { \"boosting\" } are not used.\n",
      "\n",
      "SCORE:                                                                              \n",
      "0.49864864864864866                                                                 \n",
      "[15:31:41] WARNING: /croot/xgboost-split_1675457761144/work/src/learner.cc:767:     \n",
      "Parameters: { \"boosting\" } are not used.\n",
      "\n",
      "SCORE:                                                                              \n",
      "0.49864864864864866                                                                 \n",
      "[15:31:41] WARNING: /croot/xgboost-split_1675457761144/work/src/learner.cc:767:     \n",
      "Parameters: { \"boosting\" } are not used.\n",
      "\n",
      "SCORE:                                                                               \n",
      "0.49864864864864866                                                                  \n",
      "[15:31:41] WARNING: /croot/xgboost-split_1675457761144/work/src/learner.cc:767:      \n",
      "Parameters: { \"boosting\" } are not used.\n",
      "\n",
      "SCORE:                                                                               \n",
      "0.49864864864864866                                                                  \n",
      "[15:31:41] WARNING: /croot/xgboost-split_1675457761144/work/src/learner.cc:767:      \n",
      "Parameters: { \"boosting\" } are not used.\n",
      "\n",
      "SCORE:                                                                               \n",
      "0.49864864864864866                                                                  \n",
      "[15:31:41] WARNING: /croot/xgboost-split_1675457761144/work/src/learner.cc:767:      \n",
      "Parameters: { \"boosting\" } are not used.\n",
      "\n",
      "SCORE:                                                                               \n",
      "0.49864864864864866                                                                  \n",
      "[15:31:41] WARNING: /croot/xgboost-split_1675457761144/work/src/learner.cc:767:      \n",
      "Parameters: { \"boosting\" } are not used.\n",
      "\n",
      "SCORE:                                                                               \n",
      "0.49864864864864866                                                                  \n",
      "[15:31:41] WARNING: /croot/xgboost-split_1675457761144/work/src/learner.cc:767:      \n",
      "Parameters: { \"boosting\" } are not used.\n",
      "\n",
      "SCORE:                                                                               \n",
      "0.49864864864864866                                                                  \n",
      "[15:31:41] WARNING: /croot/xgboost-split_1675457761144/work/src/learner.cc:767:      \n",
      "Parameters: { \"boosting\" } are not used.\n",
      "\n",
      "SCORE:                                                                               \n",
      "0.49864864864864866                                                                  \n",
      "[15:31:41] WARNING: /croot/xgboost-split_1675457761144/work/src/learner.cc:767:      \n",
      "Parameters: { \"boosting\" } are not used.\n",
      "\n",
      "SCORE:                                                                               \n",
      "0.49864864864864866                                                                  \n",
      "[15:31:41] WARNING: /croot/xgboost-split_1675457761144/work/src/learner.cc:767:      \n",
      "Parameters: { \"boosting\" } are not used.\n",
      "\n",
      "SCORE:                                                                               \n",
      "0.49864864864864866                                                                  \n",
      "[15:31:41] WARNING: /croot/xgboost-split_1675457761144/work/src/learner.cc:767:      \n",
      "Parameters: { \"boosting\" } are not used.\n",
      "\n",
      "SCORE:                                                                               \n",
      "0.49864864864864866                                                                  \n",
      "[15:31:41] WARNING: /croot/xgboost-split_1675457761144/work/src/learner.cc:767:      \n",
      "Parameters: { \"boosting\" } are not used.\n",
      "\n",
      "SCORE:                                                                               \n",
      "0.49864864864864866                                                                  \n",
      "[15:31:41] WARNING: /croot/xgboost-split_1675457761144/work/src/learner.cc:767:      \n",
      "Parameters: { \"boosting\" } are not used.\n",
      "\n",
      "SCORE:                                                                               \n",
      "0.49864864864864866                                                                  \n",
      "[15:31:41] WARNING: /croot/xgboost-split_1675457761144/work/src/learner.cc:767:      \n",
      "Parameters: { \"boosting\" } are not used.\n",
      "\n",
      "SCORE:                                                                               \n",
      "0.49864864864864866                                                                  \n",
      "[15:31:41] WARNING: /croot/xgboost-split_1675457761144/work/src/learner.cc:767:      \n",
      "Parameters: { \"boosting\" } are not used.\n",
      "\n",
      "SCORE:                                                                               \n",
      "0.49864864864864866                                                                  \n",
      "[15:31:41] WARNING: /croot/xgboost-split_1675457761144/work/src/learner.cc:767:      \n",
      "Parameters: { \"boosting\" } are not used.\n",
      "\n",
      "SCORE:                                                                               \n",
      "0.49864864864864866                                                                  \n",
      "[15:31:41] WARNING: /croot/xgboost-split_1675457761144/work/src/learner.cc:767:      \n",
      "Parameters: { \"boosting\" } are not used.\n",
      "\n",
      "SCORE:                                                                               \n",
      "0.49864864864864866                                                                  \n",
      "[15:31:41] WARNING: /croot/xgboost-split_1675457761144/work/src/learner.cc:767:      \n",
      "Parameters: { \"boosting\" } are not used.\n",
      "\n",
      "SCORE:                                                                               \n",
      "0.49864864864864866                                                                  \n",
      "[15:31:41] WARNING: /croot/xgboost-split_1675457761144/work/src/learner.cc:767:      \n",
      "Parameters: { \"boosting\" } are not used.\n",
      "\n",
      "SCORE:                                                                               \n",
      "0.49864864864864866                                                                  \n",
      "[15:31:41] WARNING: /croot/xgboost-split_1675457761144/work/src/learner.cc:767:      \n",
      "Parameters: { \"boosting\" } are not used.\n",
      "\n",
      "SCORE:                                                                               \n",
      "0.49864864864864866                                                                  \n",
      "[15:31:41] WARNING: /croot/xgboost-split_1675457761144/work/src/learner.cc:767:      \n",
      "Parameters: { \"boosting\" } are not used.\n",
      "\n",
      "SCORE:                                                                               \n",
      "0.49864864864864866                                                                  \n",
      "[15:31:42] WARNING: /croot/xgboost-split_1675457761144/work/src/learner.cc:767:      \n",
      "Parameters: { \"boosting\" } are not used.\n",
      "\n",
      "SCORE:                                                                               \n",
      "0.49864864864864866                                                                  \n",
      "[15:31:42] WARNING: /croot/xgboost-split_1675457761144/work/src/learner.cc:767:      \n",
      "Parameters: { \"boosting\" } are not used.\n",
      "\n",
      "SCORE:                                                                               \n",
      "0.49864864864864866                                                                  \n",
      "[15:31:42] WARNING: /croot/xgboost-split_1675457761144/work/src/learner.cc:767:      \n",
      "Parameters: { \"boosting\" } are not used.\n",
      "\n",
      "SCORE:                                                                               \n",
      "0.49864864864864866                                                                  \n",
      "[15:31:42] WARNING: /croot/xgboost-split_1675457761144/work/src/learner.cc:767:      \n",
      "Parameters: { \"boosting\" } are not used.\n",
      "\n",
      "SCORE:                                                                               \n",
      "0.49864864864864866                                                                  \n",
      "[15:31:42] WARNING: /croot/xgboost-split_1675457761144/work/src/learner.cc:767:      \n",
      "Parameters: { \"boosting\" } are not used.\n",
      "\n",
      "SCORE:                                                                               \n",
      "0.49864864864864866                                                                  \n",
      "[15:31:42] WARNING: /croot/xgboost-split_1675457761144/work/src/learner.cc:767:      \n",
      "Parameters: { \"boosting\" } are not used.\n",
      "\n",
      "SCORE:                                                                               \n",
      "0.49864864864864866                                                                  \n",
      "[15:31:42] WARNING: /croot/xgboost-split_1675457761144/work/src/learner.cc:767:      \n",
      "Parameters: { \"boosting\" } are not used.\n",
      "\n",
      "SCORE:                                                                               \n",
      "0.49864864864864866                                                                  \n",
      "[15:31:42] WARNING: /croot/xgboost-split_1675457761144/work/src/learner.cc:767:      \n",
      "Parameters: { \"boosting\" } are not used.\n",
      "\n",
      "SCORE:                                                                               \n",
      "0.49864864864864866                                                                  \n",
      "[15:31:42] WARNING: /croot/xgboost-split_1675457761144/work/src/learner.cc:767:      \n",
      "Parameters: { \"boosting\" } are not used.\n",
      "\n",
      "SCORE:                                                                               \n",
      "0.49864864864864866                                                                  \n",
      "[15:31:42] WARNING: /croot/xgboost-split_1675457761144/work/src/learner.cc:767:      \n",
      "Parameters: { \"boosting\" } are not used.\n",
      "\n",
      "SCORE:                                                                               \n",
      "0.49864864864864866                                                                  \n",
      "[15:31:42] WARNING: /croot/xgboost-split_1675457761144/work/src/learner.cc:767:      \n",
      "Parameters: { \"boosting\" } are not used.\n",
      "\n",
      "SCORE:                                                                               \n",
      "0.49864864864864866                                                                  \n",
      "[15:31:42] WARNING: /croot/xgboost-split_1675457761144/work/src/learner.cc:767:      \n",
      "Parameters: { \"boosting\" } are not used.\n",
      "\n",
      "SCORE:                                                                               \n",
      "0.49864864864864866                                                                  \n",
      "[15:31:42] WARNING: /croot/xgboost-split_1675457761144/work/src/learner.cc:767:      \n",
      "Parameters: { \"boosting\" } are not used.\n",
      "\n",
      "SCORE:                                                                               \n",
      "0.49864864864864866                                                                  \n",
      "[15:31:42] WARNING: /croot/xgboost-split_1675457761144/work/src/learner.cc:767:      \n",
      "Parameters: { \"boosting\" } are not used.\n",
      "\n",
      "SCORE:                                                                               \n",
      "0.49864864864864866                                                                  \n",
      "[15:31:42] WARNING: /croot/xgboost-split_1675457761144/work/src/learner.cc:767:      \n",
      "Parameters: { \"boosting\" } are not used.\n",
      "\n",
      "SCORE:                                                                               \n",
      "0.49864864864864866                                                                  \n",
      "[15:31:42] WARNING: /croot/xgboost-split_1675457761144/work/src/learner.cc:767:      \n",
      "Parameters: { \"boosting\" } are not used.\n",
      "\n",
      "SCORE:                                                                               \n",
      "0.49864864864864866                                                                  \n",
      "[15:31:42] WARNING: /croot/xgboost-split_1675457761144/work/src/learner.cc:767:      \n",
      "Parameters: { \"boosting\" } are not used.\n",
      "\n",
      "SCORE:                                                                               \n",
      "0.49864864864864866                                                                  \n",
      "[15:31:42] WARNING: /croot/xgboost-split_1675457761144/work/src/learner.cc:767:      \n",
      "Parameters: { \"boosting\" } are not used.\n",
      "\n",
      "SCORE:                                                                               \n",
      "0.49864864864864866                                                                  \n",
      "[15:31:42] WARNING: /croot/xgboost-split_1675457761144/work/src/learner.cc:767:      \n",
      "Parameters: { \"boosting\" } are not used.\n",
      "\n",
      "SCORE:                                                                               \n",
      "0.49864864864864866                                                                  \n",
      "[15:31:42] WARNING: /croot/xgboost-split_1675457761144/work/src/learner.cc:767:      \n",
      "Parameters: { \"boosting\" } are not used.\n",
      "\n",
      "SCORE:                                                                               \n",
      "0.49864864864864866                                                                  \n",
      "[15:31:42] WARNING: /croot/xgboost-split_1675457761144/work/src/learner.cc:767:      \n",
      "Parameters: { \"boosting\" } are not used.\n",
      "\n",
      "SCORE:                                                                               \n",
      "0.49864864864864866                                                                  \n",
      "[15:31:42] WARNING: /croot/xgboost-split_1675457761144/work/src/learner.cc:767:      \n",
      "Parameters: { \"boosting\" } are not used.\n",
      "\n",
      "SCORE:                                                                               \n",
      "0.49864864864864866                                                                  \n",
      "[15:31:42] WARNING: /croot/xgboost-split_1675457761144/work/src/learner.cc:767:      \n",
      "Parameters: { \"boosting\" } are not used.\n",
      "\n",
      "SCORE:                                                                               \n",
      "0.49864864864864866                                                                  \n",
      "[15:31:42] WARNING: /croot/xgboost-split_1675457761144/work/src/learner.cc:767:      \n",
      "Parameters: { \"boosting\" } are not used.\n",
      "\n",
      "SCORE:                                                                               \n",
      "0.49864864864864866                                                                  \n",
      "[15:31:42] WARNING: /croot/xgboost-split_1675457761144/work/src/learner.cc:767:      \n",
      "Parameters: { \"boosting\" } are not used.\n",
      "\n",
      "SCORE:                                                                               \n",
      "0.49864864864864866                                                                  \n",
      "[15:31:42] WARNING: /croot/xgboost-split_1675457761144/work/src/learner.cc:767:      \n",
      "Parameters: { \"boosting\" } are not used.\n",
      "\n",
      "SCORE:                                                                               \n",
      "0.49864864864864866                                                                  \n",
      "[15:31:42] WARNING: /croot/xgboost-split_1675457761144/work/src/learner.cc:767:      \n",
      "Parameters: { \"boosting\" } are not used.\n",
      "\n",
      "SCORE:                                                                               \n",
      "0.49864864864864866                                                                  \n",
      "[15:31:42] WARNING: /croot/xgboost-split_1675457761144/work/src/learner.cc:767:      \n",
      "Parameters: { \"boosting\" } are not used.\n",
      "\n",
      "SCORE:                                                                               \n",
      "0.49864864864864866                                                                  \n",
      "[15:31:43] WARNING: /croot/xgboost-split_1675457761144/work/src/learner.cc:767:      \n",
      "Parameters: { \"boosting\" } are not used.\n",
      "\n",
      "SCORE:                                                                               \n",
      "0.49864864864864866                                                                  \n",
      "[15:31:43] WARNING: /croot/xgboost-split_1675457761144/work/src/learner.cc:767:      \n",
      "Parameters: { \"boosting\" } are not used.\n",
      "\n",
      "SCORE:                                                                               \n",
      "0.49864864864864866                                                                  \n",
      "100%|██████████| 150/150 [00:04<00:00, 32.18trial/s, best loss: -0.49864864864864866]\n"
     ]
    }
   ],
   "source": [
    "trials = Trials()\n",
    "\n",
    "best_hyperparams = fmin(fn = objective,\n",
    "                        space = space,\n",
    "                        algo = tpe.suggest,\n",
    "                        max_evals =150,\n",
    "                        trials = trials)"
   ]
  },
  {
   "cell_type": "code",
   "execution_count": null,
   "metadata": {},
   "outputs": [
    {
     "name": "stdout",
     "output_type": "stream",
     "text": [
      "The best hyperparameters are :  \n",
      "\n",
      "{'colsample_bytree': 0.6546928031007598, 'gamma': 1.2859835549767666, 'max_depth': 8.0, 'min_child_weight': 290.0, 'reg_alpha': 129.0, 'reg_lambda': 0.9486924091107136}\n"
     ]
    }
   ],
   "source": [
    "print(\"The best hyperparameters are : \",\"\\n\")\n",
    "print(best_hyperparams)"
   ]
  },
  {
   "cell_type": "code",
   "execution_count": null,
   "metadata": {},
   "outputs": [
    {
     "name": "stdout",
     "output_type": "stream",
     "text": [
      "[{'loss': -0.49864864864864866, 'status': 'ok'}, {'loss': -0.49864864864864866, 'status': 'ok'}, {'loss': -0.49864864864864866, 'status': 'ok'}, {'loss': -0.49864864864864866, 'status': 'ok'}, {'loss': -0.49864864864864866, 'status': 'ok'}, {'loss': -0.49864864864864866, 'status': 'ok'}, {'loss': -0.49864864864864866, 'status': 'ok'}, {'loss': -0.49864864864864866, 'status': 'ok'}, {'loss': -0.49864864864864866, 'status': 'ok'}, {'loss': -0.49864864864864866, 'status': 'ok'}, {'loss': -0.49864864864864866, 'status': 'ok'}, {'loss': -0.49864864864864866, 'status': 'ok'}, {'loss': -0.49864864864864866, 'status': 'ok'}, {'loss': -0.49864864864864866, 'status': 'ok'}, {'loss': -0.49864864864864866, 'status': 'ok'}, {'loss': -0.49864864864864866, 'status': 'ok'}, {'loss': -0.49864864864864866, 'status': 'ok'}, {'loss': -0.49864864864864866, 'status': 'ok'}, {'loss': -0.49864864864864866, 'status': 'ok'}, {'loss': -0.49864864864864866, 'status': 'ok'}, {'loss': -0.49864864864864866, 'status': 'ok'}, {'loss': -0.49864864864864866, 'status': 'ok'}, {'loss': -0.49864864864864866, 'status': 'ok'}, {'loss': -0.49864864864864866, 'status': 'ok'}, {'loss': -0.49864864864864866, 'status': 'ok'}, {'loss': -0.49864864864864866, 'status': 'ok'}, {'loss': -0.49864864864864866, 'status': 'ok'}, {'loss': -0.49864864864864866, 'status': 'ok'}, {'loss': -0.49864864864864866, 'status': 'ok'}, {'loss': -0.49864864864864866, 'status': 'ok'}, {'loss': -0.49864864864864866, 'status': 'ok'}, {'loss': -0.49864864864864866, 'status': 'ok'}, {'loss': -0.49864864864864866, 'status': 'ok'}, {'loss': -0.49864864864864866, 'status': 'ok'}, {'loss': -0.49864864864864866, 'status': 'ok'}, {'loss': -0.49864864864864866, 'status': 'ok'}, {'loss': -0.49864864864864866, 'status': 'ok'}, {'loss': -0.49864864864864866, 'status': 'ok'}, {'loss': -0.49864864864864866, 'status': 'ok'}, {'loss': -0.49864864864864866, 'status': 'ok'}, {'loss': -0.49864864864864866, 'status': 'ok'}, {'loss': -0.49864864864864866, 'status': 'ok'}, {'loss': -0.49864864864864866, 'status': 'ok'}, {'loss': -0.49864864864864866, 'status': 'ok'}, {'loss': -0.49864864864864866, 'status': 'ok'}, {'loss': -0.49864864864864866, 'status': 'ok'}, {'loss': -0.49864864864864866, 'status': 'ok'}, {'loss': -0.49864864864864866, 'status': 'ok'}, {'loss': -0.49864864864864866, 'status': 'ok'}, {'loss': -0.49864864864864866, 'status': 'ok'}, {'loss': -0.49864864864864866, 'status': 'ok'}, {'loss': -0.49864864864864866, 'status': 'ok'}, {'loss': -0.49864864864864866, 'status': 'ok'}, {'loss': -0.49864864864864866, 'status': 'ok'}, {'loss': -0.49864864864864866, 'status': 'ok'}, {'loss': -0.49864864864864866, 'status': 'ok'}, {'loss': -0.49864864864864866, 'status': 'ok'}, {'loss': -0.49864864864864866, 'status': 'ok'}, {'loss': -0.49864864864864866, 'status': 'ok'}, {'loss': -0.49864864864864866, 'status': 'ok'}, {'loss': -0.49864864864864866, 'status': 'ok'}, {'loss': -0.49864864864864866, 'status': 'ok'}, {'loss': -0.49864864864864866, 'status': 'ok'}, {'loss': -0.49864864864864866, 'status': 'ok'}, {'loss': -0.49864864864864866, 'status': 'ok'}, {'loss': -0.49864864864864866, 'status': 'ok'}, {'loss': -0.49864864864864866, 'status': 'ok'}, {'loss': -0.49864864864864866, 'status': 'ok'}, {'loss': -0.49864864864864866, 'status': 'ok'}, {'loss': -0.49864864864864866, 'status': 'ok'}, {'loss': -0.49864864864864866, 'status': 'ok'}, {'loss': -0.49864864864864866, 'status': 'ok'}, {'loss': -0.49864864864864866, 'status': 'ok'}, {'loss': -0.49864864864864866, 'status': 'ok'}, {'loss': -0.49864864864864866, 'status': 'ok'}, {'loss': -0.49864864864864866, 'status': 'ok'}, {'loss': -0.49864864864864866, 'status': 'ok'}, {'loss': -0.49864864864864866, 'status': 'ok'}, {'loss': -0.49864864864864866, 'status': 'ok'}, {'loss': -0.49864864864864866, 'status': 'ok'}, {'loss': -0.49864864864864866, 'status': 'ok'}, {'loss': -0.49864864864864866, 'status': 'ok'}, {'loss': -0.49864864864864866, 'status': 'ok'}, {'loss': -0.49864864864864866, 'status': 'ok'}, {'loss': -0.49864864864864866, 'status': 'ok'}, {'loss': -0.49864864864864866, 'status': 'ok'}, {'loss': -0.49864864864864866, 'status': 'ok'}, {'loss': -0.49864864864864866, 'status': 'ok'}, {'loss': -0.49864864864864866, 'status': 'ok'}, {'loss': -0.49864864864864866, 'status': 'ok'}, {'loss': -0.49864864864864866, 'status': 'ok'}, {'loss': -0.49864864864864866, 'status': 'ok'}, {'loss': -0.49864864864864866, 'status': 'ok'}, {'loss': -0.49864864864864866, 'status': 'ok'}, {'loss': -0.49864864864864866, 'status': 'ok'}, {'loss': -0.49864864864864866, 'status': 'ok'}, {'loss': -0.49864864864864866, 'status': 'ok'}, {'loss': -0.49864864864864866, 'status': 'ok'}, {'loss': -0.49864864864864866, 'status': 'ok'}, {'loss': -0.49864864864864866, 'status': 'ok'}, {'loss': -0.49864864864864866, 'status': 'ok'}, {'loss': -0.49864864864864866, 'status': 'ok'}, {'loss': -0.49864864864864866, 'status': 'ok'}, {'loss': -0.49864864864864866, 'status': 'ok'}, {'loss': -0.49864864864864866, 'status': 'ok'}, {'loss': -0.49864864864864866, 'status': 'ok'}, {'loss': -0.49864864864864866, 'status': 'ok'}, {'loss': -0.49864864864864866, 'status': 'ok'}, {'loss': -0.49864864864864866, 'status': 'ok'}, {'loss': -0.49864864864864866, 'status': 'ok'}, {'loss': -0.49864864864864866, 'status': 'ok'}, {'loss': -0.49864864864864866, 'status': 'ok'}, {'loss': -0.49864864864864866, 'status': 'ok'}, {'loss': -0.49864864864864866, 'status': 'ok'}, {'loss': -0.49864864864864866, 'status': 'ok'}, {'loss': -0.49864864864864866, 'status': 'ok'}, {'loss': -0.49864864864864866, 'status': 'ok'}, {'loss': -0.49864864864864866, 'status': 'ok'}, {'loss': -0.49864864864864866, 'status': 'ok'}, {'loss': -0.49864864864864866, 'status': 'ok'}, {'loss': -0.49864864864864866, 'status': 'ok'}, {'loss': -0.49864864864864866, 'status': 'ok'}, {'loss': -0.49864864864864866, 'status': 'ok'}, {'loss': -0.49864864864864866, 'status': 'ok'}, {'loss': -0.49864864864864866, 'status': 'ok'}, {'loss': -0.49864864864864866, 'status': 'ok'}, {'loss': -0.49864864864864866, 'status': 'ok'}, {'loss': -0.49864864864864866, 'status': 'ok'}, {'loss': -0.49864864864864866, 'status': 'ok'}, {'loss': -0.49864864864864866, 'status': 'ok'}, {'loss': -0.49864864864864866, 'status': 'ok'}, {'loss': -0.49864864864864866, 'status': 'ok'}, {'loss': -0.49864864864864866, 'status': 'ok'}, {'loss': -0.49864864864864866, 'status': 'ok'}, {'loss': -0.49864864864864866, 'status': 'ok'}, {'loss': -0.49864864864864866, 'status': 'ok'}, {'loss': -0.49864864864864866, 'status': 'ok'}, {'loss': -0.49864864864864866, 'status': 'ok'}, {'loss': -0.49864864864864866, 'status': 'ok'}, {'loss': -0.49864864864864866, 'status': 'ok'}, {'loss': -0.49864864864864866, 'status': 'ok'}, {'loss': -0.49864864864864866, 'status': 'ok'}, {'loss': -0.49864864864864866, 'status': 'ok'}, {'loss': -0.49864864864864866, 'status': 'ok'}, {'loss': -0.49864864864864866, 'status': 'ok'}, {'loss': -0.49864864864864866, 'status': 'ok'}, {'loss': -0.49864864864864866, 'status': 'ok'}, {'loss': -0.49864864864864866, 'status': 'ok'}, {'loss': -0.49864864864864866, 'status': 'ok'}, {'loss': -0.49864864864864866, 'status': 'ok'}]\n"
     ]
    }
   ],
   "source": [
    "print(trials.results)"
   ]
  },
  {
   "cell_type": "markdown",
   "metadata": {},
   "source": []
  },
  {
   "cell_type": "code",
   "execution_count": null,
   "metadata": {},
   "outputs": [
    {
     "ename": "AttributeError",
     "evalue": "'dict' object has no attribute 'predict'",
     "output_type": "error",
     "traceback": [
      "\u001b[0;31m---------------------------------------------------------------------------\u001b[0m",
      "\u001b[0;31mAttributeError\u001b[0m                            Traceback (most recent call last)",
      "Cell \u001b[0;32mIn[207], line 1\u001b[0m\n\u001b[0;32m----> 1\u001b[0m xgb_train_pred \u001b[38;5;241m=\u001b[39m \u001b[43mbest_hyperparams\u001b[49m\u001b[38;5;241;43m.\u001b[39;49m\u001b[43mpredict\u001b[49m(X_train)\n\u001b[1;32m      2\u001b[0m xgb_test_pred \u001b[38;5;241m=\u001b[39m best_hyperparams\u001b[38;5;241m.\u001b[39mpredict(X_test)\n",
      "\u001b[0;31mAttributeError\u001b[0m: 'dict' object has no attribute 'predict'"
     ]
    }
   ],
   "source": [
    "xgb_train_pred = best_hyperparams.predict(X_train)\n",
    "xgb_test_pred = best_hyperparams.predict(X_test)"
   ]
  },
  {
   "cell_type": "markdown",
   "metadata": {},
   "source": [
    "# NN "
   ]
  },
  {
   "cell_type": "code",
   "execution_count": null,
   "metadata": {},
   "outputs": [],
   "source": [
    "from sklearn.neural_network import MLPClassifier"
   ]
  },
  {
   "cell_type": "code",
   "execution_count": null,
   "metadata": {},
   "outputs": [
    {
     "name": "stdout",
     "output_type": "stream",
     "text": [
      "Iteration 1, loss = 0.73566521\n",
      "Iteration 2, loss = 0.72464013\n",
      "Iteration 3, loss = 0.71163451\n",
      "Iteration 4, loss = 0.69923533\n",
      "Iteration 5, loss = 0.68806061\n"
     ]
    },
    {
     "name": "stdout",
     "output_type": "stream",
     "text": [
      "Iteration 6, loss = 0.67738525\n",
      "Iteration 7, loss = 0.66764943\n",
      "Iteration 8, loss = 0.65780342\n",
      "Iteration 9, loss = 0.64863478\n",
      "Iteration 10, loss = 0.63944172\n",
      "Iteration 11, loss = 0.63045135\n",
      "Iteration 12, loss = 0.62144528\n",
      "Iteration 13, loss = 0.61255854\n",
      "Iteration 14, loss = 0.60360102\n",
      "Iteration 15, loss = 0.59464104\n",
      "Iteration 16, loss = 0.58568455\n",
      "Iteration 17, loss = 0.57681253\n",
      "Iteration 18, loss = 0.56775571\n",
      "Iteration 19, loss = 0.55889025\n",
      "Iteration 20, loss = 0.54992731\n",
      "Iteration 21, loss = 0.54102585\n",
      "Iteration 22, loss = 0.53227945\n",
      "Iteration 23, loss = 0.52354229\n",
      "Iteration 24, loss = 0.51471568\n",
      "Iteration 25, loss = 0.50617799\n",
      "Iteration 26, loss = 0.49770420\n",
      "Iteration 27, loss = 0.48936202\n",
      "Iteration 28, loss = 0.48117246\n",
      "Iteration 29, loss = 0.47312321\n",
      "Iteration 30, loss = 0.46510756\n",
      "Iteration 31, loss = 0.45730459\n",
      "Iteration 32, loss = 0.44980434\n",
      "Iteration 33, loss = 0.44236711\n",
      "Iteration 34, loss = 0.43508478\n",
      "Iteration 35, loss = 0.42804616\n",
      "Iteration 36, loss = 0.42113734\n",
      "Iteration 37, loss = 0.41440818\n",
      "Iteration 38, loss = 0.40804594\n",
      "Iteration 39, loss = 0.40182068\n",
      "Iteration 40, loss = 0.39596959\n",
      "Iteration 41, loss = 0.39005804\n",
      "Iteration 42, loss = 0.38443931\n",
      "Iteration 43, loss = 0.37922484\n",
      "Iteration 44, loss = 0.37408657\n",
      "Iteration 45, loss = 0.36921645\n",
      "Iteration 46, loss = 0.36445534\n",
      "Iteration 47, loss = 0.35993763\n",
      "Iteration 48, loss = 0.35555265\n",
      "Iteration 49, loss = 0.35135205\n",
      "Iteration 50, loss = 0.34741597\n",
      "Iteration 51, loss = 0.34363894\n",
      "Iteration 52, loss = 0.33997172\n",
      "Iteration 53, loss = 0.33638926\n",
      "Iteration 54, loss = 0.33297951\n",
      "Iteration 55, loss = 0.32976025\n",
      "Iteration 56, loss = 0.32655483\n",
      "Iteration 57, loss = 0.32354659\n",
      "Iteration 58, loss = 0.32067127\n",
      "Iteration 59, loss = 0.31777104\n",
      "Iteration 60, loss = 0.31510269\n",
      "Iteration 61, loss = 0.31246043\n",
      "Iteration 62, loss = 0.30995863\n",
      "Iteration 63, loss = 0.30750060\n",
      "Iteration 64, loss = 0.30515591\n",
      "Iteration 65, loss = 0.30283362\n",
      "Iteration 66, loss = 0.30061766\n",
      "Iteration 67, loss = 0.29850991\n",
      "Iteration 68, loss = 0.29639188\n",
      "Iteration 69, loss = 0.29435550\n",
      "Iteration 70, loss = 0.29237059\n",
      "Iteration 71, loss = 0.29048553\n",
      "Iteration 72, loss = 0.28858698\n",
      "Iteration 73, loss = 0.28677365\n",
      "Iteration 74, loss = 0.28501546\n",
      "Iteration 75, loss = 0.28338839\n",
      "Iteration 76, loss = 0.28167368\n",
      "Iteration 77, loss = 0.28008208\n",
      "Iteration 78, loss = 0.27848948\n",
      "Iteration 79, loss = 0.27691851\n",
      "Iteration 80, loss = 0.27531363\n",
      "Iteration 81, loss = 0.27382397\n",
      "Iteration 82, loss = 0.27231268\n",
      "Iteration 83, loss = 0.27103242\n",
      "Iteration 84, loss = 0.26950054\n",
      "Iteration 85, loss = 0.26808873\n",
      "Iteration 86, loss = 0.26676849\n",
      "Iteration 87, loss = 0.26536532\n",
      "Iteration 88, loss = 0.26407522\n",
      "Iteration 89, loss = 0.26277591\n",
      "Iteration 90, loss = 0.26153249\n",
      "Iteration 91, loss = 0.26030070\n",
      "Iteration 92, loss = 0.25904492\n",
      "Iteration 93, loss = 0.25780082\n",
      "Iteration 94, loss = 0.25664390\n",
      "Iteration 95, loss = 0.25544805\n",
      "Iteration 96, loss = 0.25427919\n",
      "Iteration 97, loss = 0.25314206\n",
      "Iteration 98, loss = 0.25204320\n",
      "Iteration 99, loss = 0.25084651\n",
      "Iteration 100, loss = 0.24971527\n",
      "Iteration 101, loss = 0.24874127\n",
      "Iteration 102, loss = 0.24751531\n",
      "Iteration 103, loss = 0.24647445\n",
      "Iteration 104, loss = 0.24544375\n",
      "Iteration 105, loss = 0.24437488\n",
      "Iteration 106, loss = 0.24357845\n",
      "Iteration 107, loss = 0.24232708\n",
      "Iteration 108, loss = 0.24123557\n",
      "Iteration 109, loss = 0.24029009\n",
      "Iteration 110, loss = 0.23929752\n",
      "Iteration 111, loss = 0.23825697\n",
      "Iteration 112, loss = 0.23734580\n",
      "Iteration 113, loss = 0.23641049\n",
      "Iteration 114, loss = 0.23543224\n",
      "Iteration 115, loss = 0.23450675\n",
      "Iteration 116, loss = 0.23361389\n",
      "Iteration 117, loss = 0.23270715\n",
      "Iteration 118, loss = 0.23166578\n",
      "Iteration 119, loss = 0.23073952\n",
      "Iteration 120, loss = 0.22978872\n",
      "Iteration 121, loss = 0.22899714\n",
      "Iteration 122, loss = 0.22800179\n",
      "Iteration 123, loss = 0.22712402\n",
      "Iteration 124, loss = 0.22623259\n",
      "Iteration 125, loss = 0.22532947\n",
      "Iteration 126, loss = 0.22448692\n",
      "Iteration 127, loss = 0.22367136\n",
      "Iteration 128, loss = 0.22277497\n",
      "Iteration 129, loss = 0.22181658\n",
      "Iteration 130, loss = 0.22104400\n",
      "Iteration 131, loss = 0.22020353\n",
      "Iteration 132, loss = 0.21947286\n",
      "Iteration 133, loss = 0.21856171\n",
      "Iteration 134, loss = 0.21770364\n",
      "Iteration 135, loss = 0.21688712\n",
      "Iteration 136, loss = 0.21610730\n",
      "Iteration 137, loss = 0.21524666\n",
      "Iteration 138, loss = 0.21445622\n",
      "Iteration 139, loss = 0.21366127\n",
      "Iteration 140, loss = 0.21286879\n",
      "Iteration 141, loss = 0.21206444\n",
      "Iteration 142, loss = 0.21129438\n",
      "Iteration 143, loss = 0.21058015\n",
      "Iteration 144, loss = 0.20986029\n",
      "Iteration 145, loss = 0.20917014\n",
      "Iteration 146, loss = 0.20830700\n",
      "Iteration 147, loss = 0.20748244\n",
      "Iteration 148, loss = 0.20674063\n",
      "Iteration 149, loss = 0.20598418\n",
      "Iteration 150, loss = 0.20531730\n",
      "Iteration 151, loss = 0.20445349\n",
      "Iteration 152, loss = 0.20376336\n",
      "Iteration 153, loss = 0.20305189\n",
      "Iteration 154, loss = 0.20225746\n",
      "Iteration 155, loss = 0.20157476\n",
      "Iteration 156, loss = 0.20090732\n",
      "Iteration 157, loss = 0.20016520\n",
      "Iteration 158, loss = 0.19937605\n",
      "Iteration 159, loss = 0.19876020\n",
      "Iteration 160, loss = 0.19806428\n",
      "Iteration 161, loss = 0.19727061\n",
      "Iteration 162, loss = 0.19666444\n",
      "Iteration 163, loss = 0.19589013\n",
      "Iteration 164, loss = 0.19522901\n",
      "Iteration 165, loss = 0.19461360\n",
      "Iteration 166, loss = 0.19380312\n",
      "Iteration 167, loss = 0.19318151\n",
      "Iteration 168, loss = 0.19258613\n",
      "Iteration 169, loss = 0.19189296\n",
      "Iteration 170, loss = 0.19112479\n",
      "Iteration 171, loss = 0.19053497\n",
      "Iteration 172, loss = 0.18981646\n",
      "Iteration 173, loss = 0.18917025\n",
      "Iteration 174, loss = 0.18850294\n",
      "Iteration 175, loss = 0.18780403\n",
      "Iteration 176, loss = 0.18716640\n",
      "Iteration 177, loss = 0.18657838\n",
      "Iteration 178, loss = 0.18584497\n",
      "Iteration 179, loss = 0.18514830\n",
      "Iteration 180, loss = 0.18457775\n",
      "Iteration 181, loss = 0.18386460\n",
      "Iteration 182, loss = 0.18323377\n",
      "Iteration 183, loss = 0.18258925\n",
      "Iteration 184, loss = 0.18192288\n",
      "Iteration 185, loss = 0.18135600\n",
      "Iteration 186, loss = 0.18065508\n",
      "Iteration 187, loss = 0.18010741\n",
      "Iteration 188, loss = 0.17937229\n",
      "Iteration 189, loss = 0.17875499\n",
      "Iteration 190, loss = 0.17817398\n",
      "Iteration 191, loss = 0.17751809\n",
      "Iteration 192, loss = 0.17685850\n",
      "Iteration 193, loss = 0.17628518\n",
      "Iteration 194, loss = 0.17562424\n",
      "Iteration 195, loss = 0.17500802\n",
      "Iteration 196, loss = 0.17437531\n",
      "Iteration 197, loss = 0.17375893\n",
      "Iteration 198, loss = 0.17316380\n",
      "Iteration 199, loss = 0.17257395\n",
      "Iteration 200, loss = 0.17199105\n"
     ]
    },
    {
     "name": "stderr",
     "output_type": "stream",
     "text": [
      "/home/louis/anaconda3/envs/big_data/lib/python3.8/site-packages/sklearn/neural_network/_multilayer_perceptron.py:691: ConvergenceWarning: Stochastic Optimizer: Maximum iterations (200) reached and the optimization hasn't converged yet.\n",
      "  warnings.warn(\n"
     ]
    },
    {
     "data": {
      "text/html": [
       "<style>#sk-container-id-5 {color: black;}#sk-container-id-5 pre{padding: 0;}#sk-container-id-5 div.sk-toggleable {background-color: white;}#sk-container-id-5 label.sk-toggleable__label {cursor: pointer;display: block;width: 100%;margin-bottom: 0;padding: 0.3em;box-sizing: border-box;text-align: center;}#sk-container-id-5 label.sk-toggleable__label-arrow:before {content: \"▸\";float: left;margin-right: 0.25em;color: #696969;}#sk-container-id-5 label.sk-toggleable__label-arrow:hover:before {color: black;}#sk-container-id-5 div.sk-estimator:hover label.sk-toggleable__label-arrow:before {color: black;}#sk-container-id-5 div.sk-toggleable__content {max-height: 0;max-width: 0;overflow: hidden;text-align: left;background-color: #f0f8ff;}#sk-container-id-5 div.sk-toggleable__content pre {margin: 0.2em;color: black;border-radius: 0.25em;background-color: #f0f8ff;}#sk-container-id-5 input.sk-toggleable__control:checked~div.sk-toggleable__content {max-height: 200px;max-width: 100%;overflow: auto;}#sk-container-id-5 input.sk-toggleable__control:checked~label.sk-toggleable__label-arrow:before {content: \"▾\";}#sk-container-id-5 div.sk-estimator input.sk-toggleable__control:checked~label.sk-toggleable__label {background-color: #d4ebff;}#sk-container-id-5 div.sk-label input.sk-toggleable__control:checked~label.sk-toggleable__label {background-color: #d4ebff;}#sk-container-id-5 input.sk-hidden--visually {border: 0;clip: rect(1px 1px 1px 1px);clip: rect(1px, 1px, 1px, 1px);height: 1px;margin: -1px;overflow: hidden;padding: 0;position: absolute;width: 1px;}#sk-container-id-5 div.sk-estimator {font-family: monospace;background-color: #f0f8ff;border: 1px dotted black;border-radius: 0.25em;box-sizing: border-box;margin-bottom: 0.5em;}#sk-container-id-5 div.sk-estimator:hover {background-color: #d4ebff;}#sk-container-id-5 div.sk-parallel-item::after {content: \"\";width: 100%;border-bottom: 1px solid gray;flex-grow: 1;}#sk-container-id-5 div.sk-label:hover label.sk-toggleable__label {background-color: #d4ebff;}#sk-container-id-5 div.sk-serial::before {content: \"\";position: absolute;border-left: 1px solid gray;box-sizing: border-box;top: 0;bottom: 0;left: 50%;z-index: 0;}#sk-container-id-5 div.sk-serial {display: flex;flex-direction: column;align-items: center;background-color: white;padding-right: 0.2em;padding-left: 0.2em;position: relative;}#sk-container-id-5 div.sk-item {position: relative;z-index: 1;}#sk-container-id-5 div.sk-parallel {display: flex;align-items: stretch;justify-content: center;background-color: white;position: relative;}#sk-container-id-5 div.sk-item::before, #sk-container-id-5 div.sk-parallel-item::before {content: \"\";position: absolute;border-left: 1px solid gray;box-sizing: border-box;top: 0;bottom: 0;left: 50%;z-index: -1;}#sk-container-id-5 div.sk-parallel-item {display: flex;flex-direction: column;z-index: 1;position: relative;background-color: white;}#sk-container-id-5 div.sk-parallel-item:first-child::after {align-self: flex-end;width: 50%;}#sk-container-id-5 div.sk-parallel-item:last-child::after {align-self: flex-start;width: 50%;}#sk-container-id-5 div.sk-parallel-item:only-child::after {width: 0;}#sk-container-id-5 div.sk-dashed-wrapped {border: 1px dashed gray;margin: 0 0.4em 0.5em 0.4em;box-sizing: border-box;padding-bottom: 0.4em;background-color: white;}#sk-container-id-5 div.sk-label label {font-family: monospace;font-weight: bold;display: inline-block;line-height: 1.2em;}#sk-container-id-5 div.sk-label-container {text-align: center;}#sk-container-id-5 div.sk-container {/* jupyter's `normalize.less` sets `[hidden] { display: none; }` but bootstrap.min.css set `[hidden] { display: none !important; }` so we also need the `!important` here to be able to override the default hidden behavior on the sphinx rendered scikit-learn.org. See: https://github.com/scikit-learn/scikit-learn/issues/21755 */display: inline-block !important;position: relative;}#sk-container-id-5 div.sk-text-repr-fallback {display: none;}</style><div id=\"sk-container-id-5\" class=\"sk-top-container\"><div class=\"sk-text-repr-fallback\"><pre>MLPClassifier(alpha=0.05, hidden_layer_sizes=(150, 100, 50),\n",
       "              learning_rate=&#x27;adaptive&#x27;, solver=&#x27;sgd&#x27;, verbose=1)</pre><b>In a Jupyter environment, please rerun this cell to show the HTML representation or trust the notebook. <br />On GitHub, the HTML representation is unable to render, please try loading this page with nbviewer.org.</b></div><div class=\"sk-container\" hidden><div class=\"sk-item\"><div class=\"sk-estimator sk-toggleable\"><input class=\"sk-toggleable__control sk-hidden--visually\" id=\"sk-estimator-id-11\" type=\"checkbox\" checked><label for=\"sk-estimator-id-11\" class=\"sk-toggleable__label sk-toggleable__label-arrow\">MLPClassifier</label><div class=\"sk-toggleable__content\"><pre>MLPClassifier(alpha=0.05, hidden_layer_sizes=(150, 100, 50),\n",
       "              learning_rate=&#x27;adaptive&#x27;, solver=&#x27;sgd&#x27;, verbose=1)</pre></div></div></div></div></div>"
      ],
      "text/plain": [
       "MLPClassifier(alpha=0.05, hidden_layer_sizes=(150, 100, 50),\n",
       "              learning_rate='adaptive', solver='sgd', verbose=1)"
      ]
     },
     "execution_count": 108,
     "metadata": {},
     "output_type": "execute_result"
    }
   ],
   "source": [
    "MLP = MLPClassifier(solver = 'sgd', hidden_layer_sizes = (150,100,50), learning_rate = 'adaptive',\n",
    "                                    verbose = 1, alpha = 0.05, max_iter = 200, n_iter_no_change = 10, tol = 0.0001,\n",
    "                                    activation = 'relu')\n",
    "MLP.fit(X_train, y_train)"
   ]
  },
  {
   "cell_type": "code",
   "execution_count": null,
   "metadata": {},
   "outputs": [],
   "source": [
    "MLP_train_pred = MLP.predict(X_train)\n",
    "MLP_test_pred = MLP.predict(X_test)"
   ]
  },
  {
   "cell_type": "code",
   "execution_count": null,
   "metadata": {},
   "outputs": [
    {
     "name": "stdout",
     "output_type": "stream",
     "text": [
      "The accuracy on train data is  0.9565469293163383\n",
      "The accuracy on test data is  0.9175675675675675\n",
      "The precision on test data is  0.8840970350404312\n",
      "The recall on test data is  0.9479768786127167\n",
      "The f1 on test data is  0.9149232914923291\n",
      "The roc_score on test data is  0.9194199113875766\n"
     ]
    }
   ],
   "source": [
    "print(\"The accuracy on train data is \", accuracy_score(MLP_train_pred, y_train))\n",
    "MLP_accuracy = accuracy_score(MLP_test_pred, y_test)\n",
    "print(\"The accuracy on test data is \", accuracy_score(MLP_test_pred, y_test))\n",
    "print(\"The precision on test data is \", precision_score(MLP_test_pred, y_test))\n",
    "print(\"The recall on test data is \", recall_score(MLP_test_pred, y_test))\n",
    "print(\"The f1 on test data is \", f1_score(MLP_test_pred, y_test))\n",
    "print(\"The roc_score on test data is \", roc_auc_score(MLP_test_pred, y_test))\n"
   ]
  },
  {
   "cell_type": "code",
   "execution_count": null,
   "metadata": {},
   "outputs": [
    {
     "data": {
      "text/plain": [
       "[Text(0, 0.5, 'Not Defaulter'), Text(0, 1.5, 'Defaulter')]"
      ]
     },
     "execution_count": 111,
     "metadata": {},
     "output_type": "execute_result"
    },
    {
     "data": {
      "image/png": "[encoded data removed]",
      "text/plain": [
       "<Figure size 640x480 with 2 Axes>"
      ]
     },
     "metadata": {},
     "output_type": "display_data"
    }
   ],
   "source": [
    "labels = ['Not Defaulter', 'Defaulter']\n",
    "cm = confusion_matrix(y_test, MLP_test_pred)\n",
    "ax = plt.subplot()\n",
    "sns.heatmap(cm,\n",
    "            xticklabels=['Not Default', 'Default'],\n",
    "            yticklabels=['Not Default', 'Default'],\n",
    "            annot=True, ax=ax,\n",
    "            linewidths=.2, linecolor=\"Darkblue\", cmap=\"Blues\")  # annot=True to annotate cells\n",
    "ax.set_xlabel('Predicted labels')\n",
    "ax.set_ylabel('True labels')\n",
    "ax.set_title('Confusion Matrix (MLP)')\n",
    "ax.xaxis.set_ticklabels(labels)\n",
    "ax.yaxis.set_ticklabels(labels)"
   ]
  },
  {
   "cell_type": "code",
   "execution_count": null,
   "metadata": {},
   "outputs": [
    {
     "data": {
      "image/png": "[encoded data removed]",
      "text/plain": [
       "<Figure size 640x480 with 1 Axes>"
      ]
     },
     "metadata": {},
     "output_type": "display_data"
    }
   ],
   "source": [
    "y_pred_proba = MLP.predict_proba(X_test)[::, 1]\n",
    "fpr, tpr, _ = roc_curve(y_test,  y_pred_proba)\n",
    "auc = roc_auc_score(y_test, y_pred_proba)\n",
    "plt.plot(fpr, tpr, label=\"data 1, auc=\"+str(auc))\n",
    "plt.title('MLP')\n",
    "plt.legend(loc=4)\n",
    "plt.show()"
   ]
  },
  {
   "cell_type": "code",
   "execution_count": null,
   "metadata": {},
   "outputs": [
    {
     "name": "stdout",
     "output_type": "stream",
     "text": [
      "test_ratio 0.3\n",
      "Logistic Regression Accuracy:  0.904054054054054\n",
      "Decision Tree Accuracy:  0.8094594594594594\n",
      "Random Forest Accuracy:  0.9283783783783783\n",
      "XGBoost Accuracy:  0.9256756756756757\n",
      "MLP Accuracy:  0.9175675675675675\n"
     ]
    }
   ],
   "source": [
    "# print models accuracy\n",
    "print('test_ratio', test_ratio)\n",
    "print(\"Logistic Regression Accuracy: \", logistic_accuracy)\n",
    "print(\"Decision Tree Accuracy: \", decision_tree_accuracy)\n",
    "print(\"Random Forest Accuracy: \", random_forest_accuracy)\n",
    "print(\"XGBoost Accuracy: \", xgboost_accuracy)\n",
    "print(\"MLP Accuracy: \", MLP_accuracy)"
   ]
  }
 ],
 "metadata": {
  "kernelspec": {
   "display_name": "big_data",
   "language": "python",
   "name": "python3"
  },
  "language_info": {
   "codemirror_mode": {
    "name": "ipython",
    "version": 3
   },
   "file_extension": ".py",
   "mimetype": "text/x-python",
   "name": "python",
   "nbconvert_exporter": "python",
   "pygments_lexer": "ipython3",
   "version": "3.8.18"
  }
 },
 "nbformat": 4,
 "nbformat_minor": 2
}
