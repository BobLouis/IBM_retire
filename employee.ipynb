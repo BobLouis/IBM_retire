{
 "cells": [
  {
   "cell_type": "markdown",
   "metadata": {},
   "source": [
    "# data preprocess"
   ]
  },
  {
   "cell_type": "code",
   "execution_count": 35,
   "metadata": {},
   "outputs": [],
   "source": [
    "import pandas as pd\n",
    "import numpy as np\n",
    "import matplotlib.pyplot as plt\n",
    "import xlrd"
   ]
  },
  {
   "cell_type": "code",
   "execution_count": 36,
   "metadata": {},
   "outputs": [],
   "source": [
    "data = pd.read_csv(\"./data/HR-Employee.csv\")"
   ]
  },
  {
   "cell_type": "code",
   "execution_count": 37,
   "metadata": {},
   "outputs": [
    {
     "data": {
      "text/html": [
       "<div>\n",
       "<style scoped>\n",
       "    .dataframe tbody tr th:only-of-type {\n",
       "        vertical-align: middle;\n",
       "    }\n",
       "\n",
       "    .dataframe tbody tr th {\n",
       "        vertical-align: top;\n",
       "    }\n",
       "\n",
       "    .dataframe thead th {\n",
       "        text-align: right;\n",
       "    }\n",
       "</style>\n",
       "<table border=\"1\" class=\"dataframe\">\n",
       "  <thead>\n",
       "    <tr style=\"text-align: right;\">\n",
       "      <th></th>\n",
       "      <th>Age</th>\n",
       "      <th>Attrition</th>\n",
       "      <th>BusinessTravel</th>\n",
       "      <th>DailyRate</th>\n",
       "      <th>Department</th>\n",
       "      <th>DistanceFromHome</th>\n",
       "      <th>Education</th>\n",
       "      <th>EducationField</th>\n",
       "      <th>EmployeeCount</th>\n",
       "      <th>EmployeeNumber</th>\n",
       "      <th>...</th>\n",
       "      <th>RelationshipSatisfaction</th>\n",
       "      <th>StandardHours</th>\n",
       "      <th>StockOptionLevel</th>\n",
       "      <th>TotalWorkingYears</th>\n",
       "      <th>TrainingTimesLastYear</th>\n",
       "      <th>WorkLifeBalance</th>\n",
       "      <th>YearsAtCompany</th>\n",
       "      <th>YearsInCurrentRole</th>\n",
       "      <th>YearsSinceLastPromotion</th>\n",
       "      <th>YearsWithCurrManager</th>\n",
       "    </tr>\n",
       "  </thead>\n",
       "  <tbody>\n",
       "    <tr>\n",
       "      <th>0</th>\n",
       "      <td>41</td>\n",
       "      <td>Yes</td>\n",
       "      <td>Travel_Rarely</td>\n",
       "      <td>1102</td>\n",
       "      <td>Sales</td>\n",
       "      <td>1</td>\n",
       "      <td>2</td>\n",
       "      <td>Life Sciences</td>\n",
       "      <td>1</td>\n",
       "      <td>1</td>\n",
       "      <td>...</td>\n",
       "      <td>1</td>\n",
       "      <td>80</td>\n",
       "      <td>0</td>\n",
       "      <td>8</td>\n",
       "      <td>0</td>\n",
       "      <td>1</td>\n",
       "      <td>6</td>\n",
       "      <td>4</td>\n",
       "      <td>0</td>\n",
       "      <td>5</td>\n",
       "    </tr>\n",
       "    <tr>\n",
       "      <th>1</th>\n",
       "      <td>49</td>\n",
       "      <td>No</td>\n",
       "      <td>Travel_Frequently</td>\n",
       "      <td>279</td>\n",
       "      <td>Research &amp; Development</td>\n",
       "      <td>8</td>\n",
       "      <td>1</td>\n",
       "      <td>Life Sciences</td>\n",
       "      <td>1</td>\n",
       "      <td>2</td>\n",
       "      <td>...</td>\n",
       "      <td>4</td>\n",
       "      <td>80</td>\n",
       "      <td>1</td>\n",
       "      <td>10</td>\n",
       "      <td>3</td>\n",
       "      <td>3</td>\n",
       "      <td>10</td>\n",
       "      <td>7</td>\n",
       "      <td>1</td>\n",
       "      <td>7</td>\n",
       "    </tr>\n",
       "    <tr>\n",
       "      <th>2</th>\n",
       "      <td>37</td>\n",
       "      <td>Yes</td>\n",
       "      <td>Travel_Rarely</td>\n",
       "      <td>1373</td>\n",
       "      <td>Research &amp; Development</td>\n",
       "      <td>2</td>\n",
       "      <td>2</td>\n",
       "      <td>Other</td>\n",
       "      <td>1</td>\n",
       "      <td>4</td>\n",
       "      <td>...</td>\n",
       "      <td>2</td>\n",
       "      <td>80</td>\n",
       "      <td>0</td>\n",
       "      <td>7</td>\n",
       "      <td>3</td>\n",
       "      <td>3</td>\n",
       "      <td>0</td>\n",
       "      <td>0</td>\n",
       "      <td>0</td>\n",
       "      <td>0</td>\n",
       "    </tr>\n",
       "    <tr>\n",
       "      <th>3</th>\n",
       "      <td>33</td>\n",
       "      <td>No</td>\n",
       "      <td>Travel_Frequently</td>\n",
       "      <td>1392</td>\n",
       "      <td>Research &amp; Development</td>\n",
       "      <td>3</td>\n",
       "      <td>4</td>\n",
       "      <td>Life Sciences</td>\n",
       "      <td>1</td>\n",
       "      <td>5</td>\n",
       "      <td>...</td>\n",
       "      <td>3</td>\n",
       "      <td>80</td>\n",
       "      <td>0</td>\n",
       "      <td>8</td>\n",
       "      <td>3</td>\n",
       "      <td>3</td>\n",
       "      <td>8</td>\n",
       "      <td>7</td>\n",
       "      <td>3</td>\n",
       "      <td>0</td>\n",
       "    </tr>\n",
       "    <tr>\n",
       "      <th>4</th>\n",
       "      <td>27</td>\n",
       "      <td>No</td>\n",
       "      <td>Travel_Rarely</td>\n",
       "      <td>591</td>\n",
       "      <td>Research &amp; Development</td>\n",
       "      <td>2</td>\n",
       "      <td>1</td>\n",
       "      <td>Medical</td>\n",
       "      <td>1</td>\n",
       "      <td>7</td>\n",
       "      <td>...</td>\n",
       "      <td>4</td>\n",
       "      <td>80</td>\n",
       "      <td>1</td>\n",
       "      <td>6</td>\n",
       "      <td>3</td>\n",
       "      <td>3</td>\n",
       "      <td>2</td>\n",
       "      <td>2</td>\n",
       "      <td>2</td>\n",
       "      <td>2</td>\n",
       "    </tr>\n",
       "    <tr>\n",
       "      <th>...</th>\n",
       "      <td>...</td>\n",
       "      <td>...</td>\n",
       "      <td>...</td>\n",
       "      <td>...</td>\n",
       "      <td>...</td>\n",
       "      <td>...</td>\n",
       "      <td>...</td>\n",
       "      <td>...</td>\n",
       "      <td>...</td>\n",
       "      <td>...</td>\n",
       "      <td>...</td>\n",
       "      <td>...</td>\n",
       "      <td>...</td>\n",
       "      <td>...</td>\n",
       "      <td>...</td>\n",
       "      <td>...</td>\n",
       "      <td>...</td>\n",
       "      <td>...</td>\n",
       "      <td>...</td>\n",
       "      <td>...</td>\n",
       "      <td>...</td>\n",
       "    </tr>\n",
       "    <tr>\n",
       "      <th>1465</th>\n",
       "      <td>36</td>\n",
       "      <td>No</td>\n",
       "      <td>Travel_Frequently</td>\n",
       "      <td>884</td>\n",
       "      <td>Research &amp; Development</td>\n",
       "      <td>23</td>\n",
       "      <td>2</td>\n",
       "      <td>Medical</td>\n",
       "      <td>1</td>\n",
       "      <td>2061</td>\n",
       "      <td>...</td>\n",
       "      <td>3</td>\n",
       "      <td>80</td>\n",
       "      <td>1</td>\n",
       "      <td>17</td>\n",
       "      <td>3</td>\n",
       "      <td>3</td>\n",
       "      <td>5</td>\n",
       "      <td>2</td>\n",
       "      <td>0</td>\n",
       "      <td>3</td>\n",
       "    </tr>\n",
       "    <tr>\n",
       "      <th>1466</th>\n",
       "      <td>39</td>\n",
       "      <td>No</td>\n",
       "      <td>Travel_Rarely</td>\n",
       "      <td>613</td>\n",
       "      <td>Research &amp; Development</td>\n",
       "      <td>6</td>\n",
       "      <td>1</td>\n",
       "      <td>Medical</td>\n",
       "      <td>1</td>\n",
       "      <td>2062</td>\n",
       "      <td>...</td>\n",
       "      <td>1</td>\n",
       "      <td>80</td>\n",
       "      <td>1</td>\n",
       "      <td>9</td>\n",
       "      <td>5</td>\n",
       "      <td>3</td>\n",
       "      <td>7</td>\n",
       "      <td>7</td>\n",
       "      <td>1</td>\n",
       "      <td>7</td>\n",
       "    </tr>\n",
       "    <tr>\n",
       "      <th>1467</th>\n",
       "      <td>27</td>\n",
       "      <td>No</td>\n",
       "      <td>Travel_Rarely</td>\n",
       "      <td>155</td>\n",
       "      <td>Research &amp; Development</td>\n",
       "      <td>4</td>\n",
       "      <td>3</td>\n",
       "      <td>Life Sciences</td>\n",
       "      <td>1</td>\n",
       "      <td>2064</td>\n",
       "      <td>...</td>\n",
       "      <td>2</td>\n",
       "      <td>80</td>\n",
       "      <td>1</td>\n",
       "      <td>6</td>\n",
       "      <td>0</td>\n",
       "      <td>3</td>\n",
       "      <td>6</td>\n",
       "      <td>2</td>\n",
       "      <td>0</td>\n",
       "      <td>3</td>\n",
       "    </tr>\n",
       "    <tr>\n",
       "      <th>1468</th>\n",
       "      <td>49</td>\n",
       "      <td>No</td>\n",
       "      <td>Travel_Frequently</td>\n",
       "      <td>1023</td>\n",
       "      <td>Sales</td>\n",
       "      <td>2</td>\n",
       "      <td>3</td>\n",
       "      <td>Medical</td>\n",
       "      <td>1</td>\n",
       "      <td>2065</td>\n",
       "      <td>...</td>\n",
       "      <td>4</td>\n",
       "      <td>80</td>\n",
       "      <td>0</td>\n",
       "      <td>17</td>\n",
       "      <td>3</td>\n",
       "      <td>2</td>\n",
       "      <td>9</td>\n",
       "      <td>6</td>\n",
       "      <td>0</td>\n",
       "      <td>8</td>\n",
       "    </tr>\n",
       "    <tr>\n",
       "      <th>1469</th>\n",
       "      <td>34</td>\n",
       "      <td>No</td>\n",
       "      <td>Travel_Rarely</td>\n",
       "      <td>628</td>\n",
       "      <td>Research &amp; Development</td>\n",
       "      <td>8</td>\n",
       "      <td>3</td>\n",
       "      <td>Medical</td>\n",
       "      <td>1</td>\n",
       "      <td>2068</td>\n",
       "      <td>...</td>\n",
       "      <td>1</td>\n",
       "      <td>80</td>\n",
       "      <td>0</td>\n",
       "      <td>6</td>\n",
       "      <td>3</td>\n",
       "      <td>4</td>\n",
       "      <td>4</td>\n",
       "      <td>3</td>\n",
       "      <td>1</td>\n",
       "      <td>2</td>\n",
       "    </tr>\n",
       "  </tbody>\n",
       "</table>\n",
       "<p>1470 rows × 35 columns</p>\n",
       "</div>"
      ],
      "text/plain": [
       "      Age Attrition     BusinessTravel  DailyRate              Department  \\\n",
       "0      41       Yes      Travel_Rarely       1102                   Sales   \n",
       "1      49        No  Travel_Frequently        279  Research & Development   \n",
       "2      37       Yes      Travel_Rarely       1373  Research & Development   \n",
       "3      33        No  Travel_Frequently       1392  Research & Development   \n",
       "4      27        No      Travel_Rarely        591  Research & Development   \n",
       "...   ...       ...                ...        ...                     ...   \n",
       "1465   36        No  Travel_Frequently        884  Research & Development   \n",
       "1466   39        No      Travel_Rarely        613  Research & Development   \n",
       "1467   27        No      Travel_Rarely        155  Research & Development   \n",
       "1468   49        No  Travel_Frequently       1023                   Sales   \n",
       "1469   34        No      Travel_Rarely        628  Research & Development   \n",
       "\n",
       "      DistanceFromHome  Education EducationField  EmployeeCount  \\\n",
       "0                    1          2  Life Sciences              1   \n",
       "1                    8          1  Life Sciences              1   \n",
       "2                    2          2          Other              1   \n",
       "3                    3          4  Life Sciences              1   \n",
       "4                    2          1        Medical              1   \n",
       "...                ...        ...            ...            ...   \n",
       "1465                23          2        Medical              1   \n",
       "1466                 6          1        Medical              1   \n",
       "1467                 4          3  Life Sciences              1   \n",
       "1468                 2          3        Medical              1   \n",
       "1469                 8          3        Medical              1   \n",
       "\n",
       "      EmployeeNumber  ...  RelationshipSatisfaction StandardHours  \\\n",
       "0                  1  ...                         1            80   \n",
       "1                  2  ...                         4            80   \n",
       "2                  4  ...                         2            80   \n",
       "3                  5  ...                         3            80   \n",
       "4                  7  ...                         4            80   \n",
       "...              ...  ...                       ...           ...   \n",
       "1465            2061  ...                         3            80   \n",
       "1466            2062  ...                         1            80   \n",
       "1467            2064  ...                         2            80   \n",
       "1468            2065  ...                         4            80   \n",
       "1469            2068  ...                         1            80   \n",
       "\n",
       "      StockOptionLevel  TotalWorkingYears  TrainingTimesLastYear  \\\n",
       "0                    0                  8                      0   \n",
       "1                    1                 10                      3   \n",
       "2                    0                  7                      3   \n",
       "3                    0                  8                      3   \n",
       "4                    1                  6                      3   \n",
       "...                ...                ...                    ...   \n",
       "1465                 1                 17                      3   \n",
       "1466                 1                  9                      5   \n",
       "1467                 1                  6                      0   \n",
       "1468                 0                 17                      3   \n",
       "1469                 0                  6                      3   \n",
       "\n",
       "     WorkLifeBalance  YearsAtCompany YearsInCurrentRole  \\\n",
       "0                  1               6                  4   \n",
       "1                  3              10                  7   \n",
       "2                  3               0                  0   \n",
       "3                  3               8                  7   \n",
       "4                  3               2                  2   \n",
       "...              ...             ...                ...   \n",
       "1465               3               5                  2   \n",
       "1466               3               7                  7   \n",
       "1467               3               6                  2   \n",
       "1468               2               9                  6   \n",
       "1469               4               4                  3   \n",
       "\n",
       "      YearsSinceLastPromotion  YearsWithCurrManager  \n",
       "0                           0                     5  \n",
       "1                           1                     7  \n",
       "2                           0                     0  \n",
       "3                           3                     0  \n",
       "4                           2                     2  \n",
       "...                       ...                   ...  \n",
       "1465                        0                     3  \n",
       "1466                        1                     7  \n",
       "1467                        0                     3  \n",
       "1468                        0                     8  \n",
       "1469                        1                     2  \n",
       "\n",
       "[1470 rows x 35 columns]"
      ]
     },
     "execution_count": 37,
     "metadata": {},
     "output_type": "execute_result"
    }
   ],
   "source": [
    "data"
   ]
  },
  {
   "cell_type": "markdown",
   "metadata": {},
   "source": [
    "### non value columns\n",
    "EmployeeCount\n",
    "EmployeeNumber\n",
    "Over18"
   ]
  },
  {
   "cell_type": "code",
   "execution_count": 38,
   "metadata": {},
   "outputs": [
    {
     "name": "stdout",
     "output_type": "stream",
     "text": [
      "<class 'pandas.core.frame.DataFrame'>\n",
      "RangeIndex: 1470 entries, 0 to 1469\n",
      "Data columns (total 35 columns):\n",
      " #   Column                    Non-Null Count  Dtype \n",
      "---  ------                    --------------  ----- \n",
      " 0   Age                       1470 non-null   int64 \n",
      " 1   Attrition                 1470 non-null   object\n",
      " 2   BusinessTravel            1470 non-null   object\n",
      " 3   DailyRate                 1470 non-null   int64 \n",
      " 4   Department                1470 non-null   object\n",
      " 5   DistanceFromHome          1470 non-null   int64 \n",
      " 6   Education                 1470 non-null   int64 \n",
      " 7   EducationField            1470 non-null   object\n",
      " 8   EmployeeCount             1470 non-null   int64 \n",
      " 9   EmployeeNumber            1470 non-null   int64 \n",
      " 10  EnvironmentSatisfaction   1470 non-null   int64 \n",
      " 11  Gender                    1470 non-null   object\n",
      " 12  HourlyRate                1470 non-null   int64 \n",
      " 13  JobInvolvement            1470 non-null   int64 \n",
      " 14  JobLevel                  1470 non-null   int64 \n",
      " 15  JobRole                   1470 non-null   object\n",
      " 16  JobSatisfaction           1470 non-null   int64 \n",
      " 17  MaritalStatus             1470 non-null   object\n",
      " 18  MonthlyIncome             1470 non-null   int64 \n",
      " 19  MonthlyRate               1470 non-null   int64 \n",
      " 20  NumCompaniesWorked        1470 non-null   int64 \n",
      " 21  Over18                    1470 non-null   object\n",
      " 22  OverTime                  1470 non-null   object\n",
      " 23  PercentSalaryHike         1470 non-null   int64 \n",
      " 24  PerformanceRating         1470 non-null   int64 \n",
      " 25  RelationshipSatisfaction  1470 non-null   int64 \n",
      " 26  StandardHours             1470 non-null   int64 \n",
      " 27  StockOptionLevel          1470 non-null   int64 \n",
      " 28  TotalWorkingYears         1470 non-null   int64 \n",
      " 29  TrainingTimesLastYear     1470 non-null   int64 \n",
      " 30  WorkLifeBalance           1470 non-null   int64 \n",
      " 31  YearsAtCompany            1470 non-null   int64 \n",
      " 32  YearsInCurrentRole        1470 non-null   int64 \n",
      " 33  YearsSinceLastPromotion   1470 non-null   int64 \n",
      " 34  YearsWithCurrManager      1470 non-null   int64 \n",
      "dtypes: int64(26), object(9)\n",
      "memory usage: 402.1+ KB\n"
     ]
    }
   ],
   "source": [
    "data.info()"
   ]
  },
  {
   "cell_type": "code",
   "execution_count": 39,
   "metadata": {},
   "outputs": [
    {
     "name": "stdout",
     "output_type": "stream",
     "text": [
      "Index(['Age', 'Attrition', 'BusinessTravel', 'DailyRate', 'Department',\n",
      "       'DistanceFromHome', 'Education', 'EducationField', 'EmployeeCount',\n",
      "       'EmployeeNumber', 'EnvironmentSatisfaction', 'Gender', 'HourlyRate',\n",
      "       'JobInvolvement', 'JobLevel', 'JobRole', 'JobSatisfaction',\n",
      "       'MaritalStatus', 'MonthlyIncome', 'MonthlyRate', 'NumCompaniesWorked',\n",
      "       'Over18', 'OverTime', 'PercentSalaryHike', 'PerformanceRating',\n",
      "       'RelationshipSatisfaction', 'StandardHours', 'StockOptionLevel',\n",
      "       'TotalWorkingYears', 'TrainingTimesLastYear', 'WorkLifeBalance',\n",
      "       'YearsAtCompany', 'YearsInCurrentRole', 'YearsSinceLastPromotion',\n",
      "       'YearsWithCurrManager'],\n",
      "      dtype='object')\n"
     ]
    }
   ],
   "source": [
    "data.describe()\n",
    "data.shape\n",
    "print(data.columns)"
   ]
  },
  {
   "cell_type": "code",
   "execution_count": 40,
   "metadata": {},
   "outputs": [],
   "source": [
    "data.drop('EmployeeCount', axis=1, inplace=True) # drop the EmployeeCount column\n",
    "data.drop('EmployeeNumber', axis=1, inplace=True) # drop the EmployeeNumber column\n",
    "data.drop('Over18', axis=1, inplace=True) # drop the EmployeeNumber column"
   ]
  },
  {
   "cell_type": "code",
   "execution_count": 41,
   "metadata": {},
   "outputs": [
    {
     "data": {
      "text/plain": [
       "0"
      ]
     },
     "execution_count": 41,
     "metadata": {},
     "output_type": "execute_result"
    }
   ],
   "source": [
    "data.duplicated().sum() # check for duplicates"
   ]
  },
  {
   "cell_type": "code",
   "execution_count": 42,
   "metadata": {},
   "outputs": [
    {
     "data": {
      "text/plain": [
       "Attrition\n",
       "No     1233\n",
       "Yes     237\n",
       "Name: count, dtype: int64"
      ]
     },
     "execution_count": 42,
     "metadata": {},
     "output_type": "execute_result"
    }
   ],
   "source": [
    "data.Attrition.value_counts()"
   ]
  },
  {
   "cell_type": "code",
   "execution_count": 43,
   "metadata": {},
   "outputs": [
    {
     "data": {
      "text/plain": [
       "Gender\n",
       "Male      882\n",
       "Female    588\n",
       "Name: count, dtype: int64"
      ]
     },
     "execution_count": 43,
     "metadata": {},
     "output_type": "execute_result"
    }
   ],
   "source": [
    "data.Gender.value_counts()"
   ]
  },
  {
   "cell_type": "code",
   "execution_count": 11,
   "metadata": {},
   "outputs": [
    {
     "data": {
      "text/plain": [
       "Education\n",
       "3    572\n",
       "4    398\n",
       "2    282\n",
       "1    170\n",
       "5     48\n",
       "Name: count, dtype: int64"
      ]
     },
     "execution_count": 11,
     "metadata": {},
     "output_type": "execute_result"
    }
   ],
   "source": [
    "data.Education.value_counts()"
   ]
  },
  {
   "cell_type": "code",
   "execution_count": 44,
   "metadata": {},
   "outputs": [
    {
     "data": {
      "text/plain": [
       "MaritalStatus\n",
       "Married     673\n",
       "Single      470\n",
       "Divorced    327\n",
       "Name: count, dtype: int64"
      ]
     },
     "execution_count": 44,
     "metadata": {},
     "output_type": "execute_result"
    }
   ],
   "source": [
    "data.MaritalStatus.value_counts()"
   ]
  },
  {
   "cell_type": "code",
   "execution_count": 45,
   "metadata": {},
   "outputs": [],
   "source": [
    "import seaborn as sns"
   ]
  },
  {
   "cell_type": "code",
   "execution_count": 46,
   "metadata": {},
   "outputs": [
    {
     "data": {
      "text/plain": [
       "<seaborn.axisgrid.FacetGrid at 0x7fba416e2af0>"
      ]
     },
     "execution_count": 46,
     "metadata": {},
     "output_type": "execute_result"
    },
    {
     "data": {
      "image/png": "[encoded data removed]",
      "text/plain": [
       "<Figure size 572.125x500 with 1 Axes>"
      ]
     },
     "metadata": {},
     "output_type": "display_data"
    }
   ],
   "source": [
    "sns.catplot(x='Gender', y='DailyRate', hue='Attrition', kind='box', data=data)"
   ]
  },
  {
   "cell_type": "code",
   "execution_count": 19,
   "metadata": {},
   "outputs": [
    {
     "data": {
      "text/plain": [
       "<Axes: >"
      ]
     },
     "execution_count": 19,
     "metadata": {},
     "output_type": "execute_result"
    },
    {
     "data": {
      "image/png": "[encoded data removed]",
      "text/plain": [
       "<Figure size 5000x700 with 1 Axes>"
      ]
     },
     "metadata": {},
     "output_type": "display_data"
    }
   ],
   "source": [
    "plt.figure(figsize=(50, 7))\n",
    "data.boxplot()"
   ]
  },
  {
   "cell_type": "code",
   "execution_count": 20,
   "metadata": {},
   "outputs": [
    {
     "data": {
      "image/png": "[encoded data removed]",
      "text/plain": [
       "<Figure size 640x480 with 1 Axes>"
      ]
     },
     "metadata": {},
     "output_type": "display_data"
    }
   ],
   "source": [
    "features = ['DailyRate']\n",
    "for feature in features:\n",
    "    sns.boxplot(x=feature, data=data)\n",
    "    plt.show()"
   ]
  },
  {
   "cell_type": "code",
   "execution_count": 47,
   "metadata": {},
   "outputs": [],
   "source": [
    "# train = data[(data['AGE'] <= 60) & (data['PAY_0'] <=2) & (data['PAY_2'] <=2) & (data['PAY_3'] <=2) & (data['PAY_4'] <=2) & (data['PAY_5'] <=2) & (data['PAY_6'] <=2) & (data['LIMIT_BAL'] <=600000)]\n",
    "train = data"
   ]
  },
  {
   "cell_type": "code",
   "execution_count": 48,
   "metadata": {},
   "outputs": [
    {
     "name": "stdout",
     "output_type": "stream",
     "text": [
      "<class 'pandas.core.frame.DataFrame'>\n",
      "RangeIndex: 1470 entries, 0 to 1469\n",
      "Data columns (total 32 columns):\n",
      " #   Column                    Non-Null Count  Dtype \n",
      "---  ------                    --------------  ----- \n",
      " 0   Age                       1470 non-null   int64 \n",
      " 1   Attrition                 1470 non-null   object\n",
      " 2   BusinessTravel            1470 non-null   object\n",
      " 3   DailyRate                 1470 non-null   int64 \n",
      " 4   Department                1470 non-null   object\n",
      " 5   DistanceFromHome          1470 non-null   int64 \n",
      " 6   Education                 1470 non-null   int64 \n",
      " 7   EducationField            1470 non-null   object\n",
      " 8   EnvironmentSatisfaction   1470 non-null   int64 \n",
      " 9   Gender                    1470 non-null   object\n",
      " 10  HourlyRate                1470 non-null   int64 \n",
      " 11  JobInvolvement            1470 non-null   int64 \n",
      " 12  JobLevel                  1470 non-null   int64 \n",
      " 13  JobRole                   1470 non-null   object\n",
      " 14  JobSatisfaction           1470 non-null   int64 \n",
      " 15  MaritalStatus             1470 non-null   object\n",
      " 16  MonthlyIncome             1470 non-null   int64 \n",
      " 17  MonthlyRate               1470 non-null   int64 \n",
      " 18  NumCompaniesWorked        1470 non-null   int64 \n",
      " 19  OverTime                  1470 non-null   object\n",
      " 20  PercentSalaryHike         1470 non-null   int64 \n",
      " 21  PerformanceRating         1470 non-null   int64 \n",
      " 22  RelationshipSatisfaction  1470 non-null   int64 \n",
      " 23  StandardHours             1470 non-null   int64 \n",
      " 24  StockOptionLevel          1470 non-null   int64 \n",
      " 25  TotalWorkingYears         1470 non-null   int64 \n",
      " 26  TrainingTimesLastYear     1470 non-null   int64 \n",
      " 27  WorkLifeBalance           1470 non-null   int64 \n",
      " 28  YearsAtCompany            1470 non-null   int64 \n",
      " 29  YearsInCurrentRole        1470 non-null   int64 \n",
      " 30  YearsSinceLastPromotion   1470 non-null   int64 \n",
      " 31  YearsWithCurrManager      1470 non-null   int64 \n",
      "dtypes: int64(24), object(8)\n",
      "memory usage: 367.6+ KB\n"
     ]
    }
   ],
   "source": [
    "train.info()"
   ]
  },
  {
   "cell_type": "code",
   "execution_count": 49,
   "metadata": {},
   "outputs": [
    {
     "data": {
      "text/plain": [
       "Attrition\n",
       "No     1233\n",
       "Yes     237\n",
       "Name: count, dtype: int64"
      ]
     },
     "execution_count": 49,
     "metadata": {},
     "output_type": "execute_result"
    }
   ],
   "source": [
    "train.Attrition.value_counts()"
   ]
  },
  {
   "cell_type": "code",
   "execution_count": 50,
   "metadata": {},
   "outputs": [
    {
     "data": {
      "text/html": [
       "<div>\n",
       "<style scoped>\n",
       "    .dataframe tbody tr th:only-of-type {\n",
       "        vertical-align: middle;\n",
       "    }\n",
       "\n",
       "    .dataframe tbody tr th {\n",
       "        vertical-align: top;\n",
       "    }\n",
       "\n",
       "    .dataframe thead th {\n",
       "        text-align: right;\n",
       "    }\n",
       "</style>\n",
       "<table border=\"1\" class=\"dataframe\">\n",
       "  <thead>\n",
       "    <tr style=\"text-align: right;\">\n",
       "      <th></th>\n",
       "      <th>Age</th>\n",
       "      <th>Attrition</th>\n",
       "      <th>BusinessTravel</th>\n",
       "      <th>DailyRate</th>\n",
       "      <th>Department</th>\n",
       "      <th>DistanceFromHome</th>\n",
       "      <th>Education</th>\n",
       "      <th>EducationField</th>\n",
       "      <th>EnvironmentSatisfaction</th>\n",
       "      <th>Gender</th>\n",
       "      <th>...</th>\n",
       "      <th>RelationshipSatisfaction</th>\n",
       "      <th>StandardHours</th>\n",
       "      <th>StockOptionLevel</th>\n",
       "      <th>TotalWorkingYears</th>\n",
       "      <th>TrainingTimesLastYear</th>\n",
       "      <th>WorkLifeBalance</th>\n",
       "      <th>YearsAtCompany</th>\n",
       "      <th>YearsInCurrentRole</th>\n",
       "      <th>YearsSinceLastPromotion</th>\n",
       "      <th>YearsWithCurrManager</th>\n",
       "    </tr>\n",
       "  </thead>\n",
       "  <tbody>\n",
       "    <tr>\n",
       "      <th>0</th>\n",
       "      <td>41</td>\n",
       "      <td>Yes</td>\n",
       "      <td>Travel_Rarely</td>\n",
       "      <td>1102</td>\n",
       "      <td>Sales</td>\n",
       "      <td>1</td>\n",
       "      <td>2</td>\n",
       "      <td>Life Sciences</td>\n",
       "      <td>2</td>\n",
       "      <td>Female</td>\n",
       "      <td>...</td>\n",
       "      <td>1</td>\n",
       "      <td>80</td>\n",
       "      <td>0</td>\n",
       "      <td>8</td>\n",
       "      <td>0</td>\n",
       "      <td>1</td>\n",
       "      <td>6</td>\n",
       "      <td>4</td>\n",
       "      <td>0</td>\n",
       "      <td>5</td>\n",
       "    </tr>\n",
       "    <tr>\n",
       "      <th>1</th>\n",
       "      <td>49</td>\n",
       "      <td>No</td>\n",
       "      <td>Travel_Frequently</td>\n",
       "      <td>279</td>\n",
       "      <td>Research &amp; Development</td>\n",
       "      <td>8</td>\n",
       "      <td>1</td>\n",
       "      <td>Life Sciences</td>\n",
       "      <td>3</td>\n",
       "      <td>Male</td>\n",
       "      <td>...</td>\n",
       "      <td>4</td>\n",
       "      <td>80</td>\n",
       "      <td>1</td>\n",
       "      <td>10</td>\n",
       "      <td>3</td>\n",
       "      <td>3</td>\n",
       "      <td>10</td>\n",
       "      <td>7</td>\n",
       "      <td>1</td>\n",
       "      <td>7</td>\n",
       "    </tr>\n",
       "    <tr>\n",
       "      <th>2</th>\n",
       "      <td>37</td>\n",
       "      <td>Yes</td>\n",
       "      <td>Travel_Rarely</td>\n",
       "      <td>1373</td>\n",
       "      <td>Research &amp; Development</td>\n",
       "      <td>2</td>\n",
       "      <td>2</td>\n",
       "      <td>Other</td>\n",
       "      <td>4</td>\n",
       "      <td>Male</td>\n",
       "      <td>...</td>\n",
       "      <td>2</td>\n",
       "      <td>80</td>\n",
       "      <td>0</td>\n",
       "      <td>7</td>\n",
       "      <td>3</td>\n",
       "      <td>3</td>\n",
       "      <td>0</td>\n",
       "      <td>0</td>\n",
       "      <td>0</td>\n",
       "      <td>0</td>\n",
       "    </tr>\n",
       "    <tr>\n",
       "      <th>3</th>\n",
       "      <td>33</td>\n",
       "      <td>No</td>\n",
       "      <td>Travel_Frequently</td>\n",
       "      <td>1392</td>\n",
       "      <td>Research &amp; Development</td>\n",
       "      <td>3</td>\n",
       "      <td>4</td>\n",
       "      <td>Life Sciences</td>\n",
       "      <td>4</td>\n",
       "      <td>Female</td>\n",
       "      <td>...</td>\n",
       "      <td>3</td>\n",
       "      <td>80</td>\n",
       "      <td>0</td>\n",
       "      <td>8</td>\n",
       "      <td>3</td>\n",
       "      <td>3</td>\n",
       "      <td>8</td>\n",
       "      <td>7</td>\n",
       "      <td>3</td>\n",
       "      <td>0</td>\n",
       "    </tr>\n",
       "    <tr>\n",
       "      <th>4</th>\n",
       "      <td>27</td>\n",
       "      <td>No</td>\n",
       "      <td>Travel_Rarely</td>\n",
       "      <td>591</td>\n",
       "      <td>Research &amp; Development</td>\n",
       "      <td>2</td>\n",
       "      <td>1</td>\n",
       "      <td>Medical</td>\n",
       "      <td>1</td>\n",
       "      <td>Male</td>\n",
       "      <td>...</td>\n",
       "      <td>4</td>\n",
       "      <td>80</td>\n",
       "      <td>1</td>\n",
       "      <td>6</td>\n",
       "      <td>3</td>\n",
       "      <td>3</td>\n",
       "      <td>2</td>\n",
       "      <td>2</td>\n",
       "      <td>2</td>\n",
       "      <td>2</td>\n",
       "    </tr>\n",
       "    <tr>\n",
       "      <th>...</th>\n",
       "      <td>...</td>\n",
       "      <td>...</td>\n",
       "      <td>...</td>\n",
       "      <td>...</td>\n",
       "      <td>...</td>\n",
       "      <td>...</td>\n",
       "      <td>...</td>\n",
       "      <td>...</td>\n",
       "      <td>...</td>\n",
       "      <td>...</td>\n",
       "      <td>...</td>\n",
       "      <td>...</td>\n",
       "      <td>...</td>\n",
       "      <td>...</td>\n",
       "      <td>...</td>\n",
       "      <td>...</td>\n",
       "      <td>...</td>\n",
       "      <td>...</td>\n",
       "      <td>...</td>\n",
       "      <td>...</td>\n",
       "      <td>...</td>\n",
       "    </tr>\n",
       "    <tr>\n",
       "      <th>1465</th>\n",
       "      <td>36</td>\n",
       "      <td>No</td>\n",
       "      <td>Travel_Frequently</td>\n",
       "      <td>884</td>\n",
       "      <td>Research &amp; Development</td>\n",
       "      <td>23</td>\n",
       "      <td>2</td>\n",
       "      <td>Medical</td>\n",
       "      <td>3</td>\n",
       "      <td>Male</td>\n",
       "      <td>...</td>\n",
       "      <td>3</td>\n",
       "      <td>80</td>\n",
       "      <td>1</td>\n",
       "      <td>17</td>\n",
       "      <td>3</td>\n",
       "      <td>3</td>\n",
       "      <td>5</td>\n",
       "      <td>2</td>\n",
       "      <td>0</td>\n",
       "      <td>3</td>\n",
       "    </tr>\n",
       "    <tr>\n",
       "      <th>1466</th>\n",
       "      <td>39</td>\n",
       "      <td>No</td>\n",
       "      <td>Travel_Rarely</td>\n",
       "      <td>613</td>\n",
       "      <td>Research &amp; Development</td>\n",
       "      <td>6</td>\n",
       "      <td>1</td>\n",
       "      <td>Medical</td>\n",
       "      <td>4</td>\n",
       "      <td>Male</td>\n",
       "      <td>...</td>\n",
       "      <td>1</td>\n",
       "      <td>80</td>\n",
       "      <td>1</td>\n",
       "      <td>9</td>\n",
       "      <td>5</td>\n",
       "      <td>3</td>\n",
       "      <td>7</td>\n",
       "      <td>7</td>\n",
       "      <td>1</td>\n",
       "      <td>7</td>\n",
       "    </tr>\n",
       "    <tr>\n",
       "      <th>1467</th>\n",
       "      <td>27</td>\n",
       "      <td>No</td>\n",
       "      <td>Travel_Rarely</td>\n",
       "      <td>155</td>\n",
       "      <td>Research &amp; Development</td>\n",
       "      <td>4</td>\n",
       "      <td>3</td>\n",
       "      <td>Life Sciences</td>\n",
       "      <td>2</td>\n",
       "      <td>Male</td>\n",
       "      <td>...</td>\n",
       "      <td>2</td>\n",
       "      <td>80</td>\n",
       "      <td>1</td>\n",
       "      <td>6</td>\n",
       "      <td>0</td>\n",
       "      <td>3</td>\n",
       "      <td>6</td>\n",
       "      <td>2</td>\n",
       "      <td>0</td>\n",
       "      <td>3</td>\n",
       "    </tr>\n",
       "    <tr>\n",
       "      <th>1468</th>\n",
       "      <td>49</td>\n",
       "      <td>No</td>\n",
       "      <td>Travel_Frequently</td>\n",
       "      <td>1023</td>\n",
       "      <td>Sales</td>\n",
       "      <td>2</td>\n",
       "      <td>3</td>\n",
       "      <td>Medical</td>\n",
       "      <td>4</td>\n",
       "      <td>Male</td>\n",
       "      <td>...</td>\n",
       "      <td>4</td>\n",
       "      <td>80</td>\n",
       "      <td>0</td>\n",
       "      <td>17</td>\n",
       "      <td>3</td>\n",
       "      <td>2</td>\n",
       "      <td>9</td>\n",
       "      <td>6</td>\n",
       "      <td>0</td>\n",
       "      <td>8</td>\n",
       "    </tr>\n",
       "    <tr>\n",
       "      <th>1469</th>\n",
       "      <td>34</td>\n",
       "      <td>No</td>\n",
       "      <td>Travel_Rarely</td>\n",
       "      <td>628</td>\n",
       "      <td>Research &amp; Development</td>\n",
       "      <td>8</td>\n",
       "      <td>3</td>\n",
       "      <td>Medical</td>\n",
       "      <td>2</td>\n",
       "      <td>Male</td>\n",
       "      <td>...</td>\n",
       "      <td>1</td>\n",
       "      <td>80</td>\n",
       "      <td>0</td>\n",
       "      <td>6</td>\n",
       "      <td>3</td>\n",
       "      <td>4</td>\n",
       "      <td>4</td>\n",
       "      <td>3</td>\n",
       "      <td>1</td>\n",
       "      <td>2</td>\n",
       "    </tr>\n",
       "  </tbody>\n",
       "</table>\n",
       "<p>1470 rows × 32 columns</p>\n",
       "</div>"
      ],
      "text/plain": [
       "      Age Attrition     BusinessTravel  DailyRate              Department  \\\n",
       "0      41       Yes      Travel_Rarely       1102                   Sales   \n",
       "1      49        No  Travel_Frequently        279  Research & Development   \n",
       "2      37       Yes      Travel_Rarely       1373  Research & Development   \n",
       "3      33        No  Travel_Frequently       1392  Research & Development   \n",
       "4      27        No      Travel_Rarely        591  Research & Development   \n",
       "...   ...       ...                ...        ...                     ...   \n",
       "1465   36        No  Travel_Frequently        884  Research & Development   \n",
       "1466   39        No      Travel_Rarely        613  Research & Development   \n",
       "1467   27        No      Travel_Rarely        155  Research & Development   \n",
       "1468   49        No  Travel_Frequently       1023                   Sales   \n",
       "1469   34        No      Travel_Rarely        628  Research & Development   \n",
       "\n",
       "      DistanceFromHome  Education EducationField  EnvironmentSatisfaction  \\\n",
       "0                    1          2  Life Sciences                        2   \n",
       "1                    8          1  Life Sciences                        3   \n",
       "2                    2          2          Other                        4   \n",
       "3                    3          4  Life Sciences                        4   \n",
       "4                    2          1        Medical                        1   \n",
       "...                ...        ...            ...                      ...   \n",
       "1465                23          2        Medical                        3   \n",
       "1466                 6          1        Medical                        4   \n",
       "1467                 4          3  Life Sciences                        2   \n",
       "1468                 2          3        Medical                        4   \n",
       "1469                 8          3        Medical                        2   \n",
       "\n",
       "      Gender  ...  RelationshipSatisfaction  StandardHours  StockOptionLevel  \\\n",
       "0     Female  ...                         1             80                 0   \n",
       "1       Male  ...                         4             80                 1   \n",
       "2       Male  ...                         2             80                 0   \n",
       "3     Female  ...                         3             80                 0   \n",
       "4       Male  ...                         4             80                 1   \n",
       "...      ...  ...                       ...            ...               ...   \n",
       "1465    Male  ...                         3             80                 1   \n",
       "1466    Male  ...                         1             80                 1   \n",
       "1467    Male  ...                         2             80                 1   \n",
       "1468    Male  ...                         4             80                 0   \n",
       "1469    Male  ...                         1             80                 0   \n",
       "\n",
       "     TotalWorkingYears  TrainingTimesLastYear WorkLifeBalance  YearsAtCompany  \\\n",
       "0                    8                      0               1               6   \n",
       "1                   10                      3               3              10   \n",
       "2                    7                      3               3               0   \n",
       "3                    8                      3               3               8   \n",
       "4                    6                      3               3               2   \n",
       "...                ...                    ...             ...             ...   \n",
       "1465                17                      3               3               5   \n",
       "1466                 9                      5               3               7   \n",
       "1467                 6                      0               3               6   \n",
       "1468                17                      3               2               9   \n",
       "1469                 6                      3               4               4   \n",
       "\n",
       "      YearsInCurrentRole  YearsSinceLastPromotion YearsWithCurrManager  \n",
       "0                      4                        0                    5  \n",
       "1                      7                        1                    7  \n",
       "2                      0                        0                    0  \n",
       "3                      7                        3                    0  \n",
       "4                      2                        2                    2  \n",
       "...                  ...                      ...                  ...  \n",
       "1465                   2                        0                    3  \n",
       "1466                   7                        1                    7  \n",
       "1467                   2                        0                    3  \n",
       "1468                   6                        0                    8  \n",
       "1469                   3                        1                    2  \n",
       "\n",
       "[1470 rows x 32 columns]"
      ]
     },
     "execution_count": 50,
     "metadata": {},
     "output_type": "execute_result"
    }
   ],
   "source": [
    "train"
   ]
  },
  {
   "cell_type": "code",
   "execution_count": 51,
   "metadata": {},
   "outputs": [],
   "source": [
    "train = pd.get_dummies(train, columns=['BusinessTravel','Department', 'EducationField','JobRole','MaritalStatus' ], dtype=int, drop_first=True) # change education and marriage to categorical variables"
   ]
  },
  {
   "cell_type": "code",
   "execution_count": 52,
   "metadata": {},
   "outputs": [
    {
     "data": {
      "text/plain": [
       "Attrition\n",
       "No     1233\n",
       "Yes     237\n",
       "Name: count, dtype: int64"
      ]
     },
     "execution_count": 52,
     "metadata": {},
     "output_type": "execute_result"
    }
   ],
   "source": [
    "train.Attrition.value_counts()"
   ]
  },
  {
   "cell_type": "code",
   "execution_count": 53,
   "metadata": {},
   "outputs": [],
   "source": [
    "encoders_nums = {\n",
    "    \"Gender\": {\"Female\": 0, \"Male\": 1},\n",
    "    \"OverTime\": {\"No\": 0, \"Yes\": 1},\n",
    "    \"Attrition\": {\"No\": 0, \"Yes\": 1},\n",
    "\n",
    "}\n",
    "train = train.replace(encoders_nums)"
   ]
  },
  {
   "cell_type": "code",
   "execution_count": 54,
   "metadata": {},
   "outputs": [
    {
     "data": {
      "text/html": [
       "<div>\n",
       "<style scoped>\n",
       "    .dataframe tbody tr th:only-of-type {\n",
       "        vertical-align: middle;\n",
       "    }\n",
       "\n",
       "    .dataframe tbody tr th {\n",
       "        vertical-align: top;\n",
       "    }\n",
       "\n",
       "    .dataframe thead th {\n",
       "        text-align: right;\n",
       "    }\n",
       "</style>\n",
       "<table border=\"1\" class=\"dataframe\">\n",
       "  <thead>\n",
       "    <tr style=\"text-align: right;\">\n",
       "      <th></th>\n",
       "      <th>Age</th>\n",
       "      <th>Attrition</th>\n",
       "      <th>DailyRate</th>\n",
       "      <th>DistanceFromHome</th>\n",
       "      <th>Education</th>\n",
       "      <th>EnvironmentSatisfaction</th>\n",
       "      <th>Gender</th>\n",
       "      <th>HourlyRate</th>\n",
       "      <th>JobInvolvement</th>\n",
       "      <th>JobLevel</th>\n",
       "      <th>...</th>\n",
       "      <th>JobRole_Human Resources</th>\n",
       "      <th>JobRole_Laboratory Technician</th>\n",
       "      <th>JobRole_Manager</th>\n",
       "      <th>JobRole_Manufacturing Director</th>\n",
       "      <th>JobRole_Research Director</th>\n",
       "      <th>JobRole_Research Scientist</th>\n",
       "      <th>JobRole_Sales Executive</th>\n",
       "      <th>JobRole_Sales Representative</th>\n",
       "      <th>MaritalStatus_Married</th>\n",
       "      <th>MaritalStatus_Single</th>\n",
       "    </tr>\n",
       "  </thead>\n",
       "  <tbody>\n",
       "    <tr>\n",
       "      <th>0</th>\n",
       "      <td>41</td>\n",
       "      <td>1</td>\n",
       "      <td>1102</td>\n",
       "      <td>1</td>\n",
       "      <td>2</td>\n",
       "      <td>2</td>\n",
       "      <td>0</td>\n",
       "      <td>94</td>\n",
       "      <td>3</td>\n",
       "      <td>2</td>\n",
       "      <td>...</td>\n",
       "      <td>0</td>\n",
       "      <td>0</td>\n",
       "      <td>0</td>\n",
       "      <td>0</td>\n",
       "      <td>0</td>\n",
       "      <td>0</td>\n",
       "      <td>1</td>\n",
       "      <td>0</td>\n",
       "      <td>0</td>\n",
       "      <td>1</td>\n",
       "    </tr>\n",
       "    <tr>\n",
       "      <th>1</th>\n",
       "      <td>49</td>\n",
       "      <td>0</td>\n",
       "      <td>279</td>\n",
       "      <td>8</td>\n",
       "      <td>1</td>\n",
       "      <td>3</td>\n",
       "      <td>1</td>\n",
       "      <td>61</td>\n",
       "      <td>2</td>\n",
       "      <td>2</td>\n",
       "      <td>...</td>\n",
       "      <td>0</td>\n",
       "      <td>0</td>\n",
       "      <td>0</td>\n",
       "      <td>0</td>\n",
       "      <td>0</td>\n",
       "      <td>1</td>\n",
       "      <td>0</td>\n",
       "      <td>0</td>\n",
       "      <td>1</td>\n",
       "      <td>0</td>\n",
       "    </tr>\n",
       "    <tr>\n",
       "      <th>2</th>\n",
       "      <td>37</td>\n",
       "      <td>1</td>\n",
       "      <td>1373</td>\n",
       "      <td>2</td>\n",
       "      <td>2</td>\n",
       "      <td>4</td>\n",
       "      <td>1</td>\n",
       "      <td>92</td>\n",
       "      <td>2</td>\n",
       "      <td>1</td>\n",
       "      <td>...</td>\n",
       "      <td>0</td>\n",
       "      <td>1</td>\n",
       "      <td>0</td>\n",
       "      <td>0</td>\n",
       "      <td>0</td>\n",
       "      <td>0</td>\n",
       "      <td>0</td>\n",
       "      <td>0</td>\n",
       "      <td>0</td>\n",
       "      <td>1</td>\n",
       "    </tr>\n",
       "    <tr>\n",
       "      <th>3</th>\n",
       "      <td>33</td>\n",
       "      <td>0</td>\n",
       "      <td>1392</td>\n",
       "      <td>3</td>\n",
       "      <td>4</td>\n",
       "      <td>4</td>\n",
       "      <td>0</td>\n",
       "      <td>56</td>\n",
       "      <td>3</td>\n",
       "      <td>1</td>\n",
       "      <td>...</td>\n",
       "      <td>0</td>\n",
       "      <td>0</td>\n",
       "      <td>0</td>\n",
       "      <td>0</td>\n",
       "      <td>0</td>\n",
       "      <td>1</td>\n",
       "      <td>0</td>\n",
       "      <td>0</td>\n",
       "      <td>1</td>\n",
       "      <td>0</td>\n",
       "    </tr>\n",
       "    <tr>\n",
       "      <th>4</th>\n",
       "      <td>27</td>\n",
       "      <td>0</td>\n",
       "      <td>591</td>\n",
       "      <td>2</td>\n",
       "      <td>1</td>\n",
       "      <td>1</td>\n",
       "      <td>1</td>\n",
       "      <td>40</td>\n",
       "      <td>3</td>\n",
       "      <td>1</td>\n",
       "      <td>...</td>\n",
       "      <td>0</td>\n",
       "      <td>1</td>\n",
       "      <td>0</td>\n",
       "      <td>0</td>\n",
       "      <td>0</td>\n",
       "      <td>0</td>\n",
       "      <td>0</td>\n",
       "      <td>0</td>\n",
       "      <td>1</td>\n",
       "      <td>0</td>\n",
       "    </tr>\n",
       "    <tr>\n",
       "      <th>...</th>\n",
       "      <td>...</td>\n",
       "      <td>...</td>\n",
       "      <td>...</td>\n",
       "      <td>...</td>\n",
       "      <td>...</td>\n",
       "      <td>...</td>\n",
       "      <td>...</td>\n",
       "      <td>...</td>\n",
       "      <td>...</td>\n",
       "      <td>...</td>\n",
       "      <td>...</td>\n",
       "      <td>...</td>\n",
       "      <td>...</td>\n",
       "      <td>...</td>\n",
       "      <td>...</td>\n",
       "      <td>...</td>\n",
       "      <td>...</td>\n",
       "      <td>...</td>\n",
       "      <td>...</td>\n",
       "      <td>...</td>\n",
       "      <td>...</td>\n",
       "    </tr>\n",
       "    <tr>\n",
       "      <th>1465</th>\n",
       "      <td>36</td>\n",
       "      <td>0</td>\n",
       "      <td>884</td>\n",
       "      <td>23</td>\n",
       "      <td>2</td>\n",
       "      <td>3</td>\n",
       "      <td>1</td>\n",
       "      <td>41</td>\n",
       "      <td>4</td>\n",
       "      <td>2</td>\n",
       "      <td>...</td>\n",
       "      <td>0</td>\n",
       "      <td>1</td>\n",
       "      <td>0</td>\n",
       "      <td>0</td>\n",
       "      <td>0</td>\n",
       "      <td>0</td>\n",
       "      <td>0</td>\n",
       "      <td>0</td>\n",
       "      <td>1</td>\n",
       "      <td>0</td>\n",
       "    </tr>\n",
       "    <tr>\n",
       "      <th>1466</th>\n",
       "      <td>39</td>\n",
       "      <td>0</td>\n",
       "      <td>613</td>\n",
       "      <td>6</td>\n",
       "      <td>1</td>\n",
       "      <td>4</td>\n",
       "      <td>1</td>\n",
       "      <td>42</td>\n",
       "      <td>2</td>\n",
       "      <td>3</td>\n",
       "      <td>...</td>\n",
       "      <td>0</td>\n",
       "      <td>0</td>\n",
       "      <td>0</td>\n",
       "      <td>0</td>\n",
       "      <td>0</td>\n",
       "      <td>0</td>\n",
       "      <td>0</td>\n",
       "      <td>0</td>\n",
       "      <td>1</td>\n",
       "      <td>0</td>\n",
       "    </tr>\n",
       "    <tr>\n",
       "      <th>1467</th>\n",
       "      <td>27</td>\n",
       "      <td>0</td>\n",
       "      <td>155</td>\n",
       "      <td>4</td>\n",
       "      <td>3</td>\n",
       "      <td>2</td>\n",
       "      <td>1</td>\n",
       "      <td>87</td>\n",
       "      <td>4</td>\n",
       "      <td>2</td>\n",
       "      <td>...</td>\n",
       "      <td>0</td>\n",
       "      <td>0</td>\n",
       "      <td>0</td>\n",
       "      <td>1</td>\n",
       "      <td>0</td>\n",
       "      <td>0</td>\n",
       "      <td>0</td>\n",
       "      <td>0</td>\n",
       "      <td>1</td>\n",
       "      <td>0</td>\n",
       "    </tr>\n",
       "    <tr>\n",
       "      <th>1468</th>\n",
       "      <td>49</td>\n",
       "      <td>0</td>\n",
       "      <td>1023</td>\n",
       "      <td>2</td>\n",
       "      <td>3</td>\n",
       "      <td>4</td>\n",
       "      <td>1</td>\n",
       "      <td>63</td>\n",
       "      <td>2</td>\n",
       "      <td>2</td>\n",
       "      <td>...</td>\n",
       "      <td>0</td>\n",
       "      <td>0</td>\n",
       "      <td>0</td>\n",
       "      <td>0</td>\n",
       "      <td>0</td>\n",
       "      <td>0</td>\n",
       "      <td>1</td>\n",
       "      <td>0</td>\n",
       "      <td>1</td>\n",
       "      <td>0</td>\n",
       "    </tr>\n",
       "    <tr>\n",
       "      <th>1469</th>\n",
       "      <td>34</td>\n",
       "      <td>0</td>\n",
       "      <td>628</td>\n",
       "      <td>8</td>\n",
       "      <td>3</td>\n",
       "      <td>2</td>\n",
       "      <td>1</td>\n",
       "      <td>82</td>\n",
       "      <td>4</td>\n",
       "      <td>2</td>\n",
       "      <td>...</td>\n",
       "      <td>0</td>\n",
       "      <td>1</td>\n",
       "      <td>0</td>\n",
       "      <td>0</td>\n",
       "      <td>0</td>\n",
       "      <td>0</td>\n",
       "      <td>0</td>\n",
       "      <td>0</td>\n",
       "      <td>1</td>\n",
       "      <td>0</td>\n",
       "    </tr>\n",
       "  </tbody>\n",
       "</table>\n",
       "<p>1470 rows × 46 columns</p>\n",
       "</div>"
      ],
      "text/plain": [
       "      Age  Attrition  DailyRate  DistanceFromHome  Education  \\\n",
       "0      41          1       1102                 1          2   \n",
       "1      49          0        279                 8          1   \n",
       "2      37          1       1373                 2          2   \n",
       "3      33          0       1392                 3          4   \n",
       "4      27          0        591                 2          1   \n",
       "...   ...        ...        ...               ...        ...   \n",
       "1465   36          0        884                23          2   \n",
       "1466   39          0        613                 6          1   \n",
       "1467   27          0        155                 4          3   \n",
       "1468   49          0       1023                 2          3   \n",
       "1469   34          0        628                 8          3   \n",
       "\n",
       "      EnvironmentSatisfaction  Gender  HourlyRate  JobInvolvement  JobLevel  \\\n",
       "0                           2       0          94               3         2   \n",
       "1                           3       1          61               2         2   \n",
       "2                           4       1          92               2         1   \n",
       "3                           4       0          56               3         1   \n",
       "4                           1       1          40               3         1   \n",
       "...                       ...     ...         ...             ...       ...   \n",
       "1465                        3       1          41               4         2   \n",
       "1466                        4       1          42               2         3   \n",
       "1467                        2       1          87               4         2   \n",
       "1468                        4       1          63               2         2   \n",
       "1469                        2       1          82               4         2   \n",
       "\n",
       "      ...  JobRole_Human Resources  JobRole_Laboratory Technician  \\\n",
       "0     ...                        0                              0   \n",
       "1     ...                        0                              0   \n",
       "2     ...                        0                              1   \n",
       "3     ...                        0                              0   \n",
       "4     ...                        0                              1   \n",
       "...   ...                      ...                            ...   \n",
       "1465  ...                        0                              1   \n",
       "1466  ...                        0                              0   \n",
       "1467  ...                        0                              0   \n",
       "1468  ...                        0                              0   \n",
       "1469  ...                        0                              1   \n",
       "\n",
       "      JobRole_Manager  JobRole_Manufacturing Director  \\\n",
       "0                   0                               0   \n",
       "1                   0                               0   \n",
       "2                   0                               0   \n",
       "3                   0                               0   \n",
       "4                   0                               0   \n",
       "...               ...                             ...   \n",
       "1465                0                               0   \n",
       "1466                0                               0   \n",
       "1467                0                               1   \n",
       "1468                0                               0   \n",
       "1469                0                               0   \n",
       "\n",
       "      JobRole_Research Director  JobRole_Research Scientist  \\\n",
       "0                             0                           0   \n",
       "1                             0                           1   \n",
       "2                             0                           0   \n",
       "3                             0                           1   \n",
       "4                             0                           0   \n",
       "...                         ...                         ...   \n",
       "1465                          0                           0   \n",
       "1466                          0                           0   \n",
       "1467                          0                           0   \n",
       "1468                          0                           0   \n",
       "1469                          0                           0   \n",
       "\n",
       "      JobRole_Sales Executive  JobRole_Sales Representative  \\\n",
       "0                           1                             0   \n",
       "1                           0                             0   \n",
       "2                           0                             0   \n",
       "3                           0                             0   \n",
       "4                           0                             0   \n",
       "...                       ...                           ...   \n",
       "1465                        0                             0   \n",
       "1466                        0                             0   \n",
       "1467                        0                             0   \n",
       "1468                        1                             0   \n",
       "1469                        0                             0   \n",
       "\n",
       "      MaritalStatus_Married  MaritalStatus_Single  \n",
       "0                         0                     1  \n",
       "1                         1                     0  \n",
       "2                         0                     1  \n",
       "3                         1                     0  \n",
       "4                         1                     0  \n",
       "...                     ...                   ...  \n",
       "1465                      1                     0  \n",
       "1466                      1                     0  \n",
       "1467                      1                     0  \n",
       "1468                      1                     0  \n",
       "1469                      1                     0  \n",
       "\n",
       "[1470 rows x 46 columns]"
      ]
     },
     "execution_count": 54,
     "metadata": {},
     "output_type": "execute_result"
    }
   ],
   "source": [
    "train"
   ]
  },
  {
   "cell_type": "code",
   "execution_count": 55,
   "metadata": {},
   "outputs": [],
   "source": [
    "X = train.drop('Attrition', axis=1)\n",
    "y = train.Attrition"
   ]
  },
  {
   "cell_type": "code",
   "execution_count": 56,
   "metadata": {},
   "outputs": [
    {
     "data": {
      "text/plain": [
       "Attrition\n",
       "0    1233\n",
       "1     237\n",
       "Name: count, dtype: int64"
      ]
     },
     "execution_count": 56,
     "metadata": {},
     "output_type": "execute_result"
    }
   ],
   "source": [
    "y.value_counts()"
   ]
  },
  {
   "cell_type": "code",
   "execution_count": 57,
   "metadata": {},
   "outputs": [],
   "source": [
    "columns = train.drop('Attrition', axis=1).columns"
   ]
  },
  {
   "cell_type": "code",
   "execution_count": 58,
   "metadata": {},
   "outputs": [
    {
     "data": {
      "text/plain": [
       "Index(['Age', 'DailyRate', 'DistanceFromHome', 'Education',\n",
       "       'EnvironmentSatisfaction', 'Gender', 'HourlyRate', 'JobInvolvement',\n",
       "       'JobLevel', 'JobSatisfaction', 'MonthlyIncome', 'MonthlyRate',\n",
       "       'NumCompaniesWorked', 'OverTime', 'PercentSalaryHike',\n",
       "       'PerformanceRating', 'RelationshipSatisfaction', 'StandardHours',\n",
       "       'StockOptionLevel', 'TotalWorkingYears', 'TrainingTimesLastYear',\n",
       "       'WorkLifeBalance', 'YearsAtCompany', 'YearsInCurrentRole',\n",
       "       'YearsSinceLastPromotion', 'YearsWithCurrManager',\n",
       "       'BusinessTravel_Travel_Frequently', 'BusinessTravel_Travel_Rarely',\n",
       "       'Department_Research & Development', 'Department_Sales',\n",
       "       'EducationField_Life Sciences', 'EducationField_Marketing',\n",
       "       'EducationField_Medical', 'EducationField_Other',\n",
       "       'EducationField_Technical Degree', 'JobRole_Human Resources',\n",
       "       'JobRole_Laboratory Technician', 'JobRole_Manager',\n",
       "       'JobRole_Manufacturing Director', 'JobRole_Research Director',\n",
       "       'JobRole_Research Scientist', 'JobRole_Sales Executive',\n",
       "       'JobRole_Sales Representative', 'MaritalStatus_Married',\n",
       "       'MaritalStatus_Single'],\n",
       "      dtype='object')"
      ]
     },
     "execution_count": 58,
     "metadata": {},
     "output_type": "execute_result"
    }
   ],
   "source": [
    "columns"
   ]
  },
  {
   "cell_type": "code",
   "execution_count": 59,
   "metadata": {},
   "outputs": [],
   "source": [
    "from imblearn.over_sampling import SMOTE\n",
    "\n",
    "sm = SMOTE(random_state=42)\n",
    "\n",
    "X, y = sm.fit_resample(X, y) # make the x y balanced"
   ]
  },
  {
   "cell_type": "code",
   "execution_count": 60,
   "metadata": {},
   "outputs": [
    {
     "data": {
      "text/plain": [
       "Attrition\n",
       "1    1233\n",
       "0    1233\n",
       "Name: count, dtype: int64"
      ]
     },
     "execution_count": 60,
     "metadata": {},
     "output_type": "execute_result"
    }
   ],
   "source": [
    "y.value_counts()"
   ]
  },
  {
   "cell_type": "code",
   "execution_count": 61,
   "metadata": {},
   "outputs": [
    {
     "data": {
      "text/plain": [
       "Age  DailyRate  DistanceFromHome  Education  EnvironmentSatisfaction  Gender  HourlyRate  JobInvolvement  JobLevel  JobSatisfaction  MonthlyIncome  MonthlyRate  NumCompaniesWorked  OverTime  PercentSalaryHike  PerformanceRating  RelationshipSatisfaction  StandardHours  StockOptionLevel  TotalWorkingYears  TrainingTimesLastYear  WorkLifeBalance  YearsAtCompany  YearsInCurrentRole  YearsSinceLastPromotion  YearsWithCurrManager  BusinessTravel_Travel_Frequently  BusinessTravel_Travel_Rarely  Department_Research & Development  Department_Sales  EducationField_Life Sciences  EducationField_Marketing  EducationField_Medical  EducationField_Other  EducationField_Technical Degree  JobRole_Human Resources  JobRole_Laboratory Technician  JobRole_Manager  JobRole_Manufacturing Director  JobRole_Research Director  JobRole_Research Scientist  JobRole_Sales Executive  JobRole_Sales Representative  MaritalStatus_Married  MaritalStatus_Single\n",
       "21   585        15                2          4                        1       41          3               1         1                1735           26891        1                   0         19                 3                  2                         80             0                 0                  2                      2                0               0                   0                        0                     0                                 0                             0                                  1                 0                             1                         0                       0                     0                                0                        0                              0                0                               0                          0                           0                        1                             0                      0                       2\n",
       "31   703        2                 2          3                        0       90          2               1         3                2779           11875        6                   0         13                 3                  3                         80             0                 3                  3                      3                1               0                   0                        0                     1                                 0                             0                                  1                 0                             0                         0                       0                     0                                0                        0                              0                0                               0                          0                           0                        1                             0                      0                       2\n",
       "29   978        16                2          2                        0       74          3               2         3                9838           23117        3                   0         11                 3                  2                         80             0                 9                  1                      3                1               0                   0                        0                     0                                 0                             0                                  0                 0                             0                         0                       0                     0                                0                        0                              0                0                               0                          0                           0                        0                             0                      0                       2\n",
       "38   1490       2                 2          4                        1       42          3               1         4                1702           12106        1                   1         23                 4                  3                         80             1                 1                  3                      3                1               0                   0                        0                     1                                 0                             1                                  0                 1                             0                         0                       0                     0                                0                        1                              0                0                               0                          0                           0                        0                             1                      0                       1\n",
       "     1336       2                 3          1                        1       100         3               1         2                2592           7129         5                   0         13                 3                  4                         80             3                 13                 3                      3                11              10                  3                        8                     0                                 0                             0                                  0                 0                             0                         0                       0                     0                                1                        0                              0                0                               0                          0                           0                        0                             0                      0                       1\n",
       "                                                                                                                                                                                                                                                                                                                                                                                                                                                                                                                                                                                                                                                                                                                                                                                                                                                                                                                                                                               ..\n",
       "31   453        15                1          4                        1       50          3               1         3                1926           26634        1                   0         20                 3                  3                         80             0                 2                  2                      2                0               0                   0                        0                     0                                 1                             0                                  0                 0                             0                         0                       0                     0                                0                        0                              0                0                               0                          0                           0                        0                             0                      1                       1\n",
       "     460        8                 3          2                        1       92          3               1         2                3428           21239        3                   0         14                 3                  3                         80             0                 5                  2                      1                1               1                   1                        1                     0                                 0                             0                                  0                 0                             0                         0                       0                     0                                0                        0                              0                0                               0                          0                           0                        0                             1                      0                       1\n",
       "     461        6                 3          3                        0       48          2               1         3                2552           9408         3                   0         12                 3                  2                         80             0                 3                  1                      2                2               0                   0                        0                     0                                 0                             0                                  0                 0                             0                         0                       0                     0                                0                        0                              0                0                               0                          0                           0                        0                             0                      0                       1\n",
       "     468        17                4          3                        1       81          3               1         1                2830           21653        1                   0         16                 3                  3                         80             0                 3                  3                      2                1               0                   0                        0                     0                                 1                             0                                  0                 0                             0                         0                       0                     0                                0                        0                              0                0                               0                          0                           0                        0                             1                      0                       1\n",
       "60   1499       28                3          3                        0       80          2               3         1                10266          2845         4                   0         19                 3                  4                         80             0                 22                 5                      4                18              13                  13                       11                    1                                 0                             0                                  1                 0                             1                         0                       0                     0                                0                        0                              0                0                               0                          0                           1                        0                             1                      0                       1\n",
       "Name: count, Length: 2463, dtype: int64"
      ]
     },
     "execution_count": 61,
     "metadata": {},
     "output_type": "execute_result"
    }
   ],
   "source": [
    "X.value_counts()"
   ]
  },
  {
   "cell_type": "code",
   "execution_count": 62,
   "metadata": {},
   "outputs": [],
   "source": [
    "from sklearn.preprocessing import StandardScaler\n",
    "scaler = StandardScaler()\n",
    "X = scaler.fit_transform(X) # scale the data to make it easier for the model to learn"
   ]
  },
  {
   "cell_type": "code",
   "execution_count": 63,
   "metadata": {},
   "outputs": [
    {
     "data": {
      "text/plain": [
       "array([[ 0.61580999,  0.85104375, -1.13962904, ..., -0.22116816,\n",
       "        -0.71098137,  1.53761389],\n",
       "       [ 1.50863716, -1.32745367, -0.23286359, ..., -0.22116816,\n",
       "         1.40650662, -0.65035833],\n",
       "       [ 0.1693964 ,  1.56838616, -1.01009112, ..., -0.22116816,\n",
       "        -0.71098137,  1.53761389],\n",
       "       ...,\n",
       "       [-0.61182738, -0.45658411,  0.93297771, ..., -0.22116816,\n",
       "         1.40650662, -0.65035833],\n",
       "       [-1.50465456, -1.20833777, -0.62147735, ..., -0.22116816,\n",
       "        -0.71098137,  1.53761389],\n",
       "       [-0.50022399,  0.85633779, -0.75101528, ..., -0.22116816,\n",
       "        -0.71098137, -0.65035833]])"
      ]
     },
     "execution_count": 63,
     "metadata": {},
     "output_type": "execute_result"
    }
   ],
   "source": [
    "X"
   ]
  },
  {
   "cell_type": "code",
   "execution_count": 64,
   "metadata": {},
   "outputs": [],
   "source": [
    "from sklearn.model_selection import train_test_split\n",
    "X_train, X_test, y_train, y_test = train_test_split(\n",
    "    X, y, test_size=0.3, random_state=42)"
   ]
  },
  {
   "cell_type": "markdown",
   "metadata": {},
   "source": [
    "# logistic regression"
   ]
  },
  {
   "cell_type": "code",
   "execution_count": 65,
   "metadata": {},
   "outputs": [],
   "source": [
    "from sklearn.svm import SVC\n",
    "from sklearn.neighbors import KNeighborsClassifier\n",
    "from sklearn import tree\n",
    "from sklearn.tree import DecisionTreeClassifier\n",
    "from xgboost import XGBClassifier\n",
    "from sklearn.ensemble import RandomForestClassifier\n",
    "from sklearn.naive_bayes import GaussianNB\n",
    "from sklearn.metrics import confusion_matrix, classification_report, roc_curve, roc_auc_score, auc\n",
    "from mlxtend.plotting import plot_confusion_matrix\n",
    "from sklearn.linear_model import LogisticRegression\n",
    "from sklearn.model_selection import GridSearchCV"
   ]
  },
  {
   "cell_type": "code",
   "execution_count": 66,
   "metadata": {},
   "outputs": [
    {
     "name": "stdout",
     "output_type": "stream",
     "text": [
      "0.7324324324324324\n"
     ]
    }
   ],
   "source": [
    "gnb = GaussianNB()\n",
    "gnb.fit(X_train, y_train)\n",
    "print(gnb.score(X_test, y_test))"
   ]
  },
  {
   "cell_type": "markdown",
   "metadata": {},
   "source": [
    "正則化是機器學習和統計模型中用於防止過擬合（overfitting）的一種技術。過擬合發生在模型過於複雜，以至於它開始捕捉訓練數據中的隨機噪聲而不是底層的數據分佈。正則化通過對模型增加一個懲罰項（penalty term）來解決這個問題，這有助於降低模型的複雜性，從而提高其泛化能力。\n",
    "\n",
    "### **正則化的主要類型**\n",
    "\n",
    "1. **L1 正則化（Lasso）**:\n",
    "    - 在L1正則化中，懲罰項是模型權重的絕對值之和。\n",
    "    - 公式表示為：損失函數 + λ * (Σ |w|)，其中 w 是模型權重，λ 是正則化強度。\n",
    "    - L1 正則化有助於生成一個稀疏模型，其中一些權重變為零。這意味著它可以用於特徵選擇。\n",
    "2. **L2 正則化（Ridge）**:\n",
    "    - 在L2正則化中，懲罰項是模型權重的平方和。\n",
    "    - 公式表示為：損失函數 + λ * (Σ w²)。\n",
    "    - L2 正則化會使權重更平均分布，並傾向於避免讓任何一個權重變得過大。這有助於處理特徵之間的多重共線性問題。\n",
    "3. **彈性網（Elastic Net）**:\n",
    "    - 彈性網結合了L1和L2正則化。\n",
    "    - 它在懲罰項中同時包含權重的絕對值和平方和。\n",
    "    - 彈性網通常在特徵之間有關聯時使用，當需要進行特徵選擇同時控制模型參數的時候特別有用。\n",
    "\n",
    "### **正則化的作用**\n",
    "\n",
    "- **防止過擬合**:\n",
    "    - 正則化通過懲罰過於複雜的模型來減少過擬合。\n",
    "    - 它限制了模型的自由度，使模型不能完美擬合訓練數據中的每一個細節。\n",
    "- **提高模型泛化能力**:\n",
    "    - 通過減少模型的複雜性，正則化有助於提高模型在未見數據上的性能。\n",
    "- **處理共線性問題**:\n",
    "    - 特別是L2正則化，它能夠減少特徵間的相互依賴，這在處理共線性高的數據時非常有幫助。\n",
    "\n",
    "### **調整正則化強度**\n",
    "\n",
    "- 正則化的強度通常由一個參數（比如 λ）控制。\n",
    "- 選擇一個適當的 λ 值非常關鍵。太小的 λ 值會導致過擬合，而太大的 λ 值則可能導致模型過於簡單（underfitting）。\n",
    "- 在實踐中，通常通過交叉驗證來找到最佳的 λ 值。"
   ]
  },
  {
   "cell_type": "code",
   "execution_count": 67,
   "metadata": {},
   "outputs": [],
   "source": [
    "param_lr = {'penalty': ['none','l2'], 'C' : [0.001, 0.01, 0.1, 1, 10, 100, 1000] }"
   ]
  },
  {
   "cell_type": "markdown",
   "metadata": {},
   "source": [
    "這段代碼使用了 Scikit-learn 的 **`GridSearchCV`** 函數，用於尋找邏輯回歸（**`LogisticRegression`**）模型的最佳參數。我將詳細解釋每個部分及其參數：\n",
    "\n",
    "### **`GridSearchCV` 功能**\n",
    "\n",
    "**`GridSearchCV`** 是一種廣泛使用的方法，用於自動化地尋找最佳參數組合，從而優化模型的性能。它通過在指定的參數範圍內進行積極的搜索和交叉驗證來實現這一點。\n",
    "\n",
    "### **參數解釋**\n",
    "\n",
    "1. **第一個參數 `LogisticRegression()`**:\n",
    "    - 這是要進行調優的模型。在這個例子中，使用的是邏輯回歸模型。\n",
    "    - **`LogisticRegression`** 是一種常用於二元分類問題的模型。\n",
    "2. **第二個參數 `param_lr`**:\n",
    "    - 這是一個字典，包含了要嘗試的參數範圍。\n",
    "    - 在您的代碼中，**`param_lr = {'penalty': ['none','l2'], 'C': [0.001, 0.01, 0.1, 1, 10, 100, 1000]}`**。\n",
    "    - **`penalty`** 參數用於指定正則化類型，而 **`C`** 是正則化強度的倒數。\n",
    "3. **`scoring='accuracy'`**:\n",
    "    - 這個參數指定了評估模型性能的指標。在這裡使用的是「準確度」（accuracy）。\n",
    "    - 準確度是模型正確預測的樣本數佔總樣本數的比例。\n",
    "4. **`n_jobs=-1`**:\n",
    "    - 這個參數決定了用於計算的CPU核心數量。\n",
    "    - **`n_jobs=-1`** 表示使用所有可用的核心。\n",
    "5. **`verbose=3`**:\n",
    "    - 這個參數控制輸出的詳細程度。數字越大，輸出的信息越詳細。\n",
    "    - 在這個例子中，**`verbose=3`** 提供了較詳細的輸出，這有助於跟蹤Grid Search的進度和性能。\n",
    "6. **`cv=5`**:\n",
    "    - 這個參數指定了交叉驗證的折數。\n",
    "    - **`cv=5`** 表示使用5折交叉驗證。在5折交叉驗證中，數據集被分成五個部分，每個部分依次作為驗證集，其餘部分作為訓練集。\n",
    "\n",
    "### **`grid_lr.fit(X_train, y_train)`**\n",
    "\n",
    "- 這行代碼執行實際的網格搜索。\n",
    "- **`X_train`** 和 **`y_train`** 分別是訓練數據集的特徵和標籤。\n",
    "- **`fit`** 方法將對每一種參數組合進行訓練和評估，並使用交叉驗證來確保結果的穩健性。\n",
    "- 最終，**`grid_lr`** 將包含表現最佳的參數組合和相關信息。"
   ]
  },
  {
   "cell_type": "code",
   "execution_count": 68,
   "metadata": {},
   "outputs": [
    {
     "name": "stdout",
     "output_type": "stream",
     "text": [
      "Fitting 5 folds for each of 14 candidates, totalling 70 fits\n"
     ]
    },
    {
     "name": "stderr",
     "output_type": "stream",
     "text": [
      "/home/kounuki/anaconda3/envs/big_data/lib/python3.8/site-packages/sklearn/linear_model/_logistic.py:1183: FutureWarning: `penalty='none'`has been deprecated in 1.2 and will be removed in 1.4. To keep the past behaviour, set `penalty=None`.\n",
      "  warnings.warn(\n",
      "/home/kounuki/anaconda3/envs/big_data/lib/python3.8/site-packages/sklearn/linear_model/_logistic.py:1193: UserWarning: Setting penalty=None will ignore the C and l1_ratio parameters\n",
      "  warnings.warn(\n",
      "/home/kounuki/anaconda3/envs/big_data/lib/python3.8/site-packages/sklearn/linear_model/_logistic.py:1183: FutureWarning: `penalty='none'`has been deprecated in 1.2 and will be removed in 1.4. To keep the past behaviour, set `penalty=None`.\n",
      "  warnings.warn(\n",
      "/home/kounuki/anaconda3/envs/big_data/lib/python3.8/site-packages/sklearn/linear_model/_logistic.py:1193: UserWarning: Setting penalty=None will ignore the C and l1_ratio parameters\n",
      "  warnings.warn(\n",
      "/home/kounuki/anaconda3/envs/big_data/lib/python3.8/site-packages/sklearn/linear_model/_logistic.py:1183: FutureWarning: `penalty='none'`has been deprecated in 1.2 and will be removed in 1.4. To keep the past behaviour, set `penalty=None`.\n",
      "  warnings.warn(\n",
      "/home/kounuki/anaconda3/envs/big_data/lib/python3.8/site-packages/sklearn/linear_model/_logistic.py:1193: UserWarning: Setting penalty=None will ignore the C and l1_ratio parameters\n",
      "  warnings.warn(\n",
      "/home/kounuki/anaconda3/envs/big_data/lib/python3.8/site-packages/sklearn/linear_model/_logistic.py:1183: FutureWarning: `penalty='none'`has been deprecated in 1.2 and will be removed in 1.4. To keep the past behaviour, set `penalty=None`.\n",
      "  warnings.warn(\n",
      "/home/kounuki/anaconda3/envs/big_data/lib/python3.8/site-packages/sklearn/linear_model/_logistic.py:1193: UserWarning: Setting penalty=None will ignore the C and l1_ratio parameters\n",
      "  warnings.warn(\n",
      "/home/kounuki/anaconda3/envs/big_data/lib/python3.8/site-packages/sklearn/linear_model/_logistic.py:1183: FutureWarning: `penalty='none'`has been deprecated in 1.2 and will be removed in 1.4. To keep the past behaviour, set `penalty=None`.\n",
      "  warnings.warn(\n",
      "/home/kounuki/anaconda3/envs/big_data/lib/python3.8/site-packages/sklearn/linear_model/_logistic.py:1183: FutureWarning: `penalty='none'`has been deprecated in 1.2 and will be removed in 1.4. To keep the past behaviour, set `penalty=None`.\n",
      "  warnings.warn(\n",
      "/home/kounuki/anaconda3/envs/big_data/lib/python3.8/site-packages/sklearn/linear_model/_logistic.py:1193: UserWarning: Setting penalty=None will ignore the C and l1_ratio parameters\n",
      "  warnings.warn(\n",
      "/home/kounuki/anaconda3/envs/big_data/lib/python3.8/site-packages/sklearn/linear_model/_logistic.py:1193: UserWarning: Setting penalty=None will ignore the C and l1_ratio parameters\n",
      "  warnings.warn(\n",
      "/home/kounuki/anaconda3/envs/big_data/lib/python3.8/site-packages/sklearn/linear_model/_logistic.py:1183: FutureWarning: `penalty='none'`has been deprecated in 1.2 and will be removed in 1.4. To keep the past behaviour, set `penalty=None`.\n",
      "  warnings.warn(\n",
      "/home/kounuki/anaconda3/envs/big_data/lib/python3.8/site-packages/sklearn/linear_model/_logistic.py:1193: UserWarning: Setting penalty=None will ignore the C and l1_ratio parameters\n",
      "  warnings.warn(\n",
      "/home/kounuki/anaconda3/envs/big_data/lib/python3.8/site-packages/sklearn/linear_model/_logistic.py:1183: FutureWarning: `penalty='none'`has been deprecated in 1.2 and will be removed in 1.4. To keep the past behaviour, set `penalty=None`.\n",
      "  warnings.warn(\n",
      "/home/kounuki/anaconda3/envs/big_data/lib/python3.8/site-packages/sklearn/linear_model/_logistic.py:1193: UserWarning: Setting penalty=None will ignore the C and l1_ratio parameters\n",
      "  warnings.warn(\n"
     ]
    },
    {
     "name": "stdout",
     "output_type": "stream",
     "text": [
      "[CV 2/5] END .............C=0.001, penalty=none;, score=0.896 total time=   0.0s\n",
      "[CV 1/5] END .............C=0.001, penalty=none;, score=0.922 total time=   0.0s\n",
      "[CV 3/5] END .............C=0.001, penalty=none;, score=0.913 total time=   0.0s\n",
      "[CV 3/5] END ..............C=0.01, penalty=none;, score=0.913 total time=   0.0s\n",
      "[CV 5/5] END .............C=0.001, penalty=none;, score=0.901 total time=   0.0s\n",
      "[CV 4/5] END .............C=0.001, penalty=none;, score=0.881 total time=   0.0s\n",
      "[CV 1/5] END ...............C=0.001, penalty=l2;, score=0.893 total time=   0.0s\n",
      "[CV 1/5] END ................C=0.01, penalty=l2;, score=0.913 total time=   0.0s\n",
      "[CV 4/5] END ..............C=0.01, penalty=none;, score=0.881 total time=   0.0s\n",
      "[CV 5/5] END ..............C=0.01, penalty=none;, score=0.901 total time=   0.0s\n",
      "[CV 2/5] END ................C=0.01, penalty=l2;, score=0.881 total time=   0.0s\n",
      "[CV 3/5] END ................C=0.01, penalty=l2;, score=0.896 total time=   0.0s\n",
      "[CV 4/5] END ...............C=0.001, penalty=l2;, score=0.864 total time=   0.0s\n",
      "[CV 4/5] END ................C=0.01, penalty=l2;, score=0.887 total time=   0.0s\n",
      "[CV 5/5] END ................C=0.01, penalty=l2;, score=0.881 total time=   0.0s\n"
     ]
    },
    {
     "name": "stderr",
     "output_type": "stream",
     "text": [
      "/home/kounuki/anaconda3/envs/big_data/lib/python3.8/site-packages/sklearn/linear_model/_logistic.py:1183: FutureWarning: `penalty='none'`has been deprecated in 1.2 and will be removed in 1.4. To keep the past behaviour, set `penalty=None`.\n",
      "  warnings.warn(\n",
      "/home/kounuki/anaconda3/envs/big_data/lib/python3.8/site-packages/sklearn/linear_model/_logistic.py:1193: UserWarning: Setting penalty=None will ignore the C and l1_ratio parameters\n",
      "  warnings.warn(\n",
      "/home/kounuki/anaconda3/envs/big_data/lib/python3.8/site-packages/sklearn/linear_model/_logistic.py:1183: FutureWarning: `penalty='none'`has been deprecated in 1.2 and will be removed in 1.4. To keep the past behaviour, set `penalty=None`.\n",
      "  warnings.warn(\n",
      "/home/kounuki/anaconda3/envs/big_data/lib/python3.8/site-packages/sklearn/linear_model/_logistic.py:1193: UserWarning: Setting penalty=None will ignore the C and l1_ratio parameters\n",
      "  warnings.warn(\n",
      "/home/kounuki/anaconda3/envs/big_data/lib/python3.8/site-packages/sklearn/linear_model/_logistic.py:1183: FutureWarning: `penalty='none'`has been deprecated in 1.2 and will be removed in 1.4. To keep the past behaviour, set `penalty=None`.\n",
      "  warnings.warn(\n",
      "/home/kounuki/anaconda3/envs/big_data/lib/python3.8/site-packages/sklearn/linear_model/_logistic.py:1193: UserWarning: Setting penalty=None will ignore the C and l1_ratio parameters\n",
      "  warnings.warn(\n",
      "/home/kounuki/anaconda3/envs/big_data/lib/python3.8/site-packages/sklearn/linear_model/_logistic.py:1183: FutureWarning: `penalty='none'`has been deprecated in 1.2 and will be removed in 1.4. To keep the past behaviour, set `penalty=None`.\n",
      "  warnings.warn(\n",
      "/home/kounuki/anaconda3/envs/big_data/lib/python3.8/site-packages/sklearn/linear_model/_logistic.py:1193: UserWarning: Setting penalty=None will ignore the C and l1_ratio parameters\n",
      "  warnings.warn(\n",
      "/home/kounuki/anaconda3/envs/big_data/lib/python3.8/site-packages/sklearn/linear_model/_logistic.py:1183: FutureWarning: `penalty='none'`has been deprecated in 1.2 and will be removed in 1.4. To keep the past behaviour, set `penalty=None`.\n",
      "  warnings.warn(\n",
      "/home/kounuki/anaconda3/envs/big_data/lib/python3.8/site-packages/sklearn/linear_model/_logistic.py:1193: UserWarning: Setting penalty=None will ignore the C and l1_ratio parameters\n",
      "  warnings.warn(\n",
      "/home/kounuki/anaconda3/envs/big_data/lib/python3.8/site-packages/sklearn/linear_model/_logistic.py:1183: FutureWarning: `penalty='none'`has been deprecated in 1.2 and will be removed in 1.4. To keep the past behaviour, set `penalty=None`.\n",
      "  warnings.warn(\n",
      "/home/kounuki/anaconda3/envs/big_data/lib/python3.8/site-packages/sklearn/linear_model/_logistic.py:1183: FutureWarning: `penalty='none'`has been deprecated in 1.2 and will be removed in 1.4. To keep the past behaviour, set `penalty=None`.\n",
      "  warnings.warn(\n",
      "/home/kounuki/anaconda3/envs/big_data/lib/python3.8/site-packages/sklearn/linear_model/_logistic.py:1183: FutureWarning: `penalty='none'`has been deprecated in 1.2 and will be removed in 1.4. To keep the past behaviour, set `penalty=None`.\n",
      "  warnings.warn(\n",
      "/home/kounuki/anaconda3/envs/big_data/lib/python3.8/site-packages/sklearn/linear_model/_logistic.py:1193: UserWarning: Setting penalty=None will ignore the C and l1_ratio parameters\n",
      "  warnings.warn(\n",
      "/home/kounuki/anaconda3/envs/big_data/lib/python3.8/site-packages/sklearn/linear_model/_logistic.py:1183: FutureWarning: `penalty='none'`has been deprecated in 1.2 and will be removed in 1.4. To keep the past behaviour, set `penalty=None`.\n",
      "  warnings.warn(\n",
      "/home/kounuki/anaconda3/envs/big_data/lib/python3.8/site-packages/sklearn/linear_model/_logistic.py:1183: FutureWarning: `penalty='none'`has been deprecated in 1.2 and will be removed in 1.4. To keep the past behaviour, set `penalty=None`.\n",
      "  warnings.warn(\n",
      "/home/kounuki/anaconda3/envs/big_data/lib/python3.8/site-packages/sklearn/linear_model/_logistic.py:1183: FutureWarning: `penalty='none'`has been deprecated in 1.2 and will be removed in 1.4. To keep the past behaviour, set `penalty=None`.\n",
      "  warnings.warn(\n",
      "/home/kounuki/anaconda3/envs/big_data/lib/python3.8/site-packages/sklearn/linear_model/_logistic.py:1183: FutureWarning: `penalty='none'`has been deprecated in 1.2 and will be removed in 1.4. To keep the past behaviour, set `penalty=None`.\n",
      "  warnings.warn(\n",
      "/home/kounuki/anaconda3/envs/big_data/lib/python3.8/site-packages/sklearn/linear_model/_logistic.py:1193: UserWarning: Setting penalty=None will ignore the C and l1_ratio parameters\n",
      "  warnings.warn(\n",
      "/home/kounuki/anaconda3/envs/big_data/lib/python3.8/site-packages/sklearn/linear_model/_logistic.py:1183: FutureWarning: `penalty='none'`has been deprecated in 1.2 and will be removed in 1.4. To keep the past behaviour, set `penalty=None`.\n",
      "  warnings.warn(\n",
      "/home/kounuki/anaconda3/envs/big_data/lib/python3.8/site-packages/sklearn/linear_model/_logistic.py:1193: UserWarning: Setting penalty=None will ignore the C and l1_ratio parameters\n",
      "  warnings.warn(\n",
      "/home/kounuki/anaconda3/envs/big_data/lib/python3.8/site-packages/sklearn/linear_model/_logistic.py:1183: FutureWarning: `penalty='none'`has been deprecated in 1.2 and will be removed in 1.4. To keep the past behaviour, set `penalty=None`.\n",
      "  warnings.warn(\n",
      "/home/kounuki/anaconda3/envs/big_data/lib/python3.8/site-packages/sklearn/linear_model/_logistic.py:1193: UserWarning: Setting penalty=None will ignore the C and l1_ratio parameters\n",
      "  warnings.warn(\n",
      "/home/kounuki/anaconda3/envs/big_data/lib/python3.8/site-packages/sklearn/linear_model/_logistic.py:1183: FutureWarning: `penalty='none'`has been deprecated in 1.2 and will be removed in 1.4. To keep the past behaviour, set `penalty=None`.\n",
      "  warnings.warn(\n",
      "/home/kounuki/anaconda3/envs/big_data/lib/python3.8/site-packages/sklearn/linear_model/_logistic.py:1193: UserWarning: Setting penalty=None will ignore the C and l1_ratio parameters\n",
      "  warnings.warn(\n",
      "/home/kounuki/anaconda3/envs/big_data/lib/python3.8/site-packages/sklearn/linear_model/_logistic.py:1183: FutureWarning: `penalty='none'`has been deprecated in 1.2 and will be removed in 1.4. To keep the past behaviour, set `penalty=None`.\n",
      "  warnings.warn(\n",
      "/home/kounuki/anaconda3/envs/big_data/lib/python3.8/site-packages/sklearn/linear_model/_logistic.py:1193: UserWarning: Setting penalty=None will ignore the C and l1_ratio parameters\n",
      "  warnings.warn(\n",
      "/home/kounuki/anaconda3/envs/big_data/lib/python3.8/site-packages/sklearn/linear_model/_logistic.py:1183: FutureWarning: `penalty='none'`has been deprecated in 1.2 and will be removed in 1.4. To keep the past behaviour, set `penalty=None`.\n",
      "  warnings.warn(\n",
      "/home/kounuki/anaconda3/envs/big_data/lib/python3.8/site-packages/sklearn/linear_model/_logistic.py:1193: UserWarning: Setting penalty=None will ignore the C and l1_ratio parameters\n",
      "  warnings.warn(\n",
      "/home/kounuki/anaconda3/envs/big_data/lib/python3.8/site-packages/sklearn/linear_model/_logistic.py:1183: FutureWarning: `penalty='none'`has been deprecated in 1.2 and will be removed in 1.4. To keep the past behaviour, set `penalty=None`.\n",
      "  warnings.warn(\n",
      "/home/kounuki/anaconda3/envs/big_data/lib/python3.8/site-packages/sklearn/linear_model/_logistic.py:1193: UserWarning: Setting penalty=None will ignore the C and l1_ratio parameters\n",
      "  warnings.warn(\n",
      "/home/kounuki/anaconda3/envs/big_data/lib/python3.8/site-packages/sklearn/linear_model/_logistic.py:1183: FutureWarning: `penalty='none'`has been deprecated in 1.2 and will be removed in 1.4. To keep the past behaviour, set `penalty=None`.\n",
      "  warnings.warn(\n",
      "/home/kounuki/anaconda3/envs/big_data/lib/python3.8/site-packages/sklearn/linear_model/_logistic.py:1193: UserWarning: Setting penalty=None will ignore the C and l1_ratio parameters\n",
      "  warnings.warn(\n",
      "/home/kounuki/anaconda3/envs/big_data/lib/python3.8/site-packages/sklearn/linear_model/_logistic.py:1183: FutureWarning: `penalty='none'`has been deprecated in 1.2 and will be removed in 1.4. To keep the past behaviour, set `penalty=None`.\n",
      "  warnings.warn(\n",
      "/home/kounuki/anaconda3/envs/big_data/lib/python3.8/site-packages/sklearn/linear_model/_logistic.py:1193: UserWarning: Setting penalty=None will ignore the C and l1_ratio parameters\n",
      "  warnings.warn(\n",
      "/home/kounuki/anaconda3/envs/big_data/lib/python3.8/site-packages/sklearn/linear_model/_logistic.py:1183: FutureWarning: `penalty='none'`has been deprecated in 1.2 and will be removed in 1.4. To keep the past behaviour, set `penalty=None`.\n",
      "  warnings.warn(\n",
      "/home/kounuki/anaconda3/envs/big_data/lib/python3.8/site-packages/sklearn/linear_model/_logistic.py:1193: UserWarning: Setting penalty=None will ignore the C and l1_ratio parameters\n",
      "  warnings.warn(\n",
      "/home/kounuki/anaconda3/envs/big_data/lib/python3.8/site-packages/sklearn/linear_model/_logistic.py:1183: FutureWarning: `penalty='none'`has been deprecated in 1.2 and will be removed in 1.4. To keep the past behaviour, set `penalty=None`.\n",
      "  warnings.warn(\n",
      "/home/kounuki/anaconda3/envs/big_data/lib/python3.8/site-packages/sklearn/linear_model/_logistic.py:1193: UserWarning: Setting penalty=None will ignore the C and l1_ratio parameters\n",
      "  warnings.warn(\n"
     ]
    },
    {
     "name": "stdout",
     "output_type": "stream",
     "text": [
      "[CV 2/5] END ...............C=0.001, penalty=l2;, score=0.861 total time=   0.0s\n",
      "[CV 5/5] END ...............C=0.001, penalty=l2;, score=0.864 total time=   0.0s\n",
      "[CV 1/5] END ...............C=0.1, penalty=none;, score=0.922 total time=   0.0s\n",
      "[CV 2/5] END ...............C=0.1, penalty=none;, score=0.896 total time=   0.0s\n",
      "[CV 3/5] END ...............C=0.001, penalty=l2;, score=0.878 total time=   0.0s\n",
      "[CV 3/5] END ...............C=0.1, penalty=none;, score=0.913 total time=   0.0s\n",
      "[CV 1/5] END .................C=0.1, penalty=l2;, score=0.916 total time=   0.0s\n",
      "[CV 2/5] END .................C=0.1, penalty=l2;, score=0.890 total time=   0.0s\n",
      "[CV 3/5] END .................C=0.1, penalty=l2;, score=0.904 total time=   0.0s\n",
      "[CV 4/5] END ...............C=0.1, penalty=none;, score=0.881 total time=   0.0s\n",
      "[CV 5/5] END ...............C=0.1, penalty=none;, score=0.901 total time=   0.0s\n",
      "[CV 4/5] END .................C=0.1, penalty=l2;, score=0.881 total time=   0.0s\n",
      "[CV 5/5] END .................C=0.1, penalty=l2;, score=0.887 total time=   0.0s\n",
      "[CV 2/5] END .................C=1, penalty=none;, score=0.896 total time=   0.0s\n",
      "[CV 1/5] END .................C=1, penalty=none;, score=0.922 total time=   0.0s\n",
      "[CV 5/5] END .................C=1, penalty=none;, score=0.901 total time=   0.0s\n",
      "[CV 1/5] END ..............C=0.01, penalty=none;, score=0.922 total time=   0.0s\n",
      "[CV 3/5] END .................C=1, penalty=none;, score=0.913 total time=   0.0s\n",
      "[CV 1/5] END ...................C=1, penalty=l2;, score=0.922 total time=   0.0s[CV 2/5] END ...................C=1, penalty=l2;, score=0.904 total time=   0.0s\n",
      "\n",
      "[CV 4/5] END .................C=1, penalty=none;, score=0.881 total time=   0.0s\n",
      "[CV 3/5] END ...................C=1, penalty=l2;, score=0.910 total time=   0.0s\n",
      "[CV 5/5] END ...................C=1, penalty=l2;, score=0.899 total time=   0.0s\n",
      "[CV 4/5] END ...................C=1, penalty=l2;, score=0.881 total time=   0.0s\n",
      "[CV 1/5] END ................C=10, penalty=none;, score=0.922 total time=   0.0s\n",
      "[CV 3/5] END ................C=10, penalty=none;, score=0.913 total time=   0.0s\n",
      "[CV 2/5] END ................C=10, penalty=none;, score=0.896 total time=   0.0s\n",
      "[CV 5/5] END ................C=10, penalty=none;, score=0.901 total time=   0.0s\n",
      "[CV 4/5] END ................C=10, penalty=none;, score=0.881 total time=   0.0s\n",
      "[CV 3/5] END ..................C=10, penalty=l2;, score=0.913 total time=   0.0s\n",
      "[CV 1/5] END ..................C=10, penalty=l2;, score=0.922 total time=   0.0s\n",
      "[CV 2/5] END ..................C=10, penalty=l2;, score=0.896 total time=   0.0s\n",
      "[CV 2/5] END ..............C=0.01, penalty=none;, score=0.896 total time=   0.0s\n",
      "[CV 4/5] END ..................C=10, penalty=l2;, score=0.878 total time=   0.0s\n",
      "[CV 5/5] END ..................C=10, penalty=l2;, score=0.901 total time=   0.0s\n",
      "[CV 1/5] END ...............C=100, penalty=none;, score=0.922 total time=   0.0s\n",
      "[CV 2/5] END ...............C=100, penalty=none;, score=0.896 total time=   0.0s\n",
      "[CV 5/5] END ...............C=100, penalty=none;, score=0.901 total time=   0.0s\n",
      "[CV 3/5] END ...............C=100, penalty=none;, score=0.913 total time=   0.0s\n",
      "[CV 4/5] END ...............C=100, penalty=none;, score=0.881 total time=   0.0s\n",
      "[CV 2/5] END .................C=100, penalty=l2;, score=0.896 total time=   0.0s\n",
      "[CV 1/5] END .................C=100, penalty=l2;, score=0.922 total time=   0.0s\n",
      "[CV 3/5] END .................C=100, penalty=l2;, score=0.913 total time=   0.0s\n",
      "[CV 4/5] END .................C=100, penalty=l2;, score=0.881 total time=   0.0s\n",
      "[CV 5/5] END .................C=100, penalty=l2;, score=0.901 total time=   0.0s\n",
      "[CV 2/5] END ..............C=1000, penalty=none;, score=0.896 total time=   0.0s\n",
      "[CV 3/5] END ..............C=1000, penalty=none;, score=0.913 total time=   0.0s\n",
      "[CV 1/5] END ..............C=1000, penalty=none;, score=0.922 total time=   0.0s\n",
      "[CV 5/5] END ..............C=1000, penalty=none;, score=0.901 total time=   0.0s\n",
      "[CV 4/5] END ..............C=1000, penalty=none;, score=0.881 total time=   0.0s\n",
      "[CV 1/5] END ................C=1000, penalty=l2;, score=0.922 total time=   0.0s\n",
      "[CV 2/5] END ................C=1000, penalty=l2;, score=0.896 total time=   0.0s\n",
      "[CV 3/5] END ................C=1000, penalty=l2;, score=0.913 total time=   0.0s\n",
      "[CV 5/5] END ................C=1000, penalty=l2;, score=0.901 total time=   0.0s\n",
      "[CV 4/5] END ................C=1000, penalty=l2;, score=0.881 total time=   0.0s\n"
     ]
    },
    {
     "name": "stderr",
     "output_type": "stream",
     "text": [
      "/home/kounuki/anaconda3/envs/big_data/lib/python3.8/site-packages/sklearn/linear_model/_logistic.py:1183: FutureWarning: `penalty='none'`has been deprecated in 1.2 and will be removed in 1.4. To keep the past behaviour, set `penalty=None`.\n",
      "  warnings.warn(\n",
      "/home/kounuki/anaconda3/envs/big_data/lib/python3.8/site-packages/sklearn/linear_model/_logistic.py:1193: UserWarning: Setting penalty=None will ignore the C and l1_ratio parameters\n",
      "  warnings.warn(\n",
      "/home/kounuki/anaconda3/envs/big_data/lib/python3.8/site-packages/sklearn/linear_model/_logistic.py:1183: FutureWarning: `penalty='none'`has been deprecated in 1.2 and will be removed in 1.4. To keep the past behaviour, set `penalty=None`.\n",
      "  warnings.warn(\n",
      "/home/kounuki/anaconda3/envs/big_data/lib/python3.8/site-packages/sklearn/linear_model/_logistic.py:1193: UserWarning: Setting penalty=None will ignore the C and l1_ratio parameters\n",
      "  warnings.warn(\n",
      "/home/kounuki/anaconda3/envs/big_data/lib/python3.8/site-packages/sklearn/linear_model/_logistic.py:1183: FutureWarning: `penalty='none'`has been deprecated in 1.2 and will be removed in 1.4. To keep the past behaviour, set `penalty=None`.\n",
      "  warnings.warn(\n",
      "/home/kounuki/anaconda3/envs/big_data/lib/python3.8/site-packages/sklearn/linear_model/_logistic.py:1193: UserWarning: Setting penalty=None will ignore the C and l1_ratio parameters\n",
      "  warnings.warn(\n",
      "/home/kounuki/anaconda3/envs/big_data/lib/python3.8/site-packages/sklearn/linear_model/_logistic.py:1183: FutureWarning: `penalty='none'`has been deprecated in 1.2 and will be removed in 1.4. To keep the past behaviour, set `penalty=None`.\n",
      "  warnings.warn(\n",
      "/home/kounuki/anaconda3/envs/big_data/lib/python3.8/site-packages/sklearn/linear_model/_logistic.py:1193: UserWarning: Setting penalty=None will ignore the C and l1_ratio parameters\n",
      "  warnings.warn(\n",
      "/home/kounuki/anaconda3/envs/big_data/lib/python3.8/site-packages/sklearn/linear_model/_logistic.py:1183: FutureWarning: `penalty='none'`has been deprecated in 1.2 and will be removed in 1.4. To keep the past behaviour, set `penalty=None`.\n",
      "  warnings.warn(\n",
      "/home/kounuki/anaconda3/envs/big_data/lib/python3.8/site-packages/sklearn/linear_model/_logistic.py:1193: UserWarning: Setting penalty=None will ignore the C and l1_ratio parameters\n",
      "  warnings.warn(\n"
     ]
    },
    {
     "data": {
      "text/html": [
       "<style>#sk-container-id-1 {color: black;}#sk-container-id-1 pre{padding: 0;}#sk-container-id-1 div.sk-toggleable {background-color: white;}#sk-container-id-1 label.sk-toggleable__label {cursor: pointer;display: block;width: 100%;margin-bottom: 0;padding: 0.3em;box-sizing: border-box;text-align: center;}#sk-container-id-1 label.sk-toggleable__label-arrow:before {content: \"▸\";float: left;margin-right: 0.25em;color: #696969;}#sk-container-id-1 label.sk-toggleable__label-arrow:hover:before {color: black;}#sk-container-id-1 div.sk-estimator:hover label.sk-toggleable__label-arrow:before {color: black;}#sk-container-id-1 div.sk-toggleable__content {max-height: 0;max-width: 0;overflow: hidden;text-align: left;background-color: #f0f8ff;}#sk-container-id-1 div.sk-toggleable__content pre {margin: 0.2em;color: black;border-radius: 0.25em;background-color: #f0f8ff;}#sk-container-id-1 input.sk-toggleable__control:checked~div.sk-toggleable__content {max-height: 200px;max-width: 100%;overflow: auto;}#sk-container-id-1 input.sk-toggleable__control:checked~label.sk-toggleable__label-arrow:before {content: \"▾\";}#sk-container-id-1 div.sk-estimator input.sk-toggleable__control:checked~label.sk-toggleable__label {background-color: #d4ebff;}#sk-container-id-1 div.sk-label input.sk-toggleable__control:checked~label.sk-toggleable__label {background-color: #d4ebff;}#sk-container-id-1 input.sk-hidden--visually {border: 0;clip: rect(1px 1px 1px 1px);clip: rect(1px, 1px, 1px, 1px);height: 1px;margin: -1px;overflow: hidden;padding: 0;position: absolute;width: 1px;}#sk-container-id-1 div.sk-estimator {font-family: monospace;background-color: #f0f8ff;border: 1px dotted black;border-radius: 0.25em;box-sizing: border-box;margin-bottom: 0.5em;}#sk-container-id-1 div.sk-estimator:hover {background-color: #d4ebff;}#sk-container-id-1 div.sk-parallel-item::after {content: \"\";width: 100%;border-bottom: 1px solid gray;flex-grow: 1;}#sk-container-id-1 div.sk-label:hover label.sk-toggleable__label {background-color: #d4ebff;}#sk-container-id-1 div.sk-serial::before {content: \"\";position: absolute;border-left: 1px solid gray;box-sizing: border-box;top: 0;bottom: 0;left: 50%;z-index: 0;}#sk-container-id-1 div.sk-serial {display: flex;flex-direction: column;align-items: center;background-color: white;padding-right: 0.2em;padding-left: 0.2em;position: relative;}#sk-container-id-1 div.sk-item {position: relative;z-index: 1;}#sk-container-id-1 div.sk-parallel {display: flex;align-items: stretch;justify-content: center;background-color: white;position: relative;}#sk-container-id-1 div.sk-item::before, #sk-container-id-1 div.sk-parallel-item::before {content: \"\";position: absolute;border-left: 1px solid gray;box-sizing: border-box;top: 0;bottom: 0;left: 50%;z-index: -1;}#sk-container-id-1 div.sk-parallel-item {display: flex;flex-direction: column;z-index: 1;position: relative;background-color: white;}#sk-container-id-1 div.sk-parallel-item:first-child::after {align-self: flex-end;width: 50%;}#sk-container-id-1 div.sk-parallel-item:last-child::after {align-self: flex-start;width: 50%;}#sk-container-id-1 div.sk-parallel-item:only-child::after {width: 0;}#sk-container-id-1 div.sk-dashed-wrapped {border: 1px dashed gray;margin: 0 0.4em 0.5em 0.4em;box-sizing: border-box;padding-bottom: 0.4em;background-color: white;}#sk-container-id-1 div.sk-label label {font-family: monospace;font-weight: bold;display: inline-block;line-height: 1.2em;}#sk-container-id-1 div.sk-label-container {text-align: center;}#sk-container-id-1 div.sk-container {/* jupyter's `normalize.less` sets `[hidden] { display: none; }` but bootstrap.min.css set `[hidden] { display: none !important; }` so we also need the `!important` here to be able to override the default hidden behavior on the sphinx rendered scikit-learn.org. See: https://github.com/scikit-learn/scikit-learn/issues/21755 */display: inline-block !important;position: relative;}#sk-container-id-1 div.sk-text-repr-fallback {display: none;}</style><div id=\"sk-container-id-1\" class=\"sk-top-container\"><div class=\"sk-text-repr-fallback\"><pre>GridSearchCV(cv=5, estimator=LogisticRegression(), n_jobs=-1,\n",
       "             param_grid={&#x27;C&#x27;: [0.001, 0.01, 0.1, 1, 10, 100, 1000],\n",
       "                         &#x27;penalty&#x27;: [&#x27;none&#x27;, &#x27;l2&#x27;]},\n",
       "             scoring=&#x27;accuracy&#x27;, verbose=3)</pre><b>In a Jupyter environment, please rerun this cell to show the HTML representation or trust the notebook. <br />On GitHub, the HTML representation is unable to render, please try loading this page with nbviewer.org.</b></div><div class=\"sk-container\" hidden><div class=\"sk-item sk-dashed-wrapped\"><div class=\"sk-label-container\"><div class=\"sk-label sk-toggleable\"><input class=\"sk-toggleable__control sk-hidden--visually\" id=\"sk-estimator-id-1\" type=\"checkbox\" ><label for=\"sk-estimator-id-1\" class=\"sk-toggleable__label sk-toggleable__label-arrow\">GridSearchCV</label><div class=\"sk-toggleable__content\"><pre>GridSearchCV(cv=5, estimator=LogisticRegression(), n_jobs=-1,\n",
       "             param_grid={&#x27;C&#x27;: [0.001, 0.01, 0.1, 1, 10, 100, 1000],\n",
       "                         &#x27;penalty&#x27;: [&#x27;none&#x27;, &#x27;l2&#x27;]},\n",
       "             scoring=&#x27;accuracy&#x27;, verbose=3)</pre></div></div></div><div class=\"sk-parallel\"><div class=\"sk-parallel-item\"><div class=\"sk-item\"><div class=\"sk-label-container\"><div class=\"sk-label sk-toggleable\"><input class=\"sk-toggleable__control sk-hidden--visually\" id=\"sk-estimator-id-2\" type=\"checkbox\" ><label for=\"sk-estimator-id-2\" class=\"sk-toggleable__label sk-toggleable__label-arrow\">estimator: LogisticRegression</label><div class=\"sk-toggleable__content\"><pre>LogisticRegression()</pre></div></div></div><div class=\"sk-serial\"><div class=\"sk-item\"><div class=\"sk-estimator sk-toggleable\"><input class=\"sk-toggleable__control sk-hidden--visually\" id=\"sk-estimator-id-3\" type=\"checkbox\" ><label for=\"sk-estimator-id-3\" class=\"sk-toggleable__label sk-toggleable__label-arrow\">LogisticRegression</label><div class=\"sk-toggleable__content\"><pre>LogisticRegression()</pre></div></div></div></div></div></div></div></div></div></div>"
      ],
      "text/plain": [
       "GridSearchCV(cv=5, estimator=LogisticRegression(), n_jobs=-1,\n",
       "             param_grid={'C': [0.001, 0.01, 0.1, 1, 10, 100, 1000],\n",
       "                         'penalty': ['none', 'l2']},\n",
       "             scoring='accuracy', verbose=3)"
      ]
     },
     "execution_count": 68,
     "metadata": {},
     "output_type": "execute_result"
    }
   ],
   "source": [
    "grid_lr = GridSearchCV(LogisticRegression(), param_lr,\n",
    "                       scoring='accuracy', n_jobs=-1, verbose=3, cv=5)\n",
    "grid_lr.fit(X_train, y_train)"
   ]
  },
  {
   "cell_type": "code",
   "execution_count": 69,
   "metadata": {},
   "outputs": [
    {
     "data": {
      "text/html": [
       "<style>#sk-container-id-2 {color: black;}#sk-container-id-2 pre{padding: 0;}#sk-container-id-2 div.sk-toggleable {background-color: white;}#sk-container-id-2 label.sk-toggleable__label {cursor: pointer;display: block;width: 100%;margin-bottom: 0;padding: 0.3em;box-sizing: border-box;text-align: center;}#sk-container-id-2 label.sk-toggleable__label-arrow:before {content: \"▸\";float: left;margin-right: 0.25em;color: #696969;}#sk-container-id-2 label.sk-toggleable__label-arrow:hover:before {color: black;}#sk-container-id-2 div.sk-estimator:hover label.sk-toggleable__label-arrow:before {color: black;}#sk-container-id-2 div.sk-toggleable__content {max-height: 0;max-width: 0;overflow: hidden;text-align: left;background-color: #f0f8ff;}#sk-container-id-2 div.sk-toggleable__content pre {margin: 0.2em;color: black;border-radius: 0.25em;background-color: #f0f8ff;}#sk-container-id-2 input.sk-toggleable__control:checked~div.sk-toggleable__content {max-height: 200px;max-width: 100%;overflow: auto;}#sk-container-id-2 input.sk-toggleable__control:checked~label.sk-toggleable__label-arrow:before {content: \"▾\";}#sk-container-id-2 div.sk-estimator input.sk-toggleable__control:checked~label.sk-toggleable__label {background-color: #d4ebff;}#sk-container-id-2 div.sk-label input.sk-toggleable__control:checked~label.sk-toggleable__label {background-color: #d4ebff;}#sk-container-id-2 input.sk-hidden--visually {border: 0;clip: rect(1px 1px 1px 1px);clip: rect(1px, 1px, 1px, 1px);height: 1px;margin: -1px;overflow: hidden;padding: 0;position: absolute;width: 1px;}#sk-container-id-2 div.sk-estimator {font-family: monospace;background-color: #f0f8ff;border: 1px dotted black;border-radius: 0.25em;box-sizing: border-box;margin-bottom: 0.5em;}#sk-container-id-2 div.sk-estimator:hover {background-color: #d4ebff;}#sk-container-id-2 div.sk-parallel-item::after {content: \"\";width: 100%;border-bottom: 1px solid gray;flex-grow: 1;}#sk-container-id-2 div.sk-label:hover label.sk-toggleable__label {background-color: #d4ebff;}#sk-container-id-2 div.sk-serial::before {content: \"\";position: absolute;border-left: 1px solid gray;box-sizing: border-box;top: 0;bottom: 0;left: 50%;z-index: 0;}#sk-container-id-2 div.sk-serial {display: flex;flex-direction: column;align-items: center;background-color: white;padding-right: 0.2em;padding-left: 0.2em;position: relative;}#sk-container-id-2 div.sk-item {position: relative;z-index: 1;}#sk-container-id-2 div.sk-parallel {display: flex;align-items: stretch;justify-content: center;background-color: white;position: relative;}#sk-container-id-2 div.sk-item::before, #sk-container-id-2 div.sk-parallel-item::before {content: \"\";position: absolute;border-left: 1px solid gray;box-sizing: border-box;top: 0;bottom: 0;left: 50%;z-index: -1;}#sk-container-id-2 div.sk-parallel-item {display: flex;flex-direction: column;z-index: 1;position: relative;background-color: white;}#sk-container-id-2 div.sk-parallel-item:first-child::after {align-self: flex-end;width: 50%;}#sk-container-id-2 div.sk-parallel-item:last-child::after {align-self: flex-start;width: 50%;}#sk-container-id-2 div.sk-parallel-item:only-child::after {width: 0;}#sk-container-id-2 div.sk-dashed-wrapped {border: 1px dashed gray;margin: 0 0.4em 0.5em 0.4em;box-sizing: border-box;padding-bottom: 0.4em;background-color: white;}#sk-container-id-2 div.sk-label label {font-family: monospace;font-weight: bold;display: inline-block;line-height: 1.2em;}#sk-container-id-2 div.sk-label-container {text-align: center;}#sk-container-id-2 div.sk-container {/* jupyter's `normalize.less` sets `[hidden] { display: none; }` but bootstrap.min.css set `[hidden] { display: none !important; }` so we also need the `!important` here to be able to override the default hidden behavior on the sphinx rendered scikit-learn.org. See: https://github.com/scikit-learn/scikit-learn/issues/21755 */display: inline-block !important;position: relative;}#sk-container-id-2 div.sk-text-repr-fallback {display: none;}</style><div id=\"sk-container-id-2\" class=\"sk-top-container\"><div class=\"sk-text-repr-fallback\"><pre>LogisticRegression(C=1)</pre><b>In a Jupyter environment, please rerun this cell to show the HTML representation or trust the notebook. <br />On GitHub, the HTML representation is unable to render, please try loading this page with nbviewer.org.</b></div><div class=\"sk-container\" hidden><div class=\"sk-item\"><div class=\"sk-estimator sk-toggleable\"><input class=\"sk-toggleable__control sk-hidden--visually\" id=\"sk-estimator-id-4\" type=\"checkbox\" checked><label for=\"sk-estimator-id-4\" class=\"sk-toggleable__label sk-toggleable__label-arrow\">LogisticRegression</label><div class=\"sk-toggleable__content\"><pre>LogisticRegression(C=1)</pre></div></div></div></div></div>"
      ],
      "text/plain": [
       "LogisticRegression(C=1)"
      ]
     },
     "execution_count": 69,
     "metadata": {},
     "output_type": "execute_result"
    }
   ],
   "source": [
    "optimized_lr = grid_lr.best_estimator_\n",
    "optimized_lr"
   ]
  },
  {
   "cell_type": "code",
   "execution_count": 70,
   "metadata": {},
   "outputs": [
    {
     "data": {
      "text/plain": [
       "0.9032336432939599"
      ]
     },
     "execution_count": 70,
     "metadata": {},
     "output_type": "execute_result"
    }
   ],
   "source": [
    "grid_lr.best_score_"
   ]
  },
  {
   "cell_type": "code",
   "execution_count": 71,
   "metadata": {},
   "outputs": [
    {
     "data": {
      "text/plain": [
       "{'C': 1, 'penalty': 'l2'}"
      ]
     },
     "execution_count": 71,
     "metadata": {},
     "output_type": "execute_result"
    }
   ],
   "source": [
    "grid_lr.best_params_"
   ]
  },
  {
   "cell_type": "code",
   "execution_count": 72,
   "metadata": {},
   "outputs": [],
   "source": [
    "lr_train_pred = optimized_lr.predict(X_train)\n",
    "lr_test_pred = optimized_lr.predict(X_test)"
   ]
  },
  {
   "cell_type": "code",
   "execution_count": 73,
   "metadata": {},
   "outputs": [
    {
     "name": "stdout",
     "output_type": "stream",
     "text": [
      "The accuracy on train data is  0.9154113557358053\n",
      "The accuracy on test data is  0.904054054054054\n",
      "The precision on test data is  0.889487870619946\n",
      "The recall on test data is  0.9166666666666666\n",
      "The f1 on test data is  0.9028727770177838\n",
      "The roc_score on test data is  0.9043859649122806\n"
     ]
    }
   ],
   "source": [
    "\n",
    "from sklearn.metrics import accuracy_score, precision_score, recall_score, f1_score, roc_auc_score\n",
    "print(\"The accuracy on train data is \", accuracy_score(lr_train_pred, y_train))\n",
    "print(\"The accuracy on test data is \", accuracy_score(lr_test_pred, y_test))\n",
    "print(\"The precision on test data is \", precision_score(lr_test_pred, y_test))\n",
    "print(\"The recall on test data is \", recall_score(lr_test_pred, y_test))\n",
    "print(\"The f1 on test data is \", f1_score(lr_test_pred, y_test))\n",
    "print(\"The roc_score on test data is \", roc_auc_score(lr_test_pred, y_test))"
   ]
  },
  {
   "cell_type": "code",
   "execution_count": 74,
   "metadata": {},
   "outputs": [
    {
     "data": {
      "text/plain": [
       "[Text(0, 0.5, 'Not Defaulter'), Text(0, 1.5, 'Defaulter')]"
      ]
     },
     "execution_count": 74,
     "metadata": {},
     "output_type": "execute_result"
    },
    {
     "data": {
      "image/png": "[encoded data removed]",
      "text/plain": [
       "<Figure size 640x480 with 2 Axes>"
      ]
     },
     "metadata": {},
     "output_type": "display_data"
    }
   ],
   "source": [
    "labels = ['Not Defaulter', 'Defaulter']\n",
    "cm = confusion_matrix(y_test, lr_test_pred)\n",
    "\n",
    "\n",
    "ax = plt.subplot()\n",
    "sns.heatmap(cm,\n",
    "            xticklabels=['Not Default', 'Default'],\n",
    "            yticklabels=['Not Default', 'Default'],\n",
    "            annot=True, ax=ax,\n",
    "            linewidths=.2, linecolor=\"Darkblue\", cmap=\"Blues\")  # annot=True to annotate cells\n",
    "\n",
    "# labels, title and ticks\n",
    "ax.set_xlabel('Predicted labels')\n",
    "ax.set_ylabel('True labels')\n",
    "ax.set_title('Confusion Matrix (Logistic Regression)')\n",
    "ax.xaxis.set_ticklabels(labels)\n",
    "ax.yaxis.set_ticklabels(labels)"
   ]
  },
  {
   "cell_type": "code",
   "execution_count": 75,
   "metadata": {},
   "outputs": [
    {
     "data": {
      "image/png": "[encoded data removed]",
      "text/plain": [
       "<Figure size 640x480 with 1 Axes>"
      ]
     },
     "metadata": {},
     "output_type": "display_data"
    }
   ],
   "source": [
    "y_preds_proba_lr = optimized_lr.predict_proba(X_test)[::, 1]\n",
    "y_pred_proba = y_preds_proba_lr\n",
    "fpr, tpr, _ = roc_curve(y_test,  y_pred_proba)\n",
    "auc = roc_auc_score(y_test, y_pred_proba)\n",
    "plt.plot(fpr, tpr, label=\"data 1, auc=\"+str(auc))\n",
    "plt.title('Logistic Regression')\n",
    "plt.legend(loc=4)\n",
    "plt.show()"
   ]
  },
  {
   "cell_type": "markdown",
   "metadata": {},
   "source": [
    "# Decision Tree\n"
   ]
  },
  {
   "cell_type": "markdown",
   "metadata": {},
   "source": [
    "1. **`DecisionTreeClassifier(max_depth=8, max_features=15, random_state=42)`**:\n",
    "    - **`DecisionTreeClassifier`** 是一種常用於分類問題的決策樹模型。\n",
    "    - **`max_depth=8`**: 這個參數限制了樹的最大深度。在這裡設為8意味著樹可以分裂成最多8層。控制樹的深度有助於防止過擬合。\n",
    "    - **`max_features=15`**: 這表示在尋找最佳分割時，每次只考慮15個特徵。這可以提高訓練速度，同時也有助於防止過擬合。\n",
    "    - **`random_state=42`**: 這是隨機數生成器的種子。設定這個值確保了結果的可重現性。\n",
    "\n",
    "### **訓練過程**\n",
    "\n",
    "1. **`dt.fit(X_train, y_train)`**:\n",
    "    - **`fit`** 方法用於在訓練數據集（**`X_train`**, **`y_train`**）上訓練模型。\n",
    "    - **`X_train`** 包含了訓練數據的特徵，而 **`y_train`** 是相應的標籤。\n",
    "\n",
    "### **模型評估**\n",
    "\n",
    "1. **`print(dt.score(X_test, y_test))`**:\n",
    "    - **`score`** 方法用於評估模型在測試數據集（**`X_test`**, **`y_test`**）上的表現。\n",
    "    - 它返回的是模型的準確率，即模型正確預測的標籤佔總標籤的比例。\n",
    "    - 這一步是檢查模型在未見數據上的泛化能力的關鍵。\n",
    "\n",
    "### **總結**\n",
    "\n",
    "這段代碼展示了使用決策樹進行分類的基本流程：模型初始化、訓練和性能評估。決策樹是一種直觀且常用的分類方法，它通過樹狀結構來進行決策，每個節點代表一個特徵的檢查，而每個分支則代表一個決策方向。\n",
    "\n",
    "理解這一過程對於數據分析學生至關重要，因為它提供了關於如何訓練、調整參數以及評估機器學習模型的基礎知識。此外，理解不同參數（如 **`max_depth`** 和 **`max_features`**）對模型性能的影響是進行有效模型調優的關鍵。"
   ]
  },
  {
   "cell_type": "code",
   "execution_count": 77,
   "metadata": {},
   "outputs": [
    {
     "name": "stdout",
     "output_type": "stream",
     "text": [
      "0.8364864864864865\n"
     ]
    }
   ],
   "source": [
    "dt = DecisionTreeClassifier(max_depth=8, max_features=15, random_state=42)\n",
    "dt.fit(X_train, y_train)\n",
    "print(dt.score(X_test, y_test))"
   ]
  },
  {
   "cell_type": "code",
   "execution_count": 78,
   "metadata": {},
   "outputs": [
    {
     "name": "stdout",
     "output_type": "stream",
     "text": [
      "Fitting 4 folds for each of 3120 candidates, totalling 12480 fits\n"
     ]
    },
    {
     "data": {
      "text/html": [
       "<style>#sk-container-id-3 {color: black;}#sk-container-id-3 pre{padding: 0;}#sk-container-id-3 div.sk-toggleable {background-color: white;}#sk-container-id-3 label.sk-toggleable__label {cursor: pointer;display: block;width: 100%;margin-bottom: 0;padding: 0.3em;box-sizing: border-box;text-align: center;}#sk-container-id-3 label.sk-toggleable__label-arrow:before {content: \"▸\";float: left;margin-right: 0.25em;color: #696969;}#sk-container-id-3 label.sk-toggleable__label-arrow:hover:before {color: black;}#sk-container-id-3 div.sk-estimator:hover label.sk-toggleable__label-arrow:before {color: black;}#sk-container-id-3 div.sk-toggleable__content {max-height: 0;max-width: 0;overflow: hidden;text-align: left;background-color: #f0f8ff;}#sk-container-id-3 div.sk-toggleable__content pre {margin: 0.2em;color: black;border-radius: 0.25em;background-color: #f0f8ff;}#sk-container-id-3 input.sk-toggleable__control:checked~div.sk-toggleable__content {max-height: 200px;max-width: 100%;overflow: auto;}#sk-container-id-3 input.sk-toggleable__control:checked~label.sk-toggleable__label-arrow:before {content: \"▾\";}#sk-container-id-3 div.sk-estimator input.sk-toggleable__control:checked~label.sk-toggleable__label {background-color: #d4ebff;}#sk-container-id-3 div.sk-label input.sk-toggleable__control:checked~label.sk-toggleable__label {background-color: #d4ebff;}#sk-container-id-3 input.sk-hidden--visually {border: 0;clip: rect(1px 1px 1px 1px);clip: rect(1px, 1px, 1px, 1px);height: 1px;margin: -1px;overflow: hidden;padding: 0;position: absolute;width: 1px;}#sk-container-id-3 div.sk-estimator {font-family: monospace;background-color: #f0f8ff;border: 1px dotted black;border-radius: 0.25em;box-sizing: border-box;margin-bottom: 0.5em;}#sk-container-id-3 div.sk-estimator:hover {background-color: #d4ebff;}#sk-container-id-3 div.sk-parallel-item::after {content: \"\";width: 100%;border-bottom: 1px solid gray;flex-grow: 1;}#sk-container-id-3 div.sk-label:hover label.sk-toggleable__label {background-color: #d4ebff;}#sk-container-id-3 div.sk-serial::before {content: \"\";position: absolute;border-left: 1px solid gray;box-sizing: border-box;top: 0;bottom: 0;left: 50%;z-index: 0;}#sk-container-id-3 div.sk-serial {display: flex;flex-direction: column;align-items: center;background-color: white;padding-right: 0.2em;padding-left: 0.2em;position: relative;}#sk-container-id-3 div.sk-item {position: relative;z-index: 1;}#sk-container-id-3 div.sk-parallel {display: flex;align-items: stretch;justify-content: center;background-color: white;position: relative;}#sk-container-id-3 div.sk-item::before, #sk-container-id-3 div.sk-parallel-item::before {content: \"\";position: absolute;border-left: 1px solid gray;box-sizing: border-box;top: 0;bottom: 0;left: 50%;z-index: -1;}#sk-container-id-3 div.sk-parallel-item {display: flex;flex-direction: column;z-index: 1;position: relative;background-color: white;}#sk-container-id-3 div.sk-parallel-item:first-child::after {align-self: flex-end;width: 50%;}#sk-container-id-3 div.sk-parallel-item:last-child::after {align-self: flex-start;width: 50%;}#sk-container-id-3 div.sk-parallel-item:only-child::after {width: 0;}#sk-container-id-3 div.sk-dashed-wrapped {border: 1px dashed gray;margin: 0 0.4em 0.5em 0.4em;box-sizing: border-box;padding-bottom: 0.4em;background-color: white;}#sk-container-id-3 div.sk-label label {font-family: monospace;font-weight: bold;display: inline-block;line-height: 1.2em;}#sk-container-id-3 div.sk-label-container {text-align: center;}#sk-container-id-3 div.sk-container {/* jupyter's `normalize.less` sets `[hidden] { display: none; }` but bootstrap.min.css set `[hidden] { display: none !important; }` so we also need the `!important` here to be able to override the default hidden behavior on the sphinx rendered scikit-learn.org. See: https://github.com/scikit-learn/scikit-learn/issues/21755 */display: inline-block !important;position: relative;}#sk-container-id-3 div.sk-text-repr-fallback {display: none;}</style><div id=\"sk-container-id-3\" class=\"sk-top-container\"><div class=\"sk-text-repr-fallback\"><pre>GridSearchCV(cv=4,\n",
       "             estimator=DecisionTreeClassifier(max_depth=8, max_features=15,\n",
       "                                              random_state=42),\n",
       "             n_jobs=-1,\n",
       "             param_grid={&#x27;max_depth&#x27;: range(5, 15),\n",
       "                         &#x27;max_features&#x27;: range(5, 18),\n",
       "                         &#x27;min_samples_leaf&#x27;: range(1, 4),\n",
       "                         &#x27;min_samples_split&#x27;: range(2, 10)},\n",
       "             scoring=&#x27;accuracy&#x27;, verbose=1)</pre><b>In a Jupyter environment, please rerun this cell to show the HTML representation or trust the notebook. <br />On GitHub, the HTML representation is unable to render, please try loading this page with nbviewer.org.</b></div><div class=\"sk-container\" hidden><div class=\"sk-item sk-dashed-wrapped\"><div class=\"sk-label-container\"><div class=\"sk-label sk-toggleable\"><input class=\"sk-toggleable__control sk-hidden--visually\" id=\"sk-estimator-id-5\" type=\"checkbox\" ><label for=\"sk-estimator-id-5\" class=\"sk-toggleable__label sk-toggleable__label-arrow\">GridSearchCV</label><div class=\"sk-toggleable__content\"><pre>GridSearchCV(cv=4,\n",
       "             estimator=DecisionTreeClassifier(max_depth=8, max_features=15,\n",
       "                                              random_state=42),\n",
       "             n_jobs=-1,\n",
       "             param_grid={&#x27;max_depth&#x27;: range(5, 15),\n",
       "                         &#x27;max_features&#x27;: range(5, 18),\n",
       "                         &#x27;min_samples_leaf&#x27;: range(1, 4),\n",
       "                         &#x27;min_samples_split&#x27;: range(2, 10)},\n",
       "             scoring=&#x27;accuracy&#x27;, verbose=1)</pre></div></div></div><div class=\"sk-parallel\"><div class=\"sk-parallel-item\"><div class=\"sk-item\"><div class=\"sk-label-container\"><div class=\"sk-label sk-toggleable\"><input class=\"sk-toggleable__control sk-hidden--visually\" id=\"sk-estimator-id-6\" type=\"checkbox\" ><label for=\"sk-estimator-id-6\" class=\"sk-toggleable__label sk-toggleable__label-arrow\">estimator: DecisionTreeClassifier</label><div class=\"sk-toggleable__content\"><pre>DecisionTreeClassifier(max_depth=8, max_features=15, random_state=42)</pre></div></div></div><div class=\"sk-serial\"><div class=\"sk-item\"><div class=\"sk-estimator sk-toggleable\"><input class=\"sk-toggleable__control sk-hidden--visually\" id=\"sk-estimator-id-7\" type=\"checkbox\" ><label for=\"sk-estimator-id-7\" class=\"sk-toggleable__label sk-toggleable__label-arrow\">DecisionTreeClassifier</label><div class=\"sk-toggleable__content\"><pre>DecisionTreeClassifier(max_depth=8, max_features=15, random_state=42)</pre></div></div></div></div></div></div></div></div></div></div>"
      ],
      "text/plain": [
       "GridSearchCV(cv=4,\n",
       "             estimator=DecisionTreeClassifier(max_depth=8, max_features=15,\n",
       "                                              random_state=42),\n",
       "             n_jobs=-1,\n",
       "             param_grid={'max_depth': range(5, 15),\n",
       "                         'max_features': range(5, 18),\n",
       "                         'min_samples_leaf': range(1, 4),\n",
       "                         'min_samples_split': range(2, 10)},\n",
       "             scoring='accuracy', verbose=1)"
      ]
     },
     "execution_count": 78,
     "metadata": {},
     "output_type": "execute_result"
    }
   ],
   "source": [
    "param_dt = {\n",
    "    # 'max_depth': [5, 10, 15],  # Maximum depth of each tree\n",
    "    'max_depth': range(5, 15),  # Maximum depth of each tree\n",
    "    # Minimum number of samples required to split an internal node\n",
    "    'min_samples_split': range(2, 10),\n",
    "    # Minimum number of samples required to be at a leaf node\n",
    "    'min_samples_leaf': range(1, 4),\n",
    "    'max_features': range(5, 18)\n",
    "}\n",
    "# param_dt = {\n",
    "#     'max_depth': [5, 10, 15],  # Maximum depth of each tree\n",
    "#     # Minimum number of samples required to split an internal node\n",
    "#     'min_samples_split': [2, 5, 10],\n",
    "#     # Minimum number of samples required to be at a leaf node\n",
    "#     'min_samples_leaf': [1, 2, 4],\n",
    "#     'max_features': [5, 10, 15, 18]\n",
    "# }\n",
    "\n",
    "\n",
    "grid_dt = GridSearchCV(estimator=dt, param_grid=param_dt,\n",
    "                       cv=4, scoring='accuracy', n_jobs=-1, verbose=1)\n",
    "\n",
    "grid_dt.fit(X_train, y_train)"
   ]
  },
  {
   "cell_type": "code",
   "execution_count": 79,
   "metadata": {},
   "outputs": [],
   "source": [
    "optimized_dt = grid_dt.best_estimator_"
   ]
  },
  {
   "cell_type": "code",
   "execution_count": 80,
   "metadata": {},
   "outputs": [
    {
     "data": {
      "text/plain": [
       "0.82443123227636"
      ]
     },
     "execution_count": 80,
     "metadata": {},
     "output_type": "execute_result"
    }
   ],
   "source": [
    "grid_dt.best_score_"
   ]
  },
  {
   "cell_type": "code",
   "execution_count": 81,
   "metadata": {},
   "outputs": [
    {
     "data": {
      "text/plain": [
       "{'max_depth': 14,\n",
       " 'max_features': 17,\n",
       " 'min_samples_leaf': 1,\n",
       " 'min_samples_split': 2}"
      ]
     },
     "execution_count": 81,
     "metadata": {},
     "output_type": "execute_result"
    }
   ],
   "source": [
    "grid_dt.best_params_"
   ]
  },
  {
   "cell_type": "code",
   "execution_count": 82,
   "metadata": {},
   "outputs": [],
   "source": [
    "dt_train_pred = optimized_dt.predict(X_train)\n",
    "dt_test_pred = optimized_dt.predict(X_test)"
   ]
  },
  {
   "cell_type": "code",
   "execution_count": 83,
   "metadata": {},
   "outputs": [
    {
     "name": "stdout",
     "output_type": "stream",
     "text": [
      "The accuracy on train data is  1.0\n",
      "The accuracy on test data is  0.8094594594594594\n",
      "The precision on test data is  0.8328840970350404\n",
      "The recall on test data is  0.7963917525773195\n",
      "The f1 on test data is  0.8142292490118577\n",
      "The roc_score on test data is  0.8101276944704778\n"
     ]
    }
   ],
   "source": [
    "from sklearn.metrics import accuracy_score, precision_score, recall_score, f1_score, roc_auc_score\n",
    "print(\"The accuracy on train data is \", accuracy_score(dt_train_pred, y_train))\n",
    "print(\"The accuracy on test data is \", accuracy_score(dt_test_pred, y_test))\n",
    "print(\"The precision on test data is \", precision_score(dt_test_pred, y_test))\n",
    "print(\"The recall on test data is \", recall_score(dt_test_pred, y_test))\n",
    "print(\"The f1 on test data is \", f1_score(dt_test_pred, y_test))\n",
    "print(\"The roc_score on test data is \", roc_auc_score(dt_test_pred, y_test))"
   ]
  },
  {
   "cell_type": "code",
   "execution_count": 84,
   "metadata": {},
   "outputs": [
    {
     "data": {
      "text/plain": [
       "[Text(0, 0.5, 'Not Defaulter'), Text(0, 1.5, 'Defaulter')]"
      ]
     },
     "execution_count": 84,
     "metadata": {},
     "output_type": "execute_result"
    },
    {
     "data": {
      "image/png": "[encoded data removed]",
      "text/plain": [
       "<Figure size 640x480 with 2 Axes>"
      ]
     },
     "metadata": {},
     "output_type": "display_data"
    }
   ],
   "source": [
    "labels = ['Not Defaulter', 'Defaulter']\n",
    "cm = confusion_matrix(y_test, dt_test_pred)\n",
    "\n",
    "\n",
    "ax = plt.subplot()\n",
    "sns.heatmap(cm,\n",
    "            xticklabels=['Not Default', 'Default'],\n",
    "            yticklabels=['Not Default', 'Default'],\n",
    "            annot=True, ax=ax,\n",
    "            linewidths=.2, linecolor=\"Darkblue\", cmap=\"Blues\")  # annot=True to annotate cells\n",
    "\n",
    "# labels, title and ticks\n",
    "ax.set_xlabel('Predicted labels')\n",
    "ax.set_ylabel('True labels')\n",
    "ax.set_title('Confusion Matrix (Decision Tree)')\n",
    "ax.xaxis.set_ticklabels(labels)\n",
    "ax.yaxis.set_ticklabels(labels)"
   ]
  },
  {
   "cell_type": "code",
   "execution_count": 85,
   "metadata": {},
   "outputs": [
    {
     "data": {
      "image/png": "[encoded data removed]",
      "text/plain": [
       "<Figure size 640x480 with 1 Axes>"
      ]
     },
     "metadata": {},
     "output_type": "display_data"
    }
   ],
   "source": [
    "y_preds_proba_dt = optimized_dt.predict_proba(X_test)[::, 1]\n",
    "y_pred_proba = y_preds_proba_dt\n",
    "fpr, tpr, _ = roc_curve(y_test,  y_pred_proba)\n",
    "auc = roc_auc_score(y_test, y_pred_proba)\n",
    "plt.plot(fpr, tpr, label=\"data 1, auc=\"+str(auc))\n",
    "plt.title('Decision Tree')\n",
    "plt.legend(loc=4)\n",
    "plt.show()"
   ]
  },
  {
   "cell_type": "markdown",
   "metadata": {},
   "source": [
    "# Random Forest"
   ]
  },
  {
   "cell_type": "markdown",
   "metadata": {},
   "source": [
    "### **隨機森林分類器（RandomForestClassifier）**\n",
    "\n",
    "1. **創建模型**:\n",
    "    - **`RandomForestClassifier(max_depth=10, max_features=15, random_state=42)`** 創建了一個隨機森林分類器的實例。\n",
    "    - **`max_depth=10`**: 這個參數限制了每棵樹的最大深度。設定深度可以幫助防止過擬合，因為過深的樹可能會學習到訓練數據的噪聲。\n",
    "    - **`max_features=15`**: 指每次分裂時考慮的最大特徵數。這可以幫助提高模型的多樣性，減少樹與樹之間的相關性，並提高泛化能力。\n",
    "    - **`random_state=42`**: 確保每次運行代碼時結果的一致性，方便調試和比較。\n",
    "2. **訓練模型**:\n",
    "    - **`rf.fit(X_train, y_train)`**: 這一步將模型與訓練數據（**`X_train`** 和 **`y_train`**）進行擬合。**`X_train`** 包含了訓練數據的特徵，而 **`y_train`** 是相應的標籤。\n",
    "3. **評估模型**:\n",
    "    - **`print(rf.score(X_test, y_test))`**: 這行代碼評估了模型在測試數據集（**`X_test`**, **`y_test`**）上的表現。\n",
    "    - **`score`** 方法返回的是準確率，即模型正確預測的標籤佔總標籤的比例。\n",
    "    - 這一步驗證了模型在未見過的數據上的泛化能力。\n",
    "\n",
    "### **隨機森林的優點**\n",
    "\n",
    "隨機森林是一種集成學習方法，它通過組合多棵決策樹來提高模型的穩定性和準確性。它的主要優點包括：\n",
    "\n",
    "- **泛化能力強**：通過平均多棵樹的預測，減少了模型的方差，使得模型對於未見數據有更好的泛化能力。\n",
    "- **過擬合風險低**：相對於單一的決策樹，隨機森林更不容易過擬合。\n",
    "- **特徵選擇的靈活性**：在每次分裂過程中考慮的隨機特徵子集，使得隨機森林可以更好地處理具有大量特徵的數據集。"
   ]
  },
  {
   "cell_type": "code",
   "execution_count": 86,
   "metadata": {},
   "outputs": [
    {
     "name": "stdout",
     "output_type": "stream",
     "text": [
      "0.918918918918919\n"
     ]
    }
   ],
   "source": [
    "rf = RandomForestClassifier(max_depth=10, max_features=15, random_state=42)\n",
    "rf.fit(X_train, y_train)\n",
    "print(rf.score(X_test, y_test))"
   ]
  },
  {
   "cell_type": "markdown",
   "metadata": {},
   "source": [
    "### **`max_depth` 的意義與影響**\n",
    "\n",
    "1. **意義**:\n",
    "    - **`max_depth`** 參數指定了決策樹的最大深度，即樹可以生長的最大層數。\n",
    "    - 深度限制了從根節點到最遠葉節點的最長路徑。\n",
    "2. **對模型的影響**:\n",
    "    - **防止過擬合**：較小的 **`max_depth`** 可以防止樹過於複雜，這有助於減少過擬合的風險。過深的樹可能會學習到訓練數據中的噪聲。\n",
    "    - **影響模型複雜度**：較大的深度允許模型學習更細分的模式，但也可能導致模型在訓練數據上過度擬合，從而影響其在新數據上的表現。\n",
    "    - **平衡準確度和泛化能力**：適當的 **`max_depth`** 需要根據具體問題進行調整，以平衡訓練準確度和泛化能力。\n",
    "\n",
    "### **`max_features` 的意義與影響**\n",
    "\n",
    "1. **意義**:\n",
    "    - **`max_features`** 決定了在分裂決策樹節點時，每次隨機選擇的特徵數量的上限。\n",
    "    - 這個參數可以是整數（直接指定特徵數量）、浮點數（作為特徵總數的比例）、**`\"auto\"`**（等於特徵數）、**`\"sqrt\"`**（特徵數的平方根）或 **`\"log2\"`**（以2為底的特徵數對數）。\n",
    "2. **對模型的影響**:\n",
    "    - **提高隨機性**：在隨機森林中，較小的 **`max_features`** 增加了模型中各個樹之間的差異，提高了整體模型的隨機性，從而可能提高其泛化能力。\n",
    "    - **防止過擬合**：這個參數有助於減少模型對單一特徵的依賴，從而降低過擬合的風險。\n",
    "    - **影響訓練速度**：較小的 **`max_features`** 可以加快訓練速度，因為在每次分裂時需要評估的特徵數量減少了。\n",
    "    - **平衡特徵與決策的重要性**：適當的 **`max_features`** 值有助於平衡在決策過程中考慮的特徵數量和模型的預測能力。"
   ]
  },
  {
   "cell_type": "code",
   "execution_count": 87,
   "metadata": {},
   "outputs": [
    {
     "name": "stdout",
     "output_type": "stream",
     "text": [
      "Fitting 4 folds for each of 48 candidates, totalling 192 fits\n"
     ]
    },
    {
     "name": "stdout",
     "output_type": "stream",
     "text": [
      "[CV 3/4] END max_depth=5, max_features=5, n_estimators=100;, score=0.863 total time=   0.3s\n",
      "[CV 1/4] END max_depth=5, max_features=5, n_estimators=100;, score=0.896 total time=   0.3s\n",
      "[CV 4/4] END max_depth=5, max_features=5, n_estimators=100;, score=0.852 total time=   0.3s\n",
      "[CV 2/4] END max_depth=5, max_features=5, n_estimators=100;, score=0.875 total time=   0.4s\n",
      "[CV 2/4] END max_depth=5, max_features=5, n_estimators=200;, score=0.884 total time=   0.6s\n",
      "[CV 3/4] END max_depth=5, max_features=5, n_estimators=200;, score=0.865 total time=   0.6s\n",
      "[CV 4/4] END max_depth=5, max_features=5, n_estimators=200;, score=0.854 total time=   0.7s\n",
      "[CV 1/4] END max_depth=5, max_features=5, n_estimators=200;, score=0.894 total time=   0.8s\n",
      "[CV 1/4] END max_depth=5, max_features=5, n_estimators=300;, score=0.889 total time=   0.9s\n",
      "[CV 4/4] END max_depth=5, max_features=5, n_estimators=300;, score=0.858 total time=   0.9s\n",
      "[CV 2/4] END max_depth=5, max_features=5, n_estimators=300;, score=0.887 total time=   0.9s\n",
      "[CV 1/4] END max_depth=5, max_features=10, n_estimators=100;, score=0.887 total time=   0.4s\n",
      "[CV 2/4] END max_depth=5, max_features=10, n_estimators=100;, score=0.884 total time=   0.4s\n",
      "[CV 3/4] END max_depth=5, max_features=10, n_estimators=100;, score=0.861 total time=   0.4s\n",
      "[CV 3/4] END max_depth=5, max_features=5, n_estimators=300;, score=0.863 total time=   1.2s\n",
      "[CV 4/4] END max_depth=5, max_features=10, n_estimators=100;, score=0.840 total time=   0.4s\n",
      "[CV 1/4] END max_depth=5, max_features=5, n_estimators=350;, score=0.898 total time=   1.0s\n",
      "[CV 2/4] END max_depth=5, max_features=5, n_estimators=350;, score=0.882 total time=   1.1s\n",
      "[CV 3/4] END max_depth=5, max_features=5, n_estimators=350;, score=0.861 total time=   1.1s\n",
      "[CV 4/4] END max_depth=5, max_features=5, n_estimators=350;, score=0.856 total time=   1.2s\n",
      "[CV 1/4] END max_depth=5, max_features=10, n_estimators=200;, score=0.891 total time=   0.7s\n",
      "[CV 2/4] END max_depth=5, max_features=10, n_estimators=200;, score=0.877 total time=   0.7s\n",
      "[CV 4/4] END max_depth=5, max_features=10, n_estimators=200;, score=0.849 total time=   0.7s\n",
      "[CV 3/4] END max_depth=5, max_features=10, n_estimators=200;, score=0.863 total time=   0.8s\n",
      "[CV 1/4] END max_depth=5, max_features=15, n_estimators=100;, score=0.882 total time=   0.4s\n",
      "[CV 2/4] END max_depth=5, max_features=15, n_estimators=100;, score=0.870 total time=   0.4s\n",
      "[CV 3/4] END max_depth=5, max_features=15, n_estimators=100;, score=0.840 total time=   0.4s\n",
      "[CV 1/4] END max_depth=5, max_features=10, n_estimators=300;, score=0.900 total time=   1.1s\n",
      "[CV 4/4] END max_depth=5, max_features=15, n_estimators=100;, score=0.856 total time=   0.4s\n",
      "[CV 2/4] END max_depth=5, max_features=10, n_estimators=300;, score=0.875 total time=   1.2s\n",
      "[CV 3/4] END max_depth=5, max_features=10, n_estimators=300;, score=0.856 total time=   1.2s\n",
      "[CV 4/4] END max_depth=5, max_features=10, n_estimators=300;, score=0.852 total time=   1.2s\n",
      "[CV 1/4] END max_depth=5, max_features=10, n_estimators=350;, score=0.903 total time=   1.2s\n",
      "[CV 2/4] END max_depth=5, max_features=10, n_estimators=350;, score=0.877 total time=   1.3s\n",
      "[CV 3/4] END max_depth=5, max_features=10, n_estimators=350;, score=0.861 total time=   1.3s\n",
      "[CV 2/4] END max_depth=5, max_features=15, n_estimators=200;, score=0.873 total time=   0.9s\n",
      "[CV 3/4] END max_depth=5, max_features=15, n_estimators=200;, score=0.845 total time=   0.9s\n",
      "[CV 1/4] END max_depth=5, max_features=15, n_estimators=200;, score=0.887 total time=   1.0s\n",
      "[CV 4/4] END max_depth=5, max_features=15, n_estimators=200;, score=0.854 total time=   0.9s\n",
      "[CV 4/4] END max_depth=5, max_features=10, n_estimators=350;, score=0.849 total time=   1.6s\n",
      "[CV 2/4] END max_depth=5, max_features=18, n_estimators=100;, score=0.856 total time=   0.5s\n",
      "[CV 1/4] END max_depth=5, max_features=18, n_estimators=100;, score=0.887 total time=   0.5s\n",
      "[CV 1/4] END max_depth=5, max_features=15, n_estimators=300;, score=0.894 total time=   1.4s\n",
      "[CV 3/4] END max_depth=5, max_features=18, n_estimators=100;, score=0.845 total time=   0.5s\n",
      "[CV 4/4] END max_depth=5, max_features=18, n_estimators=100;, score=0.845 total time=   0.5s\n",
      "[CV 3/4] END max_depth=5, max_features=15, n_estimators=300;, score=0.847 total time=   1.6s\n",
      "[CV 4/4] END max_depth=5, max_features=15, n_estimators=300;, score=0.856 total time=   1.6s\n",
      "[CV 1/4] END max_depth=5, max_features=15, n_estimators=350;, score=0.887 total time=   1.6s\n",
      "[CV 2/4] END max_depth=5, max_features=15, n_estimators=300;, score=0.868 total time=   1.8s\n",
      "[CV 3/4] END max_depth=5, max_features=15, n_estimators=350;, score=0.849 total time=   1.6s\n",
      "[CV 2/4] END max_depth=5, max_features=15, n_estimators=350;, score=0.870 total time=   1.6s\n",
      "[CV 2/4] END max_depth=5, max_features=18, n_estimators=200;, score=0.866 total time=   0.9s\n",
      "[CV 1/4] END max_depth=5, max_features=18, n_estimators=200;, score=0.894 total time=   0.9s\n",
      "[CV 4/4] END max_depth=5, max_features=15, n_estimators=350;, score=0.856 total time=   1.5s\n",
      "[CV 4/4] END max_depth=5, max_features=18, n_estimators=200;, score=0.849 total time=   1.0s\n",
      "[CV 3/4] END max_depth=5, max_features=18, n_estimators=200;, score=0.854 total time=   1.0s\n",
      "[CV 1/4] END max_depth=10, max_features=5, n_estimators=100;, score=0.912 total time=   0.4s\n",
      "[CV 2/4] END max_depth=10, max_features=5, n_estimators=100;, score=0.917 total time=   0.4s\n",
      "[CV 4/4] END max_depth=10, max_features=5, n_estimators=100;, score=0.898 total time=   0.5s\n",
      "[CV 3/4] END max_depth=10, max_features=5, n_estimators=100;, score=0.905 total time=   0.6s\n",
      "[CV 1/4] END max_depth=10, max_features=5, n_estimators=200;, score=0.926 total time=   1.0s\n",
      "[CV 4/4] END max_depth=5, max_features=18, n_estimators=300;, score=0.854 total time=   1.7s\n",
      "[CV 2/4] END max_depth=10, max_features=5, n_estimators=200;, score=0.910 total time=   0.9s\n",
      "[CV 1/4] END max_depth=5, max_features=18, n_estimators=300;, score=0.891 total time=   2.3s\n",
      "[CV 3/4] END max_depth=10, max_features=5, n_estimators=200;, score=0.900 total time=   1.0s\n",
      "[CV 4/4] END max_depth=10, max_features=5, n_estimators=200;, score=0.889 total time=   0.9s\n",
      "[CV 4/4] END max_depth=5, max_features=18, n_estimators=350;, score=0.856 total time=   1.9s\n",
      "[CV 2/4] END max_depth=5, max_features=18, n_estimators=350;, score=0.866 total time=   2.1s\n",
      "[CV 3/4] END max_depth=5, max_features=18, n_estimators=350;, score=0.856 total time=   2.1s\n",
      "[CV 3/4] END max_depth=5, max_features=18, n_estimators=300;, score=0.852 total time=   2.4s\n",
      "[CV 2/4] END max_depth=5, max_features=18, n_estimators=300;, score=0.866 total time=   2.4s\n",
      "[CV 1/4] END max_depth=10, max_features=10, n_estimators=100;, score=0.924 total time=   0.6s\n",
      "[CV 1/4] END max_depth=5, max_features=18, n_estimators=350;, score=0.887 total time=   2.9s\n",
      "[CV 2/4] END max_depth=10, max_features=5, n_estimators=300;, score=0.907 total time=   1.3s\n",
      "[CV 1/4] END max_depth=10, max_features=5, n_estimators=300;, score=0.928 total time=   1.3s\n",
      "[CV 3/4] END max_depth=10, max_features=5, n_estimators=300;, score=0.896 total time=   1.2s\n",
      "[CV 2/4] END max_depth=10, max_features=10, n_estimators=100;, score=0.900 total time=   0.8s\n",
      "[CV 3/4] END max_depth=10, max_features=10, n_estimators=100;, score=0.903 total time=   0.9s\n",
      "[CV 2/4] END max_depth=10, max_features=5, n_estimators=350;, score=0.910 total time=   1.6s[CV 4/4] END max_depth=10, max_features=10, n_estimators=100;, score=0.886 total time=   0.6s\n",
      "\n",
      "[CV 1/4] END max_depth=10, max_features=5, n_estimators=350;, score=0.926 total time=   1.6s\n",
      "[CV 3/4] END max_depth=10, max_features=5, n_estimators=350;, score=0.898 total time=   1.5s\n",
      "[CV 4/4] END max_depth=10, max_features=5, n_estimators=300;, score=0.889 total time=   1.9s\n",
      "[CV 4/4] END max_depth=10, max_features=5, n_estimators=350;, score=0.896 total time=   1.6s\n",
      "[CV 2/4] END max_depth=10, max_features=10, n_estimators=200;, score=0.898 total time=   1.1s\n",
      "[CV 3/4] END max_depth=10, max_features=10, n_estimators=200;, score=0.903 total time=   1.1s\n",
      "[CV 4/4] END max_depth=10, max_features=10, n_estimators=200;, score=0.886 total time=   1.1s\n",
      "[CV 1/4] END max_depth=10, max_features=10, n_estimators=200;, score=0.926 total time=   1.5s\n",
      "[CV 1/4] END max_depth=10, max_features=15, n_estimators=100;, score=0.926 total time=   0.6s\n",
      "[CV 2/4] END max_depth=10, max_features=15, n_estimators=100;, score=0.891 total time=   0.6s\n",
      "[CV 3/4] END max_depth=10, max_features=15, n_estimators=100;, score=0.891 total time=   0.7s\n",
      "[CV 3/4] END max_depth=10, max_features=10, n_estimators=300;, score=0.903 total time=   1.7s\n",
      "[CV 4/4] END max_depth=10, max_features=10, n_estimators=300;, score=0.889 total time=   1.7s\n",
      "[CV 1/4] END max_depth=10, max_features=10, n_estimators=300;, score=0.931 total time=   2.1s\n",
      "[CV 4/4] END max_depth=10, max_features=15, n_estimators=100;, score=0.882 total time=   0.8s\n",
      "[CV 2/4] END max_depth=10, max_features=10, n_estimators=300;, score=0.896 total time=   2.0s\n",
      "[CV 1/4] END max_depth=10, max_features=10, n_estimators=350;, score=0.926 total time=   2.0s\n",
      "[CV 2/4] END max_depth=10, max_features=10, n_estimators=350;, score=0.894 total time=   1.9s\n",
      "[CV 4/4] END max_depth=10, max_features=10, n_estimators=350;, score=0.884 total time=   2.0s\n",
      "[CV 2/4] END max_depth=10, max_features=15, n_estimators=200;, score=0.894 total time=   1.2s\n",
      "[CV 3/4] END max_depth=10, max_features=15, n_estimators=200;, score=0.889 total time=   1.3s\n",
      "[CV 1/4] END max_depth=10, max_features=15, n_estimators=200;, score=0.921 total time=   1.3s\n",
      "[CV 3/4] END max_depth=10, max_features=10, n_estimators=350;, score=0.905 total time=   2.4s\n",
      "[CV 4/4] END max_depth=10, max_features=15, n_estimators=200;, score=0.879 total time=   1.4s\n",
      "[CV 1/4] END max_depth=10, max_features=18, n_estimators=100;, score=0.914 total time=   0.7s\n",
      "[CV 2/4] END max_depth=10, max_features=18, n_estimators=100;, score=0.896 total time=   0.7s\n",
      "[CV 3/4] END max_depth=10, max_features=18, n_estimators=100;, score=0.886 total time=   0.8s\n",
      "[CV 1/4] END max_depth=10, max_features=15, n_estimators=300;, score=0.921 total time=   2.0s\n",
      "[CV 4/4] END max_depth=10, max_features=18, n_estimators=100;, score=0.879 total time=   0.7s\n",
      "[CV 2/4] END max_depth=10, max_features=15, n_estimators=300;, score=0.894 total time=   2.3s\n",
      "[CV 3/4] END max_depth=10, max_features=15, n_estimators=300;, score=0.889 total time=   2.4s\n",
      "[CV 4/4] END max_depth=10, max_features=15, n_estimators=300;, score=0.882 total time=   2.3s\n",
      "[CV 2/4] END max_depth=10, max_features=15, n_estimators=350;, score=0.891 total time=   2.2s\n",
      "[CV 1/4] END max_depth=10, max_features=15, n_estimators=350;, score=0.931 total time=   2.3s\n",
      "[CV 3/4] END max_depth=10, max_features=15, n_estimators=350;, score=0.896 total time=   2.3s\n",
      "[CV 1/4] END max_depth=10, max_features=18, n_estimators=200;, score=0.921 total time=   1.4s\n",
      "[CV 2/4] END max_depth=10, max_features=18, n_estimators=200;, score=0.894 total time=   1.4s\n",
      "[CV 4/4] END max_depth=10, max_features=15, n_estimators=350;, score=0.882 total time=   2.2s\n",
      "[CV 3/4] END max_depth=10, max_features=18, n_estimators=200;, score=0.893 total time=   1.6s\n",
      "[CV 1/4] END max_depth=15, max_features=5, n_estimators=100;, score=0.924 total time=   0.4s\n",
      "[CV 2/4] END max_depth=15, max_features=5, n_estimators=100;, score=0.907 total time=   0.4s\n",
      "[CV 4/4] END max_depth=10, max_features=18, n_estimators=200;, score=0.886 total time=   1.5s\n",
      "[CV 4/4] END max_depth=15, max_features=5, n_estimators=100;, score=0.891 total time=   0.4s\n",
      "[CV 3/4] END max_depth=15, max_features=5, n_estimators=100;, score=0.910 total time=   0.5s\n",
      "[CV 1/4] END max_depth=15, max_features=5, n_estimators=200;, score=0.931 total time=   0.8s\n",
      "[CV 2/4] END max_depth=15, max_features=5, n_estimators=200;, score=0.912 total time=   0.9s\n",
      "[CV 1/4] END max_depth=10, max_features=18, n_estimators=300;, score=0.917 total time=   2.2s\n",
      "[CV 3/4] END max_depth=15, max_features=5, n_estimators=200;, score=0.907 total time=   0.9s\n",
      "[CV 4/4] END max_depth=15, max_features=5, n_estimators=200;, score=0.900 total time=   1.0s\n",
      "[CV 4/4] END max_depth=10, max_features=18, n_estimators=300;, score=0.886 total time=   2.5s\n",
      "[CV 1/4] END max_depth=10, max_features=18, n_estimators=350;, score=0.914 total time=   2.5s\n",
      "[CV 2/4] END max_depth=10, max_features=18, n_estimators=300;, score=0.894 total time=   2.6s\n",
      "[CV 3/4] END max_depth=10, max_features=18, n_estimators=300;, score=0.891 total time=   2.6s\n",
      "[CV 2/4] END max_depth=10, max_features=18, n_estimators=350;, score=0.898 total time=   2.7s\n",
      "[CV 4/4] END max_depth=10, max_features=18, n_estimators=350;, score=0.889 total time=   2.5s\n",
      "[CV 1/4] END max_depth=15, max_features=5, n_estimators=300;, score=0.928 total time=   1.3s\n",
      "[CV 3/4] END max_depth=10, max_features=18, n_estimators=350;, score=0.893 total time=   2.7s\n",
      "[CV 2/4] END max_depth=15, max_features=5, n_estimators=300;, score=0.914 total time=   1.4s\n",
      "[CV 3/4] END max_depth=15, max_features=5, n_estimators=300;, score=0.907 total time=   1.4s\n",
      "[CV 1/4] END max_depth=15, max_features=10, n_estimators=100;, score=0.919 total time=   0.7s\n",
      "[CV 2/4] END max_depth=15, max_features=10, n_estimators=100;, score=0.900 total time=   0.6s\n",
      "[CV 4/4] END max_depth=15, max_features=5, n_estimators=300;, score=0.898 total time=   1.2s\n",
      "[CV 3/4] END max_depth=15, max_features=10, n_estimators=100;, score=0.898 total time=   0.5s\n",
      "[CV 4/4] END max_depth=15, max_features=10, n_estimators=100;, score=0.891 total time=   0.5s\n",
      "[CV 3/4] END max_depth=15, max_features=5, n_estimators=350;, score=0.905 total time=   1.5s\n",
      "[CV 1/4] END max_depth=15, max_features=10, n_estimators=200;, score=0.926 total time=   1.2s\n",
      "[CV 1/4] END max_depth=15, max_features=5, n_estimators=350;, score=0.928 total time=   1.8s\n",
      "[CV 2/4] END max_depth=15, max_features=10, n_estimators=200;, score=0.914 total time=   1.2s\n",
      "[CV 3/4] END max_depth=15, max_features=10, n_estimators=200;, score=0.900 total time=   1.1s\n",
      "[CV 2/4] END max_depth=15, max_features=5, n_estimators=350;, score=0.910 total time=   1.9s\n",
      "[CV 4/4] END max_depth=15, max_features=5, n_estimators=350;, score=0.900 total time=   2.0s[CV 4/4] END max_depth=15, max_features=10, n_estimators=200;, score=0.886 total time=   1.3s\n",
      "\n",
      "[CV 3/4] END max_depth=15, max_features=10, n_estimators=300;, score=0.903 total time=   1.7s\n",
      "[CV 2/4] END max_depth=15, max_features=10, n_estimators=300;, score=0.910 total time=   1.7s\n",
      "[CV 1/4] END max_depth=15, max_features=15, n_estimators=100;, score=0.914 total time=   0.8s\n",
      "[CV 1/4] END max_depth=15, max_features=10, n_estimators=300;, score=0.926 total time=   1.8s\n",
      "[CV 4/4] END max_depth=15, max_features=10, n_estimators=300;, score=0.896 total time=   1.7s\n",
      "[CV 3/4] END max_depth=15, max_features=15, n_estimators=100;, score=0.886 total time=   0.9s\n",
      "[CV 4/4] END max_depth=15, max_features=15, n_estimators=100;, score=0.898 total time=   1.0s\n",
      "[CV 2/4] END max_depth=15, max_features=15, n_estimators=100;, score=0.896 total time=   1.1s\n",
      "[CV 1/4] END max_depth=15, max_features=10, n_estimators=350;, score=0.926 total time=   2.0s\n",
      "[CV 2/4] END max_depth=15, max_features=10, n_estimators=350;, score=0.907 total time=   2.1s\n",
      "[CV 1/4] END max_depth=15, max_features=15, n_estimators=200;, score=0.921 total time=   1.3s\n",
      "[CV 2/4] END max_depth=15, max_features=15, n_estimators=200;, score=0.896 total time=   1.3s\n",
      "[CV 4/4] END max_depth=15, max_features=10, n_estimators=350;, score=0.891 total time=   2.2s\n",
      "[CV 3/4] END max_depth=15, max_features=15, n_estimators=200;, score=0.898 total time=   1.4s\n",
      "[CV 4/4] END max_depth=15, max_features=15, n_estimators=200;, score=0.896 total time=   1.4s\n",
      "[CV 3/4] END max_depth=15, max_features=10, n_estimators=350;, score=0.903 total time=   2.5s\n",
      "[CV 1/4] END max_depth=15, max_features=15, n_estimators=300;, score=0.931 total time=   2.0s\n",
      "[CV 1/4] END max_depth=15, max_features=18, n_estimators=100;, score=0.924 total time=   0.7s\n",
      "[CV 2/4] END max_depth=15, max_features=18, n_estimators=100;, score=0.889 total time=   0.8s\n",
      "[CV 3/4] END max_depth=15, max_features=18, n_estimators=100;, score=0.893 total time=   0.8s\n",
      "[CV 4/4] END max_depth=15, max_features=18, n_estimators=100;, score=0.891 total time=   0.9s\n",
      "[CV 2/4] END max_depth=15, max_features=15, n_estimators=300;, score=0.900 total time=   2.4s\n",
      "[CV 4/4] END max_depth=15, max_features=15, n_estimators=300;, score=0.891 total time=   2.5s\n",
      "[CV 3/4] END max_depth=15, max_features=15, n_estimators=300;, score=0.900 total time=   2.5s\n",
      "[CV 1/4] END max_depth=15, max_features=15, n_estimators=350;, score=0.931 total time=   2.3s\n",
      "[CV 1/4] END max_depth=15, max_features=18, n_estimators=200;, score=0.912 total time=   1.5s\n",
      "[CV 3/4] END max_depth=15, max_features=15, n_estimators=350;, score=0.896 total time=   2.3s\n",
      "[CV 4/4] END max_depth=15, max_features=15, n_estimators=350;, score=0.900 total time=   2.3s\n",
      "[CV 2/4] END max_depth=15, max_features=15, n_estimators=350;, score=0.898 total time=   2.4s\n",
      "[CV 2/4] END max_depth=15, max_features=18, n_estimators=200;, score=0.898 total time=   1.6s\n",
      "[CV 3/4] END max_depth=15, max_features=18, n_estimators=200;, score=0.893 total time=   1.5s\n",
      "[CV 4/4] END max_depth=15, max_features=18, n_estimators=200;, score=0.889 total time=   1.5s\n",
      "[CV 1/4] END max_depth=15, max_features=18, n_estimators=300;, score=0.912 total time=   2.2s\n",
      "[CV 2/4] END max_depth=15, max_features=18, n_estimators=300;, score=0.896 total time=   2.1s\n",
      "[CV 3/4] END max_depth=15, max_features=18, n_estimators=300;, score=0.898 total time=   2.1s\n",
      "[CV 4/4] END max_depth=15, max_features=18, n_estimators=300;, score=0.884 total time=   2.1s\n",
      "[CV 1/4] END max_depth=15, max_features=18, n_estimators=350;, score=0.907 total time=   2.2s\n",
      "[CV 3/4] END max_depth=15, max_features=18, n_estimators=350;, score=0.898 total time=   2.1s\n",
      "[CV 4/4] END max_depth=15, max_features=18, n_estimators=350;, score=0.882 total time=   2.1s\n",
      "[CV 2/4] END max_depth=15, max_features=18, n_estimators=350;, score=0.896 total time=   2.1s\n"
     ]
    },
    {
     "data": {
      "text/html": [
       "<style>#sk-container-id-4 {color: black;}#sk-container-id-4 pre{padding: 0;}#sk-container-id-4 div.sk-toggleable {background-color: white;}#sk-container-id-4 label.sk-toggleable__label {cursor: pointer;display: block;width: 100%;margin-bottom: 0;padding: 0.3em;box-sizing: border-box;text-align: center;}#sk-container-id-4 label.sk-toggleable__label-arrow:before {content: \"▸\";float: left;margin-right: 0.25em;color: #696969;}#sk-container-id-4 label.sk-toggleable__label-arrow:hover:before {color: black;}#sk-container-id-4 div.sk-estimator:hover label.sk-toggleable__label-arrow:before {color: black;}#sk-container-id-4 div.sk-toggleable__content {max-height: 0;max-width: 0;overflow: hidden;text-align: left;background-color: #f0f8ff;}#sk-container-id-4 div.sk-toggleable__content pre {margin: 0.2em;color: black;border-radius: 0.25em;background-color: #f0f8ff;}#sk-container-id-4 input.sk-toggleable__control:checked~div.sk-toggleable__content {max-height: 200px;max-width: 100%;overflow: auto;}#sk-container-id-4 input.sk-toggleable__control:checked~label.sk-toggleable__label-arrow:before {content: \"▾\";}#sk-container-id-4 div.sk-estimator input.sk-toggleable__control:checked~label.sk-toggleable__label {background-color: #d4ebff;}#sk-container-id-4 div.sk-label input.sk-toggleable__control:checked~label.sk-toggleable__label {background-color: #d4ebff;}#sk-container-id-4 input.sk-hidden--visually {border: 0;clip: rect(1px 1px 1px 1px);clip: rect(1px, 1px, 1px, 1px);height: 1px;margin: -1px;overflow: hidden;padding: 0;position: absolute;width: 1px;}#sk-container-id-4 div.sk-estimator {font-family: monospace;background-color: #f0f8ff;border: 1px dotted black;border-radius: 0.25em;box-sizing: border-box;margin-bottom: 0.5em;}#sk-container-id-4 div.sk-estimator:hover {background-color: #d4ebff;}#sk-container-id-4 div.sk-parallel-item::after {content: \"\";width: 100%;border-bottom: 1px solid gray;flex-grow: 1;}#sk-container-id-4 div.sk-label:hover label.sk-toggleable__label {background-color: #d4ebff;}#sk-container-id-4 div.sk-serial::before {content: \"\";position: absolute;border-left: 1px solid gray;box-sizing: border-box;top: 0;bottom: 0;left: 50%;z-index: 0;}#sk-container-id-4 div.sk-serial {display: flex;flex-direction: column;align-items: center;background-color: white;padding-right: 0.2em;padding-left: 0.2em;position: relative;}#sk-container-id-4 div.sk-item {position: relative;z-index: 1;}#sk-container-id-4 div.sk-parallel {display: flex;align-items: stretch;justify-content: center;background-color: white;position: relative;}#sk-container-id-4 div.sk-item::before, #sk-container-id-4 div.sk-parallel-item::before {content: \"\";position: absolute;border-left: 1px solid gray;box-sizing: border-box;top: 0;bottom: 0;left: 50%;z-index: -1;}#sk-container-id-4 div.sk-parallel-item {display: flex;flex-direction: column;z-index: 1;position: relative;background-color: white;}#sk-container-id-4 div.sk-parallel-item:first-child::after {align-self: flex-end;width: 50%;}#sk-container-id-4 div.sk-parallel-item:last-child::after {align-self: flex-start;width: 50%;}#sk-container-id-4 div.sk-parallel-item:only-child::after {width: 0;}#sk-container-id-4 div.sk-dashed-wrapped {border: 1px dashed gray;margin: 0 0.4em 0.5em 0.4em;box-sizing: border-box;padding-bottom: 0.4em;background-color: white;}#sk-container-id-4 div.sk-label label {font-family: monospace;font-weight: bold;display: inline-block;line-height: 1.2em;}#sk-container-id-4 div.sk-label-container {text-align: center;}#sk-container-id-4 div.sk-container {/* jupyter's `normalize.less` sets `[hidden] { display: none; }` but bootstrap.min.css set `[hidden] { display: none !important; }` so we also need the `!important` here to be able to override the default hidden behavior on the sphinx rendered scikit-learn.org. See: https://github.com/scikit-learn/scikit-learn/issues/21755 */display: inline-block !important;position: relative;}#sk-container-id-4 div.sk-text-repr-fallback {display: none;}</style><div id=\"sk-container-id-4\" class=\"sk-top-container\"><div class=\"sk-text-repr-fallback\"><pre>GridSearchCV(cv=4,\n",
       "             estimator=RandomForestClassifier(max_depth=10, max_features=15,\n",
       "                                              random_state=42),\n",
       "             n_jobs=-1,\n",
       "             param_grid={&#x27;max_depth&#x27;: [5, 10, 15],\n",
       "                         &#x27;max_features&#x27;: [5, 10, 15, 18],\n",
       "                         &#x27;n_estimators&#x27;: [100, 200, 300, 350]},\n",
       "             scoring=&#x27;accuracy&#x27;, verbose=3)</pre><b>In a Jupyter environment, please rerun this cell to show the HTML representation or trust the notebook. <br />On GitHub, the HTML representation is unable to render, please try loading this page with nbviewer.org.</b></div><div class=\"sk-container\" hidden><div class=\"sk-item sk-dashed-wrapped\"><div class=\"sk-label-container\"><div class=\"sk-label sk-toggleable\"><input class=\"sk-toggleable__control sk-hidden--visually\" id=\"sk-estimator-id-8\" type=\"checkbox\" ><label for=\"sk-estimator-id-8\" class=\"sk-toggleable__label sk-toggleable__label-arrow\">GridSearchCV</label><div class=\"sk-toggleable__content\"><pre>GridSearchCV(cv=4,\n",
       "             estimator=RandomForestClassifier(max_depth=10, max_features=15,\n",
       "                                              random_state=42),\n",
       "             n_jobs=-1,\n",
       "             param_grid={&#x27;max_depth&#x27;: [5, 10, 15],\n",
       "                         &#x27;max_features&#x27;: [5, 10, 15, 18],\n",
       "                         &#x27;n_estimators&#x27;: [100, 200, 300, 350]},\n",
       "             scoring=&#x27;accuracy&#x27;, verbose=3)</pre></div></div></div><div class=\"sk-parallel\"><div class=\"sk-parallel-item\"><div class=\"sk-item\"><div class=\"sk-label-container\"><div class=\"sk-label sk-toggleable\"><input class=\"sk-toggleable__control sk-hidden--visually\" id=\"sk-estimator-id-9\" type=\"checkbox\" ><label for=\"sk-estimator-id-9\" class=\"sk-toggleable__label sk-toggleable__label-arrow\">estimator: RandomForestClassifier</label><div class=\"sk-toggleable__content\"><pre>RandomForestClassifier(max_depth=10, max_features=15, random_state=42)</pre></div></div></div><div class=\"sk-serial\"><div class=\"sk-item\"><div class=\"sk-estimator sk-toggleable\"><input class=\"sk-toggleable__control sk-hidden--visually\" id=\"sk-estimator-id-10\" type=\"checkbox\" ><label for=\"sk-estimator-id-10\" class=\"sk-toggleable__label sk-toggleable__label-arrow\">RandomForestClassifier</label><div class=\"sk-toggleable__content\"><pre>RandomForestClassifier(max_depth=10, max_features=15, random_state=42)</pre></div></div></div></div></div></div></div></div></div></div>"
      ],
      "text/plain": [
       "GridSearchCV(cv=4,\n",
       "             estimator=RandomForestClassifier(max_depth=10, max_features=15,\n",
       "                                              random_state=42),\n",
       "             n_jobs=-1,\n",
       "             param_grid={'max_depth': [5, 10, 15],\n",
       "                         'max_features': [5, 10, 15, 18],\n",
       "                         'n_estimators': [100, 200, 300, 350]},\n",
       "             scoring='accuracy', verbose=3)"
      ]
     },
     "execution_count": 87,
     "metadata": {},
     "output_type": "execute_result"
    }
   ],
   "source": [
    "param_grid = {\n",
    "    'n_estimators': [100, 200, 300, 350],  # Number of trees in the forest\n",
    "    'max_depth': [5, 10, 15],  # Maximum depth of each tree\n",
    "    # 'min_samples_split': [2, 5, 10],  # Minimum number of samples required to split an internal node\n",
    "    # 'min_samples_leaf': [1, 2, 4],  # Minimum number of samples required to be at a leaf node\n",
    "    'max_features': [5, 10, 15, 18]\n",
    "}\n",
    "# param_grid = {\n",
    "#     'n_estimators': range(300, 300),  # Number of trees in the forest\n",
    "#     'max_depth': range(5, 15),  # Maximum depth of each tree\n",
    "#     # 'min_samples_split': [2, 5, 10],  # Minimum number of samples required to split an internal node\n",
    "#     # 'min_samples_leaf': [1, 2, 4],  # Minimum number of samples required to be at a leaf node\n",
    "#     'max_features': range(5, 18)\n",
    "# }\n",
    "\n",
    "grid_search = GridSearchCV(estimator=rf, param_grid=param_grid,\n",
    "                           cv=4, scoring='accuracy', n_jobs=-1, verbose=3)\n",
    "\n",
    "grid_search.fit(X_train, y_train)"
   ]
  },
  {
   "cell_type": "code",
   "execution_count": 88,
   "metadata": {},
   "outputs": [],
   "source": [
    "optimized_rf = grid_search.best_estimator_"
   ]
  },
  {
   "cell_type": "code",
   "execution_count": 89,
   "metadata": {},
   "outputs": [
    {
     "data": {
      "text/plain": [
       "0.9125042966400274"
      ]
     },
     "execution_count": 89,
     "metadata": {},
     "output_type": "execute_result"
    }
   ],
   "source": [
    "grid_search.best_score_"
   ]
  },
  {
   "cell_type": "code",
   "execution_count": 90,
   "metadata": {},
   "outputs": [
    {
     "data": {
      "text/plain": [
       "{'max_depth': 15, 'max_features': 5, 'n_estimators': 200}"
      ]
     },
     "execution_count": 90,
     "metadata": {},
     "output_type": "execute_result"
    }
   ],
   "source": [
    "grid_search.best_params_"
   ]
  },
  {
   "cell_type": "code",
   "execution_count": 91,
   "metadata": {},
   "outputs": [],
   "source": [
    "rf_train_pred = optimized_rf.predict(X_train)\n",
    "rf_test_pred = optimized_rf.predict(X_test)"
   ]
  },
  {
   "cell_type": "code",
   "execution_count": 92,
   "metadata": {},
   "outputs": [
    {
     "name": "stdout",
     "output_type": "stream",
     "text": [
      "The accuracy on train data is  1.0\n",
      "The accuracy on test data is  0.927027027027027\n",
      "The precision on test data is  0.9056603773584906\n",
      "The recall on test data is  0.9464788732394366\n",
      "The f1 on test data is  0.9256198347107438\n",
      "The roc_score on test data is  0.9277848911651728\n"
     ]
    }
   ],
   "source": [
    "print(\"The accuracy on train data is \", accuracy_score(rf_train_pred, y_train))\n",
    "print(\"The accuracy on test data is \", accuracy_score(rf_test_pred, y_test))\n",
    "print(\"The precision on test data is \", precision_score(rf_test_pred, y_test))\n",
    "print(\"The recall on test data is \", recall_score(rf_test_pred, y_test))\n",
    "print(\"The f1 on test data is \", f1_score(rf_test_pred, y_test))\n",
    "print(\"The roc_score on test data is \", roc_auc_score(rf_test_pred, y_test))"
   ]
  },
  {
   "cell_type": "code",
   "execution_count": 94,
   "metadata": {},
   "outputs": [
    {
     "data": {
      "text/plain": [
       "[Text(0, 0.5, 'Not Defaulter'), Text(0, 1.5, 'Defaulter')]"
      ]
     },
     "execution_count": 94,
     "metadata": {},
     "output_type": "execute_result"
    },
    {
     "data": {
      "image/png": "[encoded data removed]",
      "text/plain": [
       "<Figure size 640x480 with 2 Axes>"
      ]
     },
     "metadata": {},
     "output_type": "display_data"
    }
   ],
   "source": [
    "labels = ['Not Defaulter', 'Defaulter']\n",
    "cm = confusion_matrix(y_test, rf_test_pred)\n",
    "\n",
    "\n",
    "ax = plt.subplot()\n",
    "sns.heatmap(cm,\n",
    "            xticklabels=['Not Default', 'Default'],\n",
    "            yticklabels=['Not Default', 'Default'],\n",
    "            annot=True, ax=ax,\n",
    "            linewidths=.2, linecolor=\"Darkblue\", cmap=\"Blues\")  # annot=True to annotate cells\n",
    "\n",
    "# labels, title and ticks\n",
    "ax.set_xlabel('Predicted labels')\n",
    "ax.set_ylabel('True labels')\n",
    "ax.set_title('Confusion Matrix (Random Forest)')\n",
    "ax.xaxis.set_ticklabels(labels)\n",
    "ax.yaxis.set_ticklabels(labels)"
   ]
  },
  {
   "cell_type": "code",
   "execution_count": 95,
   "metadata": {},
   "outputs": [
    {
     "data": {
      "image/png": "[encoded data removed]",
      "text/plain": [
       "<Figure size 640x480 with 1 Axes>"
      ]
     },
     "metadata": {},
     "output_type": "display_data"
    }
   ],
   "source": [
    "y_preds_proba_rf = optimized_rf.predict_proba(X_test)[::, 1]\n",
    "y_pred_proba = y_preds_proba_rf\n",
    "fpr, tpr, _ = roc_curve(y_test,  y_pred_proba)\n",
    "auc = roc_auc_score(y_test, y_pred_proba)\n",
    "plt.plot(fpr, tpr, label=\"data 1, auc=\"+str(auc))\n",
    "plt.title('Random Forest')\n",
    "plt.legend(loc=4)\n",
    "plt.show()"
   ]
  },
  {
   "cell_type": "markdown",
   "metadata": {},
   "source": [
    "# XGBoost"
   ]
  },
  {
   "cell_type": "markdown",
   "metadata": {},
   "source": [
    "### **基本概念**\n",
    "\n",
    "1. **梯度提升（Gradient Boosting）**:\n",
    "    - XGBoost 屬於梯度提升的家族。梯度提升是一種機器學習技術，它逐步建立模型，每一步都試圖糾正前一步的錯誤。\n",
    "    - 基本思想是結合多個簡單的模型（如決策樹），每個模型都專注於改進前一個模型的不足之處。\n",
    "2. **梯度提升決策樹（GBDT）**:\n",
    "    - XGBoost 使用決策樹作為基學習器（weak learner）。這些樹是按順序一個接一個建立的，每棵新樹的建立都基於之前樹的結果。\n",
    "\n",
    "### **XGBoost 的特點**\n",
    "\n",
    "1. **效率和靈活性**:\n",
    "    - XGBoost 在計算上非常高效。它使用了一些先進的技術，如樹剪枝（tree pruning）、正則化（regularization）和分布式計算，以提高速度和效率。\n",
    "    - 它非常靈活，支持自定義優化目標和評估標準。\n",
    "2. **正則化**:\n",
    "    - XGBoost 在梯度提升的基礎上增加了正則化項（L1 和 L2 正則化），這有助於避免過擬合，提高模型的泛化能力。\n",
    "3. **處理缺失值**:\n",
    "    - XGBoost 能自動處理缺失值的問題。在訓練過程中，它會學習缺失值應該如何處理。\n",
    "4. **樹剪枝**:\n",
    "    - 與傳統的梯度提升方法不同，XGBoost 從最大深度開始生長樹，然後進行剪枝。這種「深度優先」的方法有助於減少過擬合的風險。\n",
    "5. **內建交叉驗證**:\n",
    "    - XGBoost 可以在每一輪迭代過程中進行交叉驗證，這使得模型的調參和評估更加簡單高效。\n",
    "6. **多線程和分布式處理**:\n",
    "    - XGBoost 支持多線程，這意味著它可以利用多核 CPU 進行快速計算。它還支持分布式計算，可以處理大型數據集。"
   ]
  },
  {
   "cell_type": "markdown",
   "metadata": {},
   "source": [
    "### **XGBoost 和 `XGBClassifier`**\n",
    "\n",
    "- **XGBoost** 是一種基於梯度提升決策樹的機器學習算法，廣泛用於分類問題，尤其是在具有高維特徵的數據集上表現出色。\n",
    "- **`XGBClassifier(objective='binary:logistic')`**:\n",
    "    - 這是創建 XGBoost 分類器的步驟，用於二元分類。\n",
    "    - **`objective='binary:logistic'`** 指定了損失函數的類型，適用於二元分類問題。\n",
    "\n",
    "### **GridSearchCV 參數優化**\n",
    "\n",
    "- **`GridSearchCV`** 是一種系統化尋找最佳參數（hyperparameters）組合的方法，用於提升模型性能。\n",
    "- **參數解釋**:\n",
    "    - **`estimator=xgb`**: 指定要優化的模型。\n",
    "    - **`param_grid=parm_xgb`**: 指定要嘗試的參數範圍。在這裡，有三個參數：\n",
    "        - **`max_depth`**: 決策樹的最大深度。\n",
    "        - **`n_estimators`**: 模型中梯度提升樹的數量。\n",
    "        - **`learning_rate`**: 每棵樹對最終結果的貢獻率，也稱為步長。\n",
    "    - **`scoring='accuracy'`**: 評估模型性能的指標，這裡使用準確度。\n",
    "    - **`cv=5`**: 交叉驗證的折數，這裡使用5折交叉驗證。\n",
    "    - **`n_jobs=-1`**: 使用所有可用的 CPU 核心進行計算。\n",
    "    - **`verbose=3`**: 表示顯示詳細的進度信息。\n",
    "\n",
    "### **模型訓練與結果**\n",
    "\n",
    "- **`grid_result = grid_xgb.fit(X_train, y_train)`**:\n",
    "    - 這一步將 **`GridSearchCV`** 應用於訓練數據集，開始尋找最佳參數組合。\n",
    "    - **`X_train`** 和 **`y_train`** 分別是特徵數據和目標標籤。\n",
    "    - **`grid_result`** 保存了優化過程的結果，包括最佳參數、最佳模型等。"
   ]
  },
  {
   "cell_type": "code",
   "execution_count": 96,
   "metadata": {},
   "outputs": [
    {
     "name": "stdout",
     "output_type": "stream",
     "text": [
      "Fitting 5 folds for each of 36 candidates, totalling 180 fits\n",
      "[CV 2/5] END learning_rate=0.01, max_depth=15, n_estimators=250;, score=0.893 total time=   2.4s\n",
      "[CV 3/5] END learning_rate=0.01, max_depth=15, n_estimators=300;, score=0.884 total time=   2.7s\n",
      "[CV 3/5] END learning_rate=0.01, max_depth=15, n_estimators=250;, score=0.887 total time=   2.7s\n",
      "[CV 4/5] END learning_rate=0.01, max_depth=15, n_estimators=250;, score=0.899 total time=   2.8s\n",
      "[CV 2/5] END learning_rate=0.01, max_depth=15, n_estimators=300;, score=0.899 total time=   2.7s\n",
      "[CV 1/5] END learning_rate=0.01, max_depth=15, n_estimators=250;, score=0.893 total time=   2.8s\n",
      "[CV 5/5] END learning_rate=0.01, max_depth=15, n_estimators=300;, score=0.884 total time=   2.8s\n",
      "[CV 5/5] END learning_rate=0.01, max_depth=15, n_estimators=250;, score=0.875 total time=   2.8s\n",
      "[CV 4/5] END learning_rate=0.01, max_depth=15, n_estimators=300;, score=0.901 total time=   3.0s\n",
      "[CV 2/5] END learning_rate=0.01, max_depth=15, n_estimators=400;, score=0.904 total time=   3.1s\n",
      "[CV 1/5] END learning_rate=0.01, max_depth=15, n_estimators=300;, score=0.899 total time=   3.2s\n",
      "[CV 1/5] END learning_rate=0.01, max_depth=15, n_estimators=400;, score=0.899 total time=   3.7s\n",
      "[CV 5/5] END learning_rate=0.01, max_depth=18, n_estimators=250;, score=0.875 total time=   1.7s\n",
      "[CV 2/5] END learning_rate=0.01, max_depth=18, n_estimators=250;, score=0.893 total time=   1.8s\n",
      "[CV 4/5] END learning_rate=0.01, max_depth=18, n_estimators=250;, score=0.899 total time=   1.8s\n",
      "[CV 3/5] END learning_rate=0.01, max_depth=18, n_estimators=250;, score=0.887 total time=   1.8s\n",
      "[CV 2/5] END learning_rate=0.01, max_depth=18, n_estimators=300;, score=0.899 total time=   1.8s\n",
      "[CV 1/5] END learning_rate=0.01, max_depth=18, n_estimators=250;, score=0.893 total time=   2.3s\n",
      "[CV 4/5] END learning_rate=0.01, max_depth=15, n_estimators=400;, score=0.904 total time=   2.3s[CV 5/5] END learning_rate=0.01, max_depth=15, n_estimators=400;, score=0.881 total time=   2.3s\n",
      "\n",
      "[CV 1/5] END learning_rate=0.01, max_depth=18, n_estimators=300;, score=0.899 total time=   2.1s\n",
      "[CV 3/5] END learning_rate=0.01, max_depth=15, n_estimators=400;, score=0.881 total time=   3.5s\n",
      "[CV 3/5] END learning_rate=0.01, max_depth=18, n_estimators=300;, score=0.884 total time=   3.3s\n",
      "[CV 4/5] END learning_rate=0.01, max_depth=18, n_estimators=300;, score=0.901 total time=   3.1s\n",
      "[CV 1/5] END learning_rate=0.01, max_depth=22, n_estimators=250;, score=0.893 total time=   1.8s\n",
      "[CV 5/5] END learning_rate=0.01, max_depth=18, n_estimators=300;, score=0.884 total time=   2.3s\n",
      "[CV 3/5] END learning_rate=0.01, max_depth=22, n_estimators=250;, score=0.887 total time=   2.1s\n",
      "[CV 2/5] END learning_rate=0.01, max_depth=22, n_estimators=250;, score=0.893 total time=   2.2s\n",
      "[CV 1/5] END learning_rate=0.01, max_depth=18, n_estimators=400;, score=0.899 total time=   2.7s\n",
      "[CV 2/5] END learning_rate=0.01, max_depth=18, n_estimators=400;, score=0.904 total time=   2.8s\n",
      "[CV 4/5] END learning_rate=0.01, max_depth=18, n_estimators=400;, score=0.904 total time=   2.5s\n",
      "[CV 3/5] END learning_rate=0.01, max_depth=18, n_estimators=400;, score=0.881 total time=   2.9s\n",
      "[CV 2/5] END learning_rate=0.01, max_depth=22, n_estimators=300;, score=0.899 total time=   2.0s\n",
      "[CV 3/5] END learning_rate=0.01, max_depth=22, n_estimators=300;, score=0.884 total time=   2.1s\n",
      "[CV 5/5] END learning_rate=0.01, max_depth=18, n_estimators=400;, score=0.881 total time=   4.2s\n",
      "[CV 4/5] END learning_rate=0.01, max_depth=22, n_estimators=250;, score=0.899 total time=   3.3s\n",
      "[CV 5/5] END learning_rate=0.01, max_depth=22, n_estimators=250;, score=0.875 total time=   3.0s\n",
      "[CV 5/5] END learning_rate=0.01, max_depth=22, n_estimators=300;, score=0.884 total time=   2.3s\n",
      "[CV 4/5] END learning_rate=0.01, max_depth=22, n_estimators=300;, score=0.901 total time=   2.4s\n",
      "[CV 1/5] END learning_rate=0.01, max_depth=22, n_estimators=400;, score=0.899 total time=   2.5s\n",
      "[CV 1/5] END learning_rate=0.01, max_depth=22, n_estimators=300;, score=0.899 total time=   3.2s\n",
      "[CV 3/5] END learning_rate=0.01, max_depth=22, n_estimators=400;, score=0.881 total time=   2.5s\n",
      "[CV 2/5] END learning_rate=0.01, max_depth=22, n_estimators=400;, score=0.904 total time=   2.7s\n",
      "[CV 4/5] END learning_rate=0.01, max_depth=22, n_estimators=400;, score=0.904 total time=   2.7s\n",
      "[CV 1/5] END learning_rate=0.01, max_depth=25, n_estimators=250;, score=0.893 total time=   1.8s\n",
      "[CV 5/5] END learning_rate=0.01, max_depth=22, n_estimators=400;, score=0.881 total time=   2.6s\n",
      "[CV 5/5] END learning_rate=0.01, max_depth=25, n_estimators=250;, score=0.875 total time=   1.9s\n",
      "[CV 2/5] END learning_rate=0.01, max_depth=25, n_estimators=250;, score=0.893 total time=   2.5s\n",
      "[CV 1/5] END learning_rate=0.01, max_depth=25, n_estimators=300;, score=0.899 total time=   2.2s\n",
      "[CV 2/5] END learning_rate=0.01, max_depth=25, n_estimators=300;, score=0.899 total time=   2.0s\n",
      "[CV 3/5] END learning_rate=0.01, max_depth=25, n_estimators=300;, score=0.884 total time=   2.0s\n",
      "[CV 3/5] END learning_rate=0.01, max_depth=25, n_estimators=250;, score=0.887 total time=   2.9s\n",
      "[CV 4/5] END learning_rate=0.01, max_depth=25, n_estimators=250;, score=0.899 total time=   2.7s\n",
      "[CV 5/5] END learning_rate=0.01, max_depth=25, n_estimators=300;, score=0.884 total time=   2.3s\n",
      "[CV 2/5] END learning_rate=0.05, max_depth=15, n_estimators=250;, score=0.899 total time=   1.0s\n",
      "[CV 3/5] END learning_rate=0.05, max_depth=15, n_estimators=250;, score=0.896 total time=   1.0s\n",
      "[CV 1/5] END learning_rate=0.01, max_depth=25, n_estimators=400;, score=0.899 total time=   2.8s\n",
      "[CV 1/5] END learning_rate=0.05, max_depth=15, n_estimators=250;, score=0.899 total time=   1.3s\n",
      "[CV 4/5] END learning_rate=0.01, max_depth=25, n_estimators=300;, score=0.901 total time=   3.4s\n",
      "[CV 1/5] END learning_rate=0.05, max_depth=15, n_estimators=300;, score=0.896 total time=   1.1s\n",
      "[CV 2/5] END learning_rate=0.01, max_depth=25, n_estimators=400;, score=0.904 total time=   2.9s\n",
      "[CV 2/5] END learning_rate=0.05, max_depth=15, n_estimators=300;, score=0.896 total time=   1.1s\n",
      "[CV 3/5] END learning_rate=0.01, max_depth=25, n_estimators=400;, score=0.881 total time=   2.6s\n",
      "[CV 3/5] END learning_rate=0.05, max_depth=15, n_estimators=300;, score=0.893 total time=   1.1s\n",
      "[CV 5/5] END learning_rate=0.05, max_depth=15, n_estimators=250;, score=0.887 total time=   1.9s\n",
      "[CV 4/5] END learning_rate=0.05, max_depth=15, n_estimators=250;, score=0.910 total time=   2.1s\n",
      "[CV 5/5] END learning_rate=0.05, max_depth=15, n_estimators=300;, score=0.887 total time=   1.2s\n",
      "[CV 4/5] END learning_rate=0.05, max_depth=15, n_estimators=300;, score=0.907 total time=   1.3s\n",
      "[CV 4/5] END learning_rate=0.01, max_depth=25, n_estimators=400;, score=0.904 total time=   3.0s\n",
      "[CV 2/5] END learning_rate=0.05, max_depth=15, n_estimators=400;, score=0.904 total time=   1.1s\n",
      "[CV 1/5] END learning_rate=0.05, max_depth=18, n_estimators=250;, score=0.899 total time=   0.8s\n",
      "[CV 3/5] END learning_rate=0.05, max_depth=15, n_estimators=400;, score=0.896 total time=   1.3s\n",
      "[CV 4/5] END learning_rate=0.05, max_depth=15, n_estimators=400;, score=0.910 total time=   1.1s\n",
      "[CV 5/5] END learning_rate=0.05, max_depth=15, n_estimators=400;, score=0.893 total time=   1.0s\n",
      "[CV 1/5] END learning_rate=0.05, max_depth=15, n_estimators=400;, score=0.899 total time=   1.8s\n",
      "[CV 4/5] END learning_rate=0.05, max_depth=18, n_estimators=250;, score=0.910 total time=   1.0s\n",
      "[CV 5/5] END learning_rate=0.05, max_depth=18, n_estimators=250;, score=0.884 total time=   1.0s\n",
      "[CV 1/5] END learning_rate=0.05, max_depth=18, n_estimators=300;, score=0.896 total time=   1.0s\n",
      "[CV 2/5] END learning_rate=0.05, max_depth=18, n_estimators=250;, score=0.899 total time=   1.4s\n",
      "[CV 2/5] END learning_rate=0.05, max_depth=18, n_estimators=300;, score=0.896 total time=   1.0s\n",
      "[CV 3/5] END learning_rate=0.05, max_depth=18, n_estimators=250;, score=0.896 total time=   1.6s\n",
      "[CV 3/5] END learning_rate=0.05, max_depth=18, n_estimators=300;, score=0.893 total time=   1.1s\n",
      "[CV 5/5] END learning_rate=0.05, max_depth=18, n_estimators=300;, score=0.884 total time=   1.1s\n",
      "[CV 4/5] END learning_rate=0.05, max_depth=18, n_estimators=300;, score=0.907 total time=   1.2s\n",
      "[CV 1/5] END learning_rate=0.05, max_depth=18, n_estimators=400;, score=0.899 total time=   1.4s\n",
      "[CV 5/5] END learning_rate=0.01, max_depth=25, n_estimators=400;, score=0.881 total time=   4.9s\n",
      "[CV 3/5] END learning_rate=0.05, max_depth=18, n_estimators=400;, score=0.896 total time=   1.4s\n",
      "[CV 2/5] END learning_rate=0.05, max_depth=22, n_estimators=250;, score=0.899 total time=   1.0s\n",
      "[CV 4/5] END learning_rate=0.05, max_depth=18, n_estimators=400;, score=0.910 total time=   1.4s\n",
      "[CV 5/5] END learning_rate=0.05, max_depth=18, n_estimators=400;, score=0.893 total time=   1.4s\n",
      "[CV 4/5] END learning_rate=0.05, max_depth=22, n_estimators=250;, score=0.910 total time=   0.9s\n",
      "[CV 5/5] END learning_rate=0.05, max_depth=22, n_estimators=250;, score=0.884 total time=   0.9s\n",
      "[CV 1/5] END learning_rate=0.05, max_depth=22, n_estimators=250;, score=0.899 total time=   1.7s\n",
      "[CV 2/5] END learning_rate=0.05, max_depth=18, n_estimators=400;, score=0.904 total time=   2.1s\n",
      "[CV 3/5] END learning_rate=0.05, max_depth=22, n_estimators=250;, score=0.896 total time=   1.5s\n",
      "[CV 1/5] END learning_rate=0.05, max_depth=22, n_estimators=300;, score=0.896 total time=   1.2s\n",
      "[CV 2/5] END learning_rate=0.05, max_depth=22, n_estimators=300;, score=0.896 total time=   1.0s\n",
      "[CV 4/5] END learning_rate=0.05, max_depth=22, n_estimators=300;, score=0.907 total time=   1.1s\n",
      "[CV 5/5] END learning_rate=0.05, max_depth=22, n_estimators=300;, score=0.884 total time=   1.0s\n",
      "[CV 1/5] END learning_rate=0.05, max_depth=22, n_estimators=400;, score=0.899 total time=   1.2s\n",
      "[CV 2/5] END learning_rate=0.05, max_depth=22, n_estimators=400;, score=0.904 total time=   1.3s\n",
      "[CV 3/5] END learning_rate=0.05, max_depth=22, n_estimators=400;, score=0.896 total time=   1.1s\n",
      "[CV 4/5] END learning_rate=0.05, max_depth=22, n_estimators=400;, score=0.910 total time=   1.2s\n",
      "[CV 4/5] END learning_rate=0.05, max_depth=25, n_estimators=250;, score=0.910 total time=   0.9s\n",
      "[CV 3/5] END learning_rate=0.05, max_depth=22, n_estimators=300;, score=0.893 total time=   1.8s\n",
      "[CV 3/5] END learning_rate=0.05, max_depth=25, n_estimators=250;, score=0.896 total time=   1.0s\n",
      "[CV 5/5] END learning_rate=0.05, max_depth=25, n_estimators=250;, score=0.884 total time=   1.0s\n",
      "[CV 1/5] END learning_rate=0.05, max_depth=25, n_estimators=300;, score=0.896 total time=   1.0s\n",
      "[CV 2/5] END learning_rate=0.05, max_depth=25, n_estimators=300;, score=0.896 total time=   1.1s\n",
      "[CV 4/5] END learning_rate=0.05, max_depth=25, n_estimators=300;, score=0.907 total time=   1.0s\n",
      "[CV 1/5] END learning_rate=0.05, max_depth=25, n_estimators=250;, score=0.899 total time=   1.9s\n",
      "[CV 3/5] END learning_rate=0.05, max_depth=25, n_estimators=300;, score=0.893 total time=   1.1s\n",
      "[CV 5/5] END learning_rate=0.05, max_depth=25, n_estimators=300;, score=0.884 total time=   1.0s\n",
      "[CV 2/5] END learning_rate=0.05, max_depth=25, n_estimators=250;, score=0.899 total time=   2.1s\n",
      "[CV 1/5] END learning_rate=0.05, max_depth=25, n_estimators=400;, score=0.899 total time=   1.2s\n",
      "[CV 5/5] END learning_rate=0.05, max_depth=22, n_estimators=400;, score=0.893 total time=   2.5s\n",
      "[CV 3/5] END learning_rate=0.05, max_depth=25, n_estimators=400;, score=0.896 total time=   1.3s\n",
      "[CV 2/5] END learning_rate=0.1, max_depth=15, n_estimators=250;, score=0.907 total time=   0.6s\n",
      "[CV 1/5] END learning_rate=0.1, max_depth=15, n_estimators=250;, score=0.905 total time=   0.7s\n",
      "[CV 5/5] END learning_rate=0.05, max_depth=25, n_estimators=400;, score=0.893 total time=   1.1s\n",
      "[CV 5/5] END learning_rate=0.1, max_depth=15, n_estimators=250;, score=0.899 total time=   0.6s\n",
      "[CV 3/5] END learning_rate=0.1, max_depth=15, n_estimators=250;, score=0.899 total time=   0.6s\n",
      "[CV 4/5] END learning_rate=0.05, max_depth=25, n_estimators=400;, score=0.910 total time=   1.3s\n",
      "[CV 2/5] END learning_rate=0.1, max_depth=15, n_estimators=300;, score=0.904 total time=   0.6s\n",
      "[CV 4/5] END learning_rate=0.1, max_depth=15, n_estimators=250;, score=0.907 total time=   0.9s\n",
      "[CV 2/5] END learning_rate=0.05, max_depth=25, n_estimators=400;, score=0.904 total time=   1.9s\n",
      "[CV 4/5] END learning_rate=0.1, max_depth=15, n_estimators=300;, score=0.904 total time=   0.6s\n",
      "[CV 1/5] END learning_rate=0.1, max_depth=15, n_estimators=300;, score=0.905 total time=   0.9s\n",
      "[CV 5/5] END learning_rate=0.1, max_depth=15, n_estimators=300;, score=0.901 total time=   0.7s\n",
      "[CV 2/5] END learning_rate=0.1, max_depth=15, n_estimators=400;, score=0.899 total time=   0.7s\n",
      "[CV 1/5] END learning_rate=0.1, max_depth=15, n_estimators=400;, score=0.905 total time=   0.8s\n",
      "[CV 3/5] END learning_rate=0.1, max_depth=15, n_estimators=300;, score=0.901 total time=   0.9s\n",
      "[CV 4/5] END learning_rate=0.1, max_depth=15, n_estimators=400;, score=0.907 total time=   0.7s\n",
      "[CV 1/5] END learning_rate=0.1, max_depth=18, n_estimators=250;, score=0.905 total time=   0.6s\n",
      "[CV 3/5] END learning_rate=0.1, max_depth=15, n_estimators=400;, score=0.904 total time=   0.9s\n",
      "[CV 5/5] END learning_rate=0.1, max_depth=15, n_estimators=400;, score=0.899 total time=   1.0s\n",
      "[CV 4/5] END learning_rate=0.1, max_depth=18, n_estimators=250;, score=0.907 total time=   0.6s\n",
      "[CV 2/5] END learning_rate=0.1, max_depth=18, n_estimators=300;, score=0.904 total time=   0.7s\n",
      "[CV 2/5] END learning_rate=0.1, max_depth=18, n_estimators=250;, score=0.907 total time=   1.0s\n",
      "[CV 1/5] END learning_rate=0.1, max_depth=18, n_estimators=300;, score=0.905 total time=   0.8s\n",
      "[CV 5/5] END learning_rate=0.1, max_depth=18, n_estimators=300;, score=0.901 total time=   0.7s\n",
      "[CV 3/5] END learning_rate=0.1, max_depth=18, n_estimators=300;, score=0.901 total time=   0.8s\n",
      "[CV 1/5] END learning_rate=0.1, max_depth=18, n_estimators=400;, score=0.905 total time=   0.8s\n",
      "[CV 2/5] END learning_rate=0.1, max_depth=18, n_estimators=400;, score=0.899 total time=   0.9s\n",
      "[CV 3/5] END learning_rate=0.1, max_depth=18, n_estimators=250;, score=0.899 total time=   1.3s\n",
      "[CV 5/5] END learning_rate=0.1, max_depth=18, n_estimators=250;, score=0.899 total time=   1.2s\n",
      "[CV 4/5] END learning_rate=0.1, max_depth=18, n_estimators=400;, score=0.907 total time=   0.8s\n",
      "[CV 3/5] END learning_rate=0.1, max_depth=18, n_estimators=400;, score=0.904 total time=   0.9s\n",
      "[CV 2/5] END learning_rate=0.1, max_depth=22, n_estimators=250;, score=0.907 total time=   0.7s\n",
      "[CV 3/5] END learning_rate=0.1, max_depth=22, n_estimators=250;, score=0.899 total time=   0.7s\n",
      "[CV 5/5] END learning_rate=0.1, max_depth=18, n_estimators=400;, score=0.899 total time=   0.8s\n",
      "[CV 4/5] END learning_rate=0.1, max_depth=22, n_estimators=250;, score=0.907 total time=   0.7s\n",
      "[CV 5/5] END learning_rate=0.1, max_depth=22, n_estimators=250;, score=0.899 total time=   0.6s\n",
      "[CV 4/5] END learning_rate=0.1, max_depth=18, n_estimators=300;, score=0.904 total time=   1.5s\n",
      "[CV 1/5] END learning_rate=0.1, max_depth=22, n_estimators=300;, score=0.905 total time=   0.8s\n",
      "[CV 4/5] END learning_rate=0.1, max_depth=22, n_estimators=300;, score=0.904 total time=   0.7s\n",
      "[CV 1/5] END learning_rate=0.1, max_depth=22, n_estimators=250;, score=0.905 total time=   1.2s\n",
      "[CV 5/5] END learning_rate=0.1, max_depth=22, n_estimators=300;, score=0.901 total time=   0.8s\n",
      "[CV 2/5] END learning_rate=0.1, max_depth=22, n_estimators=400;, score=0.899 total time=   0.8s\n",
      "[CV 2/5] END learning_rate=0.1, max_depth=22, n_estimators=300;, score=0.904 total time=   1.2s\n",
      "[CV 3/5] END learning_rate=0.1, max_depth=22, n_estimators=400;, score=0.904 total time=   0.8s\n",
      "[CV 1/5] END learning_rate=0.1, max_depth=22, n_estimators=400;, score=0.905 total time=   0.9s\n",
      "[CV 5/5] END learning_rate=0.1, max_depth=22, n_estimators=400;, score=0.899 total time=   0.8s\n",
      "[CV 3/5] END learning_rate=0.1, max_depth=22, n_estimators=300;, score=0.901 total time=   1.2s\n",
      "[CV 4/5] END learning_rate=0.1, max_depth=22, n_estimators=400;, score=0.907 total time=   0.9s\n",
      "[CV 1/5] END learning_rate=0.1, max_depth=25, n_estimators=250;, score=0.905 total time=   0.9s\n",
      "[CV 2/5] END learning_rate=0.1, max_depth=25, n_estimators=250;, score=0.907 total time=   0.6s\n",
      "[CV 3/5] END learning_rate=0.1, max_depth=25, n_estimators=250;, score=0.899 total time=   0.6s\n",
      "[CV 4/5] END learning_rate=0.1, max_depth=25, n_estimators=250;, score=0.907 total time=   0.7s\n",
      "[CV 5/5] END learning_rate=0.1, max_depth=25, n_estimators=250;, score=0.899 total time=   0.6s\n",
      "[CV 1/5] END learning_rate=0.1, max_depth=25, n_estimators=300;, score=0.905 total time=   0.6s\n",
      "[CV 3/5] END learning_rate=0.1, max_depth=25, n_estimators=300;, score=0.901 total time=   0.6s\n",
      "[CV 5/5] END learning_rate=0.1, max_depth=25, n_estimators=300;, score=0.901 total time=   0.6s\n",
      "[CV 2/5] END learning_rate=0.1, max_depth=25, n_estimators=300;, score=0.904 total time=   0.7s\n",
      "[CV 4/5] END learning_rate=0.1, max_depth=25, n_estimators=300;, score=0.904 total time=   0.7s\n",
      "[CV 1/5] END learning_rate=0.1, max_depth=25, n_estimators=400;, score=0.905 total time=   0.7s\n",
      "[CV 2/5] END learning_rate=0.1, max_depth=25, n_estimators=400;, score=0.899 total time=   0.7s\n",
      "[CV 3/5] END learning_rate=0.1, max_depth=25, n_estimators=400;, score=0.904 total time=   0.7s\n",
      "[CV 5/5] END learning_rate=0.1, max_depth=25, n_estimators=400;, score=0.899 total time=   0.6s\n",
      "[CV 4/5] END learning_rate=0.1, max_depth=25, n_estimators=400;, score=0.907 total time=   0.7s\n"
     ]
    }
   ],
   "source": [
    "xgb = XGBClassifier(objective='binary:logistic')\n",
    "parm_xgb = {'max_depth': [15, 18, 22, 25], 'n_estimators': [\n",
    "    250, 300, 400], 'learning_rate': [0.01, 0.05, 0.1]}\n",
    "grid_xgb = GridSearchCV(estimator=xgb, param_grid=parm_xgb,\n",
    "                        scoring='accuracy', cv=5, n_jobs=-1, verbose=3)\n",
    "grid_result = grid_xgb.fit(X_train, y_train)"
   ]
  },
  {
   "cell_type": "code",
   "execution_count": 97,
   "metadata": {},
   "outputs": [],
   "source": [
    "optimized_xgb = grid_xgb.best_estimator_"
   ]
  },
  {
   "cell_type": "code",
   "execution_count": 98,
   "metadata": {},
   "outputs": [
    {
     "data": {
      "text/plain": [
       "0.9032436960710397"
      ]
     },
     "execution_count": 98,
     "metadata": {},
     "output_type": "execute_result"
    }
   ],
   "source": [
    "grid_xgb.best_score_"
   ]
  },
  {
   "cell_type": "code",
   "execution_count": 99,
   "metadata": {},
   "outputs": [
    {
     "data": {
      "text/plain": [
       "{'learning_rate': 0.1, 'max_depth': 15, 'n_estimators': 300}"
      ]
     },
     "execution_count": 99,
     "metadata": {},
     "output_type": "execute_result"
    }
   ],
   "source": [
    "grid_xgb.best_params_"
   ]
  },
  {
   "cell_type": "code",
   "execution_count": 100,
   "metadata": {},
   "outputs": [],
   "source": [
    "xgb_train_pred = optimized_xgb.predict(X_train)\n",
    "xgb_test_pred = optimized_xgb.predict(X_test)"
   ]
  },
  {
   "cell_type": "code",
   "execution_count": 101,
   "metadata": {},
   "outputs": [
    {
     "data": {
      "text/plain": [
       "(1726,)"
      ]
     },
     "execution_count": 101,
     "metadata": {},
     "output_type": "execute_result"
    }
   ],
   "source": [
    "y_train.shape"
   ]
  },
  {
   "cell_type": "code",
   "execution_count": 102,
   "metadata": {},
   "outputs": [
    {
     "name": "stdout",
     "output_type": "stream",
     "text": [
      "The accuracy on train data is  1.0\n",
      "The accuracy on test data is  0.927027027027027\n",
      "The precision on test data is  0.9002695417789758\n",
      "The recall on test data is  0.9515669515669516\n",
      "The f1 on test data is  0.925207756232687\n",
      "The roc_score on test data is  0.9282256351665092\n"
     ]
    }
   ],
   "source": [
    "print(\"The accuracy on train data is \",\n",
    "      accuracy_score(xgb_train_pred, y_train))\n",
    "print(\"The accuracy on test data is \", accuracy_score(xgb_test_pred, y_test))\n",
    "print(\"The precision on test data is \", precision_score(xgb_test_pred, y_test))\n",
    "print(\"The recall on test data is \", recall_score(xgb_test_pred, y_test))\n",
    "print(\"The f1 on test data is \", f1_score(xgb_test_pred, y_test))\n",
    "print(\"The roc_score on test data is \", roc_auc_score(xgb_test_pred, y_test))"
   ]
  },
  {
   "cell_type": "code",
   "execution_count": 103,
   "metadata": {},
   "outputs": [
    {
     "data": {
      "text/plain": [
       "[Text(0, 0.5, 'Not Defaulter'), Text(0, 1.5, 'Defaulter')]"
      ]
     },
     "execution_count": 103,
     "metadata": {},
     "output_type": "execute_result"
    },
    {
     "data": {
      "image/png": "[encoded data removed]",
      "text/plain": [
       "<Figure size 640x480 with 2 Axes>"
      ]
     },
     "metadata": {},
     "output_type": "display_data"
    }
   ],
   "source": [
    "labels = ['Not Defaulter', 'Defaulter']\n",
    "cm = confusion_matrix(y_test, xgb_test_pred)\n",
    "\n",
    "\n",
    "ax = plt.subplot()\n",
    "sns.heatmap(cm,\n",
    "            xticklabels=['Not Default', 'Default'],\n",
    "            yticklabels=['Not Default', 'Default'],\n",
    "            annot=True, ax=ax,\n",
    "            linewidths=.2, linecolor=\"Darkblue\", cmap=\"Blues\")  # annot=True to annotate cells\n",
    "\n",
    "# labels, title and ticks\n",
    "ax.set_xlabel('Predicted labels')\n",
    "ax.set_ylabel('True labels')\n",
    "ax.set_title('Confusion Matrix (XGBoost)')\n",
    "ax.xaxis.set_ticklabels(labels)\n",
    "ax.yaxis.set_ticklabels(labels)"
   ]
  },
  {
   "cell_type": "code",
   "execution_count": 104,
   "metadata": {},
   "outputs": [
    {
     "data": {
      "image/png": "[encoded data removed]",
      "text/plain": [
       "<Figure size 640x480 with 1 Axes>"
      ]
     },
     "metadata": {},
     "output_type": "display_data"
    }
   ],
   "source": [
    "y_preds_proba_xgb = optimized_xgb.predict_proba(X_test)[::, 1]\n",
    "y_pred_proba = y_preds_proba_xgb\n",
    "fpr, tpr, _ = roc_curve(y_test,  y_pred_proba)\n",
    "auc = roc_auc_score(y_test, y_pred_proba)\n",
    "plt.plot(fpr, tpr, label=\"data 1, auc=\"+str(auc))\n",
    "plt.title('XGBoost')\n",
    "plt.legend(loc=4)\n",
    "plt.show()"
   ]
  },
  {
   "cell_type": "markdown",
   "metadata": {},
   "source": [
    "### **特徵重要性提取**\n",
    "\n",
    "- **`feature_importances_xgb = pd.DataFrame(optimized_xgb.feature_importances_, index=columns, columns=['importance_xgb']).sort_values('importance_xgb', ascending=False)[:20]`**:\n",
    "    - **`optimized_xgb.feature_importances_`** 獲取了 XGBoost 模型中各個特徵的重要性。這些值表示每個特徵對於模型的預測能力貢獻的相對重要性。\n",
    "    - 這些重要性值被轉換成了一個 Pandas DataFrame，其中 **`index=columns`** 指定了每個特徵的名稱。\n",
    "    - **`.sort_values('importance_xgb', ascending=False)`** 對特徵按其重要性進行降序排序。\n",
    "    - **`[:20]`** 選取了前20個最重要的特徵。\n",
    "\n",
    "### **數據可視化**\n",
    "\n",
    "- **使用 Matplotlib 繪製條形圖**:\n",
    "    - **`plt.subplots(figsize=(17, 6))`**: 創建一個圖形和一個子圖，設定圖形大小為寬17英寸、高6英寸。\n",
    "    - **`plt.title(\"Feature importances from XGBoost\")`**: 給圖形添加標題。\n",
    "    - **`plt.bar(...)`**: 繪製條形圖，展示每個特徵的重要性。**`feature_importances_xgb.index`** 和 **`feature_importances_xgb['importance_xgb']`** 分別提供了 X 軸（特徵名稱）和 Y 軸（重要性值）的數據。\n",
    "    - **`plt.xticks(...)`**: 設置 X 軸的刻度標籤，並將其旋轉 45 度，以便於閱讀。\n",
    "    - **`plt.show()`**: 顯示圖表。"
   ]
  },
  {
   "cell_type": "code",
   "execution_count": 106,
   "metadata": {},
   "outputs": [
    {
     "data": {
      "image/png": "[encoded data removed]",
      "text/plain": [
       "<Figure size 1700x600 with 1 Axes>"
      ]
     },
     "metadata": {},
     "output_type": "display_data"
    }
   ],
   "source": [
    "# Feature Importance\n",
    "feature_importances_xgb = pd.DataFrame(optimized_xgb.feature_importances_,\n",
    "                                       index=columns,\n",
    "                                       columns=['importance_xgb']).sort_values('importance_xgb',\n",
    "                                                                               ascending=False)[:20]\n",
    "\n",
    "plt.subplots(figsize=(17, 6))\n",
    "plt.title(\"Feature importances from XGBoost\")\n",
    "plt.bar(feature_importances_xgb.index, feature_importances_xgb['importance_xgb'],\n",
    "        color=\"b\",  align=\"center\")\n",
    "plt.xticks(feature_importances_xgb.index, rotation=45)\n",
    "# plt.xlim([-1, X.shape[1]])\n",
    "plt.show()"
   ]
  }
 ],
 "metadata": {
  "kernelspec": {
   "display_name": "big_data",
   "language": "python",
   "name": "python3"
  },
  "language_info": {
   "codemirror_mode": {
    "name": "ipython",
    "version": 3
   },
   "file_extension": ".py",
   "mimetype": "text/x-python",
   "name": "python",
   "nbconvert_exporter": "python",
   "pygments_lexer": "ipython3",
   "version": "3.8.18"
  }
 },
 "nbformat": 4,
 "nbformat_minor": 2
}
