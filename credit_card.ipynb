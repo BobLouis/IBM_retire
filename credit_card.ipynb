{
 "cells": [
  {
   "cell_type": "markdown",
   "metadata": {},
   "source": [
    "# data preprocess"
   ]
  },
  {
   "cell_type": "code",
   "execution_count": 1,
   "metadata": {},
   "outputs": [],
   "source": [
    "import pandas as pd\n",
    "import numpy as np\n",
    "import matplotlib.pyplot as plt\n",
    "import xlrd"
   ]
  },
  {
   "cell_type": "code",
   "execution_count": 2,
   "metadata": {},
   "outputs": [],
   "source": [
    "data = pd.read_csv(\"./data/Credit.csv\")"
   ]
  },
  {
   "cell_type": "code",
   "execution_count": 3,
   "metadata": {},
   "outputs": [
    {
     "data": {
      "text/html": [
       "<div>\n",
       "<style scoped>\n",
       "    .dataframe tbody tr th:only-of-type {\n",
       "        vertical-align: middle;\n",
       "    }\n",
       "\n",
       "    .dataframe tbody tr th {\n",
       "        vertical-align: top;\n",
       "    }\n",
       "\n",
       "    .dataframe thead th {\n",
       "        text-align: right;\n",
       "    }\n",
       "</style>\n",
       "<table border=\"1\" class=\"dataframe\">\n",
       "  <thead>\n",
       "    <tr style=\"text-align: right;\">\n",
       "      <th></th>\n",
       "      <th>ID</th>\n",
       "      <th>LIMIT_BAL</th>\n",
       "      <th>SEX</th>\n",
       "      <th>EDUCATION</th>\n",
       "      <th>MARRIAGE</th>\n",
       "      <th>AGE</th>\n",
       "      <th>PAY_0</th>\n",
       "      <th>PAY_2</th>\n",
       "      <th>PAY_3</th>\n",
       "      <th>PAY_4</th>\n",
       "      <th>...</th>\n",
       "      <th>BILL_AMT4</th>\n",
       "      <th>BILL_AMT5</th>\n",
       "      <th>BILL_AMT6</th>\n",
       "      <th>PAY_AMT1</th>\n",
       "      <th>PAY_AMT2</th>\n",
       "      <th>PAY_AMT3</th>\n",
       "      <th>PAY_AMT4</th>\n",
       "      <th>PAY_AMT5</th>\n",
       "      <th>PAY_AMT6</th>\n",
       "      <th>default</th>\n",
       "    </tr>\n",
       "  </thead>\n",
       "  <tbody>\n",
       "    <tr>\n",
       "      <th>0</th>\n",
       "      <td>1</td>\n",
       "      <td>20000</td>\n",
       "      <td>F</td>\n",
       "      <td>University</td>\n",
       "      <td>Married</td>\n",
       "      <td>24</td>\n",
       "      <td>2</td>\n",
       "      <td>2</td>\n",
       "      <td>-1</td>\n",
       "      <td>-1</td>\n",
       "      <td>...</td>\n",
       "      <td>0</td>\n",
       "      <td>0</td>\n",
       "      <td>0</td>\n",
       "      <td>0</td>\n",
       "      <td>689</td>\n",
       "      <td>0</td>\n",
       "      <td>0</td>\n",
       "      <td>0</td>\n",
       "      <td>0</td>\n",
       "      <td>Y</td>\n",
       "    </tr>\n",
       "    <tr>\n",
       "      <th>1</th>\n",
       "      <td>2</td>\n",
       "      <td>120000</td>\n",
       "      <td>F</td>\n",
       "      <td>University</td>\n",
       "      <td>Single</td>\n",
       "      <td>26</td>\n",
       "      <td>-1</td>\n",
       "      <td>2</td>\n",
       "      <td>0</td>\n",
       "      <td>0</td>\n",
       "      <td>...</td>\n",
       "      <td>3272</td>\n",
       "      <td>3455</td>\n",
       "      <td>3261</td>\n",
       "      <td>0</td>\n",
       "      <td>1000</td>\n",
       "      <td>1000</td>\n",
       "      <td>1000</td>\n",
       "      <td>0</td>\n",
       "      <td>2000</td>\n",
       "      <td>Y</td>\n",
       "    </tr>\n",
       "    <tr>\n",
       "      <th>2</th>\n",
       "      <td>3</td>\n",
       "      <td>90000</td>\n",
       "      <td>F</td>\n",
       "      <td>University</td>\n",
       "      <td>Single</td>\n",
       "      <td>34</td>\n",
       "      <td>0</td>\n",
       "      <td>0</td>\n",
       "      <td>0</td>\n",
       "      <td>0</td>\n",
       "      <td>...</td>\n",
       "      <td>14331</td>\n",
       "      <td>14948</td>\n",
       "      <td>15549</td>\n",
       "      <td>1518</td>\n",
       "      <td>1500</td>\n",
       "      <td>1000</td>\n",
       "      <td>1000</td>\n",
       "      <td>1000</td>\n",
       "      <td>5000</td>\n",
       "      <td>N</td>\n",
       "    </tr>\n",
       "    <tr>\n",
       "      <th>3</th>\n",
       "      <td>4</td>\n",
       "      <td>50000</td>\n",
       "      <td>F</td>\n",
       "      <td>University</td>\n",
       "      <td>Married</td>\n",
       "      <td>37</td>\n",
       "      <td>0</td>\n",
       "      <td>0</td>\n",
       "      <td>0</td>\n",
       "      <td>0</td>\n",
       "      <td>...</td>\n",
       "      <td>28314</td>\n",
       "      <td>28959</td>\n",
       "      <td>29547</td>\n",
       "      <td>2000</td>\n",
       "      <td>2019</td>\n",
       "      <td>1200</td>\n",
       "      <td>1100</td>\n",
       "      <td>1069</td>\n",
       "      <td>1000</td>\n",
       "      <td>N</td>\n",
       "    </tr>\n",
       "    <tr>\n",
       "      <th>4</th>\n",
       "      <td>5</td>\n",
       "      <td>50000</td>\n",
       "      <td>M</td>\n",
       "      <td>University</td>\n",
       "      <td>Married</td>\n",
       "      <td>57</td>\n",
       "      <td>-1</td>\n",
       "      <td>0</td>\n",
       "      <td>-1</td>\n",
       "      <td>0</td>\n",
       "      <td>...</td>\n",
       "      <td>20940</td>\n",
       "      <td>19146</td>\n",
       "      <td>19131</td>\n",
       "      <td>2000</td>\n",
       "      <td>36681</td>\n",
       "      <td>10000</td>\n",
       "      <td>9000</td>\n",
       "      <td>689</td>\n",
       "      <td>679</td>\n",
       "      <td>N</td>\n",
       "    </tr>\n",
       "    <tr>\n",
       "      <th>...</th>\n",
       "      <td>...</td>\n",
       "      <td>...</td>\n",
       "      <td>...</td>\n",
       "      <td>...</td>\n",
       "      <td>...</td>\n",
       "      <td>...</td>\n",
       "      <td>...</td>\n",
       "      <td>...</td>\n",
       "      <td>...</td>\n",
       "      <td>...</td>\n",
       "      <td>...</td>\n",
       "      <td>...</td>\n",
       "      <td>...</td>\n",
       "      <td>...</td>\n",
       "      <td>...</td>\n",
       "      <td>...</td>\n",
       "      <td>...</td>\n",
       "      <td>...</td>\n",
       "      <td>...</td>\n",
       "      <td>...</td>\n",
       "      <td>...</td>\n",
       "    </tr>\n",
       "    <tr>\n",
       "      <th>29995</th>\n",
       "      <td>29996</td>\n",
       "      <td>220000</td>\n",
       "      <td>M</td>\n",
       "      <td>High School</td>\n",
       "      <td>Married</td>\n",
       "      <td>39</td>\n",
       "      <td>0</td>\n",
       "      <td>0</td>\n",
       "      <td>0</td>\n",
       "      <td>0</td>\n",
       "      <td>...</td>\n",
       "      <td>88004</td>\n",
       "      <td>31237</td>\n",
       "      <td>15980</td>\n",
       "      <td>8500</td>\n",
       "      <td>20000</td>\n",
       "      <td>5003</td>\n",
       "      <td>3047</td>\n",
       "      <td>5000</td>\n",
       "      <td>1000</td>\n",
       "      <td>N</td>\n",
       "    </tr>\n",
       "    <tr>\n",
       "      <th>29996</th>\n",
       "      <td>29997</td>\n",
       "      <td>150000</td>\n",
       "      <td>M</td>\n",
       "      <td>High School</td>\n",
       "      <td>Single</td>\n",
       "      <td>43</td>\n",
       "      <td>-1</td>\n",
       "      <td>-1</td>\n",
       "      <td>-1</td>\n",
       "      <td>-1</td>\n",
       "      <td>...</td>\n",
       "      <td>8979</td>\n",
       "      <td>5190</td>\n",
       "      <td>0</td>\n",
       "      <td>1837</td>\n",
       "      <td>3526</td>\n",
       "      <td>8998</td>\n",
       "      <td>129</td>\n",
       "      <td>0</td>\n",
       "      <td>0</td>\n",
       "      <td>N</td>\n",
       "    </tr>\n",
       "    <tr>\n",
       "      <th>29997</th>\n",
       "      <td>29998</td>\n",
       "      <td>30000</td>\n",
       "      <td>M</td>\n",
       "      <td>University</td>\n",
       "      <td>Single</td>\n",
       "      <td>37</td>\n",
       "      <td>4</td>\n",
       "      <td>3</td>\n",
       "      <td>2</td>\n",
       "      <td>-1</td>\n",
       "      <td>...</td>\n",
       "      <td>20878</td>\n",
       "      <td>20582</td>\n",
       "      <td>19357</td>\n",
       "      <td>0</td>\n",
       "      <td>0</td>\n",
       "      <td>22000</td>\n",
       "      <td>4200</td>\n",
       "      <td>2000</td>\n",
       "      <td>3100</td>\n",
       "      <td>Y</td>\n",
       "    </tr>\n",
       "    <tr>\n",
       "      <th>29998</th>\n",
       "      <td>29999</td>\n",
       "      <td>80000</td>\n",
       "      <td>M</td>\n",
       "      <td>High School</td>\n",
       "      <td>Married</td>\n",
       "      <td>41</td>\n",
       "      <td>1</td>\n",
       "      <td>-1</td>\n",
       "      <td>0</td>\n",
       "      <td>0</td>\n",
       "      <td>...</td>\n",
       "      <td>52774</td>\n",
       "      <td>11855</td>\n",
       "      <td>48944</td>\n",
       "      <td>85900</td>\n",
       "      <td>3409</td>\n",
       "      <td>1178</td>\n",
       "      <td>1926</td>\n",
       "      <td>52964</td>\n",
       "      <td>1804</td>\n",
       "      <td>Y</td>\n",
       "    </tr>\n",
       "    <tr>\n",
       "      <th>29999</th>\n",
       "      <td>30000</td>\n",
       "      <td>50000</td>\n",
       "      <td>M</td>\n",
       "      <td>University</td>\n",
       "      <td>Married</td>\n",
       "      <td>46</td>\n",
       "      <td>0</td>\n",
       "      <td>0</td>\n",
       "      <td>0</td>\n",
       "      <td>0</td>\n",
       "      <td>...</td>\n",
       "      <td>36535</td>\n",
       "      <td>32428</td>\n",
       "      <td>15313</td>\n",
       "      <td>2078</td>\n",
       "      <td>1800</td>\n",
       "      <td>1430</td>\n",
       "      <td>1000</td>\n",
       "      <td>1000</td>\n",
       "      <td>1000</td>\n",
       "      <td>Y</td>\n",
       "    </tr>\n",
       "  </tbody>\n",
       "</table>\n",
       "<p>30000 rows × 25 columns</p>\n",
       "</div>"
      ],
      "text/plain": [
       "          ID  LIMIT_BAL SEX    EDUCATION MARRIAGE  AGE  PAY_0  PAY_2  PAY_3  \\\n",
       "0          1      20000   F   University  Married   24      2      2     -1   \n",
       "1          2     120000   F   University   Single   26     -1      2      0   \n",
       "2          3      90000   F   University   Single   34      0      0      0   \n",
       "3          4      50000   F   University  Married   37      0      0      0   \n",
       "4          5      50000   M   University  Married   57     -1      0     -1   \n",
       "...      ...        ...  ..          ...      ...  ...    ...    ...    ...   \n",
       "29995  29996     220000   M  High School  Married   39      0      0      0   \n",
       "29996  29997     150000   M  High School   Single   43     -1     -1     -1   \n",
       "29997  29998      30000   M   University   Single   37      4      3      2   \n",
       "29998  29999      80000   M  High School  Married   41      1     -1      0   \n",
       "29999  30000      50000   M   University  Married   46      0      0      0   \n",
       "\n",
       "       PAY_4  ...  BILL_AMT4  BILL_AMT5  BILL_AMT6  PAY_AMT1  PAY_AMT2  \\\n",
       "0         -1  ...          0          0          0         0       689   \n",
       "1          0  ...       3272       3455       3261         0      1000   \n",
       "2          0  ...      14331      14948      15549      1518      1500   \n",
       "3          0  ...      28314      28959      29547      2000      2019   \n",
       "4          0  ...      20940      19146      19131      2000     36681   \n",
       "...      ...  ...        ...        ...        ...       ...       ...   \n",
       "29995      0  ...      88004      31237      15980      8500     20000   \n",
       "29996     -1  ...       8979       5190          0      1837      3526   \n",
       "29997     -1  ...      20878      20582      19357         0         0   \n",
       "29998      0  ...      52774      11855      48944     85900      3409   \n",
       "29999      0  ...      36535      32428      15313      2078      1800   \n",
       "\n",
       "       PAY_AMT3  PAY_AMT4  PAY_AMT5  PAY_AMT6  default  \n",
       "0             0         0         0         0        Y  \n",
       "1          1000      1000         0      2000        Y  \n",
       "2          1000      1000      1000      5000        N  \n",
       "3          1200      1100      1069      1000        N  \n",
       "4         10000      9000       689       679        N  \n",
       "...         ...       ...       ...       ...      ...  \n",
       "29995      5003      3047      5000      1000        N  \n",
       "29996      8998       129         0         0        N  \n",
       "29997     22000      4200      2000      3100        Y  \n",
       "29998      1178      1926     52964      1804        Y  \n",
       "29999      1430      1000      1000      1000        Y  \n",
       "\n",
       "[30000 rows x 25 columns]"
      ]
     },
     "execution_count": 3,
     "metadata": {},
     "output_type": "execute_result"
    }
   ],
   "source": [
    "data"
   ]
  },
  {
   "cell_type": "code",
   "execution_count": 4,
   "metadata": {},
   "outputs": [
    {
     "name": "stdout",
     "output_type": "stream",
     "text": [
      "<class 'pandas.core.frame.DataFrame'>\n",
      "RangeIndex: 30000 entries, 0 to 29999\n",
      "Data columns (total 25 columns):\n",
      " #   Column     Non-Null Count  Dtype \n",
      "---  ------     --------------  ----- \n",
      " 0   ID         30000 non-null  int64 \n",
      " 1   LIMIT_BAL  30000 non-null  int64 \n",
      " 2   SEX        30000 non-null  object\n",
      " 3   EDUCATION  30000 non-null  object\n",
      " 4   MARRIAGE   30000 non-null  object\n",
      " 5   AGE        30000 non-null  int64 \n",
      " 6   PAY_0      30000 non-null  int64 \n",
      " 7   PAY_2      30000 non-null  int64 \n",
      " 8   PAY_3      30000 non-null  int64 \n",
      " 9   PAY_4      30000 non-null  int64 \n",
      " 10  PAY_5      30000 non-null  int64 \n",
      " 11  PAY_6      30000 non-null  int64 \n",
      " 12  BILL_AMT1  30000 non-null  int64 \n",
      " 13  BILL_AMT2  30000 non-null  int64 \n",
      " 14  BILL_AMT3  30000 non-null  int64 \n",
      " 15  BILL_AMT4  30000 non-null  int64 \n",
      " 16  BILL_AMT5  30000 non-null  int64 \n",
      " 17  BILL_AMT6  30000 non-null  int64 \n",
      " 18  PAY_AMT1   30000 non-null  int64 \n",
      " 19  PAY_AMT2   30000 non-null  int64 \n",
      " 20  PAY_AMT3   30000 non-null  int64 \n",
      " 21  PAY_AMT4   30000 non-null  int64 \n",
      " 22  PAY_AMT5   30000 non-null  int64 \n",
      " 23  PAY_AMT6   30000 non-null  int64 \n",
      " 24  default    30000 non-null  object\n",
      "dtypes: int64(21), object(4)\n",
      "memory usage: 5.7+ MB\n"
     ]
    }
   ],
   "source": [
    "data.info()"
   ]
  },
  {
   "cell_type": "code",
   "execution_count": 5,
   "metadata": {},
   "outputs": [
    {
     "name": "stdout",
     "output_type": "stream",
     "text": [
      "Index(['ID', 'LIMIT_BAL', 'SEX', 'EDUCATION', 'MARRIAGE', 'AGE', 'PAY_0',\n",
      "       'PAY_2', 'PAY_3', 'PAY_4', 'PAY_5', 'PAY_6', 'BILL_AMT1', 'BILL_AMT2',\n",
      "       'BILL_AMT3', 'BILL_AMT4', 'BILL_AMT5', 'BILL_AMT6', 'PAY_AMT1',\n",
      "       'PAY_AMT2', 'PAY_AMT3', 'PAY_AMT4', 'PAY_AMT5', 'PAY_AMT6', 'default'],\n",
      "      dtype='object')\n"
     ]
    }
   ],
   "source": [
    "data.describe()\n",
    "data.shape\n",
    "print(data.columns)"
   ]
  },
  {
   "cell_type": "code",
   "execution_count": 6,
   "metadata": {},
   "outputs": [],
   "source": [
    "data.drop('ID', axis=1, inplace=True) # drop the ID column"
   ]
  },
  {
   "cell_type": "code",
   "execution_count": 7,
   "metadata": {},
   "outputs": [
    {
     "data": {
      "text/plain": [
       "35"
      ]
     },
     "execution_count": 7,
     "metadata": {},
     "output_type": "execute_result"
    }
   ],
   "source": [
    "data.duplicated().sum() # check for duplicates"
   ]
  },
  {
   "cell_type": "code",
   "execution_count": 8,
   "metadata": {},
   "outputs": [
    {
     "data": {
      "text/plain": [
       "default\n",
       "N    23364\n",
       "Y     6636\n",
       "Name: count, dtype: int64"
      ]
     },
     "execution_count": 8,
     "metadata": {},
     "output_type": "execute_result"
    }
   ],
   "source": [
    "data.default.value_counts()"
   ]
  },
  {
   "cell_type": "code",
   "execution_count": 9,
   "metadata": {},
   "outputs": [
    {
     "data": {
      "text/plain": [
       "SEX\n",
       "F    18112\n",
       "M    11888\n",
       "Name: count, dtype: int64"
      ]
     },
     "execution_count": 9,
     "metadata": {},
     "output_type": "execute_result"
    }
   ],
   "source": [
    "data.SEX.value_counts()"
   ]
  },
  {
   "cell_type": "code",
   "execution_count": 10,
   "metadata": {},
   "outputs": [
    {
     "data": {
      "text/plain": [
       "EDUCATION\n",
       "University         14030\n",
       "Graduate school    10585\n",
       "High School         4917\n",
       "Unknown              331\n",
       "Others               123\n",
       "0                     14\n",
       "Name: count, dtype: int64"
      ]
     },
     "execution_count": 10,
     "metadata": {},
     "output_type": "execute_result"
    }
   ],
   "source": [
    "data.EDUCATION.value_counts()"
   ]
  },
  {
   "cell_type": "code",
   "execution_count": 11,
   "metadata": {},
   "outputs": [
    {
     "data": {
      "text/plain": [
       "MARRIAGE\n",
       "Single     15964\n",
       "Married    13659\n",
       "Other        323\n",
       "0             54\n",
       "Name: count, dtype: int64"
      ]
     },
     "execution_count": 11,
     "metadata": {},
     "output_type": "execute_result"
    }
   ],
   "source": [
    "data.MARRIAGE.value_counts()"
   ]
  },
  {
   "cell_type": "code",
   "execution_count": 12,
   "metadata": {},
   "outputs": [],
   "source": [
    "import seaborn as sns"
   ]
  },
  {
   "cell_type": "code",
   "execution_count": 13,
   "metadata": {},
   "outputs": [
    {
     "data": {
      "text/plain": [
       "<seaborn.axisgrid.FacetGrid at 0x7f13249eed60>"
      ]
     },
     "execution_count": 13,
     "metadata": {},
     "output_type": "execute_result"
    },
    {
     "data": {
      "image/png": "[encoded data removed]",
      "text/plain": [
       "<Figure size 560.375x500 with 1 Axes>"
      ]
     },
     "metadata": {},
     "output_type": "display_data"
    }
   ],
   "source": [
    "sns.catplot(x='SEX', y='LIMIT_BAL', hue='default', kind='box', data=data)"
   ]
  },
  {
   "cell_type": "code",
   "execution_count": 14,
   "metadata": {},
   "outputs": [
    {
     "data": {
      "text/plain": [
       "<Axes: >"
      ]
     },
     "execution_count": 14,
     "metadata": {},
     "output_type": "execute_result"
    },
    {
     "data": {
      "image/png": "[encoded data removed]",
      "text/plain": [
       "<Figure size 2000x700 with 1 Axes>"
      ]
     },
     "metadata": {},
     "output_type": "display_data"
    }
   ],
   "source": [
    "plt.figure(figsize=(20, 7))\n",
    "data.boxplot()"
   ]
  },
  {
   "cell_type": "code",
   "execution_count": 15,
   "metadata": {},
   "outputs": [
    {
     "data": {
      "image/png": "[encoded data removed]",
      "text/plain": [
       "<Figure size 640x480 with 1 Axes>"
      ]
     },
     "metadata": {},
     "output_type": "display_data"
    },
    {
     "data": {
      "image/png": "[encoded data removed]",
      "text/plain": [
       "<Figure size 640x480 with 1 Axes>"
      ]
     },
     "metadata": {},
     "output_type": "display_data"
    },
    {
     "data": {
      "image/png": "[encoded data removed]",
      "text/plain": [
       "<Figure size 640x480 with 1 Axes>"
      ]
     },
     "metadata": {},
     "output_type": "display_data"
    },
    {
     "data": {
      "image/png": "[encoded data removed]",
      "text/plain": [
       "<Figure size 640x480 with 1 Axes>"
      ]
     },
     "metadata": {},
     "output_type": "display_data"
    },
    {
     "data": {
      "image/png": "[encoded data removed]",
      "text/plain": [
       "<Figure size 640x480 with 1 Axes>"
      ]
     },
     "metadata": {},
     "output_type": "display_data"
    },
    {
     "data": {
      "image/png": "[encoded data removed]",
      "text/plain": [
       "<Figure size 640x480 with 1 Axes>"
      ]
     },
     "metadata": {},
     "output_type": "display_data"
    },
    {
     "data": {
      "image/png": "[encoded data removed]",
      "text/plain": [
       "<Figure size 640x480 with 1 Axes>"
      ]
     },
     "metadata": {},
     "output_type": "display_data"
    },
    {
     "data": {
      "image/png": "[encoded data removed]",
      "text/plain": [
       "<Figure size 640x480 with 1 Axes>"
      ]
     },
     "metadata": {},
     "output_type": "display_data"
    }
   ],
   "source": [
    "features = ['LIMIT_BAL', 'AGE', 'PAY_0',\n",
    "            'PAY_2', 'PAY_3', 'PAY_4', 'PAY_5', 'PAY_6']\n",
    "for feature in features:\n",
    "    sns.boxplot(x=feature, data=data)\n",
    "    plt.show()"
   ]
  },
  {
   "cell_type": "code",
   "execution_count": 16,
   "metadata": {},
   "outputs": [
    {
     "data": {
      "text/plain": [
       "<Axes: xlabel='PAY_AMT1'>"
      ]
     },
     "execution_count": 16,
     "metadata": {},
     "output_type": "execute_result"
    },
    {
     "data": {
      "image/png": "[encoded data removed]",
      "text/plain": [
       "<Figure size 640x480 with 1 Axes>"
      ]
     },
     "metadata": {},
     "output_type": "display_data"
    }
   ],
   "source": [
    "sns.boxplot(x='PAY_AMT1', data=data)"
   ]
  },
  {
   "cell_type": "code",
   "execution_count": 17,
   "metadata": {},
   "outputs": [
    {
     "data": {
      "text/plain": [
       "<Axes: xlabel='BILL_AMT1'>"
      ]
     },
     "execution_count": 17,
     "metadata": {},
     "output_type": "execute_result"
    },
    {
     "data": {
      "image/png": "[encoded data removed]",
      "text/plain": [
       "<Figure size 640x480 with 1 Axes>"
      ]
     },
     "metadata": {},
     "output_type": "display_data"
    }
   ],
   "source": [
    "sns.boxplot(x='BILL_AMT1', data=data)"
   ]
  },
  {
   "cell_type": "code",
   "execution_count": 18,
   "metadata": {},
   "outputs": [],
   "source": [
    "train = data[(data['AGE'] <= 60) & (data['PAY_0'] <=2) & (data['PAY_2'] <=2) & (data['PAY_3'] <=2) & (data['PAY_4'] <=2) & (data['PAY_5'] <=2) & (data['PAY_6'] <=2) & (data['LIMIT_BAL'] <=600000)]"
   ]
  },
  {
   "cell_type": "code",
   "execution_count": 19,
   "metadata": {},
   "outputs": [
    {
     "name": "stdout",
     "output_type": "stream",
     "text": [
      "<class 'pandas.core.frame.DataFrame'>\n",
      "Index: 28470 entries, 0 to 29999\n",
      "Data columns (total 24 columns):\n",
      " #   Column     Non-Null Count  Dtype \n",
      "---  ------     --------------  ----- \n",
      " 0   LIMIT_BAL  28470 non-null  int64 \n",
      " 1   SEX        28470 non-null  object\n",
      " 2   EDUCATION  28470 non-null  object\n",
      " 3   MARRIAGE   28470 non-null  object\n",
      " 4   AGE        28470 non-null  int64 \n",
      " 5   PAY_0      28470 non-null  int64 \n",
      " 6   PAY_2      28470 non-null  int64 \n",
      " 7   PAY_3      28470 non-null  int64 \n",
      " 8   PAY_4      28470 non-null  int64 \n",
      " 9   PAY_5      28470 non-null  int64 \n",
      " 10  PAY_6      28470 non-null  int64 \n",
      " 11  BILL_AMT1  28470 non-null  int64 \n",
      " 12  BILL_AMT2  28470 non-null  int64 \n",
      " 13  BILL_AMT3  28470 non-null  int64 \n",
      " 14  BILL_AMT4  28470 non-null  int64 \n",
      " 15  BILL_AMT5  28470 non-null  int64 \n",
      " 16  BILL_AMT6  28470 non-null  int64 \n",
      " 17  PAY_AMT1   28470 non-null  int64 \n",
      " 18  PAY_AMT2   28470 non-null  int64 \n",
      " 19  PAY_AMT3   28470 non-null  int64 \n",
      " 20  PAY_AMT4   28470 non-null  int64 \n",
      " 21  PAY_AMT5   28470 non-null  int64 \n",
      " 22  PAY_AMT6   28470 non-null  int64 \n",
      " 23  default    28470 non-null  object\n",
      "dtypes: int64(20), object(4)\n",
      "memory usage: 5.4+ MB\n"
     ]
    }
   ],
   "source": [
    "train.info()"
   ]
  },
  {
   "cell_type": "code",
   "execution_count": 20,
   "metadata": {},
   "outputs": [
    {
     "data": {
      "text/plain": [
       "default\n",
       "N    22658\n",
       "Y     5812\n",
       "Name: count, dtype: int64"
      ]
     },
     "execution_count": 20,
     "metadata": {},
     "output_type": "execute_result"
    }
   ],
   "source": [
    "train.default.value_counts()"
   ]
  },
  {
   "cell_type": "code",
   "execution_count": 21,
   "metadata": {},
   "outputs": [
    {
     "data": {
      "text/html": [
       "<div>\n",
       "<style scoped>\n",
       "    .dataframe tbody tr th:only-of-type {\n",
       "        vertical-align: middle;\n",
       "    }\n",
       "\n",
       "    .dataframe tbody tr th {\n",
       "        vertical-align: top;\n",
       "    }\n",
       "\n",
       "    .dataframe thead th {\n",
       "        text-align: right;\n",
       "    }\n",
       "</style>\n",
       "<table border=\"1\" class=\"dataframe\">\n",
       "  <thead>\n",
       "    <tr style=\"text-align: right;\">\n",
       "      <th></th>\n",
       "      <th>LIMIT_BAL</th>\n",
       "      <th>SEX</th>\n",
       "      <th>EDUCATION</th>\n",
       "      <th>MARRIAGE</th>\n",
       "      <th>AGE</th>\n",
       "      <th>PAY_0</th>\n",
       "      <th>PAY_2</th>\n",
       "      <th>PAY_3</th>\n",
       "      <th>PAY_4</th>\n",
       "      <th>PAY_5</th>\n",
       "      <th>...</th>\n",
       "      <th>BILL_AMT4</th>\n",
       "      <th>BILL_AMT5</th>\n",
       "      <th>BILL_AMT6</th>\n",
       "      <th>PAY_AMT1</th>\n",
       "      <th>PAY_AMT2</th>\n",
       "      <th>PAY_AMT3</th>\n",
       "      <th>PAY_AMT4</th>\n",
       "      <th>PAY_AMT5</th>\n",
       "      <th>PAY_AMT6</th>\n",
       "      <th>default</th>\n",
       "    </tr>\n",
       "  </thead>\n",
       "  <tbody>\n",
       "    <tr>\n",
       "      <th>0</th>\n",
       "      <td>20000</td>\n",
       "      <td>F</td>\n",
       "      <td>University</td>\n",
       "      <td>Married</td>\n",
       "      <td>24</td>\n",
       "      <td>2</td>\n",
       "      <td>2</td>\n",
       "      <td>-1</td>\n",
       "      <td>-1</td>\n",
       "      <td>-2</td>\n",
       "      <td>...</td>\n",
       "      <td>0</td>\n",
       "      <td>0</td>\n",
       "      <td>0</td>\n",
       "      <td>0</td>\n",
       "      <td>689</td>\n",
       "      <td>0</td>\n",
       "      <td>0</td>\n",
       "      <td>0</td>\n",
       "      <td>0</td>\n",
       "      <td>Y</td>\n",
       "    </tr>\n",
       "    <tr>\n",
       "      <th>1</th>\n",
       "      <td>120000</td>\n",
       "      <td>F</td>\n",
       "      <td>University</td>\n",
       "      <td>Single</td>\n",
       "      <td>26</td>\n",
       "      <td>-1</td>\n",
       "      <td>2</td>\n",
       "      <td>0</td>\n",
       "      <td>0</td>\n",
       "      <td>0</td>\n",
       "      <td>...</td>\n",
       "      <td>3272</td>\n",
       "      <td>3455</td>\n",
       "      <td>3261</td>\n",
       "      <td>0</td>\n",
       "      <td>1000</td>\n",
       "      <td>1000</td>\n",
       "      <td>1000</td>\n",
       "      <td>0</td>\n",
       "      <td>2000</td>\n",
       "      <td>Y</td>\n",
       "    </tr>\n",
       "    <tr>\n",
       "      <th>2</th>\n",
       "      <td>90000</td>\n",
       "      <td>F</td>\n",
       "      <td>University</td>\n",
       "      <td>Single</td>\n",
       "      <td>34</td>\n",
       "      <td>0</td>\n",
       "      <td>0</td>\n",
       "      <td>0</td>\n",
       "      <td>0</td>\n",
       "      <td>0</td>\n",
       "      <td>...</td>\n",
       "      <td>14331</td>\n",
       "      <td>14948</td>\n",
       "      <td>15549</td>\n",
       "      <td>1518</td>\n",
       "      <td>1500</td>\n",
       "      <td>1000</td>\n",
       "      <td>1000</td>\n",
       "      <td>1000</td>\n",
       "      <td>5000</td>\n",
       "      <td>N</td>\n",
       "    </tr>\n",
       "    <tr>\n",
       "      <th>3</th>\n",
       "      <td>50000</td>\n",
       "      <td>F</td>\n",
       "      <td>University</td>\n",
       "      <td>Married</td>\n",
       "      <td>37</td>\n",
       "      <td>0</td>\n",
       "      <td>0</td>\n",
       "      <td>0</td>\n",
       "      <td>0</td>\n",
       "      <td>0</td>\n",
       "      <td>...</td>\n",
       "      <td>28314</td>\n",
       "      <td>28959</td>\n",
       "      <td>29547</td>\n",
       "      <td>2000</td>\n",
       "      <td>2019</td>\n",
       "      <td>1200</td>\n",
       "      <td>1100</td>\n",
       "      <td>1069</td>\n",
       "      <td>1000</td>\n",
       "      <td>N</td>\n",
       "    </tr>\n",
       "    <tr>\n",
       "      <th>4</th>\n",
       "      <td>50000</td>\n",
       "      <td>M</td>\n",
       "      <td>University</td>\n",
       "      <td>Married</td>\n",
       "      <td>57</td>\n",
       "      <td>-1</td>\n",
       "      <td>0</td>\n",
       "      <td>-1</td>\n",
       "      <td>0</td>\n",
       "      <td>0</td>\n",
       "      <td>...</td>\n",
       "      <td>20940</td>\n",
       "      <td>19146</td>\n",
       "      <td>19131</td>\n",
       "      <td>2000</td>\n",
       "      <td>36681</td>\n",
       "      <td>10000</td>\n",
       "      <td>9000</td>\n",
       "      <td>689</td>\n",
       "      <td>679</td>\n",
       "      <td>N</td>\n",
       "    </tr>\n",
       "    <tr>\n",
       "      <th>...</th>\n",
       "      <td>...</td>\n",
       "      <td>...</td>\n",
       "      <td>...</td>\n",
       "      <td>...</td>\n",
       "      <td>...</td>\n",
       "      <td>...</td>\n",
       "      <td>...</td>\n",
       "      <td>...</td>\n",
       "      <td>...</td>\n",
       "      <td>...</td>\n",
       "      <td>...</td>\n",
       "      <td>...</td>\n",
       "      <td>...</td>\n",
       "      <td>...</td>\n",
       "      <td>...</td>\n",
       "      <td>...</td>\n",
       "      <td>...</td>\n",
       "      <td>...</td>\n",
       "      <td>...</td>\n",
       "      <td>...</td>\n",
       "      <td>...</td>\n",
       "    </tr>\n",
       "    <tr>\n",
       "      <th>29994</th>\n",
       "      <td>80000</td>\n",
       "      <td>M</td>\n",
       "      <td>University</td>\n",
       "      <td>Single</td>\n",
       "      <td>34</td>\n",
       "      <td>2</td>\n",
       "      <td>2</td>\n",
       "      <td>2</td>\n",
       "      <td>2</td>\n",
       "      <td>2</td>\n",
       "      <td>...</td>\n",
       "      <td>77519</td>\n",
       "      <td>82607</td>\n",
       "      <td>81158</td>\n",
       "      <td>7000</td>\n",
       "      <td>3500</td>\n",
       "      <td>0</td>\n",
       "      <td>7000</td>\n",
       "      <td>0</td>\n",
       "      <td>4000</td>\n",
       "      <td>Y</td>\n",
       "    </tr>\n",
       "    <tr>\n",
       "      <th>29995</th>\n",
       "      <td>220000</td>\n",
       "      <td>M</td>\n",
       "      <td>High School</td>\n",
       "      <td>Married</td>\n",
       "      <td>39</td>\n",
       "      <td>0</td>\n",
       "      <td>0</td>\n",
       "      <td>0</td>\n",
       "      <td>0</td>\n",
       "      <td>0</td>\n",
       "      <td>...</td>\n",
       "      <td>88004</td>\n",
       "      <td>31237</td>\n",
       "      <td>15980</td>\n",
       "      <td>8500</td>\n",
       "      <td>20000</td>\n",
       "      <td>5003</td>\n",
       "      <td>3047</td>\n",
       "      <td>5000</td>\n",
       "      <td>1000</td>\n",
       "      <td>N</td>\n",
       "    </tr>\n",
       "    <tr>\n",
       "      <th>29996</th>\n",
       "      <td>150000</td>\n",
       "      <td>M</td>\n",
       "      <td>High School</td>\n",
       "      <td>Single</td>\n",
       "      <td>43</td>\n",
       "      <td>-1</td>\n",
       "      <td>-1</td>\n",
       "      <td>-1</td>\n",
       "      <td>-1</td>\n",
       "      <td>0</td>\n",
       "      <td>...</td>\n",
       "      <td>8979</td>\n",
       "      <td>5190</td>\n",
       "      <td>0</td>\n",
       "      <td>1837</td>\n",
       "      <td>3526</td>\n",
       "      <td>8998</td>\n",
       "      <td>129</td>\n",
       "      <td>0</td>\n",
       "      <td>0</td>\n",
       "      <td>N</td>\n",
       "    </tr>\n",
       "    <tr>\n",
       "      <th>29998</th>\n",
       "      <td>80000</td>\n",
       "      <td>M</td>\n",
       "      <td>High School</td>\n",
       "      <td>Married</td>\n",
       "      <td>41</td>\n",
       "      <td>1</td>\n",
       "      <td>-1</td>\n",
       "      <td>0</td>\n",
       "      <td>0</td>\n",
       "      <td>0</td>\n",
       "      <td>...</td>\n",
       "      <td>52774</td>\n",
       "      <td>11855</td>\n",
       "      <td>48944</td>\n",
       "      <td>85900</td>\n",
       "      <td>3409</td>\n",
       "      <td>1178</td>\n",
       "      <td>1926</td>\n",
       "      <td>52964</td>\n",
       "      <td>1804</td>\n",
       "      <td>Y</td>\n",
       "    </tr>\n",
       "    <tr>\n",
       "      <th>29999</th>\n",
       "      <td>50000</td>\n",
       "      <td>M</td>\n",
       "      <td>University</td>\n",
       "      <td>Married</td>\n",
       "      <td>46</td>\n",
       "      <td>0</td>\n",
       "      <td>0</td>\n",
       "      <td>0</td>\n",
       "      <td>0</td>\n",
       "      <td>0</td>\n",
       "      <td>...</td>\n",
       "      <td>36535</td>\n",
       "      <td>32428</td>\n",
       "      <td>15313</td>\n",
       "      <td>2078</td>\n",
       "      <td>1800</td>\n",
       "      <td>1430</td>\n",
       "      <td>1000</td>\n",
       "      <td>1000</td>\n",
       "      <td>1000</td>\n",
       "      <td>Y</td>\n",
       "    </tr>\n",
       "  </tbody>\n",
       "</table>\n",
       "<p>28470 rows × 24 columns</p>\n",
       "</div>"
      ],
      "text/plain": [
       "       LIMIT_BAL SEX    EDUCATION MARRIAGE  AGE  PAY_0  PAY_2  PAY_3  PAY_4  \\\n",
       "0          20000   F   University  Married   24      2      2     -1     -1   \n",
       "1         120000   F   University   Single   26     -1      2      0      0   \n",
       "2          90000   F   University   Single   34      0      0      0      0   \n",
       "3          50000   F   University  Married   37      0      0      0      0   \n",
       "4          50000   M   University  Married   57     -1      0     -1      0   \n",
       "...          ...  ..          ...      ...  ...    ...    ...    ...    ...   \n",
       "29994      80000   M   University   Single   34      2      2      2      2   \n",
       "29995     220000   M  High School  Married   39      0      0      0      0   \n",
       "29996     150000   M  High School   Single   43     -1     -1     -1     -1   \n",
       "29998      80000   M  High School  Married   41      1     -1      0      0   \n",
       "29999      50000   M   University  Married   46      0      0      0      0   \n",
       "\n",
       "       PAY_5  ...  BILL_AMT4  BILL_AMT5  BILL_AMT6  PAY_AMT1  PAY_AMT2  \\\n",
       "0         -2  ...          0          0          0         0       689   \n",
       "1          0  ...       3272       3455       3261         0      1000   \n",
       "2          0  ...      14331      14948      15549      1518      1500   \n",
       "3          0  ...      28314      28959      29547      2000      2019   \n",
       "4          0  ...      20940      19146      19131      2000     36681   \n",
       "...      ...  ...        ...        ...        ...       ...       ...   \n",
       "29994      2  ...      77519      82607      81158      7000      3500   \n",
       "29995      0  ...      88004      31237      15980      8500     20000   \n",
       "29996      0  ...       8979       5190          0      1837      3526   \n",
       "29998      0  ...      52774      11855      48944     85900      3409   \n",
       "29999      0  ...      36535      32428      15313      2078      1800   \n",
       "\n",
       "       PAY_AMT3  PAY_AMT4  PAY_AMT5  PAY_AMT6  default  \n",
       "0             0         0         0         0        Y  \n",
       "1          1000      1000         0      2000        Y  \n",
       "2          1000      1000      1000      5000        N  \n",
       "3          1200      1100      1069      1000        N  \n",
       "4         10000      9000       689       679        N  \n",
       "...         ...       ...       ...       ...      ...  \n",
       "29994         0      7000         0      4000        Y  \n",
       "29995      5003      3047      5000      1000        N  \n",
       "29996      8998       129         0         0        N  \n",
       "29998      1178      1926     52964      1804        Y  \n",
       "29999      1430      1000      1000      1000        Y  \n",
       "\n",
       "[28470 rows x 24 columns]"
      ]
     },
     "execution_count": 21,
     "metadata": {},
     "output_type": "execute_result"
    }
   ],
   "source": [
    "train"
   ]
  },
  {
   "cell_type": "code",
   "execution_count": 22,
   "metadata": {},
   "outputs": [],
   "source": [
    "train = pd.get_dummies(train, columns=['EDUCATION','MARRIAGE'], dtype=int, drop_first=True) # change education and marriage to categorical variables"
   ]
  },
  {
   "cell_type": "code",
   "execution_count": 23,
   "metadata": {},
   "outputs": [],
   "source": [
    "encoders_nums = {\n",
    "    \"SEX\": {\"F\": 0, \"M\": 1},\n",
    "    \"default\": {\"N\": 0, \"Y\": 1},\n",
    "}\n",
    "train = train.replace(encoders_nums)"
   ]
  },
  {
   "cell_type": "code",
   "execution_count": 24,
   "metadata": {},
   "outputs": [
    {
     "data": {
      "text/html": [
       "<div>\n",
       "<style scoped>\n",
       "    .dataframe tbody tr th:only-of-type {\n",
       "        vertical-align: middle;\n",
       "    }\n",
       "\n",
       "    .dataframe tbody tr th {\n",
       "        vertical-align: top;\n",
       "    }\n",
       "\n",
       "    .dataframe thead th {\n",
       "        text-align: right;\n",
       "    }\n",
       "</style>\n",
       "<table border=\"1\" class=\"dataframe\">\n",
       "  <thead>\n",
       "    <tr style=\"text-align: right;\">\n",
       "      <th></th>\n",
       "      <th>LIMIT_BAL</th>\n",
       "      <th>SEX</th>\n",
       "      <th>AGE</th>\n",
       "      <th>PAY_0</th>\n",
       "      <th>PAY_2</th>\n",
       "      <th>PAY_3</th>\n",
       "      <th>PAY_4</th>\n",
       "      <th>PAY_5</th>\n",
       "      <th>PAY_6</th>\n",
       "      <th>BILL_AMT1</th>\n",
       "      <th>...</th>\n",
       "      <th>PAY_AMT6</th>\n",
       "      <th>default</th>\n",
       "      <th>EDUCATION_Graduate school</th>\n",
       "      <th>EDUCATION_High School</th>\n",
       "      <th>EDUCATION_Others</th>\n",
       "      <th>EDUCATION_University</th>\n",
       "      <th>EDUCATION_Unknown</th>\n",
       "      <th>MARRIAGE_Married</th>\n",
       "      <th>MARRIAGE_Other</th>\n",
       "      <th>MARRIAGE_Single</th>\n",
       "    </tr>\n",
       "  </thead>\n",
       "  <tbody>\n",
       "    <tr>\n",
       "      <th>0</th>\n",
       "      <td>20000</td>\n",
       "      <td>0</td>\n",
       "      <td>24</td>\n",
       "      <td>2</td>\n",
       "      <td>2</td>\n",
       "      <td>-1</td>\n",
       "      <td>-1</td>\n",
       "      <td>-2</td>\n",
       "      <td>-2</td>\n",
       "      <td>3913</td>\n",
       "      <td>...</td>\n",
       "      <td>0</td>\n",
       "      <td>1</td>\n",
       "      <td>0</td>\n",
       "      <td>0</td>\n",
       "      <td>0</td>\n",
       "      <td>1</td>\n",
       "      <td>0</td>\n",
       "      <td>1</td>\n",
       "      <td>0</td>\n",
       "      <td>0</td>\n",
       "    </tr>\n",
       "    <tr>\n",
       "      <th>1</th>\n",
       "      <td>120000</td>\n",
       "      <td>0</td>\n",
       "      <td>26</td>\n",
       "      <td>-1</td>\n",
       "      <td>2</td>\n",
       "      <td>0</td>\n",
       "      <td>0</td>\n",
       "      <td>0</td>\n",
       "      <td>2</td>\n",
       "      <td>2682</td>\n",
       "      <td>...</td>\n",
       "      <td>2000</td>\n",
       "      <td>1</td>\n",
       "      <td>0</td>\n",
       "      <td>0</td>\n",
       "      <td>0</td>\n",
       "      <td>1</td>\n",
       "      <td>0</td>\n",
       "      <td>0</td>\n",
       "      <td>0</td>\n",
       "      <td>1</td>\n",
       "    </tr>\n",
       "    <tr>\n",
       "      <th>2</th>\n",
       "      <td>90000</td>\n",
       "      <td>0</td>\n",
       "      <td>34</td>\n",
       "      <td>0</td>\n",
       "      <td>0</td>\n",
       "      <td>0</td>\n",
       "      <td>0</td>\n",
       "      <td>0</td>\n",
       "      <td>0</td>\n",
       "      <td>29239</td>\n",
       "      <td>...</td>\n",
       "      <td>5000</td>\n",
       "      <td>0</td>\n",
       "      <td>0</td>\n",
       "      <td>0</td>\n",
       "      <td>0</td>\n",
       "      <td>1</td>\n",
       "      <td>0</td>\n",
       "      <td>0</td>\n",
       "      <td>0</td>\n",
       "      <td>1</td>\n",
       "    </tr>\n",
       "    <tr>\n",
       "      <th>3</th>\n",
       "      <td>50000</td>\n",
       "      <td>0</td>\n",
       "      <td>37</td>\n",
       "      <td>0</td>\n",
       "      <td>0</td>\n",
       "      <td>0</td>\n",
       "      <td>0</td>\n",
       "      <td>0</td>\n",
       "      <td>0</td>\n",
       "      <td>46990</td>\n",
       "      <td>...</td>\n",
       "      <td>1000</td>\n",
       "      <td>0</td>\n",
       "      <td>0</td>\n",
       "      <td>0</td>\n",
       "      <td>0</td>\n",
       "      <td>1</td>\n",
       "      <td>0</td>\n",
       "      <td>1</td>\n",
       "      <td>0</td>\n",
       "      <td>0</td>\n",
       "    </tr>\n",
       "    <tr>\n",
       "      <th>4</th>\n",
       "      <td>50000</td>\n",
       "      <td>1</td>\n",
       "      <td>57</td>\n",
       "      <td>-1</td>\n",
       "      <td>0</td>\n",
       "      <td>-1</td>\n",
       "      <td>0</td>\n",
       "      <td>0</td>\n",
       "      <td>0</td>\n",
       "      <td>8617</td>\n",
       "      <td>...</td>\n",
       "      <td>679</td>\n",
       "      <td>0</td>\n",
       "      <td>0</td>\n",
       "      <td>0</td>\n",
       "      <td>0</td>\n",
       "      <td>1</td>\n",
       "      <td>0</td>\n",
       "      <td>1</td>\n",
       "      <td>0</td>\n",
       "      <td>0</td>\n",
       "    </tr>\n",
       "    <tr>\n",
       "      <th>...</th>\n",
       "      <td>...</td>\n",
       "      <td>...</td>\n",
       "      <td>...</td>\n",
       "      <td>...</td>\n",
       "      <td>...</td>\n",
       "      <td>...</td>\n",
       "      <td>...</td>\n",
       "      <td>...</td>\n",
       "      <td>...</td>\n",
       "      <td>...</td>\n",
       "      <td>...</td>\n",
       "      <td>...</td>\n",
       "      <td>...</td>\n",
       "      <td>...</td>\n",
       "      <td>...</td>\n",
       "      <td>...</td>\n",
       "      <td>...</td>\n",
       "      <td>...</td>\n",
       "      <td>...</td>\n",
       "      <td>...</td>\n",
       "      <td>...</td>\n",
       "    </tr>\n",
       "    <tr>\n",
       "      <th>29994</th>\n",
       "      <td>80000</td>\n",
       "      <td>1</td>\n",
       "      <td>34</td>\n",
       "      <td>2</td>\n",
       "      <td>2</td>\n",
       "      <td>2</td>\n",
       "      <td>2</td>\n",
       "      <td>2</td>\n",
       "      <td>2</td>\n",
       "      <td>72557</td>\n",
       "      <td>...</td>\n",
       "      <td>4000</td>\n",
       "      <td>1</td>\n",
       "      <td>0</td>\n",
       "      <td>0</td>\n",
       "      <td>0</td>\n",
       "      <td>1</td>\n",
       "      <td>0</td>\n",
       "      <td>0</td>\n",
       "      <td>0</td>\n",
       "      <td>1</td>\n",
       "    </tr>\n",
       "    <tr>\n",
       "      <th>29995</th>\n",
       "      <td>220000</td>\n",
       "      <td>1</td>\n",
       "      <td>39</td>\n",
       "      <td>0</td>\n",
       "      <td>0</td>\n",
       "      <td>0</td>\n",
       "      <td>0</td>\n",
       "      <td>0</td>\n",
       "      <td>0</td>\n",
       "      <td>188948</td>\n",
       "      <td>...</td>\n",
       "      <td>1000</td>\n",
       "      <td>0</td>\n",
       "      <td>0</td>\n",
       "      <td>1</td>\n",
       "      <td>0</td>\n",
       "      <td>0</td>\n",
       "      <td>0</td>\n",
       "      <td>1</td>\n",
       "      <td>0</td>\n",
       "      <td>0</td>\n",
       "    </tr>\n",
       "    <tr>\n",
       "      <th>29996</th>\n",
       "      <td>150000</td>\n",
       "      <td>1</td>\n",
       "      <td>43</td>\n",
       "      <td>-1</td>\n",
       "      <td>-1</td>\n",
       "      <td>-1</td>\n",
       "      <td>-1</td>\n",
       "      <td>0</td>\n",
       "      <td>0</td>\n",
       "      <td>1683</td>\n",
       "      <td>...</td>\n",
       "      <td>0</td>\n",
       "      <td>0</td>\n",
       "      <td>0</td>\n",
       "      <td>1</td>\n",
       "      <td>0</td>\n",
       "      <td>0</td>\n",
       "      <td>0</td>\n",
       "      <td>0</td>\n",
       "      <td>0</td>\n",
       "      <td>1</td>\n",
       "    </tr>\n",
       "    <tr>\n",
       "      <th>29998</th>\n",
       "      <td>80000</td>\n",
       "      <td>1</td>\n",
       "      <td>41</td>\n",
       "      <td>1</td>\n",
       "      <td>-1</td>\n",
       "      <td>0</td>\n",
       "      <td>0</td>\n",
       "      <td>0</td>\n",
       "      <td>-1</td>\n",
       "      <td>-1645</td>\n",
       "      <td>...</td>\n",
       "      <td>1804</td>\n",
       "      <td>1</td>\n",
       "      <td>0</td>\n",
       "      <td>1</td>\n",
       "      <td>0</td>\n",
       "      <td>0</td>\n",
       "      <td>0</td>\n",
       "      <td>1</td>\n",
       "      <td>0</td>\n",
       "      <td>0</td>\n",
       "    </tr>\n",
       "    <tr>\n",
       "      <th>29999</th>\n",
       "      <td>50000</td>\n",
       "      <td>1</td>\n",
       "      <td>46</td>\n",
       "      <td>0</td>\n",
       "      <td>0</td>\n",
       "      <td>0</td>\n",
       "      <td>0</td>\n",
       "      <td>0</td>\n",
       "      <td>0</td>\n",
       "      <td>47929</td>\n",
       "      <td>...</td>\n",
       "      <td>1000</td>\n",
       "      <td>1</td>\n",
       "      <td>0</td>\n",
       "      <td>0</td>\n",
       "      <td>0</td>\n",
       "      <td>1</td>\n",
       "      <td>0</td>\n",
       "      <td>1</td>\n",
       "      <td>0</td>\n",
       "      <td>0</td>\n",
       "    </tr>\n",
       "  </tbody>\n",
       "</table>\n",
       "<p>28470 rows × 30 columns</p>\n",
       "</div>"
      ],
      "text/plain": [
       "       LIMIT_BAL  SEX  AGE  PAY_0  PAY_2  PAY_3  PAY_4  PAY_5  PAY_6  \\\n",
       "0          20000    0   24      2      2     -1     -1     -2     -2   \n",
       "1         120000    0   26     -1      2      0      0      0      2   \n",
       "2          90000    0   34      0      0      0      0      0      0   \n",
       "3          50000    0   37      0      0      0      0      0      0   \n",
       "4          50000    1   57     -1      0     -1      0      0      0   \n",
       "...          ...  ...  ...    ...    ...    ...    ...    ...    ...   \n",
       "29994      80000    1   34      2      2      2      2      2      2   \n",
       "29995     220000    1   39      0      0      0      0      0      0   \n",
       "29996     150000    1   43     -1     -1     -1     -1      0      0   \n",
       "29998      80000    1   41      1     -1      0      0      0     -1   \n",
       "29999      50000    1   46      0      0      0      0      0      0   \n",
       "\n",
       "       BILL_AMT1  ...  PAY_AMT6  default  EDUCATION_Graduate school  \\\n",
       "0           3913  ...         0        1                          0   \n",
       "1           2682  ...      2000        1                          0   \n",
       "2          29239  ...      5000        0                          0   \n",
       "3          46990  ...      1000        0                          0   \n",
       "4           8617  ...       679        0                          0   \n",
       "...          ...  ...       ...      ...                        ...   \n",
       "29994      72557  ...      4000        1                          0   \n",
       "29995     188948  ...      1000        0                          0   \n",
       "29996       1683  ...         0        0                          0   \n",
       "29998      -1645  ...      1804        1                          0   \n",
       "29999      47929  ...      1000        1                          0   \n",
       "\n",
       "       EDUCATION_High School  EDUCATION_Others  EDUCATION_University  \\\n",
       "0                          0                 0                     1   \n",
       "1                          0                 0                     1   \n",
       "2                          0                 0                     1   \n",
       "3                          0                 0                     1   \n",
       "4                          0                 0                     1   \n",
       "...                      ...               ...                   ...   \n",
       "29994                      0                 0                     1   \n",
       "29995                      1                 0                     0   \n",
       "29996                      1                 0                     0   \n",
       "29998                      1                 0                     0   \n",
       "29999                      0                 0                     1   \n",
       "\n",
       "       EDUCATION_Unknown  MARRIAGE_Married  MARRIAGE_Other  MARRIAGE_Single  \n",
       "0                      0                 1               0                0  \n",
       "1                      0                 0               0                1  \n",
       "2                      0                 0               0                1  \n",
       "3                      0                 1               0                0  \n",
       "4                      0                 1               0                0  \n",
       "...                  ...               ...             ...              ...  \n",
       "29994                  0                 0               0                1  \n",
       "29995                  0                 1               0                0  \n",
       "29996                  0                 0               0                1  \n",
       "29998                  0                 1               0                0  \n",
       "29999                  0                 1               0                0  \n",
       "\n",
       "[28470 rows x 30 columns]"
      ]
     },
     "execution_count": 24,
     "metadata": {},
     "output_type": "execute_result"
    }
   ],
   "source": [
    "train"
   ]
  },
  {
   "cell_type": "code",
   "execution_count": 25,
   "metadata": {},
   "outputs": [],
   "source": [
    "X = train.drop('default', axis=1)\n",
    "y = train.default"
   ]
  },
  {
   "cell_type": "code",
   "execution_count": 26,
   "metadata": {},
   "outputs": [
    {
     "data": {
      "text/plain": [
       "default\n",
       "0    22658\n",
       "1     5812\n",
       "Name: count, dtype: int64"
      ]
     },
     "execution_count": 26,
     "metadata": {},
     "output_type": "execute_result"
    }
   ],
   "source": [
    "y.value_counts()"
   ]
  },
  {
   "cell_type": "code",
   "execution_count": 27,
   "metadata": {},
   "outputs": [],
   "source": [
    "columns = train.drop('default', axis=1).columns"
   ]
  },
  {
   "cell_type": "code",
   "execution_count": 28,
   "metadata": {},
   "outputs": [
    {
     "data": {
      "text/plain": [
       "Index(['LIMIT_BAL', 'SEX', 'AGE', 'PAY_0', 'PAY_2', 'PAY_3', 'PAY_4', 'PAY_5',\n",
       "       'PAY_6', 'BILL_AMT1', 'BILL_AMT2', 'BILL_AMT3', 'BILL_AMT4',\n",
       "       'BILL_AMT5', 'BILL_AMT6', 'PAY_AMT1', 'PAY_AMT2', 'PAY_AMT3',\n",
       "       'PAY_AMT4', 'PAY_AMT5', 'PAY_AMT6', 'EDUCATION_Graduate school',\n",
       "       'EDUCATION_High School', 'EDUCATION_Others', 'EDUCATION_University',\n",
       "       'EDUCATION_Unknown', 'MARRIAGE_Married', 'MARRIAGE_Other',\n",
       "       'MARRIAGE_Single'],\n",
       "      dtype='object')"
      ]
     },
     "execution_count": 28,
     "metadata": {},
     "output_type": "execute_result"
    }
   ],
   "source": [
    "columns"
   ]
  },
  {
   "cell_type": "code",
   "execution_count": 29,
   "metadata": {},
   "outputs": [],
   "source": [
    "from imblearn.over_sampling import SMOTE\n",
    "\n",
    "sm = SMOTE(random_state=42)\n",
    "\n",
    "X, y = sm.fit_resample(X, y) # make the x y balanced"
   ]
  },
  {
   "cell_type": "code",
   "execution_count": 30,
   "metadata": {},
   "outputs": [
    {
     "data": {
      "text/plain": [
       "default\n",
       "1    22658\n",
       "0    22658\n",
       "Name: count, dtype: int64"
      ]
     },
     "execution_count": 30,
     "metadata": {},
     "output_type": "execute_result"
    }
   ],
   "source": [
    "y.value_counts()"
   ]
  },
  {
   "cell_type": "code",
   "execution_count": 31,
   "metadata": {},
   "outputs": [
    {
     "data": {
      "text/plain": [
       "LIMIT_BAL  SEX  AGE  PAY_0  PAY_2  PAY_3  PAY_4  PAY_5  PAY_6  BILL_AMT1  BILL_AMT2  BILL_AMT3  BILL_AMT4  BILL_AMT5  BILL_AMT6  PAY_AMT1  PAY_AMT2  PAY_AMT3  PAY_AMT4  PAY_AMT5  PAY_AMT6  EDUCATION_Graduate school  EDUCATION_High School  EDUCATION_Others  EDUCATION_University  EDUCATION_Unknown  MARRIAGE_Married  MARRIAGE_Other  MARRIAGE_Single\n",
       "360000     0    36   -2     -2     -2     -2     -2     -2     0          0          0          0          0          0          0         0         0         0         0         0         1                          0                      0                 0                     0                  1                 0               0                  7\n",
       "           1    41    1     -2     -2     -2     -2     -2     0          0          0          0          0          0          0         0         0         0         0         0         0                          0                      0                 1                     0                  1                 0               0                  7\n",
       "300000     0    29   -2     -2     -2     -2     -2     -2     0          0          0          0          0          0          0         0         0         0         0         0         0                          0                      0                 0                     0                  0                 0               1                  7\n",
       "220000     1    42    1     -2     -2     -2     -2     -2     0          0          0          0          0          0          0         0         0         0         0         0         1                          0                      0                 0                     0                  1                 0               0                  7\n",
       "360000     1    42    1     -2     -2     -2     -2     -2     0          0          0          0          0          0          0         0         0         0         0         0         0                          0                      0                 1                     0                  1                 0               0                  6\n",
       "                                                                                                                                                                                                                                                                                                                                                              ..\n",
       "70000      1    33    0      0      0      0      0      0     62615      63845      65443      65169      64370      15082      2870      3224      1680      3000      142       142       1                          0                      0                 0                     0                  0                 0               1                  1\n",
       "                                                               63845      65443      65169      64370      15082      0          3224      1680      3000      142       142       0         1                          0                      0                 0                     0                  0                 0               1                  1\n",
       "                                                               66874      132127     52335      27374      27133      10721      2423      4136      1024      1215      435       186       1                          0                      0                 0                     0                  0                 0               1                  1\n",
       "                                                               70011      67411      65867      55969      41298      0          15000     3068      2410      0         0         0         0                          1                      0                 0                     0                  1                 0               0                  1\n",
       "600000     1    53    2      2      2      0      0      0     458652     467150     458862     469703     447130     440982     17000     0         18000     16000     16000     21000     1                          0                      0                 0                     0                  1                 0               0                  1\n",
       "Name: count, Length: 45024, dtype: int64"
      ]
     },
     "execution_count": 31,
     "metadata": {},
     "output_type": "execute_result"
    }
   ],
   "source": [
    "X.value_counts()"
   ]
  },
  {
   "cell_type": "code",
   "execution_count": 32,
   "metadata": {},
   "outputs": [],
   "source": [
    "from sklearn.preprocessing import StandardScaler\n",
    "scaler = StandardScaler()\n",
    "X = scaler.fit_transform(X) # scale the data to make it easier for the model to learn"
   ]
  },
  {
   "cell_type": "code",
   "execution_count": 33,
   "metadata": {},
   "outputs": [
    {
     "data": {
      "text/plain": [
       "array([[-1.10494165, -0.67807197, -1.33032759, ...,  1.29681822,\n",
       "        -0.08204504, -0.87353459],\n",
       "       [-0.29491679, -0.67807197, -1.09087713, ..., -0.7711181 ,\n",
       "        -0.08204504,  1.14477436],\n",
       "       [-0.53792425, -0.67807197, -0.1330753 , ..., -0.7711181 ,\n",
       "        -0.08204504,  1.14477436],\n",
       "       ...,\n",
       "       [-1.18594414,  1.47476971, -0.49225098, ..., -0.7711181 ,\n",
       "        -0.08204504,  1.14477436],\n",
       "       [-1.10494165,  1.47476971, -0.37252575, ..., -0.7711181 ,\n",
       "        -0.08204504, -0.87353459],\n",
       "       [-1.02393917,  1.47476971,  0.34582562, ..., -0.7711181 ,\n",
       "        -0.08204504, -0.87353459]])"
      ]
     },
     "execution_count": 33,
     "metadata": {},
     "output_type": "execute_result"
    }
   ],
   "source": [
    "X"
   ]
  },
  {
   "cell_type": "code",
   "execution_count": 34,
   "metadata": {},
   "outputs": [],
   "source": [
    "from sklearn.model_selection import train_test_split\n",
    "X_train, X_test, y_train, y_test = train_test_split(\n",
    "    X, y, test_size=0.3, random_state=42)"
   ]
  },
  {
   "cell_type": "markdown",
   "metadata": {},
   "source": [
    "# logistic regression"
   ]
  },
  {
   "cell_type": "code",
   "execution_count": 35,
   "metadata": {},
   "outputs": [],
   "source": [
    "from sklearn.svm import SVC\n",
    "from sklearn.neighbors import KNeighborsClassifier\n",
    "from sklearn import tree\n",
    "from sklearn.tree import DecisionTreeClassifier\n",
    "from xgboost import XGBClassifier\n",
    "from sklearn.ensemble import RandomForestClassifier\n",
    "from sklearn.naive_bayes import GaussianNB\n",
    "from sklearn.metrics import confusion_matrix, classification_report, roc_curve, roc_auc_score, auc\n",
    "from mlxtend.plotting import plot_confusion_matrix\n",
    "from sklearn.linear_model import LogisticRegression\n",
    "from sklearn.model_selection import GridSearchCV"
   ]
  },
  {
   "cell_type": "code",
   "execution_count": 36,
   "metadata": {},
   "outputs": [
    {
     "name": "stdout",
     "output_type": "stream",
     "text": [
      "0.5510849577050386\n"
     ]
    }
   ],
   "source": [
    "gnb = GaussianNB()\n",
    "gnb.fit(X_train, y_train)\n",
    "print(gnb.score(X_test, y_test))"
   ]
  },
  {
   "cell_type": "markdown",
   "metadata": {},
   "source": [
    "正則化是機器學習和統計模型中用於防止過擬合（overfitting）的一種技術。過擬合發生在模型過於複雜，以至於它開始捕捉訓練數據中的隨機噪聲而不是底層的數據分佈。正則化通過對模型增加一個懲罰項（penalty term）來解決這個問題，這有助於降低模型的複雜性，從而提高其泛化能力。\n",
    "\n",
    "### **正則化的主要類型**\n",
    "\n",
    "1. **L1 正則化（Lasso）**:\n",
    "    - 在L1正則化中，懲罰項是模型權重的絕對值之和。\n",
    "    - 公式表示為：損失函數 + λ * (Σ |w|)，其中 w 是模型權重，λ 是正則化強度。\n",
    "    - L1 正則化有助於生成一個稀疏模型，其中一些權重變為零。這意味著它可以用於特徵選擇。\n",
    "2. **L2 正則化（Ridge）**:\n",
    "    - 在L2正則化中，懲罰項是模型權重的平方和。\n",
    "    - 公式表示為：損失函數 + λ * (Σ w²)。\n",
    "    - L2 正則化會使權重更平均分布，並傾向於避免讓任何一個權重變得過大。這有助於處理特徵之間的多重共線性問題。\n",
    "3. **彈性網（Elastic Net）**:\n",
    "    - 彈性網結合了L1和L2正則化。\n",
    "    - 它在懲罰項中同時包含權重的絕對值和平方和。\n",
    "    - 彈性網通常在特徵之間有關聯時使用，當需要進行特徵選擇同時控制模型參數的時候特別有用。\n",
    "\n",
    "### **正則化的作用**\n",
    "\n",
    "- **防止過擬合**:\n",
    "    - 正則化通過懲罰過於複雜的模型來減少過擬合。\n",
    "    - 它限制了模型的自由度，使模型不能完美擬合訓練數據中的每一個細節。\n",
    "- **提高模型泛化能力**:\n",
    "    - 通過減少模型的複雜性，正則化有助於提高模型在未見數據上的性能。\n",
    "- **處理共線性問題**:\n",
    "    - 特別是L2正則化，它能夠減少特徵間的相互依賴，這在處理共線性高的數據時非常有幫助。\n",
    "\n",
    "### **調整正則化強度**\n",
    "\n",
    "- 正則化的強度通常由一個參數（比如 λ）控制。\n",
    "- 選擇一個適當的 λ 值非常關鍵。太小的 λ 值會導致過擬合，而太大的 λ 值則可能導致模型過於簡單（underfitting）。\n",
    "- 在實踐中，通常通過交叉驗證來找到最佳的 λ 值。"
   ]
  },
  {
   "cell_type": "code",
   "execution_count": 37,
   "metadata": {},
   "outputs": [],
   "source": [
    "param_lr = {'penalty': ['none','l2'], 'C' : [0.001, 0.01, 0.1, 1, 10, 100, 1000] }"
   ]
  },
  {
   "cell_type": "markdown",
   "metadata": {},
   "source": [
    "這段代碼使用了 Scikit-learn 的 **`GridSearchCV`** 函數，用於尋找邏輯回歸（**`LogisticRegression`**）模型的最佳參數。我將詳細解釋每個部分及其參數：\n",
    "\n",
    "### **`GridSearchCV` 功能**\n",
    "\n",
    "**`GridSearchCV`** 是一種廣泛使用的方法，用於自動化地尋找最佳參數組合，從而優化模型的性能。它通過在指定的參數範圍內進行積極的搜索和交叉驗證來實現這一點。\n",
    "\n",
    "### **參數解釋**\n",
    "\n",
    "1. **第一個參數 `LogisticRegression()`**:\n",
    "    - 這是要進行調優的模型。在這個例子中，使用的是邏輯回歸模型。\n",
    "    - **`LogisticRegression`** 是一種常用於二元分類問題的模型。\n",
    "2. **第二個參數 `param_lr`**:\n",
    "    - 這是一個字典，包含了要嘗試的參數範圍。\n",
    "    - 在您的代碼中，**`param_lr = {'penalty': ['none','l2'], 'C': [0.001, 0.01, 0.1, 1, 10, 100, 1000]}`**。\n",
    "    - **`penalty`** 參數用於指定正則化類型，而 **`C`** 是正則化強度的倒數。\n",
    "3. **`scoring='accuracy'`**:\n",
    "    - 這個參數指定了評估模型性能的指標。在這裡使用的是「準確度」（accuracy）。\n",
    "    - 準確度是模型正確預測的樣本數佔總樣本數的比例。\n",
    "4. **`n_jobs=-1`**:\n",
    "    - 這個參數決定了用於計算的CPU核心數量。\n",
    "    - **`n_jobs=-1`** 表示使用所有可用的核心。\n",
    "5. **`verbose=3`**:\n",
    "    - 這個參數控制輸出的詳細程度。數字越大，輸出的信息越詳細。\n",
    "    - 在這個例子中，**`verbose=3`** 提供了較詳細的輸出，這有助於跟蹤Grid Search的進度和性能。\n",
    "6. **`cv=5`**:\n",
    "    - 這個參數指定了交叉驗證的折數。\n",
    "    - **`cv=5`** 表示使用5折交叉驗證。在5折交叉驗證中，數據集被分成五個部分，每個部分依次作為驗證集，其餘部分作為訓練集。\n",
    "\n",
    "### **`grid_lr.fit(X_train, y_train)`**\n",
    "\n",
    "- 這行代碼執行實際的網格搜索。\n",
    "- **`X_train`** 和 **`y_train`** 分別是訓練數據集的特徵和標籤。\n",
    "- **`fit`** 方法將對每一種參數組合進行訓練和評估，並使用交叉驗證來確保結果的穩健性。\n",
    "- 最終，**`grid_lr`** 將包含表現最佳的參數組合和相關信息。"
   ]
  },
  {
   "cell_type": "code",
   "execution_count": 38,
   "metadata": {},
   "outputs": [
    {
     "name": "stdout",
     "output_type": "stream",
     "text": [
      "Fitting 5 folds for each of 14 candidates, totalling 70 fits\n"
     ]
    },
    {
     "name": "stderr",
     "output_type": "stream",
     "text": [
      "/home/louis/anaconda3/envs/big_data/lib/python3.8/site-packages/sklearn/linear_model/_logistic.py:1183: FutureWarning: `penalty='none'`has been deprecated in 1.2 and will be removed in 1.4. To keep the past behaviour, set `penalty=None`.\n",
      "  warnings.warn(\n",
      "/home/louis/anaconda3/envs/big_data/lib/python3.8/site-packages/sklearn/linear_model/_logistic.py:1193: UserWarning: Setting penalty=None will ignore the C and l1_ratio parameters\n",
      "  warnings.warn(\n",
      "/home/louis/anaconda3/envs/big_data/lib/python3.8/site-packages/sklearn/linear_model/_logistic.py:1183: FutureWarning: `penalty='none'`has been deprecated in 1.2 and will be removed in 1.4. To keep the past behaviour, set `penalty=None`.\n",
      "  warnings.warn(\n",
      "/home/louis/anaconda3/envs/big_data/lib/python3.8/site-packages/sklearn/linear_model/_logistic.py:1193: UserWarning: Setting penalty=None will ignore the C and l1_ratio parameters\n",
      "  warnings.warn(\n",
      "/home/louis/anaconda3/envs/big_data/lib/python3.8/site-packages/sklearn/linear_model/_logistic.py:1183: FutureWarning: `penalty='none'`has been deprecated in 1.2 and will be removed in 1.4. To keep the past behaviour, set `penalty=None`.\n",
      "  warnings.warn(\n",
      "/home/louis/anaconda3/envs/big_data/lib/python3.8/site-packages/sklearn/linear_model/_logistic.py:1193: UserWarning: Setting penalty=None will ignore the C and l1_ratio parameters\n",
      "  warnings.warn(\n",
      "/home/louis/anaconda3/envs/big_data/lib/python3.8/site-packages/sklearn/linear_model/_logistic.py:1183: FutureWarning: `penalty='none'`has been deprecated in 1.2 and will be removed in 1.4. To keep the past behaviour, set `penalty=None`.\n",
      "  warnings.warn(\n",
      "/home/louis/anaconda3/envs/big_data/lib/python3.8/site-packages/sklearn/linear_model/_logistic.py:1193: UserWarning: Setting penalty=None will ignore the C and l1_ratio parameters\n",
      "  warnings.warn(\n",
      "/home/louis/anaconda3/envs/big_data/lib/python3.8/site-packages/sklearn/linear_model/_logistic.py:1183: FutureWarning: `penalty='none'`has been deprecated in 1.2 and will be removed in 1.4. To keep the past behaviour, set `penalty=None`.\n",
      "  warnings.warn(\n",
      "/home/louis/anaconda3/envs/big_data/lib/python3.8/site-packages/sklearn/linear_model/_logistic.py:1193: UserWarning: Setting penalty=None will ignore the C and l1_ratio parameters\n",
      "  warnings.warn(\n",
      "/home/louis/anaconda3/envs/big_data/lib/python3.8/site-packages/sklearn/linear_model/_logistic.py:1183: FutureWarning: `penalty='none'`has been deprecated in 1.2 and will be removed in 1.4. To keep the past behaviour, set `penalty=None`.\n",
      "  warnings.warn(\n",
      "/home/louis/anaconda3/envs/big_data/lib/python3.8/site-packages/sklearn/linear_model/_logistic.py:1193: UserWarning: Setting penalty=None will ignore the C and l1_ratio parameters\n",
      "  warnings.warn(\n",
      "/home/louis/anaconda3/envs/big_data/lib/python3.8/site-packages/sklearn/linear_model/_logistic.py:1183: FutureWarning: `penalty='none'`has been deprecated in 1.2 and will be removed in 1.4. To keep the past behaviour, set `penalty=None`.\n",
      "  warnings.warn(\n",
      "/home/louis/anaconda3/envs/big_data/lib/python3.8/site-packages/sklearn/linear_model/_logistic.py:1193: UserWarning: Setting penalty=None will ignore the C and l1_ratio parameters\n",
      "  warnings.warn(\n",
      "/home/louis/anaconda3/envs/big_data/lib/python3.8/site-packages/sklearn/linear_model/_logistic.py:1183: FutureWarning: `penalty='none'`has been deprecated in 1.2 and will be removed in 1.4. To keep the past behaviour, set `penalty=None`.\n",
      "  warnings.warn(\n",
      "/home/louis/anaconda3/envs/big_data/lib/python3.8/site-packages/sklearn/linear_model/_logistic.py:1193: UserWarning: Setting penalty=None will ignore the C and l1_ratio parameters\n",
      "  warnings.warn(\n",
      "/home/louis/anaconda3/envs/big_data/lib/python3.8/site-packages/sklearn/linear_model/_logistic.py:1183: FutureWarning: `penalty='none'`has been deprecated in 1.2 and will be removed in 1.4. To keep the past behaviour, set `penalty=None`.\n",
      "  warnings.warn(\n",
      "/home/louis/anaconda3/envs/big_data/lib/python3.8/site-packages/sklearn/linear_model/_logistic.py:1193: UserWarning: Setting penalty=None will ignore the C and l1_ratio parameters\n",
      "  warnings.warn(\n",
      "/home/louis/anaconda3/envs/big_data/lib/python3.8/site-packages/sklearn/linear_model/_logistic.py:1183: FutureWarning: `penalty='none'`has been deprecated in 1.2 and will be removed in 1.4. To keep the past behaviour, set `penalty=None`.\n",
      "  warnings.warn(\n",
      "/home/louis/anaconda3/envs/big_data/lib/python3.8/site-packages/sklearn/linear_model/_logistic.py:1193: UserWarning: Setting penalty=None will ignore the C and l1_ratio parameters\n",
      "  warnings.warn(\n",
      "/home/louis/anaconda3/envs/big_data/lib/python3.8/site-packages/sklearn/linear_model/_logistic.py:1183: FutureWarning: `penalty='none'`has been deprecated in 1.2 and will be removed in 1.4. To keep the past behaviour, set `penalty=None`.\n",
      "  warnings.warn(\n",
      "/home/louis/anaconda3/envs/big_data/lib/python3.8/site-packages/sklearn/linear_model/_logistic.py:1193: UserWarning: Setting penalty=None will ignore the C and l1_ratio parameters\n",
      "  warnings.warn(\n"
     ]
    },
    {
     "name": "stdout",
     "output_type": "stream",
     "text": [
      "[CV 4/5] END ...............C=0.001, penalty=l2;, score=0.826 total time=   0.2s\n",
      "[CV 1/5] END ...............C=0.001, penalty=l2;, score=0.823 total time=   0.2s\n",
      "[CV 5/5] END ...............C=0.001, penalty=l2;, score=0.810 total time=   0.2s\n"
     ]
    },
    {
     "name": "stderr",
     "output_type": "stream",
     "text": [
      "/home/louis/anaconda3/envs/big_data/lib/python3.8/site-packages/sklearn/linear_model/_logistic.py:1183: FutureWarning: `penalty='none'`has been deprecated in 1.2 and will be removed in 1.4. To keep the past behaviour, set `penalty=None`.\n",
      "  warnings.warn(\n",
      "/home/louis/anaconda3/envs/big_data/lib/python3.8/site-packages/sklearn/linear_model/_logistic.py:1193: UserWarning: Setting penalty=None will ignore the C and l1_ratio parameters\n",
      "  warnings.warn(\n",
      "/home/louis/anaconda3/envs/big_data/lib/python3.8/site-packages/sklearn/linear_model/_logistic.py:1183: FutureWarning: `penalty='none'`has been deprecated in 1.2 and will be removed in 1.4. To keep the past behaviour, set `penalty=None`.\n",
      "  warnings.warn(\n",
      "/home/louis/anaconda3/envs/big_data/lib/python3.8/site-packages/sklearn/linear_model/_logistic.py:1193: UserWarning: Setting penalty=None will ignore the C and l1_ratio parameters\n",
      "  warnings.warn(\n",
      "/home/louis/anaconda3/envs/big_data/lib/python3.8/site-packages/sklearn/linear_model/_logistic.py:1183: FutureWarning: `penalty='none'`has been deprecated in 1.2 and will be removed in 1.4. To keep the past behaviour, set `penalty=None`.\n",
      "  warnings.warn(\n",
      "/home/louis/anaconda3/envs/big_data/lib/python3.8/site-packages/sklearn/linear_model/_logistic.py:1193: UserWarning: Setting penalty=None will ignore the C and l1_ratio parameters\n",
      "  warnings.warn(\n"
     ]
    },
    {
     "name": "stdout",
     "output_type": "stream",
     "text": [
      "[CV 2/5] END ...............C=0.001, penalty=l2;, score=0.830 total time=   0.4s\n",
      "[CV 3/5] END ...............C=0.001, penalty=l2;, score=0.820 total time=   0.3s\n",
      "[CV 5/5] END ................C=0.01, penalty=l2;, score=0.814 total time=   0.4s\n",
      "[CV 1/5] END .............C=0.001, penalty=none;, score=0.826 total time=   0.7s\n",
      "[CV 2/5] END .............C=0.001, penalty=none;, score=0.832 total time=   0.7s\n",
      "[CV 2/5] END ................C=0.01, penalty=l2;, score=0.833 total time=   0.5s\n"
     ]
    },
    {
     "name": "stderr",
     "output_type": "stream",
     "text": [
      "/home/louis/anaconda3/envs/big_data/lib/python3.8/site-packages/sklearn/linear_model/_logistic.py:1183: FutureWarning: `penalty='none'`has been deprecated in 1.2 and will be removed in 1.4. To keep the past behaviour, set `penalty=None`.\n",
      "  warnings.warn(\n",
      "/home/louis/anaconda3/envs/big_data/lib/python3.8/site-packages/sklearn/linear_model/_logistic.py:1193: UserWarning: Setting penalty=None will ignore the C and l1_ratio parameters\n",
      "  warnings.warn(\n"
     ]
    },
    {
     "name": "stdout",
     "output_type": "stream",
     "text": [
      "[CV 3/5] END .............C=0.001, penalty=none;, score=0.821 total time=   0.7s\n",
      "[CV 5/5] END .............C=0.001, penalty=none;, score=0.813 total time=   0.7s\n",
      "[CV 4/5] END ..............C=0.01, penalty=none;, score=0.823 total time=   0.7s\n",
      "[CV 2/5] END ..............C=0.01, penalty=none;, score=0.832 total time=   0.7s\n",
      "[CV 1/5] END ................C=0.01, penalty=l2;, score=0.825 total time=   0.6s\n",
      "[CV 3/5] END ..............C=0.01, penalty=none;, score=0.821 total time=   0.7s\n",
      "[CV 3/5] END ................C=0.01, penalty=l2;, score=0.821 total time=   0.6s\n"
     ]
    },
    {
     "name": "stderr",
     "output_type": "stream",
     "text": [
      "/home/louis/anaconda3/envs/big_data/lib/python3.8/site-packages/sklearn/linear_model/_logistic.py:1183: FutureWarning: `penalty='none'`has been deprecated in 1.2 and will be removed in 1.4. To keep the past behaviour, set `penalty=None`.\n",
      "  warnings.warn(\n",
      "/home/louis/anaconda3/envs/big_data/lib/python3.8/site-packages/sklearn/linear_model/_logistic.py:1183: FutureWarning: `penalty='none'`has been deprecated in 1.2 and will be removed in 1.4. To keep the past behaviour, set `penalty=None`.\n",
      "  warnings.warn(\n",
      "/home/louis/anaconda3/envs/big_data/lib/python3.8/site-packages/sklearn/linear_model/_logistic.py:1183: FutureWarning: `penalty='none'`has been deprecated in 1.2 and will be removed in 1.4. To keep the past behaviour, set `penalty=None`.\n",
      "  warnings.warn(\n",
      "/home/louis/anaconda3/envs/big_data/lib/python3.8/site-packages/sklearn/linear_model/_logistic.py:1183: FutureWarning: `penalty='none'`has been deprecated in 1.2 and will be removed in 1.4. To keep the past behaviour, set `penalty=None`.\n",
      "  warnings.warn(\n",
      "/home/louis/anaconda3/envs/big_data/lib/python3.8/site-packages/sklearn/linear_model/_logistic.py:1183: FutureWarning: `penalty='none'`has been deprecated in 1.2 and will be removed in 1.4. To keep the past behaviour, set `penalty=None`.\n",
      "  warnings.warn(\n"
     ]
    },
    {
     "name": "stdout",
     "output_type": "stream",
     "text": [
      "[CV 3/5] END ...............C=0.1, penalty=none;, score=0.821 total time=   0.7s\n",
      "[CV 4/5] END ................C=0.01, penalty=l2;, score=0.825 total time=   0.6s\n",
      "[CV 1/5] END ..............C=0.01, penalty=none;, score=0.826 total time=   0.9s\n",
      "[CV 4/5] END .............C=0.001, penalty=none;, score=0.823 total time=   1.0s\n",
      "[CV 5/5] END ..............C=0.01, penalty=none;, score=0.813 total time=   0.9s\n",
      "[CV 2/5] END .................C=0.1, penalty=l2;, score=0.832 total time=   0.6s\n",
      "[CV 5/5] END ...............C=0.1, penalty=none;, score=0.813 total time=   0.7s\n",
      "[CV 1/5] END ...............C=0.1, penalty=none;, score=0.826 total time=   0.9s\n",
      "[CV 1/5] END .................C=0.1, penalty=l2;, score=0.825 total time=   0.6s\n",
      "[CV 2/5] END ...............C=0.1, penalty=none;, score=0.832 total time=   1.0s\n"
     ]
    },
    {
     "name": "stderr",
     "output_type": "stream",
     "text": [
      "/home/louis/anaconda3/envs/big_data/lib/python3.8/site-packages/sklearn/linear_model/_logistic.py:1183: FutureWarning: `penalty='none'`has been deprecated in 1.2 and will be removed in 1.4. To keep the past behaviour, set `penalty=None`.\n",
      "  warnings.warn(\n",
      "/home/louis/anaconda3/envs/big_data/lib/python3.8/site-packages/sklearn/linear_model/_logistic.py:1193: UserWarning: Setting penalty=None will ignore the C and l1_ratio parameters\n",
      "  warnings.warn(\n",
      "/home/louis/anaconda3/envs/big_data/lib/python3.8/site-packages/sklearn/linear_model/_logistic.py:1183: FutureWarning: `penalty='none'`has been deprecated in 1.2 and will be removed in 1.4. To keep the past behaviour, set `penalty=None`.\n",
      "  warnings.warn(\n",
      "/home/louis/anaconda3/envs/big_data/lib/python3.8/site-packages/sklearn/linear_model/_logistic.py:1193: UserWarning: Setting penalty=None will ignore the C and l1_ratio parameters\n",
      "  warnings.warn(\n",
      "/home/louis/anaconda3/envs/big_data/lib/python3.8/site-packages/sklearn/linear_model/_logistic.py:1183: FutureWarning: `penalty='none'`has been deprecated in 1.2 and will be removed in 1.4. To keep the past behaviour, set `penalty=None`.\n",
      "  warnings.warn(\n",
      "/home/louis/anaconda3/envs/big_data/lib/python3.8/site-packages/sklearn/linear_model/_logistic.py:1193: UserWarning: Setting penalty=None will ignore the C and l1_ratio parameters\n",
      "  warnings.warn(\n",
      "/home/louis/anaconda3/envs/big_data/lib/python3.8/site-packages/sklearn/linear_model/_logistic.py:1183: FutureWarning: `penalty='none'`has been deprecated in 1.2 and will be removed in 1.4. To keep the past behaviour, set `penalty=None`.\n",
      "  warnings.warn(\n",
      "/home/louis/anaconda3/envs/big_data/lib/python3.8/site-packages/sklearn/linear_model/_logistic.py:1193: UserWarning: Setting penalty=None will ignore the C and l1_ratio parameters\n",
      "  warnings.warn(\n",
      "/home/louis/anaconda3/envs/big_data/lib/python3.8/site-packages/sklearn/linear_model/_logistic.py:1183: FutureWarning: `penalty='none'`has been deprecated in 1.2 and will be removed in 1.4. To keep the past behaviour, set `penalty=None`.\n",
      "  warnings.warn(\n",
      "/home/louis/anaconda3/envs/big_data/lib/python3.8/site-packages/sklearn/linear_model/_logistic.py:1193: UserWarning: Setting penalty=None will ignore the C and l1_ratio parameters\n",
      "  warnings.warn(\n"
     ]
    },
    {
     "name": "stdout",
     "output_type": "stream",
     "text": [
      "[CV 4/5] END ...............C=0.1, penalty=none;, score=0.823 total time=   0.9s\n",
      "[CV 4/5] END .................C=0.1, penalty=l2;, score=0.824 total time=   0.8s\n",
      "[CV 3/5] END .................C=1, penalty=none;, score=0.821 total time=   0.8s\n",
      "[CV 5/5] END .................C=1, penalty=none;, score=0.813 total time=   0.7s\n",
      "[CV 3/5] END .................C=0.1, penalty=l2;, score=0.821 total time=   0.9s\n",
      "[CV 1/5] END .................C=1, penalty=none;, score=0.826 total time=   0.8s\n",
      "[CV 4/5] END .................C=1, penalty=none;, score=0.823 total time=   0.8s\n",
      "[CV 5/5] END .................C=0.1, penalty=l2;, score=0.813 total time=   0.9s\n"
     ]
    },
    {
     "name": "stderr",
     "output_type": "stream",
     "text": [
      "/home/louis/anaconda3/envs/big_data/lib/python3.8/site-packages/sklearn/linear_model/_logistic.py:1183: FutureWarning: `penalty='none'`has been deprecated in 1.2 and will be removed in 1.4. To keep the past behaviour, set `penalty=None`.\n",
      "  warnings.warn(\n",
      "/home/louis/anaconda3/envs/big_data/lib/python3.8/site-packages/sklearn/linear_model/_logistic.py:1193: UserWarning: Setting penalty=None will ignore the C and l1_ratio parameters\n",
      "  warnings.warn(\n",
      "/home/louis/anaconda3/envs/big_data/lib/python3.8/site-packages/sklearn/linear_model/_logistic.py:1183: FutureWarning: `penalty='none'`has been deprecated in 1.2 and will be removed in 1.4. To keep the past behaviour, set `penalty=None`.\n",
      "  warnings.warn(\n",
      "/home/louis/anaconda3/envs/big_data/lib/python3.8/site-packages/sklearn/linear_model/_logistic.py:1193: UserWarning: Setting penalty=None will ignore the C and l1_ratio parameters\n",
      "  warnings.warn(\n",
      "/home/louis/anaconda3/envs/big_data/lib/python3.8/site-packages/sklearn/linear_model/_logistic.py:1183: FutureWarning: `penalty='none'`has been deprecated in 1.2 and will be removed in 1.4. To keep the past behaviour, set `penalty=None`.\n",
      "  warnings.warn(\n",
      "/home/louis/anaconda3/envs/big_data/lib/python3.8/site-packages/sklearn/linear_model/_logistic.py:1193: UserWarning: Setting penalty=None will ignore the C and l1_ratio parameters\n",
      "  warnings.warn(\n",
      "/home/louis/anaconda3/envs/big_data/lib/python3.8/site-packages/sklearn/linear_model/_logistic.py:1183: FutureWarning: `penalty='none'`has been deprecated in 1.2 and will be removed in 1.4. To keep the past behaviour, set `penalty=None`.\n",
      "  warnings.warn(\n",
      "/home/louis/anaconda3/envs/big_data/lib/python3.8/site-packages/sklearn/linear_model/_logistic.py:1193: UserWarning: Setting penalty=None will ignore the C and l1_ratio parameters\n",
      "  warnings.warn(\n",
      "/home/louis/anaconda3/envs/big_data/lib/python3.8/site-packages/sklearn/linear_model/_logistic.py:1183: FutureWarning: `penalty='none'`has been deprecated in 1.2 and will be removed in 1.4. To keep the past behaviour, set `penalty=None`.\n",
      "  warnings.warn(\n",
      "/home/louis/anaconda3/envs/big_data/lib/python3.8/site-packages/sklearn/linear_model/_logistic.py:1193: UserWarning: Setting penalty=None will ignore the C and l1_ratio parameters\n",
      "  warnings.warn(\n"
     ]
    },
    {
     "name": "stdout",
     "output_type": "stream",
     "text": [
      "[CV 2/5] END ...................C=1, penalty=l2;, score=0.832 total time=   0.7s\n",
      "[CV 4/5] END ...................C=1, penalty=l2;, score=0.823 total time=   0.7s\n",
      "[CV 2/5] END .................C=1, penalty=none;, score=0.832 total time=   1.0s\n",
      "[CV 5/5] END ...................C=1, penalty=l2;, score=0.813 total time=   0.7s\n",
      "[CV 1/5] END ...................C=1, penalty=l2;, score=0.826 total time=   0.9s\n",
      "[CV 3/5] END ...................C=1, penalty=l2;, score=0.821 total time=   0.9s\n"
     ]
    },
    {
     "name": "stderr",
     "output_type": "stream",
     "text": [
      "/home/louis/anaconda3/envs/big_data/lib/python3.8/site-packages/sklearn/linear_model/_logistic.py:1183: FutureWarning: `penalty='none'`has been deprecated in 1.2 and will be removed in 1.4. To keep the past behaviour, set `penalty=None`.\n",
      "  warnings.warn(\n",
      "/home/louis/anaconda3/envs/big_data/lib/python3.8/site-packages/sklearn/linear_model/_logistic.py:1193: UserWarning: Setting penalty=None will ignore the C and l1_ratio parameters\n",
      "  warnings.warn(\n",
      "/home/louis/anaconda3/envs/big_data/lib/python3.8/site-packages/sklearn/linear_model/_logistic.py:1183: FutureWarning: `penalty='none'`has been deprecated in 1.2 and will be removed in 1.4. To keep the past behaviour, set `penalty=None`.\n",
      "  warnings.warn(\n",
      "/home/louis/anaconda3/envs/big_data/lib/python3.8/site-packages/sklearn/linear_model/_logistic.py:1193: UserWarning: Setting penalty=None will ignore the C and l1_ratio parameters\n",
      "  warnings.warn(\n",
      "/home/louis/anaconda3/envs/big_data/lib/python3.8/site-packages/sklearn/linear_model/_logistic.py:1183: FutureWarning: `penalty='none'`has been deprecated in 1.2 and will be removed in 1.4. To keep the past behaviour, set `penalty=None`.\n",
      "  warnings.warn(\n",
      "/home/louis/anaconda3/envs/big_data/lib/python3.8/site-packages/sklearn/linear_model/_logistic.py:1193: UserWarning: Setting penalty=None will ignore the C and l1_ratio parameters\n",
      "  warnings.warn(\n",
      "/home/louis/anaconda3/envs/big_data/lib/python3.8/site-packages/sklearn/linear_model/_logistic.py:1183: FutureWarning: `penalty='none'`has been deprecated in 1.2 and will be removed in 1.4. To keep the past behaviour, set `penalty=None`.\n",
      "  warnings.warn(\n",
      "/home/louis/anaconda3/envs/big_data/lib/python3.8/site-packages/sklearn/linear_model/_logistic.py:1193: UserWarning: Setting penalty=None will ignore the C and l1_ratio parameters\n",
      "  warnings.warn(\n",
      "/home/louis/anaconda3/envs/big_data/lib/python3.8/site-packages/sklearn/linear_model/_logistic.py:1183: FutureWarning: `penalty='none'`has been deprecated in 1.2 and will be removed in 1.4. To keep the past behaviour, set `penalty=None`.\n",
      "  warnings.warn(\n",
      "/home/louis/anaconda3/envs/big_data/lib/python3.8/site-packages/sklearn/linear_model/_logistic.py:1193: UserWarning: Setting penalty=None will ignore the C and l1_ratio parameters\n",
      "  warnings.warn(\n"
     ]
    },
    {
     "name": "stdout",
     "output_type": "stream",
     "text": [
      "[CV 4/5] END ................C=10, penalty=none;, score=0.823 total time=   0.7s\n",
      "[CV 2/5] END ................C=10, penalty=none;, score=0.832 total time=   0.8s\n",
      "[CV 3/5] END ................C=10, penalty=none;, score=0.821 total time=   0.8s\n",
      "[CV 5/5] END ................C=10, penalty=none;, score=0.813 total time=   0.8s\n",
      "[CV 3/5] END ..................C=10, penalty=l2;, score=0.821 total time=   0.8s\n",
      "[CV 4/5] END ..................C=10, penalty=l2;, score=0.823 total time=   0.8s\n",
      "[CV 1/5] END ..................C=10, penalty=l2;, score=0.826 total time=   1.0s\n",
      "[CV 1/5] END ................C=10, penalty=none;, score=0.826 total time=   1.1s\n",
      "[CV 2/5] END ..................C=10, penalty=l2;, score=0.832 total time=   1.0s\n",
      "[CV 2/5] END ...............C=100, penalty=none;, score=0.832 total time=   0.8s\n",
      "[CV 5/5] END ...............C=100, penalty=none;, score=0.813 total time=   0.7s\n",
      "[CV 4/5] END ...............C=100, penalty=none;, score=0.823 total time=   0.8s\n",
      "[CV 2/5] END .................C=100, penalty=l2;, score=0.832 total time=   0.8s\n",
      "[CV 3/5] END ...............C=100, penalty=none;, score=0.821 total time=   0.9s\n",
      "[CV 5/5] END .................C=100, penalty=l2;, score=0.813 total time=   0.7s\n",
      "[CV 4/5] END .................C=100, penalty=l2;, score=0.823 total time=   0.8s\n",
      "[CV 5/5] END ..................C=10, penalty=l2;, score=0.813 total time=   1.0s\n",
      "[CV 1/5] END ...............C=100, penalty=none;, score=0.826 total time=   1.0s\n",
      "[CV 2/5] END ..............C=1000, penalty=none;, score=0.832 total time=   0.8s\n",
      "[CV 5/5] END ..............C=1000, penalty=none;, score=0.813 total time=   0.7s\n",
      "[CV 1/5] END .................C=100, penalty=l2;, score=0.826 total time=   0.9s\n",
      "[CV 3/5] END .................C=100, penalty=l2;, score=0.821 total time=   0.9s\n",
      "[CV 1/5] END ..............C=1000, penalty=none;, score=0.826 total time=   0.8s\n",
      "[CV 4/5] END ..............C=1000, penalty=none;, score=0.823 total time=   0.7s\n",
      "[CV 2/5] END ................C=1000, penalty=l2;, score=0.832 total time=   0.6s\n",
      "[CV 3/5] END ..............C=1000, penalty=none;, score=0.821 total time=   0.8s\n",
      "[CV 3/5] END ................C=1000, penalty=l2;, score=0.821 total time=   0.6s\n",
      "[CV 4/5] END ................C=1000, penalty=l2;, score=0.823 total time=   0.5s\n",
      "[CV 1/5] END ................C=1000, penalty=l2;, score=0.826 total time=   0.7s\n",
      "[CV 5/5] END ................C=1000, penalty=l2;, score=0.813 total time=   0.5s\n"
     ]
    },
    {
     "data": {
      "text/html": [
       "<style>#sk-container-id-1 {color: black;}#sk-container-id-1 pre{padding: 0;}#sk-container-id-1 div.sk-toggleable {background-color: white;}#sk-container-id-1 label.sk-toggleable__label {cursor: pointer;display: block;width: 100%;margin-bottom: 0;padding: 0.3em;box-sizing: border-box;text-align: center;}#sk-container-id-1 label.sk-toggleable__label-arrow:before {content: \"▸\";float: left;margin-right: 0.25em;color: #696969;}#sk-container-id-1 label.sk-toggleable__label-arrow:hover:before {color: black;}#sk-container-id-1 div.sk-estimator:hover label.sk-toggleable__label-arrow:before {color: black;}#sk-container-id-1 div.sk-toggleable__content {max-height: 0;max-width: 0;overflow: hidden;text-align: left;background-color: #f0f8ff;}#sk-container-id-1 div.sk-toggleable__content pre {margin: 0.2em;color: black;border-radius: 0.25em;background-color: #f0f8ff;}#sk-container-id-1 input.sk-toggleable__control:checked~div.sk-toggleable__content {max-height: 200px;max-width: 100%;overflow: auto;}#sk-container-id-1 input.sk-toggleable__control:checked~label.sk-toggleable__label-arrow:before {content: \"▾\";}#sk-container-id-1 div.sk-estimator input.sk-toggleable__control:checked~label.sk-toggleable__label {background-color: #d4ebff;}#sk-container-id-1 div.sk-label input.sk-toggleable__control:checked~label.sk-toggleable__label {background-color: #d4ebff;}#sk-container-id-1 input.sk-hidden--visually {border: 0;clip: rect(1px 1px 1px 1px);clip: rect(1px, 1px, 1px, 1px);height: 1px;margin: -1px;overflow: hidden;padding: 0;position: absolute;width: 1px;}#sk-container-id-1 div.sk-estimator {font-family: monospace;background-color: #f0f8ff;border: 1px dotted black;border-radius: 0.25em;box-sizing: border-box;margin-bottom: 0.5em;}#sk-container-id-1 div.sk-estimator:hover {background-color: #d4ebff;}#sk-container-id-1 div.sk-parallel-item::after {content: \"\";width: 100%;border-bottom: 1px solid gray;flex-grow: 1;}#sk-container-id-1 div.sk-label:hover label.sk-toggleable__label {background-color: #d4ebff;}#sk-container-id-1 div.sk-serial::before {content: \"\";position: absolute;border-left: 1px solid gray;box-sizing: border-box;top: 0;bottom: 0;left: 50%;z-index: 0;}#sk-container-id-1 div.sk-serial {display: flex;flex-direction: column;align-items: center;background-color: white;padding-right: 0.2em;padding-left: 0.2em;position: relative;}#sk-container-id-1 div.sk-item {position: relative;z-index: 1;}#sk-container-id-1 div.sk-parallel {display: flex;align-items: stretch;justify-content: center;background-color: white;position: relative;}#sk-container-id-1 div.sk-item::before, #sk-container-id-1 div.sk-parallel-item::before {content: \"\";position: absolute;border-left: 1px solid gray;box-sizing: border-box;top: 0;bottom: 0;left: 50%;z-index: -1;}#sk-container-id-1 div.sk-parallel-item {display: flex;flex-direction: column;z-index: 1;position: relative;background-color: white;}#sk-container-id-1 div.sk-parallel-item:first-child::after {align-self: flex-end;width: 50%;}#sk-container-id-1 div.sk-parallel-item:last-child::after {align-self: flex-start;width: 50%;}#sk-container-id-1 div.sk-parallel-item:only-child::after {width: 0;}#sk-container-id-1 div.sk-dashed-wrapped {border: 1px dashed gray;margin: 0 0.4em 0.5em 0.4em;box-sizing: border-box;padding-bottom: 0.4em;background-color: white;}#sk-container-id-1 div.sk-label label {font-family: monospace;font-weight: bold;display: inline-block;line-height: 1.2em;}#sk-container-id-1 div.sk-label-container {text-align: center;}#sk-container-id-1 div.sk-container {/* jupyter's `normalize.less` sets `[hidden] { display: none; }` but bootstrap.min.css set `[hidden] { display: none !important; }` so we also need the `!important` here to be able to override the default hidden behavior on the sphinx rendered scikit-learn.org. See: https://github.com/scikit-learn/scikit-learn/issues/21755 */display: inline-block !important;position: relative;}#sk-container-id-1 div.sk-text-repr-fallback {display: none;}</style><div id=\"sk-container-id-1\" class=\"sk-top-container\"><div class=\"sk-text-repr-fallback\"><pre>GridSearchCV(cv=5, estimator=LogisticRegression(), n_jobs=-1,\n",
       "             param_grid={&#x27;C&#x27;: [0.001, 0.01, 0.1, 1, 10, 100, 1000],\n",
       "                         &#x27;penalty&#x27;: [&#x27;none&#x27;, &#x27;l2&#x27;]},\n",
       "             scoring=&#x27;accuracy&#x27;, verbose=3)</pre><b>In a Jupyter environment, please rerun this cell to show the HTML representation or trust the notebook. <br />On GitHub, the HTML representation is unable to render, please try loading this page with nbviewer.org.</b></div><div class=\"sk-container\" hidden><div class=\"sk-item sk-dashed-wrapped\"><div class=\"sk-label-container\"><div class=\"sk-label sk-toggleable\"><input class=\"sk-toggleable__control sk-hidden--visually\" id=\"sk-estimator-id-1\" type=\"checkbox\" ><label for=\"sk-estimator-id-1\" class=\"sk-toggleable__label sk-toggleable__label-arrow\">GridSearchCV</label><div class=\"sk-toggleable__content\"><pre>GridSearchCV(cv=5, estimator=LogisticRegression(), n_jobs=-1,\n",
       "             param_grid={&#x27;C&#x27;: [0.001, 0.01, 0.1, 1, 10, 100, 1000],\n",
       "                         &#x27;penalty&#x27;: [&#x27;none&#x27;, &#x27;l2&#x27;]},\n",
       "             scoring=&#x27;accuracy&#x27;, verbose=3)</pre></div></div></div><div class=\"sk-parallel\"><div class=\"sk-parallel-item\"><div class=\"sk-item\"><div class=\"sk-label-container\"><div class=\"sk-label sk-toggleable\"><input class=\"sk-toggleable__control sk-hidden--visually\" id=\"sk-estimator-id-2\" type=\"checkbox\" ><label for=\"sk-estimator-id-2\" class=\"sk-toggleable__label sk-toggleable__label-arrow\">estimator: LogisticRegression</label><div class=\"sk-toggleable__content\"><pre>LogisticRegression()</pre></div></div></div><div class=\"sk-serial\"><div class=\"sk-item\"><div class=\"sk-estimator sk-toggleable\"><input class=\"sk-toggleable__control sk-hidden--visually\" id=\"sk-estimator-id-3\" type=\"checkbox\" ><label for=\"sk-estimator-id-3\" class=\"sk-toggleable__label sk-toggleable__label-arrow\">LogisticRegression</label><div class=\"sk-toggleable__content\"><pre>LogisticRegression()</pre></div></div></div></div></div></div></div></div></div></div>"
      ],
      "text/plain": [
       "GridSearchCV(cv=5, estimator=LogisticRegression(), n_jobs=-1,\n",
       "             param_grid={'C': [0.001, 0.01, 0.1, 1, 10, 100, 1000],\n",
       "                         'penalty': ['none', 'l2']},\n",
       "             scoring='accuracy', verbose=3)"
      ]
     },
     "execution_count": 38,
     "metadata": {},
     "output_type": "execute_result"
    }
   ],
   "source": [
    "grid_lr = GridSearchCV(LogisticRegression(), param_lr,\n",
    "                       scoring='accuracy', n_jobs=-1, verbose=3, cv=5)\n",
    "grid_lr.fit(X_train, y_train)"
   ]
  },
  {
   "cell_type": "code",
   "execution_count": 39,
   "metadata": {},
   "outputs": [
    {
     "data": {
      "text/html": [
       "<style>#sk-container-id-2 {color: black;}#sk-container-id-2 pre{padding: 0;}#sk-container-id-2 div.sk-toggleable {background-color: white;}#sk-container-id-2 label.sk-toggleable__label {cursor: pointer;display: block;width: 100%;margin-bottom: 0;padding: 0.3em;box-sizing: border-box;text-align: center;}#sk-container-id-2 label.sk-toggleable__label-arrow:before {content: \"▸\";float: left;margin-right: 0.25em;color: #696969;}#sk-container-id-2 label.sk-toggleable__label-arrow:hover:before {color: black;}#sk-container-id-2 div.sk-estimator:hover label.sk-toggleable__label-arrow:before {color: black;}#sk-container-id-2 div.sk-toggleable__content {max-height: 0;max-width: 0;overflow: hidden;text-align: left;background-color: #f0f8ff;}#sk-container-id-2 div.sk-toggleable__content pre {margin: 0.2em;color: black;border-radius: 0.25em;background-color: #f0f8ff;}#sk-container-id-2 input.sk-toggleable__control:checked~div.sk-toggleable__content {max-height: 200px;max-width: 100%;overflow: auto;}#sk-container-id-2 input.sk-toggleable__control:checked~label.sk-toggleable__label-arrow:before {content: \"▾\";}#sk-container-id-2 div.sk-estimator input.sk-toggleable__control:checked~label.sk-toggleable__label {background-color: #d4ebff;}#sk-container-id-2 div.sk-label input.sk-toggleable__control:checked~label.sk-toggleable__label {background-color: #d4ebff;}#sk-container-id-2 input.sk-hidden--visually {border: 0;clip: rect(1px 1px 1px 1px);clip: rect(1px, 1px, 1px, 1px);height: 1px;margin: -1px;overflow: hidden;padding: 0;position: absolute;width: 1px;}#sk-container-id-2 div.sk-estimator {font-family: monospace;background-color: #f0f8ff;border: 1px dotted black;border-radius: 0.25em;box-sizing: border-box;margin-bottom: 0.5em;}#sk-container-id-2 div.sk-estimator:hover {background-color: #d4ebff;}#sk-container-id-2 div.sk-parallel-item::after {content: \"\";width: 100%;border-bottom: 1px solid gray;flex-grow: 1;}#sk-container-id-2 div.sk-label:hover label.sk-toggleable__label {background-color: #d4ebff;}#sk-container-id-2 div.sk-serial::before {content: \"\";position: absolute;border-left: 1px solid gray;box-sizing: border-box;top: 0;bottom: 0;left: 50%;z-index: 0;}#sk-container-id-2 div.sk-serial {display: flex;flex-direction: column;align-items: center;background-color: white;padding-right: 0.2em;padding-left: 0.2em;position: relative;}#sk-container-id-2 div.sk-item {position: relative;z-index: 1;}#sk-container-id-2 div.sk-parallel {display: flex;align-items: stretch;justify-content: center;background-color: white;position: relative;}#sk-container-id-2 div.sk-item::before, #sk-container-id-2 div.sk-parallel-item::before {content: \"\";position: absolute;border-left: 1px solid gray;box-sizing: border-box;top: 0;bottom: 0;left: 50%;z-index: -1;}#sk-container-id-2 div.sk-parallel-item {display: flex;flex-direction: column;z-index: 1;position: relative;background-color: white;}#sk-container-id-2 div.sk-parallel-item:first-child::after {align-self: flex-end;width: 50%;}#sk-container-id-2 div.sk-parallel-item:last-child::after {align-self: flex-start;width: 50%;}#sk-container-id-2 div.sk-parallel-item:only-child::after {width: 0;}#sk-container-id-2 div.sk-dashed-wrapped {border: 1px dashed gray;margin: 0 0.4em 0.5em 0.4em;box-sizing: border-box;padding-bottom: 0.4em;background-color: white;}#sk-container-id-2 div.sk-label label {font-family: monospace;font-weight: bold;display: inline-block;line-height: 1.2em;}#sk-container-id-2 div.sk-label-container {text-align: center;}#sk-container-id-2 div.sk-container {/* jupyter's `normalize.less` sets `[hidden] { display: none; }` but bootstrap.min.css set `[hidden] { display: none !important; }` so we also need the `!important` here to be able to override the default hidden behavior on the sphinx rendered scikit-learn.org. See: https://github.com/scikit-learn/scikit-learn/issues/21755 */display: inline-block !important;position: relative;}#sk-container-id-2 div.sk-text-repr-fallback {display: none;}</style><div id=\"sk-container-id-2\" class=\"sk-top-container\"><div class=\"sk-text-repr-fallback\"><pre>LogisticRegression(C=0.01)</pre><b>In a Jupyter environment, please rerun this cell to show the HTML representation or trust the notebook. <br />On GitHub, the HTML representation is unable to render, please try loading this page with nbviewer.org.</b></div><div class=\"sk-container\" hidden><div class=\"sk-item\"><div class=\"sk-estimator sk-toggleable\"><input class=\"sk-toggleable__control sk-hidden--visually\" id=\"sk-estimator-id-4\" type=\"checkbox\" checked><label for=\"sk-estimator-id-4\" class=\"sk-toggleable__label sk-toggleable__label-arrow\">LogisticRegression</label><div class=\"sk-toggleable__content\"><pre>LogisticRegression(C=0.01)</pre></div></div></div></div></div>"
      ],
      "text/plain": [
       "LogisticRegression(C=0.01)"
      ]
     },
     "execution_count": 39,
     "metadata": {},
     "output_type": "execute_result"
    }
   ],
   "source": [
    "optimized_lr = grid_lr.best_estimator_\n",
    "optimized_lr"
   ]
  },
  {
   "cell_type": "code",
   "execution_count": 40,
   "metadata": {},
   "outputs": [
    {
     "data": {
      "text/plain": [
       "0.8236498985906031"
      ]
     },
     "execution_count": 40,
     "metadata": {},
     "output_type": "execute_result"
    }
   ],
   "source": [
    "grid_lr.best_score_"
   ]
  },
  {
   "cell_type": "code",
   "execution_count": 41,
   "metadata": {},
   "outputs": [
    {
     "data": {
      "text/plain": [
       "{'C': 0.01, 'penalty': 'l2'}"
      ]
     },
     "execution_count": 41,
     "metadata": {},
     "output_type": "execute_result"
    }
   ],
   "source": [
    "grid_lr.best_params_"
   ]
  },
  {
   "cell_type": "code",
   "execution_count": 42,
   "metadata": {},
   "outputs": [],
   "source": [
    "lr_train_pred = optimized_lr.predict(X_train)\n",
    "lr_test_pred = optimized_lr.predict(X_test)"
   ]
  },
  {
   "cell_type": "code",
   "execution_count": 43,
   "metadata": {},
   "outputs": [
    {
     "name": "stdout",
     "output_type": "stream",
     "text": [
      "The accuracy on train data is  0.8238706219854355\n",
      "The accuracy on test data is  0.8267009930121368\n",
      "The precision on test data is  0.7153295556218312\n",
      "The recall on test data is  0.9147597254004577\n",
      "The f1 on test data is  0.8028451882845188\n",
      "The roc_score on test data is  0.8430821738006959\n"
     ]
    }
   ],
   "source": [
    "\n",
    "from sklearn.metrics import accuracy_score, precision_score, recall_score, f1_score, roc_auc_score\n",
    "print(\"The accuracy on train data is \", accuracy_score(lr_train_pred, y_train))\n",
    "print(\"The accuracy on test data is \", accuracy_score(lr_test_pred, y_test))\n",
    "print(\"The precision on test data is \", precision_score(lr_test_pred, y_test))\n",
    "print(\"The recall on test data is \", recall_score(lr_test_pred, y_test))\n",
    "print(\"The f1 on test data is \", f1_score(lr_test_pred, y_test))\n",
    "print(\"The roc_score on test data is \", roc_auc_score(lr_test_pred, y_test))"
   ]
  },
  {
   "cell_type": "code",
   "execution_count": 44,
   "metadata": {},
   "outputs": [
    {
     "data": {
      "text/plain": [
       "[Text(0, 0.5, 'Not Defaulter'), Text(0, 1.5, 'Defaulter')]"
      ]
     },
     "execution_count": 44,
     "metadata": {},
     "output_type": "execute_result"
    },
    {
     "data": {
      "image/png": "[encoded data removed]",
      "text/plain": [
       "<Figure size 640x480 with 2 Axes>"
      ]
     },
     "metadata": {},
     "output_type": "display_data"
    }
   ],
   "source": [
    "labels = ['Not Defaulter', 'Defaulter']\n",
    "cm = confusion_matrix(y_test, lr_test_pred)\n",
    "\n",
    "\n",
    "ax = plt.subplot()\n",
    "sns.heatmap(cm,\n",
    "            xticklabels=['Not Default', 'Default'],\n",
    "            yticklabels=['Not Default', 'Default'],\n",
    "            annot=True, ax=ax,\n",
    "            linewidths=.2, linecolor=\"Darkblue\", cmap=\"Blues\")  # annot=True to annotate cells\n",
    "\n",
    "# labels, title and ticks\n",
    "ax.set_xlabel('Predicted labels')\n",
    "ax.set_ylabel('True labels')\n",
    "ax.set_title('Confusion Matrix (Logistic Regression)')\n",
    "ax.xaxis.set_ticklabels(labels)\n",
    "ax.yaxis.set_ticklabels(labels)"
   ]
  },
  {
   "cell_type": "code",
   "execution_count": 45,
   "metadata": {},
   "outputs": [
    {
     "data": {
      "image/png": "[encoded data removed]",
      "text/plain": [
       "<Figure size 640x480 with 1 Axes>"
      ]
     },
     "metadata": {},
     "output_type": "display_data"
    }
   ],
   "source": [
    "y_preds_proba_lr = optimized_lr.predict_proba(X_test)[::, 1]\n",
    "y_pred_proba = y_preds_proba_lr\n",
    "fpr, tpr, _ = roc_curve(y_test,  y_pred_proba)\n",
    "auc = roc_auc_score(y_test, y_pred_proba)\n",
    "plt.plot(fpr, tpr, label=\"data 1, auc=\"+str(auc))\n",
    "plt.title('Logistic Regression')\n",
    "plt.legend(loc=4)\n",
    "plt.show()"
   ]
  },
  {
   "cell_type": "markdown",
   "metadata": {},
   "source": [
    "# Decision Tree\n"
   ]
  },
  {
   "cell_type": "markdown",
   "metadata": {},
   "source": [
    "1. **`DecisionTreeClassifier(max_depth=8, max_features=15, random_state=42)`**:\n",
    "    - **`DecisionTreeClassifier`** 是一種常用於分類問題的決策樹模型。\n",
    "    - **`max_depth=8`**: 這個參數限制了樹的最大深度。在這裡設為8意味著樹可以分裂成最多8層。控制樹的深度有助於防止過擬合。\n",
    "    - **`max_features=15`**: 這表示在尋找最佳分割時，每次只考慮15個特徵。這可以提高訓練速度，同時也有助於防止過擬合。\n",
    "    - **`random_state=42`**: 這是隨機數生成器的種子。設定這個值確保了結果的可重現性。\n",
    "\n",
    "### **訓練過程**\n",
    "\n",
    "1. **`dt.fit(X_train, y_train)`**:\n",
    "    - **`fit`** 方法用於在訓練數據集（**`X_train`**, **`y_train`**）上訓練模型。\n",
    "    - **`X_train`** 包含了訓練數據的特徵，而 **`y_train`** 是相應的標籤。\n",
    "\n",
    "### **模型評估**\n",
    "\n",
    "1. **`print(dt.score(X_test, y_test))`**:\n",
    "    - **`score`** 方法用於評估模型在測試數據集（**`X_test`**, **`y_test`**）上的表現。\n",
    "    - 它返回的是模型的準確率，即模型正確預測的標籤佔總標籤的比例。\n",
    "    - 這一步是檢查模型在未見數據上的泛化能力的關鍵。\n",
    "\n",
    "### **總結**\n",
    "\n",
    "這段代碼展示了使用決策樹進行分類的基本流程：模型初始化、訓練和性能評估。決策樹是一種直觀且常用的分類方法，它通過樹狀結構來進行決策，每個節點代表一個特徵的檢查，而每個分支則代表一個決策方向。\n",
    "\n",
    "理解這一過程對於數據分析學生至關重要，因為它提供了關於如何訓練、調整參數以及評估機器學習模型的基礎知識。此外，理解不同參數（如 **`max_depth`** 和 **`max_features`**）對模型性能的影響是進行有效模型調優的關鍵。"
   ]
  },
  {
   "cell_type": "code",
   "execution_count": 47,
   "metadata": {},
   "outputs": [
    {
     "name": "stdout",
     "output_type": "stream",
     "text": [
      "0.8196395733725634\n"
     ]
    }
   ],
   "source": [
    "dt = DecisionTreeClassifier(max_depth=8, max_features=15, random_state=42)\n",
    "dt.fit(X_train, y_train)\n",
    "print(dt.score(X_test, y_test))"
   ]
  },
  {
   "cell_type": "code",
   "execution_count": 55,
   "metadata": {},
   "outputs": [
    {
     "name": "stdout",
     "output_type": "stream",
     "text": [
      "Fitting 4 folds for each of 3120 candidates, totalling 12480 fits\n"
     ]
    },
    {
     "data": {
      "text/html": [
       "<style>#sk-container-id-5 {color: black;}#sk-container-id-5 pre{padding: 0;}#sk-container-id-5 div.sk-toggleable {background-color: white;}#sk-container-id-5 label.sk-toggleable__label {cursor: pointer;display: block;width: 100%;margin-bottom: 0;padding: 0.3em;box-sizing: border-box;text-align: center;}#sk-container-id-5 label.sk-toggleable__label-arrow:before {content: \"▸\";float: left;margin-right: 0.25em;color: #696969;}#sk-container-id-5 label.sk-toggleable__label-arrow:hover:before {color: black;}#sk-container-id-5 div.sk-estimator:hover label.sk-toggleable__label-arrow:before {color: black;}#sk-container-id-5 div.sk-toggleable__content {max-height: 0;max-width: 0;overflow: hidden;text-align: left;background-color: #f0f8ff;}#sk-container-id-5 div.sk-toggleable__content pre {margin: 0.2em;color: black;border-radius: 0.25em;background-color: #f0f8ff;}#sk-container-id-5 input.sk-toggleable__control:checked~div.sk-toggleable__content {max-height: 200px;max-width: 100%;overflow: auto;}#sk-container-id-5 input.sk-toggleable__control:checked~label.sk-toggleable__label-arrow:before {content: \"▾\";}#sk-container-id-5 div.sk-estimator input.sk-toggleable__control:checked~label.sk-toggleable__label {background-color: #d4ebff;}#sk-container-id-5 div.sk-label input.sk-toggleable__control:checked~label.sk-toggleable__label {background-color: #d4ebff;}#sk-container-id-5 input.sk-hidden--visually {border: 0;clip: rect(1px 1px 1px 1px);clip: rect(1px, 1px, 1px, 1px);height: 1px;margin: -1px;overflow: hidden;padding: 0;position: absolute;width: 1px;}#sk-container-id-5 div.sk-estimator {font-family: monospace;background-color: #f0f8ff;border: 1px dotted black;border-radius: 0.25em;box-sizing: border-box;margin-bottom: 0.5em;}#sk-container-id-5 div.sk-estimator:hover {background-color: #d4ebff;}#sk-container-id-5 div.sk-parallel-item::after {content: \"\";width: 100%;border-bottom: 1px solid gray;flex-grow: 1;}#sk-container-id-5 div.sk-label:hover label.sk-toggleable__label {background-color: #d4ebff;}#sk-container-id-5 div.sk-serial::before {content: \"\";position: absolute;border-left: 1px solid gray;box-sizing: border-box;top: 0;bottom: 0;left: 50%;z-index: 0;}#sk-container-id-5 div.sk-serial {display: flex;flex-direction: column;align-items: center;background-color: white;padding-right: 0.2em;padding-left: 0.2em;position: relative;}#sk-container-id-5 div.sk-item {position: relative;z-index: 1;}#sk-container-id-5 div.sk-parallel {display: flex;align-items: stretch;justify-content: center;background-color: white;position: relative;}#sk-container-id-5 div.sk-item::before, #sk-container-id-5 div.sk-parallel-item::before {content: \"\";position: absolute;border-left: 1px solid gray;box-sizing: border-box;top: 0;bottom: 0;left: 50%;z-index: -1;}#sk-container-id-5 div.sk-parallel-item {display: flex;flex-direction: column;z-index: 1;position: relative;background-color: white;}#sk-container-id-5 div.sk-parallel-item:first-child::after {align-self: flex-end;width: 50%;}#sk-container-id-5 div.sk-parallel-item:last-child::after {align-self: flex-start;width: 50%;}#sk-container-id-5 div.sk-parallel-item:only-child::after {width: 0;}#sk-container-id-5 div.sk-dashed-wrapped {border: 1px dashed gray;margin: 0 0.4em 0.5em 0.4em;box-sizing: border-box;padding-bottom: 0.4em;background-color: white;}#sk-container-id-5 div.sk-label label {font-family: monospace;font-weight: bold;display: inline-block;line-height: 1.2em;}#sk-container-id-5 div.sk-label-container {text-align: center;}#sk-container-id-5 div.sk-container {/* jupyter's `normalize.less` sets `[hidden] { display: none; }` but bootstrap.min.css set `[hidden] { display: none !important; }` so we also need the `!important` here to be able to override the default hidden behavior on the sphinx rendered scikit-learn.org. See: https://github.com/scikit-learn/scikit-learn/issues/21755 */display: inline-block !important;position: relative;}#sk-container-id-5 div.sk-text-repr-fallback {display: none;}</style><div id=\"sk-container-id-5\" class=\"sk-top-container\"><div class=\"sk-text-repr-fallback\"><pre>GridSearchCV(cv=4,\n",
       "             estimator=DecisionTreeClassifier(max_depth=8, max_features=15,\n",
       "                                              random_state=42),\n",
       "             n_jobs=-1,\n",
       "             param_grid={&#x27;max_depth&#x27;: range(5, 15),\n",
       "                         &#x27;max_features&#x27;: range(5, 18),\n",
       "                         &#x27;min_samples_leaf&#x27;: range(1, 4),\n",
       "                         &#x27;min_samples_split&#x27;: range(2, 10)},\n",
       "             scoring=&#x27;accuracy&#x27;, verbose=1)</pre><b>In a Jupyter environment, please rerun this cell to show the HTML representation or trust the notebook. <br />On GitHub, the HTML representation is unable to render, please try loading this page with nbviewer.org.</b></div><div class=\"sk-container\" hidden><div class=\"sk-item sk-dashed-wrapped\"><div class=\"sk-label-container\"><div class=\"sk-label sk-toggleable\"><input class=\"sk-toggleable__control sk-hidden--visually\" id=\"sk-estimator-id-11\" type=\"checkbox\" ><label for=\"sk-estimator-id-11\" class=\"sk-toggleable__label sk-toggleable__label-arrow\">GridSearchCV</label><div class=\"sk-toggleable__content\"><pre>GridSearchCV(cv=4,\n",
       "             estimator=DecisionTreeClassifier(max_depth=8, max_features=15,\n",
       "                                              random_state=42),\n",
       "             n_jobs=-1,\n",
       "             param_grid={&#x27;max_depth&#x27;: range(5, 15),\n",
       "                         &#x27;max_features&#x27;: range(5, 18),\n",
       "                         &#x27;min_samples_leaf&#x27;: range(1, 4),\n",
       "                         &#x27;min_samples_split&#x27;: range(2, 10)},\n",
       "             scoring=&#x27;accuracy&#x27;, verbose=1)</pre></div></div></div><div class=\"sk-parallel\"><div class=\"sk-parallel-item\"><div class=\"sk-item\"><div class=\"sk-label-container\"><div class=\"sk-label sk-toggleable\"><input class=\"sk-toggleable__control sk-hidden--visually\" id=\"sk-estimator-id-12\" type=\"checkbox\" ><label for=\"sk-estimator-id-12\" class=\"sk-toggleable__label sk-toggleable__label-arrow\">estimator: DecisionTreeClassifier</label><div class=\"sk-toggleable__content\"><pre>DecisionTreeClassifier(max_depth=8, max_features=15, random_state=42)</pre></div></div></div><div class=\"sk-serial\"><div class=\"sk-item\"><div class=\"sk-estimator sk-toggleable\"><input class=\"sk-toggleable__control sk-hidden--visually\" id=\"sk-estimator-id-13\" type=\"checkbox\" ><label for=\"sk-estimator-id-13\" class=\"sk-toggleable__label sk-toggleable__label-arrow\">DecisionTreeClassifier</label><div class=\"sk-toggleable__content\"><pre>DecisionTreeClassifier(max_depth=8, max_features=15, random_state=42)</pre></div></div></div></div></div></div></div></div></div></div>"
      ],
      "text/plain": [
       "GridSearchCV(cv=4,\n",
       "             estimator=DecisionTreeClassifier(max_depth=8, max_features=15,\n",
       "                                              random_state=42),\n",
       "             n_jobs=-1,\n",
       "             param_grid={'max_depth': range(5, 15),\n",
       "                         'max_features': range(5, 18),\n",
       "                         'min_samples_leaf': range(1, 4),\n",
       "                         'min_samples_split': range(2, 10)},\n",
       "             scoring='accuracy', verbose=1)"
      ]
     },
     "execution_count": 55,
     "metadata": {},
     "output_type": "execute_result"
    }
   ],
   "source": [
    "param_dt = {\n",
    "    # 'max_depth': [5, 10, 15],  # Maximum depth of each tree\n",
    "    'max_depth': range(5, 15),  # Maximum depth of each tree\n",
    "    # Minimum number of samples required to split an internal node\n",
    "    'min_samples_split': range(2, 10),\n",
    "    # Minimum number of samples required to be at a leaf node\n",
    "    'min_samples_leaf': range(1, 4),\n",
    "    'max_features': range(5, 18)\n",
    "}\n",
    "# param_dt = {\n",
    "#     'max_depth': [5, 10, 15],  # Maximum depth of each tree\n",
    "#     # Minimum number of samples required to split an internal node\n",
    "#     'min_samples_split': [2, 5, 10],\n",
    "#     # Minimum number of samples required to be at a leaf node\n",
    "#     'min_samples_leaf': [1, 2, 4],\n",
    "#     'max_features': [5, 10, 15, 18]\n",
    "# }\n",
    "\n",
    "\n",
    "grid_dt = GridSearchCV(estimator=dt, param_grid=param_dt,\n",
    "                       cv=4, scoring='accuracy', n_jobs=-1, verbose=1)\n",
    "\n",
    "grid_dt.fit(X_train, y_train)"
   ]
  },
  {
   "cell_type": "code",
   "execution_count": 56,
   "metadata": {},
   "outputs": [],
   "source": [
    "optimized_dt = grid_dt.best_estimator_"
   ]
  },
  {
   "cell_type": "code",
   "execution_count": 57,
   "metadata": {},
   "outputs": [
    {
     "data": {
      "text/plain": [
       "0.8266447940091105"
      ]
     },
     "execution_count": 57,
     "metadata": {},
     "output_type": "execute_result"
    }
   ],
   "source": [
    "grid_dt.best_score_"
   ]
  },
  {
   "cell_type": "code",
   "execution_count": 58,
   "metadata": {},
   "outputs": [
    {
     "data": {
      "text/plain": [
       "{'max_depth': 10,\n",
       " 'max_features': 17,\n",
       " 'min_samples_leaf': 3,\n",
       " 'min_samples_split': 9}"
      ]
     },
     "execution_count": 58,
     "metadata": {},
     "output_type": "execute_result"
    }
   ],
   "source": [
    "grid_dt.best_params_"
   ]
  },
  {
   "cell_type": "code",
   "execution_count": 59,
   "metadata": {},
   "outputs": [],
   "source": [
    "dt_train_pred = optimized_dt.predict(X_train)\n",
    "dt_test_pred = optimized_dt.predict(X_test)"
   ]
  },
  {
   "cell_type": "code",
   "execution_count": 60,
   "metadata": {},
   "outputs": [
    {
     "name": "stdout",
     "output_type": "stream",
     "text": [
      "The accuracy on train data is  0.8587055893572082\n",
      "The accuracy on test data is  0.8336888561971313\n",
      "The precision on test data is  0.7754249925439904\n",
      "The recall on test data is  0.873215785054576\n",
      "The f1 on test data is  0.8214201089961299\n",
      "The roc_score on test data is  0.8380476831032042\n"
     ]
    }
   ],
   "source": [
    "from sklearn.metrics import accuracy_score, precision_score, recall_score, f1_score, roc_auc_score\n",
    "print(\"The accuracy on train data is \", accuracy_score(dt_train_pred, y_train))\n",
    "print(\"The accuracy on test data is \", accuracy_score(dt_test_pred, y_test))\n",
    "print(\"The precision on test data is \", precision_score(dt_test_pred, y_test))\n",
    "print(\"The recall on test data is \", recall_score(dt_test_pred, y_test))\n",
    "print(\"The f1 on test data is \", f1_score(dt_test_pred, y_test))\n",
    "print(\"The roc_score on test data is \", roc_auc_score(dt_test_pred, y_test))"
   ]
  },
  {
   "cell_type": "code",
   "execution_count": 61,
   "metadata": {},
   "outputs": [
    {
     "data": {
      "text/plain": [
       "[Text(0, 0.5, 'Not Defaulter'), Text(0, 1.5, 'Defaulter')]"
      ]
     },
     "execution_count": 61,
     "metadata": {},
     "output_type": "execute_result"
    },
    {
     "data": {
      "image/png": "[encoded data removed]",
      "text/plain": [
       "<Figure size 640x480 with 2 Axes>"
      ]
     },
     "metadata": {},
     "output_type": "display_data"
    }
   ],
   "source": [
    "labels = ['Not Defaulter', 'Defaulter']\n",
    "cm = confusion_matrix(y_test, dt_test_pred)\n",
    "\n",
    "\n",
    "ax = plt.subplot()\n",
    "sns.heatmap(cm,\n",
    "            xticklabels=['Not Default', 'Default'],\n",
    "            yticklabels=['Not Default', 'Default'],\n",
    "            annot=True, ax=ax,\n",
    "            linewidths=.2, linecolor=\"Darkblue\", cmap=\"Blues\")  # annot=True to annotate cells\n",
    "\n",
    "# labels, title and ticks\n",
    "ax.set_xlabel('Predicted labels')\n",
    "ax.set_ylabel('True labels')\n",
    "ax.set_title('Confusion Matrix (Decision Tree)')\n",
    "ax.xaxis.set_ticklabels(labels)\n",
    "ax.yaxis.set_ticklabels(labels)"
   ]
  },
  {
   "cell_type": "code",
   "execution_count": 62,
   "metadata": {},
   "outputs": [
    {
     "data": {
      "image/png": "[encoded data removed]",
      "text/plain": [
       "<Figure size 640x480 with 1 Axes>"
      ]
     },
     "metadata": {},
     "output_type": "display_data"
    }
   ],
   "source": [
    "y_preds_proba_dt = optimized_dt.predict_proba(X_test)[::, 1]\n",
    "y_pred_proba = y_preds_proba_dt\n",
    "fpr, tpr, _ = roc_curve(y_test,  y_pred_proba)\n",
    "auc = roc_auc_score(y_test, y_pred_proba)\n",
    "plt.plot(fpr, tpr, label=\"data 1, auc=\"+str(auc))\n",
    "plt.title('Decision Tree')\n",
    "plt.legend(loc=4)\n",
    "plt.show()"
   ]
  },
  {
   "cell_type": "markdown",
   "metadata": {},
   "source": [
    "# Random Forest"
   ]
  },
  {
   "cell_type": "markdown",
   "metadata": {},
   "source": [
    "### **隨機森林分類器（RandomForestClassifier）**\n",
    "\n",
    "1. **創建模型**:\n",
    "    - **`RandomForestClassifier(max_depth=10, max_features=15, random_state=42)`** 創建了一個隨機森林分類器的實例。\n",
    "    - **`max_depth=10`**: 這個參數限制了每棵樹的最大深度。設定深度可以幫助防止過擬合，因為過深的樹可能會學習到訓練數據的噪聲。\n",
    "    - **`max_features=15`**: 指每次分裂時考慮的最大特徵數。這可以幫助提高模型的多樣性，減少樹與樹之間的相關性，並提高泛化能力。\n",
    "    - **`random_state=42`**: 確保每次運行代碼時結果的一致性，方便調試和比較。\n",
    "2. **訓練模型**:\n",
    "    - **`rf.fit(X_train, y_train)`**: 這一步將模型與訓練數據（**`X_train`** 和 **`y_train`**）進行擬合。**`X_train`** 包含了訓練數據的特徵，而 **`y_train`** 是相應的標籤。\n",
    "3. **評估模型**:\n",
    "    - **`print(rf.score(X_test, y_test))`**: 這行代碼評估了模型在測試數據集（**`X_test`**, **`y_test`**）上的表現。\n",
    "    - **`score`** 方法返回的是準確率，即模型正確預測的標籤佔總標籤的比例。\n",
    "    - 這一步驗證了模型在未見過的數據上的泛化能力。\n",
    "\n",
    "### **隨機森林的優點**\n",
    "\n",
    "隨機森林是一種集成學習方法，它通過組合多棵決策樹來提高模型的穩定性和準確性。它的主要優點包括：\n",
    "\n",
    "- **泛化能力強**：通過平均多棵樹的預測，減少了模型的方差，使得模型對於未見數據有更好的泛化能力。\n",
    "- **過擬合風險低**：相對於單一的決策樹，隨機森林更不容易過擬合。\n",
    "- **特徵選擇的靈活性**：在每次分裂過程中考慮的隨機特徵子集，使得隨機森林可以更好地處理具有大量特徵的數據集。"
   ]
  },
  {
   "cell_type": "code",
   "execution_count": 63,
   "metadata": {},
   "outputs": [
    {
     "name": "stdout",
     "output_type": "stream",
     "text": [
      "0.8506068407502758\n"
     ]
    }
   ],
   "source": [
    "rf = RandomForestClassifier(max_depth=10, max_features=15, random_state=42)\n",
    "rf.fit(X_train, y_train)\n",
    "print(rf.score(X_test, y_test))"
   ]
  },
  {
   "cell_type": "markdown",
   "metadata": {},
   "source": [
    "### **`max_depth` 的意義與影響**\n",
    "\n",
    "1. **意義**:\n",
    "    - **`max_depth`** 參數指定了決策樹的最大深度，即樹可以生長的最大層數。\n",
    "    - 深度限制了從根節點到最遠葉節點的最長路徑。\n",
    "2. **對模型的影響**:\n",
    "    - **防止過擬合**：較小的 **`max_depth`** 可以防止樹過於複雜，這有助於減少過擬合的風險。過深的樹可能會學習到訓練數據中的噪聲。\n",
    "    - **影響模型複雜度**：較大的深度允許模型學習更細分的模式，但也可能導致模型在訓練數據上過度擬合，從而影響其在新數據上的表現。\n",
    "    - **平衡準確度和泛化能力**：適當的 **`max_depth`** 需要根據具體問題進行調整，以平衡訓練準確度和泛化能力。\n",
    "\n",
    "### **`max_features` 的意義與影響**\n",
    "\n",
    "1. **意義**:\n",
    "    - **`max_features`** 決定了在分裂決策樹節點時，每次隨機選擇的特徵數量的上限。\n",
    "    - 這個參數可以是整數（直接指定特徵數量）、浮點數（作為特徵總數的比例）、**`\"auto\"`**（等於特徵數）、**`\"sqrt\"`**（特徵數的平方根）或 **`\"log2\"`**（以2為底的特徵數對數）。\n",
    "2. **對模型的影響**:\n",
    "    - **提高隨機性**：在隨機森林中，較小的 **`max_features`** 增加了模型中各個樹之間的差異，提高了整體模型的隨機性，從而可能提高其泛化能力。\n",
    "    - **防止過擬合**：這個參數有助於減少模型對單一特徵的依賴，從而降低過擬合的風險。\n",
    "    - **影響訓練速度**：較小的 **`max_features`** 可以加快訓練速度，因為在每次分裂時需要評估的特徵數量減少了。\n",
    "    - **平衡特徵與決策的重要性**：適當的 **`max_features`** 值有助於平衡在決策過程中考慮的特徵數量和模型的預測能力。"
   ]
  },
  {
   "cell_type": "code",
   "execution_count": 69,
   "metadata": {},
   "outputs": [
    {
     "name": "stdout",
     "output_type": "stream",
     "text": [
      "Fitting 4 folds for each of 48 candidates, totalling 192 fits\n",
      "[CV 2/4] END max_depth=5, max_features=5, n_estimators=100;, score=0.800 total time=   2.9s\n",
      "[CV 1/4] END max_depth=5, max_features=5, n_estimators=100;, score=0.797 total time=   3.2s\n",
      "[CV 4/4] END max_depth=5, max_features=5, n_estimators=100;, score=0.790 total time=   3.2s\n",
      "[CV 3/4] END max_depth=5, max_features=5, n_estimators=100;, score=0.807 total time=   3.2s\n",
      "[CV 4/4] END max_depth=5, max_features=10, n_estimators=100;, score=0.786 total time=   5.1s\n",
      "[CV 2/4] END max_depth=5, max_features=10, n_estimators=100;, score=0.799 total time=   5.2s\n",
      "[CV 2/4] END max_depth=5, max_features=5, n_estimators=200;, score=0.799 total time=   5.8s\n",
      "[CV 1/4] END max_depth=5, max_features=5, n_estimators=200;, score=0.794 total time=   6.0s\n",
      "[CV 3/4] END max_depth=5, max_features=5, n_estimators=200;, score=0.808 total time=   6.3s\n",
      "[CV 3/4] END max_depth=5, max_features=10, n_estimators=100;, score=0.805 total time=   6.4s\n",
      "[CV 1/4] END max_depth=5, max_features=10, n_estimators=100;, score=0.802 total time=   6.6s\n",
      "[CV 4/4] END max_depth=5, max_features=5, n_estimators=200;, score=0.789 total time=   7.3s\n",
      "[CV 1/4] END max_depth=5, max_features=5, n_estimators=300;, score=0.795 total time=   8.6s\n",
      "[CV 3/4] END max_depth=5, max_features=5, n_estimators=300;, score=0.809 total time=   9.2s\n",
      "[CV 2/4] END max_depth=5, max_features=5, n_estimators=300;, score=0.798 total time=   9.5s\n",
      "[CV 4/4] END max_depth=5, max_features=5, n_estimators=350;, score=0.790 total time=   9.9s\n",
      "[CV 1/4] END max_depth=5, max_features=5, n_estimators=350;, score=0.794 total time=   9.9s\n",
      "[CV 4/4] END max_depth=5, max_features=5, n_estimators=300;, score=0.790 total time=  10.3s\n",
      "[CV 4/4] END max_depth=5, max_features=10, n_estimators=200;, score=0.795 total time=  10.8s\n",
      "[CV 3/4] END max_depth=5, max_features=10, n_estimators=200;, score=0.813 total time=  10.9s\n",
      "[CV 3/4] END max_depth=5, max_features=5, n_estimators=350;, score=0.809 total time=  11.4s\n",
      "[CV 2/4] END max_depth=5, max_features=5, n_estimators=350;, score=0.799 total time=  11.9s\n",
      "[CV 2/4] END max_depth=5, max_features=10, n_estimators=200;, score=0.803 total time=  12.0s\n",
      "[CV 1/4] END max_depth=5, max_features=10, n_estimators=200;, score=0.804 total time=  12.4s\n",
      "[CV 1/4] END max_depth=5, max_features=15, n_estimators=100;, score=0.804 total time=   7.3s\n",
      "[CV 2/4] END max_depth=5, max_features=15, n_estimators=100;, score=0.807 total time=   8.3s\n",
      "[CV 3/4] END max_depth=5, max_features=15, n_estimators=100;, score=0.813 total time=   8.4s\n",
      "[CV 4/4] END max_depth=5, max_features=15, n_estimators=100;, score=0.792 total time=   8.4s\n",
      "[CV 1/4] END max_depth=5, max_features=10, n_estimators=300;, score=0.805 total time=  15.2s\n",
      "[CV 2/4] END max_depth=5, max_features=10, n_estimators=300;, score=0.806 total time=  15.6s\n",
      "[CV 3/4] END max_depth=5, max_features=10, n_estimators=300;, score=0.813 total time=  15.9s\n",
      "[CV 4/4] END max_depth=5, max_features=10, n_estimators=300;, score=0.795 total time=  15.9s\n",
      "[CV 1/4] END max_depth=5, max_features=18, n_estimators=100;, score=0.787 total time=   9.0s\n",
      "[CV 1/4] END max_depth=5, max_features=10, n_estimators=350;, score=0.805 total time=  17.7s\n",
      "[CV 2/4] END max_depth=5, max_features=10, n_estimators=350;, score=0.808 total time=  17.5s\n",
      "[CV 1/4] END max_depth=5, max_features=15, n_estimators=200;, score=0.805 total time=  14.6s\n",
      "[CV 3/4] END max_depth=5, max_features=10, n_estimators=350;, score=0.814 total time=  17.7s\n",
      "[CV 4/4] END max_depth=5, max_features=10, n_estimators=350;, score=0.797 total time=  18.1s\n",
      "[CV 4/4] END max_depth=5, max_features=15, n_estimators=200;, score=0.789 total time=  14.4s\n",
      "[CV 2/4] END max_depth=5, max_features=15, n_estimators=200;, score=0.806 total time=  15.3s\n",
      "[CV 2/4] END max_depth=5, max_features=18, n_estimators=100;, score=0.799 total time=   9.9s\n",
      "[CV 3/4] END max_depth=5, max_features=18, n_estimators=100;, score=0.803 total time=  10.1s\n",
      "[CV 4/4] END max_depth=5, max_features=18, n_estimators=100;, score=0.782 total time=  10.3s\n",
      "[CV 3/4] END max_depth=5, max_features=15, n_estimators=200;, score=0.811 total time=  17.0s\n",
      "[CV 1/4] END max_depth=10, max_features=5, n_estimators=100;, score=0.839 total time=   6.1s\n",
      "[CV 2/4] END max_depth=10, max_features=5, n_estimators=100;, score=0.838 total time=   6.6s\n",
      "[CV 3/4] END max_depth=10, max_features=5, n_estimators=100;, score=0.847 total time=   6.0s\n",
      "[CV 1/4] END max_depth=5, max_features=15, n_estimators=300;, score=0.806 total time=  22.5s\n",
      "[CV 4/4] END max_depth=10, max_features=5, n_estimators=100;, score=0.826 total time=   6.4s\n",
      "[CV 4/4] END max_depth=5, max_features=15, n_estimators=300;, score=0.795 total time=  23.2s\n",
      "[CV 3/4] END max_depth=5, max_features=15, n_estimators=300;, score=0.813 total time=  23.8s\n",
      "[CV 1/4] END max_depth=5, max_features=18, n_estimators=200;, score=0.794 total time=  17.6s\n",
      "[CV 2/4] END max_depth=5, max_features=15, n_estimators=300;, score=0.809 total time=  26.3s\n",
      "[CV 1/4] END max_depth=5, max_features=15, n_estimators=350;, score=0.807 total time=  25.9s\n",
      "[CV 2/4] END max_depth=5, max_features=18, n_estimators=200;, score=0.793 total time=  18.6s\n",
      "[CV 3/4] END max_depth=5, max_features=18, n_estimators=200;, score=0.807 total time=  18.7s\n",
      "[CV 4/4] END max_depth=5, max_features=18, n_estimators=200;, score=0.783 total time=  19.0s\n",
      "[CV 2/4] END max_depth=5, max_features=15, n_estimators=350;, score=0.809 total time=  30.0s\n",
      "[CV 4/4] END max_depth=10, max_features=5, n_estimators=200;, score=0.828 total time=   9.6s\n",
      "[CV 3/4] END max_depth=5, max_features=15, n_estimators=350;, score=0.812 total time=  30.1s\n",
      "[CV 1/4] END max_depth=10, max_features=5, n_estimators=200;, score=0.839 total time=  11.7s\n",
      "[CV 4/4] END max_depth=5, max_features=15, n_estimators=350;, score=0.796 total time=  30.7s\n",
      "[CV 2/4] END max_depth=10, max_features=5, n_estimators=200;, score=0.840 total time=  11.6s\n",
      "[CV 3/4] END max_depth=10, max_features=5, n_estimators=200;, score=0.848 total time=  12.0s\n",
      "[CV 1/4] END max_depth=10, max_features=10, n_estimators=100;, score=0.850 total time=   9.4s\n",
      "[CV 3/4] END max_depth=5, max_features=18, n_estimators=300;, score=0.806 total time=  25.9s\n",
      "[CV 2/4] END max_depth=10, max_features=5, n_estimators=300;, score=0.840 total time=  14.8s\n",
      "[CV 2/4] END max_depth=5, max_features=18, n_estimators=300;, score=0.794 total time=  26.4s\n",
      "[CV 4/4] END max_depth=5, max_features=18, n_estimators=300;, score=0.784 total time=  26.0s\n",
      "[CV 1/4] END max_depth=5, max_features=18, n_estimators=300;, score=0.793 total time=  26.7s\n",
      "[CV 3/4] END max_depth=10, max_features=5, n_estimators=300;, score=0.848 total time=  14.9s\n",
      "[CV 4/4] END max_depth=10, max_features=5, n_estimators=300;, score=0.829 total time=  14.4s\n",
      "[CV 1/4] END max_depth=10, max_features=5, n_estimators=300;, score=0.840 total time=  17.4s\n",
      "[CV 3/4] END max_depth=10, max_features=10, n_estimators=100;, score=0.853 total time=   8.8s\n",
      "[CV 2/4] END max_depth=10, max_features=10, n_estimators=100;, score=0.847 total time=  10.5s\n",
      "[CV 4/4] END max_depth=10, max_features=10, n_estimators=100;, score=0.838 total time=  10.4s\n",
      "[CV 1/4] END max_depth=5, max_features=18, n_estimators=350;, score=0.793 total time=  30.4s\n",
      "[CV 2/4] END max_depth=10, max_features=5, n_estimators=350;, score=0.841 total time=  17.1s\n",
      "[CV 3/4] END max_depth=10, max_features=5, n_estimators=350;, score=0.848 total time=  17.4s\n",
      "[CV 3/4] END max_depth=5, max_features=18, n_estimators=350;, score=0.805 total time=  30.8s\n",
      "[CV 4/4] END max_depth=10, max_features=5, n_estimators=350;, score=0.830 total time=  17.7s\n",
      "[CV 2/4] END max_depth=5, max_features=18, n_estimators=350;, score=0.795 total time=  31.5s\n",
      "[CV 4/4] END max_depth=5, max_features=18, n_estimators=350;, score=0.784 total time=  31.3s\n",
      "[CV 1/4] END max_depth=10, max_features=5, n_estimators=350;, score=0.840 total time=  19.9s\n",
      "[CV 1/4] END max_depth=10, max_features=10, n_estimators=200;, score=0.851 total time=  20.6s\n",
      "[CV 2/4] END max_depth=10, max_features=10, n_estimators=200;, score=0.849 total time=  20.3s\n",
      "[CV 2/4] END max_depth=10, max_features=15, n_estimators=100;, score=0.848 total time=  12.6s\n",
      "[CV 3/4] END max_depth=10, max_features=10, n_estimators=200;, score=0.856 total time=  20.4s\n",
      "[CV 4/4] END max_depth=10, max_features=10, n_estimators=200;, score=0.839 total time=  20.1s\n",
      "[CV 1/4] END max_depth=10, max_features=15, n_estimators=100;, score=0.851 total time=  14.9s\n",
      "[CV 4/4] END max_depth=10, max_features=15, n_estimators=100;, score=0.840 total time=  14.1s\n",
      "[CV 3/4] END max_depth=10, max_features=15, n_estimators=100;, score=0.855 total time=  14.5s\n",
      "[CV 2/4] END max_depth=10, max_features=10, n_estimators=300;, score=0.848 total time=  25.3s\n",
      "[CV 4/4] END max_depth=10, max_features=10, n_estimators=300;, score=0.839 total time=  25.7s\n",
      "[CV 1/4] END max_depth=10, max_features=10, n_estimators=300;, score=0.851 total time=  27.7s\n",
      "[CV 3/4] END max_depth=10, max_features=10, n_estimators=300;, score=0.855 total time=  26.5s\n",
      "[CV 1/4] END max_depth=10, max_features=15, n_estimators=200;, score=0.849 total time=  26.2s\n",
      "[CV 1/4] END max_depth=10, max_features=10, n_estimators=350;, score=0.851 total time=  31.1s\n",
      "[CV 2/4] END max_depth=10, max_features=15, n_estimators=200;, score=0.848 total time=  26.1s\n",
      "[CV 2/4] END max_depth=10, max_features=10, n_estimators=350;, score=0.848 total time=  31.6s\n",
      "[CV 4/4] END max_depth=10, max_features=10, n_estimators=350;, score=0.840 total time=  31.0s\n",
      "[CV 4/4] END max_depth=10, max_features=15, n_estimators=200;, score=0.840 total time=  26.1s\n",
      "[CV 3/4] END max_depth=10, max_features=15, n_estimators=200;, score=0.855 total time=  26.7s\n",
      "[CV 3/4] END max_depth=10, max_features=10, n_estimators=350;, score=0.855 total time=  31.9s\n",
      "[CV 1/4] END max_depth=10, max_features=18, n_estimators=100;, score=0.850 total time=  17.7s\n",
      "[CV 2/4] END max_depth=10, max_features=18, n_estimators=100;, score=0.847 total time=  18.1s\n",
      "[CV 3/4] END max_depth=10, max_features=18, n_estimators=100;, score=0.855 total time=  18.0s\n",
      "[CV 4/4] END max_depth=10, max_features=18, n_estimators=100;, score=0.841 total time=  18.1s\n",
      "[CV 1/4] END max_depth=15, max_features=5, n_estimators=100;, score=0.858 total time=   6.9s\n",
      "[CV 2/4] END max_depth=15, max_features=5, n_estimators=100;, score=0.854 total time=   6.6s\n",
      "[CV 4/4] END max_depth=15, max_features=5, n_estimators=100;, score=0.845 total time=   6.5s\n",
      "[CV 3/4] END max_depth=15, max_features=5, n_estimators=100;, score=0.861 total time=   6.8s\n",
      "[CV 2/4] END max_depth=10, max_features=15, n_estimators=300;, score=0.849 total time=  39.1s\n",
      "[CV 3/4] END max_depth=10, max_features=15, n_estimators=300;, score=0.855 total time=  39.2s\n",
      "[CV 1/4] END max_depth=10, max_features=15, n_estimators=300;, score=0.850 total time=  39.7s\n",
      "[CV 4/4] END max_depth=10, max_features=15, n_estimators=300;, score=0.840 total time=  43.3s\n",
      "[CV 1/4] END max_depth=15, max_features=5, n_estimators=200;, score=0.859 total time=  13.1s\n",
      "[CV 2/4] END max_depth=15, max_features=5, n_estimators=200;, score=0.854 total time=  13.5s\n",
      "[CV 1/4] END max_depth=10, max_features=18, n_estimators=200;, score=0.850 total time=  29.6s\n",
      "[CV 2/4] END max_depth=10, max_features=18, n_estimators=200;, score=0.849 total time=  29.5s\n",
      "[CV 3/4] END max_depth=15, max_features=5, n_estimators=200;, score=0.862 total time=  13.2s\n",
      "[CV 4/4] END max_depth=15, max_features=5, n_estimators=200;, score=0.847 total time=  13.3s\n",
      "[CV 4/4] END max_depth=10, max_features=18, n_estimators=200;, score=0.840 total time=  32.5s\n",
      "[CV 3/4] END max_depth=10, max_features=15, n_estimators=350;, score=0.855 total time=  44.9s\n",
      "[CV 3/4] END max_depth=10, max_features=18, n_estimators=200;, score=0.856 total time=  33.6s\n",
      "[CV 1/4] END max_depth=15, max_features=5, n_estimators=300;, score=0.858 total time=  19.5s\n",
      "[CV 2/4] END max_depth=15, max_features=5, n_estimators=300;, score=0.854 total time=  19.7s\n",
      "[CV 2/4] END max_depth=10, max_features=15, n_estimators=350;, score=0.850 total time=  51.2s\n",
      "[CV 1/4] END max_depth=10, max_features=15, n_estimators=350;, score=0.849 total time=  51.7s\n",
      "[CV 3/4] END max_depth=15, max_features=5, n_estimators=300;, score=0.862 total time=  19.8s\n",
      "[CV 4/4] END max_depth=10, max_features=15, n_estimators=350;, score=0.841 total time=  51.3s\n",
      "[CV 2/4] END max_depth=15, max_features=10, n_estimators=100;, score=0.855 total time=  13.5s\n",
      "[CV 3/4] END max_depth=15, max_features=10, n_estimators=100;, score=0.866 total time=  10.6s\n",
      "[CV 1/4] END max_depth=15, max_features=10, n_estimators=100;, score=0.861 total time=  14.0s\n",
      "[CV 4/4] END max_depth=15, max_features=10, n_estimators=100;, score=0.853 total time=  10.4s\n",
      "[CV 4/4] END max_depth=15, max_features=5, n_estimators=300;, score=0.848 total time=  21.6s\n",
      "[CV 2/4] END max_depth=10, max_features=18, n_estimators=300;, score=0.848 total time=  43.1s\n",
      "[CV 3/4] END max_depth=10, max_features=18, n_estimators=300;, score=0.855 total time=  43.6s\n",
      "[CV 1/4] END max_depth=10, max_features=18, n_estimators=300;, score=0.851 total time=  44.3s\n",
      "[CV 2/4] END max_depth=15, max_features=5, n_estimators=350;, score=0.854 total time=  21.7s\n",
      "[CV 4/4] END max_depth=15, max_features=5, n_estimators=350;, score=0.848 total time=  21.9s\n",
      "[CV 4/4] END max_depth=10, max_features=18, n_estimators=300;, score=0.841 total time=  45.9s\n",
      "[CV 1/4] END max_depth=15, max_features=5, n_estimators=350;, score=0.859 total time=  25.1s\n",
      "[CV 3/4] END max_depth=15, max_features=5, n_estimators=350;, score=0.862 total time=  25.3s\n",
      "[CV 1/4] END max_depth=15, max_features=10, n_estimators=200;, score=0.860 total time=  22.8s\n",
      "[CV 2/4] END max_depth=10, max_features=18, n_estimators=350;, score=0.848 total time=  50.6s\n",
      "[CV 1/4] END max_depth=10, max_features=18, n_estimators=350;, score=0.851 total time=  52.2s\n",
      "[CV 3/4] END max_depth=10, max_features=18, n_estimators=350;, score=0.855 total time=  52.5s\n",
      "[CV 4/4] END max_depth=10, max_features=18, n_estimators=350;, score=0.840 total time=  53.1s\n",
      "[CV 2/4] END max_depth=15, max_features=10, n_estimators=200;, score=0.855 total time=  21.7s\n",
      "[CV 3/4] END max_depth=15, max_features=10, n_estimators=200;, score=0.867 total time=  21.9s\n",
      "[CV 4/4] END max_depth=15, max_features=10, n_estimators=200;, score=0.854 total time=  22.9s\n",
      "[CV 1/4] END max_depth=15, max_features=15, n_estimators=100;, score=0.863 total time=  15.5s\n",
      "[CV 2/4] END max_depth=15, max_features=15, n_estimators=100;, score=0.855 total time=  15.3s\n",
      "[CV 3/4] END max_depth=15, max_features=15, n_estimators=100;, score=0.868 total time=  15.3s\n",
      "[CV 4/4] END max_depth=15, max_features=15, n_estimators=100;, score=0.854 total time=  15.3s\n",
      "[CV 2/4] END max_depth=15, max_features=10, n_estimators=300;, score=0.856 total time=  34.2s\n",
      "[CV 1/4] END max_depth=15, max_features=10, n_estimators=300;, score=0.861 total time=  38.7s\n",
      "[CV 3/4] END max_depth=15, max_features=10, n_estimators=300;, score=0.867 total time=  38.5s\n",
      "[CV 4/4] END max_depth=15, max_features=10, n_estimators=300;, score=0.853 total time=  37.5s\n",
      "[CV 3/4] END max_depth=15, max_features=10, n_estimators=350;, score=0.867 total time=  38.5s\n",
      "[CV 1/4] END max_depth=15, max_features=10, n_estimators=350;, score=0.861 total time=  39.7s\n",
      "[CV 1/4] END max_depth=15, max_features=18, n_estimators=100;, score=0.861 total time=  19.5s\n",
      "[CV 1/4] END max_depth=15, max_features=15, n_estimators=200;, score=0.861 total time=  32.6s\n",
      "[CV 2/4] END max_depth=15, max_features=18, n_estimators=100;, score=0.856 total time=  19.6s\n",
      "[CV 3/4] END max_depth=15, max_features=18, n_estimators=100;, score=0.866 total time=  19.8s\n",
      "[CV 2/4] END max_depth=15, max_features=15, n_estimators=200;, score=0.856 total time=  32.6s\n",
      "[CV 4/4] END max_depth=15, max_features=18, n_estimators=100;, score=0.851 total time=  19.3s\n",
      "[CV 2/4] END max_depth=15, max_features=10, n_estimators=350;, score=0.856 total time=  44.5s\n",
      "[CV 3/4] END max_depth=15, max_features=15, n_estimators=200;, score=0.868 total time=  36.4s\n",
      "[CV 4/4] END max_depth=15, max_features=10, n_estimators=350;, score=0.853 total time=  43.6s\n",
      "[CV 4/4] END max_depth=15, max_features=15, n_estimators=200;, score=0.854 total time=  36.7s\n",
      "[CV 2/4] END max_depth=15, max_features=15, n_estimators=300;, score=0.855 total time=  46.7s\n",
      "[CV 1/4] END max_depth=15, max_features=15, n_estimators=300;, score=0.861 total time=  48.7s\n",
      "[CV 4/4] END max_depth=15, max_features=15, n_estimators=300;, score=0.855 total time=  47.6s\n",
      "[CV 3/4] END max_depth=15, max_features=15, n_estimators=300;, score=0.868 total time=  50.7s\n",
      "[CV 1/4] END max_depth=15, max_features=18, n_estimators=200;, score=0.860 total time=  35.6s\n",
      "[CV 1/4] END max_depth=15, max_features=15, n_estimators=350;, score=0.860 total time=  53.9s\n",
      "[CV 3/4] END max_depth=15, max_features=18, n_estimators=200;, score=0.867 total time=  35.9s\n",
      "[CV 2/4] END max_depth=15, max_features=15, n_estimators=350;, score=0.856 total time=  53.7s\n",
      "[CV 2/4] END max_depth=15, max_features=18, n_estimators=200;, score=0.855 total time=  36.6s\n",
      "[CV 3/4] END max_depth=15, max_features=15, n_estimators=350;, score=0.868 total time=  53.7s\n",
      "[CV 4/4] END max_depth=15, max_features=15, n_estimators=350;, score=0.854 total time=  52.8s\n",
      "[CV 4/4] END max_depth=15, max_features=18, n_estimators=200;, score=0.851 total time=  35.6s\n",
      "[CV 2/4] END max_depth=15, max_features=18, n_estimators=300;, score=0.857 total time=  47.1s\n",
      "[CV 3/4] END max_depth=15, max_features=18, n_estimators=300;, score=0.867 total time=  46.9s\n",
      "[CV 1/4] END max_depth=15, max_features=18, n_estimators=300;, score=0.860 total time=  48.0s\n",
      "[CV 4/4] END max_depth=15, max_features=18, n_estimators=300;, score=0.852 total time=  47.1s\n",
      "[CV 3/4] END max_depth=15, max_features=18, n_estimators=350;, score=0.866 total time=  52.6s\n",
      "[CV 2/4] END max_depth=15, max_features=18, n_estimators=350;, score=0.856 total time=  52.8s\n",
      "[CV 4/4] END max_depth=15, max_features=18, n_estimators=350;, score=0.852 total time=  52.3s\n",
      "[CV 1/4] END max_depth=15, max_features=18, n_estimators=350;, score=0.860 total time=  53.2s\n"
     ]
    },
    {
     "data": {
      "text/html": [
       "<style>#sk-container-id-7 {color: black;}#sk-container-id-7 pre{padding: 0;}#sk-container-id-7 div.sk-toggleable {background-color: white;}#sk-container-id-7 label.sk-toggleable__label {cursor: pointer;display: block;width: 100%;margin-bottom: 0;padding: 0.3em;box-sizing: border-box;text-align: center;}#sk-container-id-7 label.sk-toggleable__label-arrow:before {content: \"▸\";float: left;margin-right: 0.25em;color: #696969;}#sk-container-id-7 label.sk-toggleable__label-arrow:hover:before {color: black;}#sk-container-id-7 div.sk-estimator:hover label.sk-toggleable__label-arrow:before {color: black;}#sk-container-id-7 div.sk-toggleable__content {max-height: 0;max-width: 0;overflow: hidden;text-align: left;background-color: #f0f8ff;}#sk-container-id-7 div.sk-toggleable__content pre {margin: 0.2em;color: black;border-radius: 0.25em;background-color: #f0f8ff;}#sk-container-id-7 input.sk-toggleable__control:checked~div.sk-toggleable__content {max-height: 200px;max-width: 100%;overflow: auto;}#sk-container-id-7 input.sk-toggleable__control:checked~label.sk-toggleable__label-arrow:before {content: \"▾\";}#sk-container-id-7 div.sk-estimator input.sk-toggleable__control:checked~label.sk-toggleable__label {background-color: #d4ebff;}#sk-container-id-7 div.sk-label input.sk-toggleable__control:checked~label.sk-toggleable__label {background-color: #d4ebff;}#sk-container-id-7 input.sk-hidden--visually {border: 0;clip: rect(1px 1px 1px 1px);clip: rect(1px, 1px, 1px, 1px);height: 1px;margin: -1px;overflow: hidden;padding: 0;position: absolute;width: 1px;}#sk-container-id-7 div.sk-estimator {font-family: monospace;background-color: #f0f8ff;border: 1px dotted black;border-radius: 0.25em;box-sizing: border-box;margin-bottom: 0.5em;}#sk-container-id-7 div.sk-estimator:hover {background-color: #d4ebff;}#sk-container-id-7 div.sk-parallel-item::after {content: \"\";width: 100%;border-bottom: 1px solid gray;flex-grow: 1;}#sk-container-id-7 div.sk-label:hover label.sk-toggleable__label {background-color: #d4ebff;}#sk-container-id-7 div.sk-serial::before {content: \"\";position: absolute;border-left: 1px solid gray;box-sizing: border-box;top: 0;bottom: 0;left: 50%;z-index: 0;}#sk-container-id-7 div.sk-serial {display: flex;flex-direction: column;align-items: center;background-color: white;padding-right: 0.2em;padding-left: 0.2em;position: relative;}#sk-container-id-7 div.sk-item {position: relative;z-index: 1;}#sk-container-id-7 div.sk-parallel {display: flex;align-items: stretch;justify-content: center;background-color: white;position: relative;}#sk-container-id-7 div.sk-item::before, #sk-container-id-7 div.sk-parallel-item::before {content: \"\";position: absolute;border-left: 1px solid gray;box-sizing: border-box;top: 0;bottom: 0;left: 50%;z-index: -1;}#sk-container-id-7 div.sk-parallel-item {display: flex;flex-direction: column;z-index: 1;position: relative;background-color: white;}#sk-container-id-7 div.sk-parallel-item:first-child::after {align-self: flex-end;width: 50%;}#sk-container-id-7 div.sk-parallel-item:last-child::after {align-self: flex-start;width: 50%;}#sk-container-id-7 div.sk-parallel-item:only-child::after {width: 0;}#sk-container-id-7 div.sk-dashed-wrapped {border: 1px dashed gray;margin: 0 0.4em 0.5em 0.4em;box-sizing: border-box;padding-bottom: 0.4em;background-color: white;}#sk-container-id-7 div.sk-label label {font-family: monospace;font-weight: bold;display: inline-block;line-height: 1.2em;}#sk-container-id-7 div.sk-label-container {text-align: center;}#sk-container-id-7 div.sk-container {/* jupyter's `normalize.less` sets `[hidden] { display: none; }` but bootstrap.min.css set `[hidden] { display: none !important; }` so we also need the `!important` here to be able to override the default hidden behavior on the sphinx rendered scikit-learn.org. See: https://github.com/scikit-learn/scikit-learn/issues/21755 */display: inline-block !important;position: relative;}#sk-container-id-7 div.sk-text-repr-fallback {display: none;}</style><div id=\"sk-container-id-7\" class=\"sk-top-container\"><div class=\"sk-text-repr-fallback\"><pre>GridSearchCV(cv=4,\n",
       "             estimator=RandomForestClassifier(max_depth=10, max_features=15,\n",
       "                                              random_state=42),\n",
       "             n_jobs=-1,\n",
       "             param_grid={&#x27;max_depth&#x27;: [5, 10, 15],\n",
       "                         &#x27;max_features&#x27;: [5, 10, 15, 18],\n",
       "                         &#x27;n_estimators&#x27;: [100, 200, 300, 350]},\n",
       "             scoring=&#x27;accuracy&#x27;, verbose=3)</pre><b>In a Jupyter environment, please rerun this cell to show the HTML representation or trust the notebook. <br />On GitHub, the HTML representation is unable to render, please try loading this page with nbviewer.org.</b></div><div class=\"sk-container\" hidden><div class=\"sk-item sk-dashed-wrapped\"><div class=\"sk-label-container\"><div class=\"sk-label sk-toggleable\"><input class=\"sk-toggleable__control sk-hidden--visually\" id=\"sk-estimator-id-17\" type=\"checkbox\" ><label for=\"sk-estimator-id-17\" class=\"sk-toggleable__label sk-toggleable__label-arrow\">GridSearchCV</label><div class=\"sk-toggleable__content\"><pre>GridSearchCV(cv=4,\n",
       "             estimator=RandomForestClassifier(max_depth=10, max_features=15,\n",
       "                                              random_state=42),\n",
       "             n_jobs=-1,\n",
       "             param_grid={&#x27;max_depth&#x27;: [5, 10, 15],\n",
       "                         &#x27;max_features&#x27;: [5, 10, 15, 18],\n",
       "                         &#x27;n_estimators&#x27;: [100, 200, 300, 350]},\n",
       "             scoring=&#x27;accuracy&#x27;, verbose=3)</pre></div></div></div><div class=\"sk-parallel\"><div class=\"sk-parallel-item\"><div class=\"sk-item\"><div class=\"sk-label-container\"><div class=\"sk-label sk-toggleable\"><input class=\"sk-toggleable__control sk-hidden--visually\" id=\"sk-estimator-id-18\" type=\"checkbox\" ><label for=\"sk-estimator-id-18\" class=\"sk-toggleable__label sk-toggleable__label-arrow\">estimator: RandomForestClassifier</label><div class=\"sk-toggleable__content\"><pre>RandomForestClassifier(max_depth=10, max_features=15, random_state=42)</pre></div></div></div><div class=\"sk-serial\"><div class=\"sk-item\"><div class=\"sk-estimator sk-toggleable\"><input class=\"sk-toggleable__control sk-hidden--visually\" id=\"sk-estimator-id-19\" type=\"checkbox\" ><label for=\"sk-estimator-id-19\" class=\"sk-toggleable__label sk-toggleable__label-arrow\">RandomForestClassifier</label><div class=\"sk-toggleable__content\"><pre>RandomForestClassifier(max_depth=10, max_features=15, random_state=42)</pre></div></div></div></div></div></div></div></div></div></div>"
      ],
      "text/plain": [
       "GridSearchCV(cv=4,\n",
       "             estimator=RandomForestClassifier(max_depth=10, max_features=15,\n",
       "                                              random_state=42),\n",
       "             n_jobs=-1,\n",
       "             param_grid={'max_depth': [5, 10, 15],\n",
       "                         'max_features': [5, 10, 15, 18],\n",
       "                         'n_estimators': [100, 200, 300, 350]},\n",
       "             scoring='accuracy', verbose=3)"
      ]
     },
     "execution_count": 69,
     "metadata": {},
     "output_type": "execute_result"
    }
   ],
   "source": [
    "param_grid = {\n",
    "    'n_estimators': [100, 200, 300, 350],  # Number of trees in the forest\n",
    "    'max_depth': [5, 10, 15],  # Maximum depth of each tree\n",
    "    # 'min_samples_split': [2, 5, 10],  # Minimum number of samples required to split an internal node\n",
    "    # 'min_samples_leaf': [1, 2, 4],  # Minimum number of samples required to be at a leaf node\n",
    "    'max_features': [5, 10, 15, 18]\n",
    "}\n",
    "# param_grid = {\n",
    "#     'n_estimators': range(300, 300),  # Number of trees in the forest\n",
    "#     'max_depth': range(5, 15),  # Maximum depth of each tree\n",
    "#     # 'min_samples_split': [2, 5, 10],  # Minimum number of samples required to split an internal node\n",
    "#     # 'min_samples_leaf': [1, 2, 4],  # Minimum number of samples required to be at a leaf node\n",
    "#     'max_features': range(5, 18)\n",
    "# }\n",
    "\n",
    "grid_search = GridSearchCV(estimator=rf, param_grid=param_grid,\n",
    "                           cv=4, scoring='accuracy', n_jobs=-1, verbose=3)\n",
    "\n",
    "grid_search.fit(X_train, y_train)"
   ]
  },
  {
   "cell_type": "code",
   "execution_count": 70,
   "metadata": {},
   "outputs": [],
   "source": [
    "optimized_rf = grid_search.best_estimator_"
   ]
  },
  {
   "cell_type": "code",
   "execution_count": 72,
   "metadata": {},
   "outputs": [
    {
     "data": {
      "text/plain": [
       "0.8600295892234456"
      ]
     },
     "execution_count": 72,
     "metadata": {},
     "output_type": "execute_result"
    }
   ],
   "source": [
    "grid_search.best_score_"
   ]
  },
  {
   "cell_type": "code",
   "execution_count": 73,
   "metadata": {},
   "outputs": [
    {
     "data": {
      "text/plain": [
       "{'max_depth': 15, 'max_features': 15, 'n_estimators': 300}"
      ]
     },
     "execution_count": 73,
     "metadata": {},
     "output_type": "execute_result"
    }
   ],
   "source": [
    "grid_search.best_params_"
   ]
  },
  {
   "cell_type": "code",
   "execution_count": 74,
   "metadata": {},
   "outputs": [],
   "source": [
    "rf_train_pred = optimized_rf.predict(X_train)\n",
    "rf_test_pred = optimized_rf.predict(X_test)"
   ]
  },
  {
   "cell_type": "code",
   "execution_count": 75,
   "metadata": {},
   "outputs": [
    {
     "name": "stdout",
     "output_type": "stream",
     "text": [
      "The accuracy on train data is  0.9490243056650168\n",
      "The accuracy on test data is  0.8656859139389481\n",
      "The precision on test data is  0.8095735162541008\n",
      "The recall on test data is  0.9081632653061225\n",
      "The f1 on test data is  0.8560391043834753\n",
      "The roc_score on test data is  0.8702559795087786\n"
     ]
    }
   ],
   "source": [
    "print(\"The accuracy on train data is \", accuracy_score(rf_train_pred, y_train))\n",
    "print(\"The accuracy on test data is \", accuracy_score(rf_test_pred, y_test))\n",
    "print(\"The precision on test data is \", precision_score(rf_test_pred, y_test))\n",
    "print(\"The recall on test data is \", recall_score(rf_test_pred, y_test))\n",
    "print(\"The f1 on test data is \", f1_score(rf_test_pred, y_test))\n",
    "print(\"The roc_score on test data is \", roc_auc_score(rf_test_pred, y_test))"
   ]
  },
  {
   "cell_type": "code",
   "execution_count": 76,
   "metadata": {},
   "outputs": [
    {
     "data": {
      "text/plain": [
       "[Text(0, 0.5, 'Not Defaulter'), Text(0, 1.5, 'Defaulter')]"
      ]
     },
     "execution_count": 76,
     "metadata": {},
     "output_type": "execute_result"
    },
    {
     "data": {
      "image/png": "[encoded data removed]",
      "text/plain": [
       "<Figure size 640x480 with 2 Axes>"
      ]
     },
     "metadata": {},
     "output_type": "display_data"
    }
   ],
   "source": [
    "labels = ['Not Defaulter', 'Defaulter']\n",
    "cm = confusion_matrix(y_test, rf_test_pred)\n",
    "\n",
    "\n",
    "ax = plt.subplot()\n",
    "sns.heatmap(cm,\n",
    "            xticklabels=['Not Default', 'Default'],\n",
    "            yticklabels=['Not Default', 'Default'],\n",
    "            annot=True, ax=ax,\n",
    "            linewidths=.2, linecolor=\"Darkblue\", cmap=\"Blues\")  # annot=True to annotate cells\n",
    "\n",
    "# labels, title and ticks\n",
    "ax.set_xlabel('Predicted labels')\n",
    "ax.set_ylabel('True labels')\n",
    "ax.set_title('Confusion Matrix (Random Forest)')\n",
    "ax.xaxis.set_ticklabels(labels)\n",
    "ax.yaxis.set_ticklabels(labels)"
   ]
  },
  {
   "cell_type": "code",
   "execution_count": 77,
   "metadata": {},
   "outputs": [
    {
     "data": {
      "image/png": "[encoded data removed]",
      "text/plain": [
       "<Figure size 640x480 with 1 Axes>"
      ]
     },
     "metadata": {},
     "output_type": "display_data"
    }
   ],
   "source": [
    "y_preds_proba_rf = optimized_rf.predict_proba(X_test)[::, 1]\n",
    "y_pred_proba = y_preds_proba_rf\n",
    "fpr, tpr, _ = roc_curve(y_test,  y_pred_proba)\n",
    "auc = roc_auc_score(y_test, y_pred_proba)\n",
    "plt.plot(fpr, tpr, label=\"data 1, auc=\"+str(auc))\n",
    "plt.title('Random Forest')\n",
    "plt.legend(loc=4)\n",
    "plt.show()"
   ]
  },
  {
   "cell_type": "markdown",
   "metadata": {},
   "source": [
    "# XGBoost"
   ]
  },
  {
   "cell_type": "markdown",
   "metadata": {},
   "source": [
    "### **基本概念**\n",
    "\n",
    "1. **梯度提升（Gradient Boosting）**:\n",
    "    - XGBoost 屬於梯度提升的家族。梯度提升是一種機器學習技術，它逐步建立模型，每一步都試圖糾正前一步的錯誤。\n",
    "    - 基本思想是結合多個簡單的模型（如決策樹），每個模型都專注於改進前一個模型的不足之處。\n",
    "2. **梯度提升決策樹（GBDT）**:\n",
    "    - XGBoost 使用決策樹作為基學習器（weak learner）。這些樹是按順序一個接一個建立的，每棵新樹的建立都基於之前樹的結果。\n",
    "\n",
    "### **XGBoost 的特點**\n",
    "\n",
    "1. **效率和靈活性**:\n",
    "    - XGBoost 在計算上非常高效。它使用了一些先進的技術，如樹剪枝（tree pruning）、正則化（regularization）和分布式計算，以提高速度和效率。\n",
    "    - 它非常靈活，支持自定義優化目標和評估標準。\n",
    "2. **正則化**:\n",
    "    - XGBoost 在梯度提升的基礎上增加了正則化項（L1 和 L2 正則化），這有助於避免過擬合，提高模型的泛化能力。\n",
    "3. **處理缺失值**:\n",
    "    - XGBoost 能自動處理缺失值的問題。在訓練過程中，它會學習缺失值應該如何處理。\n",
    "4. **樹剪枝**:\n",
    "    - 與傳統的梯度提升方法不同，XGBoost 從最大深度開始生長樹，然後進行剪枝。這種「深度優先」的方法有助於減少過擬合的風險。\n",
    "5. **內建交叉驗證**:\n",
    "    - XGBoost 可以在每一輪迭代過程中進行交叉驗證，這使得模型的調參和評估更加簡單高效。\n",
    "6. **多線程和分布式處理**:\n",
    "    - XGBoost 支持多線程，這意味著它可以利用多核 CPU 進行快速計算。它還支持分布式計算，可以處理大型數據集。"
   ]
  },
  {
   "cell_type": "markdown",
   "metadata": {},
   "source": [
    "### **XGBoost 和 `XGBClassifier`**\n",
    "\n",
    "- **XGBoost** 是一種基於梯度提升決策樹的機器學習算法，廣泛用於分類問題，尤其是在具有高維特徵的數據集上表現出色。\n",
    "- **`XGBClassifier(objective='binary:logistic')`**:\n",
    "    - 這是創建 XGBoost 分類器的步驟，用於二元分類。\n",
    "    - **`objective='binary:logistic'`** 指定了損失函數的類型，適用於二元分類問題。\n",
    "\n",
    "### **GridSearchCV 參數優化**\n",
    "\n",
    "- **`GridSearchCV`** 是一種系統化尋找最佳參數（hyperparameters）組合的方法，用於提升模型性能。\n",
    "- **參數解釋**:\n",
    "    - **`estimator=xgb`**: 指定要優化的模型。\n",
    "    - **`param_grid=parm_xgb`**: 指定要嘗試的參數範圍。在這裡，有三個參數：\n",
    "        - **`max_depth`**: 決策樹的最大深度。\n",
    "        - **`n_estimators`**: 模型中梯度提升樹的數量。\n",
    "        - **`learning_rate`**: 每棵樹對最終結果的貢獻率，也稱為步長。\n",
    "    - **`scoring='accuracy'`**: 評估模型性能的指標，這裡使用準確度。\n",
    "    - **`cv=5`**: 交叉驗證的折數，這裡使用5折交叉驗證。\n",
    "    - **`n_jobs=-1`**: 使用所有可用的 CPU 核心進行計算。\n",
    "    - **`verbose=3`**: 表示顯示詳細的進度信息。\n",
    "\n",
    "### **模型訓練與結果**\n",
    "\n",
    "- **`grid_result = grid_xgb.fit(X_train, y_train)`**:\n",
    "    - 這一步將 **`GridSearchCV`** 應用於訓練數據集，開始尋找最佳參數組合。\n",
    "    - **`X_train`** 和 **`y_train`** 分別是特徵數據和目標標籤。\n",
    "    - **`grid_result`** 保存了優化過程的結果，包括最佳參數、最佳模型等。"
   ]
  },
  {
   "cell_type": "code",
   "execution_count": 78,
   "metadata": {},
   "outputs": [
    {
     "name": "stdout",
     "output_type": "stream",
     "text": [
      "Fitting 5 folds for each of 36 candidates, totalling 180 fits\n",
      "[CV 2/5] END learning_rate=0.01, max_depth=15, n_estimators=250;, score=0.860 total time= 1.7min\n",
      "[CV 5/5] END learning_rate=0.01, max_depth=15, n_estimators=250;, score=0.853 total time= 1.7min\n",
      "[CV 1/5] END learning_rate=0.01, max_depth=15, n_estimators=250;, score=0.860 total time= 1.8min\n",
      "[CV 2/5] END learning_rate=0.01, max_depth=15, n_estimators=300;, score=0.863 total time= 1.8min\n",
      "[CV 5/5] END learning_rate=0.01, max_depth=15, n_estimators=300;, score=0.857 total time= 1.9min\n",
      "[CV 4/5] END learning_rate=0.01, max_depth=15, n_estimators=250;, score=0.863 total time= 1.9min\n",
      "[CV 3/5] END learning_rate=0.01, max_depth=15, n_estimators=300;, score=0.856 total time= 1.9min\n",
      "[CV 1/5] END learning_rate=0.01, max_depth=15, n_estimators=300;, score=0.862 total time= 2.0min\n",
      "[CV 4/5] END learning_rate=0.01, max_depth=15, n_estimators=300;, score=0.863 total time= 2.1min\n",
      "[CV 3/5] END learning_rate=0.01, max_depth=15, n_estimators=250;, score=0.855 total time= 2.1min\n",
      "[CV 3/5] END learning_rate=0.01, max_depth=18, n_estimators=250;, score=0.853 total time= 2.2min\n",
      "[CV 1/5] END learning_rate=0.01, max_depth=18, n_estimators=250;, score=0.861 total time= 2.2min\n",
      "[CV 2/5] END learning_rate=0.01, max_depth=18, n_estimators=250;, score=0.862 total time= 2.3min\n",
      "[CV 4/5] END learning_rate=0.01, max_depth=18, n_estimators=250;, score=0.863 total time= 2.4min\n",
      "[CV 5/5] END learning_rate=0.01, max_depth=18, n_estimators=250;, score=0.852 total time= 2.5min\n",
      "[CV 2/5] END learning_rate=0.01, max_depth=15, n_estimators=400;, score=0.866 total time= 2.6min\n",
      "[CV 3/5] END learning_rate=0.01, max_depth=15, n_estimators=400;, score=0.859 total time= 2.6min\n",
      "[CV 5/5] END learning_rate=0.01, max_depth=15, n_estimators=400;, score=0.860 total time= 2.6min\n",
      "[CV 2/5] END learning_rate=0.01, max_depth=18, n_estimators=300;, score=0.864 total time= 2.6min\n",
      "[CV 4/5] END learning_rate=0.01, max_depth=18, n_estimators=300;, score=0.863 total time= 2.8min\n",
      "[CV 3/5] END learning_rate=0.01, max_depth=18, n_estimators=300;, score=0.857 total time= 2.8min\n",
      "[CV 1/5] END learning_rate=0.01, max_depth=15, n_estimators=400;, score=0.864 total time= 2.9min\n",
      "[CV 4/5] END learning_rate=0.01, max_depth=15, n_estimators=400;, score=0.867 total time= 2.9min\n",
      "[CV 1/5] END learning_rate=0.01, max_depth=18, n_estimators=300;, score=0.863 total time= 3.1min\n",
      "[CV 1/5] END learning_rate=0.01, max_depth=18, n_estimators=400;, score=0.865 total time= 2.9min\n",
      "[CV 3/5] END learning_rate=0.01, max_depth=22, n_estimators=250;, score=0.853 total time= 2.5min\n",
      "[CV 2/5] END learning_rate=0.01, max_depth=22, n_estimators=250;, score=0.863 total time= 2.6min\n",
      "[CV 5/5] END learning_rate=0.01, max_depth=18, n_estimators=300;, score=0.854 total time= 3.0min\n",
      "[CV 5/5] END learning_rate=0.01, max_depth=22, n_estimators=250;, score=0.855 total time= 2.5min\n",
      "[CV 1/5] END learning_rate=0.01, max_depth=22, n_estimators=250;, score=0.860 total time= 2.9min\n",
      "[CV 4/5] END learning_rate=0.01, max_depth=22, n_estimators=250;, score=0.865 total time= 2.8min\n",
      "[CV 3/5] END learning_rate=0.01, max_depth=18, n_estimators=400;, score=0.862 total time= 3.1min\n",
      "[CV 1/5] END learning_rate=0.01, max_depth=22, n_estimators=300;, score=0.863 total time= 2.8min\n",
      "[CV 4/5] END learning_rate=0.01, max_depth=18, n_estimators=400;, score=0.868 total time= 3.2min\n",
      "[CV 2/5] END learning_rate=0.01, max_depth=18, n_estimators=400;, score=0.869 total time= 3.4min\n",
      "[CV 3/5] END learning_rate=0.01, max_depth=25, n_estimators=250;, score=0.854 total time= 2.1min\n",
      "[CV 4/5] END learning_rate=0.01, max_depth=22, n_estimators=300;, score=0.867 total time= 2.8min\n",
      "[CV 5/5] END learning_rate=0.01, max_depth=22, n_estimators=300;, score=0.857 total time= 3.0min\n",
      "[CV 1/5] END learning_rate=0.01, max_depth=25, n_estimators=250;, score=0.859 total time= 2.7min\n",
      "[CV 2/5] END learning_rate=0.01, max_depth=22, n_estimators=300;, score=0.865 total time= 3.4min\n",
      "[CV 3/5] END learning_rate=0.01, max_depth=22, n_estimators=300;, score=0.857 total time= 3.3min\n",
      "[CV 5/5] END learning_rate=0.01, max_depth=18, n_estimators=400;, score=0.859 total time= 3.8min\n",
      "[CV 2/5] END learning_rate=0.01, max_depth=25, n_estimators=250;, score=0.862 total time= 3.0min\n",
      "[CV 4/5] END learning_rate=0.01, max_depth=22, n_estimators=400;, score=0.869 total time= 3.4min\n",
      "[CV 2/5] END learning_rate=0.01, max_depth=22, n_estimators=400;, score=0.867 total time= 3.7min\n",
      "[CV 3/5] END learning_rate=0.01, max_depth=22, n_estimators=400;, score=0.861 total time= 3.6min\n",
      "[CV 1/5] END learning_rate=0.05, max_depth=15, n_estimators=250;, score=0.872 total time=  57.2s\n",
      "[CV 3/5] END learning_rate=0.05, max_depth=15, n_estimators=250;, score=0.865 total time=  44.9s\n",
      "[CV 2/5] END learning_rate=0.05, max_depth=15, n_estimators=250;, score=0.876 total time=  47.0s\n",
      "[CV 5/5] END learning_rate=0.05, max_depth=15, n_estimators=250;, score=0.868 total time=  46.7s\n",
      "[CV 1/5] END learning_rate=0.01, max_depth=22, n_estimators=400;, score=0.865 total time= 3.8min\n",
      "[CV 5/5] END learning_rate=0.01, max_depth=22, n_estimators=400;, score=0.862 total time= 3.6min\n",
      "[CV 4/5] END learning_rate=0.05, max_depth=15, n_estimators=250;, score=0.874 total time=  54.0s\n",
      "[CV 1/5] END learning_rate=0.05, max_depth=15, n_estimators=300;, score=0.871 total time= 1.0min\n",
      "[CV 2/5] END learning_rate=0.05, max_depth=15, n_estimators=300;, score=0.876 total time= 1.2min\n",
      "[CV 5/5] END learning_rate=0.01, max_depth=25, n_estimators=250;, score=0.854 total time= 2.5min\n",
      "[CV 3/5] END learning_rate=0.05, max_depth=15, n_estimators=300;, score=0.865 total time=  53.1s\n",
      "[CV 4/5] END learning_rate=0.05, max_depth=15, n_estimators=300;, score=0.875 total time=  54.5s\n",
      "[CV 5/5] END learning_rate=0.05, max_depth=15, n_estimators=300;, score=0.869 total time=  57.9s\n",
      "[CV 2/5] END learning_rate=0.05, max_depth=15, n_estimators=400;, score=0.877 total time= 1.1min\n",
      "[CV 4/5] END learning_rate=0.05, max_depth=15, n_estimators=400;, score=0.877 total time= 1.0min\n",
      "[CV 1/5] END learning_rate=0.05, max_depth=18, n_estimators=250;, score=0.870 total time=  59.8s\n",
      "[CV 1/5] END learning_rate=0.05, max_depth=15, n_estimators=400;, score=0.870 total time= 1.2min\n",
      "[CV 3/5] END learning_rate=0.05, max_depth=15, n_estimators=400;, score=0.865 total time= 1.2min\n",
      "[CV 5/5] END learning_rate=0.05, max_depth=15, n_estimators=400;, score=0.869 total time= 1.1min\n",
      "[CV 2/5] END learning_rate=0.01, max_depth=25, n_estimators=300;, score=0.865 total time= 2.9min\n",
      "[CV 4/5] END learning_rate=0.01, max_depth=25, n_estimators=250;, score=0.863 total time= 3.1min\n",
      "[CV 2/5] END learning_rate=0.05, max_depth=18, n_estimators=250;, score=0.875 total time= 1.2min\n",
      "[CV 3/5] END learning_rate=0.05, max_depth=18, n_estimators=250;, score=0.867 total time= 1.1min\n",
      "[CV 4/5] END learning_rate=0.01, max_depth=25, n_estimators=300;, score=0.866 total time= 3.0min\n",
      "[CV 1/5] END learning_rate=0.01, max_depth=25, n_estimators=300;, score=0.863 total time= 3.3min\n",
      "[CV 4/5] END learning_rate=0.05, max_depth=18, n_estimators=250;, score=0.878 total time= 1.1min\n",
      "[CV 5/5] END learning_rate=0.05, max_depth=18, n_estimators=250;, score=0.867 total time= 1.2min\n",
      "[CV 5/5] END learning_rate=0.01, max_depth=25, n_estimators=300;, score=0.858 total time= 3.4min\n",
      "[CV 2/5] END learning_rate=0.01, max_depth=25, n_estimators=400;, score=0.868 total time= 3.4min\n",
      "[CV 3/5] END learning_rate=0.05, max_depth=18, n_estimators=300;, score=0.868 total time= 1.2min\n",
      "[CV 1/5] END learning_rate=0.05, max_depth=18, n_estimators=300;, score=0.871 total time= 1.4min\n",
      "[CV 5/5] END learning_rate=0.05, max_depth=18, n_estimators=300;, score=0.869 total time= 1.1min\n",
      "[CV 2/5] END learning_rate=0.05, max_depth=18, n_estimators=300;, score=0.876 total time= 1.5min\n",
      "[CV 3/5] END learning_rate=0.01, max_depth=25, n_estimators=300;, score=0.857 total time= 4.0min\n",
      "[CV 2/5] END learning_rate=0.05, max_depth=18, n_estimators=400;, score=0.876 total time= 1.3min\n",
      "[CV 4/5] END learning_rate=0.05, max_depth=18, n_estimators=300;, score=0.878 total time= 1.4min\n",
      "[CV 1/5] END learning_rate=0.01, max_depth=25, n_estimators=400;, score=0.865 total time= 3.8min\n",
      "[CV 1/5] END learning_rate=0.05, max_depth=22, n_estimators=250;, score=0.868 total time= 1.2min\n",
      "[CV 1/5] END learning_rate=0.05, max_depth=18, n_estimators=400;, score=0.871 total time= 1.4min\n",
      "[CV 4/5] END learning_rate=0.05, max_depth=18, n_estimators=400;, score=0.879 total time= 1.4min\n",
      "[CV 5/5] END learning_rate=0.05, max_depth=18, n_estimators=400;, score=0.870 total time= 1.3min\n",
      "[CV 2/5] END learning_rate=0.05, max_depth=22, n_estimators=250;, score=0.876 total time= 1.3min\n",
      "[CV 3/5] END learning_rate=0.05, max_depth=18, n_estimators=400;, score=0.868 total time= 1.5min\n",
      "[CV 3/5] END learning_rate=0.01, max_depth=25, n_estimators=400;, score=0.862 total time= 4.0min\n",
      "[CV 4/5] END learning_rate=0.01, max_depth=25, n_estimators=400;, score=0.869 total time= 3.9min\n",
      "[CV 5/5] END learning_rate=0.05, max_depth=22, n_estimators=250;, score=0.869 total time= 1.2min\n",
      "[CV 5/5] END learning_rate=0.01, max_depth=25, n_estimators=400;, score=0.861 total time= 4.0min\n",
      "[CV 4/5] END learning_rate=0.05, max_depth=22, n_estimators=250;, score=0.879 total time= 1.4min\n",
      "[CV 3/5] END learning_rate=0.05, max_depth=22, n_estimators=250;, score=0.868 total time= 1.4min\n",
      "[CV 1/5] END learning_rate=0.05, max_depth=22, n_estimators=300;, score=0.869 total time= 1.2min\n",
      "[CV 2/5] END learning_rate=0.05, max_depth=22, n_estimators=300;, score=0.877 total time= 1.3min\n",
      "[CV 3/5] END learning_rate=0.05, max_depth=22, n_estimators=300;, score=0.868 total time= 1.3min\n",
      "[CV 4/5] END learning_rate=0.05, max_depth=22, n_estimators=300;, score=0.878 total time= 1.2min\n",
      "[CV 1/5] END learning_rate=0.05, max_depth=22, n_estimators=400;, score=0.869 total time= 1.6min\n",
      "[CV 5/5] END learning_rate=0.05, max_depth=22, n_estimators=300;, score=0.869 total time= 1.6min\n",
      "[CV 4/5] END learning_rate=0.05, max_depth=25, n_estimators=250;, score=0.878 total time= 1.2min\n",
      "[CV 1/5] END learning_rate=0.05, max_depth=25, n_estimators=250;, score=0.871 total time= 1.3min\n",
      "[CV 2/5] END learning_rate=0.1, max_depth=15, n_estimators=250;, score=0.876 total time=  36.7s\n",
      "[CV 1/5] END learning_rate=0.1, max_depth=15, n_estimators=250;, score=0.870 total time=  37.9s\n",
      "[CV 3/5] END learning_rate=0.05, max_depth=22, n_estimators=400;, score=0.868 total time= 1.6min\n",
      "[CV 3/5] END learning_rate=0.05, max_depth=25, n_estimators=250;, score=0.867 total time= 1.4min\n",
      "[CV 4/5] END learning_rate=0.05, max_depth=22, n_estimators=400;, score=0.880 total time= 1.6min\n",
      "[CV 5/5] END learning_rate=0.05, max_depth=25, n_estimators=250;, score=0.868 total time= 1.4min\n",
      "[CV 3/5] END learning_rate=0.05, max_depth=25, n_estimators=300;, score=0.868 total time= 1.4min\n",
      "[CV 3/5] END learning_rate=0.1, max_depth=15, n_estimators=250;, score=0.865 total time=  51.8s\n",
      "[CV 4/5] END learning_rate=0.05, max_depth=25, n_estimators=300;, score=0.879 total time= 1.4min\n",
      "[CV 5/5] END learning_rate=0.05, max_depth=25, n_estimators=300;, score=0.869 total time= 1.4min\n",
      "[CV 2/5] END learning_rate=0.05, max_depth=25, n_estimators=300;, score=0.875 total time= 1.6min\n",
      "[CV 2/5] END learning_rate=0.05, max_depth=22, n_estimators=400;, score=0.879 total time= 2.0min\n",
      "[CV 5/5] END learning_rate=0.05, max_depth=22, n_estimators=400;, score=0.869 total time= 1.8min\n",
      "[CV 4/5] END learning_rate=0.1, max_depth=15, n_estimators=250;, score=0.878 total time=  32.6s\n",
      "[CV 1/5] END learning_rate=0.05, max_depth=25, n_estimators=400;, score=0.871 total time= 1.5min\n",
      "[CV 2/5] END learning_rate=0.05, max_depth=25, n_estimators=250;, score=0.875 total time= 1.8min\n",
      "[CV 1/5] END learning_rate=0.05, max_depth=25, n_estimators=300;, score=0.871 total time= 1.7min\n",
      "[CV 5/5] END learning_rate=0.1, max_depth=15, n_estimators=250;, score=0.869 total time=  36.4s\n",
      "[CV 1/5] END learning_rate=0.1, max_depth=15, n_estimators=300;, score=0.870 total time=  37.9s\n",
      "[CV 4/5] END learning_rate=0.05, max_depth=25, n_estimators=400;, score=0.879 total time= 1.5min\n",
      "[CV 2/5] END learning_rate=0.1, max_depth=15, n_estimators=300;, score=0.876 total time=  40.3s\n",
      "[CV 2/5] END learning_rate=0.05, max_depth=25, n_estimators=400;, score=0.876 total time= 1.6min\n",
      "[CV 5/5] END learning_rate=0.1, max_depth=15, n_estimators=300;, score=0.870 total time=  35.8s\n",
      "[CV 5/5] END learning_rate=0.05, max_depth=25, n_estimators=400;, score=0.869 total time= 1.5min\n",
      "[CV 3/5] END learning_rate=0.1, max_depth=15, n_estimators=300;, score=0.864 total time=  44.5s\n",
      "[CV 1/5] END learning_rate=0.1, max_depth=15, n_estimators=400;, score=0.872 total time=  42.9s\n",
      "[CV 3/5] END learning_rate=0.05, max_depth=25, n_estimators=400;, score=0.867 total time= 1.8min\n",
      "[CV 2/5] END learning_rate=0.1, max_depth=15, n_estimators=400;, score=0.878 total time=  42.8s\n",
      "[CV 5/5] END learning_rate=0.1, max_depth=15, n_estimators=400;, score=0.871 total time=  36.1s\n",
      "[CV 4/5] END learning_rate=0.1, max_depth=15, n_estimators=300;, score=0.878 total time=  54.5s\n",
      "[CV 1/5] END learning_rate=0.1, max_depth=18, n_estimators=250;, score=0.870 total time=  42.2s\n",
      "[CV 2/5] END learning_rate=0.1, max_depth=18, n_estimators=250;, score=0.875 total time=  40.6s\n",
      "[CV 5/5] END learning_rate=0.1, max_depth=18, n_estimators=250;, score=0.869 total time=  39.9s\n",
      "[CV 2/5] END learning_rate=0.1, max_depth=18, n_estimators=300;, score=0.877 total time=  39.3s\n",
      "[CV 4/5] END learning_rate=0.1, max_depth=15, n_estimators=400;, score=0.879 total time=  51.8s\n",
      "[CV 3/5] END learning_rate=0.1, max_depth=15, n_estimators=400;, score=0.864 total time=  57.0s\n",
      "[CV 4/5] END learning_rate=0.1, max_depth=18, n_estimators=250;, score=0.879 total time=  42.2s\n",
      "[CV 3/5] END learning_rate=0.1, max_depth=18, n_estimators=300;, score=0.864 total time=  44.9s\n",
      "[CV 3/5] END learning_rate=0.1, max_depth=18, n_estimators=250;, score=0.865 total time=  55.0s\n",
      "[CV 3/5] END learning_rate=0.1, max_depth=18, n_estimators=400;, score=0.864 total time=  44.3s\n",
      "[CV 4/5] END learning_rate=0.1, max_depth=18, n_estimators=400;, score=0.880 total time=  48.5s\n",
      "[CV 1/5] END learning_rate=0.1, max_depth=18, n_estimators=300;, score=0.870 total time= 1.1min\n",
      "[CV 1/5] END learning_rate=0.1, max_depth=22, n_estimators=250;, score=0.870 total time=  51.4s\n",
      "[CV 1/5] END learning_rate=0.1, max_depth=18, n_estimators=400;, score=0.871 total time=  59.6s\n",
      "[CV 4/5] END learning_rate=0.1, max_depth=18, n_estimators=300;, score=0.880 total time= 1.2min\n",
      "[CV 1/5] END learning_rate=0.1, max_depth=22, n_estimators=300;, score=0.871 total time=  44.0s\n",
      "[CV 5/5] END learning_rate=0.1, max_depth=22, n_estimators=250;, score=0.869 total time=  45.9s\n",
      "[CV 2/5] END learning_rate=0.1, max_depth=22, n_estimators=250;, score=0.874 total time=  52.2s\n",
      "[CV 4/5] END learning_rate=0.1, max_depth=22, n_estimators=250;, score=0.880 total time=  51.6s\n",
      "[CV 5/5] END learning_rate=0.1, max_depth=18, n_estimators=300;, score=0.870 total time= 1.2min\n",
      "[CV 3/5] END learning_rate=0.1, max_depth=22, n_estimators=250;, score=0.868 total time=  54.7s\n",
      "[CV 2/5] END learning_rate=0.1, max_depth=18, n_estimators=400;, score=0.878 total time= 1.1min\n",
      "[CV 5/5] END learning_rate=0.1, max_depth=18, n_estimators=400;, score=0.869 total time= 1.1min\n",
      "[CV 3/5] END learning_rate=0.1, max_depth=22, n_estimators=300;, score=0.868 total time=  51.2s\n",
      "[CV 2/5] END learning_rate=0.1, max_depth=22, n_estimators=300;, score=0.875 total time=  55.8s\n",
      "[CV 4/5] END learning_rate=0.1, max_depth=22, n_estimators=300;, score=0.878 total time=  53.5s\n",
      "[CV 1/5] END learning_rate=0.1, max_depth=22, n_estimators=400;, score=0.870 total time=  52.9s\n",
      "[CV 5/5] END learning_rate=0.1, max_depth=22, n_estimators=300;, score=0.868 total time=  55.2s\n",
      "[CV 2/5] END learning_rate=0.1, max_depth=22, n_estimators=400;, score=0.876 total time=  59.2s\n",
      "[CV 1/5] END learning_rate=0.1, max_depth=25, n_estimators=250;, score=0.871 total time=  48.6s\n",
      "[CV 4/5] END learning_rate=0.1, max_depth=22, n_estimators=400;, score=0.878 total time= 1.0min\n",
      "[CV 2/5] END learning_rate=0.1, max_depth=25, n_estimators=250;, score=0.877 total time=  47.1s\n",
      "[CV 3/5] END learning_rate=0.1, max_depth=25, n_estimators=250;, score=0.869 total time=  42.6s\n",
      "[CV 5/5] END learning_rate=0.1, max_depth=22, n_estimators=400;, score=0.869 total time=  59.3s\n",
      "[CV 3/5] END learning_rate=0.1, max_depth=22, n_estimators=400;, score=0.867 total time= 1.1min\n",
      "[CV 5/5] END learning_rate=0.1, max_depth=25, n_estimators=250;, score=0.871 total time=  41.2s\n",
      "[CV 3/5] END learning_rate=0.1, max_depth=25, n_estimators=300;, score=0.870 total time=  38.7s\n",
      "[CV 1/5] END learning_rate=0.1, max_depth=25, n_estimators=300;, score=0.872 total time=  42.3s\n",
      "[CV 4/5] END learning_rate=0.1, max_depth=25, n_estimators=250;, score=0.880 total time=  45.3s\n",
      "[CV 2/5] END learning_rate=0.1, max_depth=25, n_estimators=300;, score=0.877 total time=  40.1s\n",
      "[CV 4/5] END learning_rate=0.1, max_depth=25, n_estimators=300;, score=0.880 total time=  39.0s\n",
      "[CV 5/5] END learning_rate=0.1, max_depth=25, n_estimators=300;, score=0.871 total time=  38.5s\n",
      "[CV 1/5] END learning_rate=0.1, max_depth=25, n_estimators=400;, score=0.873 total time=  37.3s\n",
      "[CV 2/5] END learning_rate=0.1, max_depth=25, n_estimators=400;, score=0.877 total time=  35.6s\n",
      "[CV 3/5] END learning_rate=0.1, max_depth=25, n_estimators=400;, score=0.869 total time=  35.4s\n",
      "[CV 4/5] END learning_rate=0.1, max_depth=25, n_estimators=400;, score=0.879 total time=  35.4s\n",
      "[CV 5/5] END learning_rate=0.1, max_depth=25, n_estimators=400;, score=0.871 total time=  31.2s\n"
     ]
    }
   ],
   "source": [
    "xgb = XGBClassifier(objective='binary:logistic')\n",
    "parm_xgb = {'max_depth': [15, 18, 22, 25], 'n_estimators': [\n",
    "    250, 300, 400], 'learning_rate': [0.01, 0.05, 0.1]}\n",
    "grid_xgb = GridSearchCV(estimator=xgb, param_grid=parm_xgb,\n",
    "                        scoring='accuracy', cv=5, n_jobs=-1, verbose=3)\n",
    "grid_result = grid_xgb.fit(X_train, y_train)"
   ]
  },
  {
   "cell_type": "code",
   "execution_count": 79,
   "metadata": {},
   "outputs": [],
   "source": [
    "optimized_xgb = grid_xgb.best_estimator_"
   ]
  },
  {
   "cell_type": "code",
   "execution_count": 80,
   "metadata": {},
   "outputs": [
    {
     "data": {
      "text/plain": [
       "0.8739006297220457"
      ]
     },
     "execution_count": 80,
     "metadata": {},
     "output_type": "execute_result"
    }
   ],
   "source": [
    "grid_xgb.best_score_"
   ]
  },
  {
   "cell_type": "code",
   "execution_count": 81,
   "metadata": {},
   "outputs": [
    {
     "data": {
      "text/plain": [
       "{'learning_rate': 0.1, 'max_depth': 25, 'n_estimators': 300}"
      ]
     },
     "execution_count": 81,
     "metadata": {},
     "output_type": "execute_result"
    }
   ],
   "source": [
    "grid_xgb.best_params_"
   ]
  },
  {
   "cell_type": "code",
   "execution_count": 82,
   "metadata": {},
   "outputs": [],
   "source": [
    "xgb_train_pred = optimized_xgb.predict(X_train)\n",
    "xgb_test_pred = optimized_xgb.predict(X_test)"
   ]
  },
  {
   "cell_type": "code",
   "execution_count": 83,
   "metadata": {},
   "outputs": [
    {
     "data": {
      "text/plain": [
       "(31721,)"
      ]
     },
     "execution_count": 83,
     "metadata": {},
     "output_type": "execute_result"
    }
   ],
   "source": [
    "y_train.shape"
   ]
  },
  {
   "cell_type": "code",
   "execution_count": 84,
   "metadata": {},
   "outputs": [
    {
     "name": "stdout",
     "output_type": "stream",
     "text": [
      "The accuracy on train data is  0.9995271271397497\n",
      "The accuracy on test data is  0.8780433983082016\n",
      "The precision on test data is  0.8396957948106174\n",
      "The recall on test data is  0.9061795944641133\n",
      "The f1 on test data is  0.871671826625387\n",
      "The roc_score on test data is  0.8802676864069653\n"
     ]
    }
   ],
   "source": [
    "print(\"The accuracy on train data is \",\n",
    "      accuracy_score(xgb_train_pred, y_train))\n",
    "print(\"The accuracy on test data is \", accuracy_score(xgb_test_pred, y_test))\n",
    "print(\"The precision on test data is \", precision_score(xgb_test_pred, y_test))\n",
    "print(\"The recall on test data is \", recall_score(xgb_test_pred, y_test))\n",
    "print(\"The f1 on test data is \", f1_score(xgb_test_pred, y_test))\n",
    "print(\"The roc_score on test data is \", roc_auc_score(xgb_test_pred, y_test))"
   ]
  },
  {
   "cell_type": "code",
   "execution_count": 85,
   "metadata": {},
   "outputs": [
    {
     "data": {
      "text/plain": [
       "[Text(0, 0.5, 'Not Defaulter'), Text(0, 1.5, 'Defaulter')]"
      ]
     },
     "execution_count": 85,
     "metadata": {},
     "output_type": "execute_result"
    },
    {
     "data": {
      "image/png": "[encoded data removed]",
      "text/plain": [
       "<Figure size 640x480 with 2 Axes>"
      ]
     },
     "metadata": {},
     "output_type": "display_data"
    }
   ],
   "source": [
    "labels = ['Not Defaulter', 'Defaulter']\n",
    "cm = confusion_matrix(y_test, xgb_test_pred)\n",
    "\n",
    "\n",
    "ax = plt.subplot()\n",
    "sns.heatmap(cm,\n",
    "            xticklabels=['Not Default', 'Default'],\n",
    "            yticklabels=['Not Default', 'Default'],\n",
    "            annot=True, ax=ax,\n",
    "            linewidths=.2, linecolor=\"Darkblue\", cmap=\"Blues\")  # annot=True to annotate cells\n",
    "\n",
    "# labels, title and ticks\n",
    "ax.set_xlabel('Predicted labels')\n",
    "ax.set_ylabel('True labels')\n",
    "ax.set_title('Confusion Matrix (XGBoost)')\n",
    "ax.xaxis.set_ticklabels(labels)\n",
    "ax.yaxis.set_ticklabels(labels)"
   ]
  },
  {
   "cell_type": "code",
   "execution_count": 86,
   "metadata": {},
   "outputs": [
    {
     "data": {
      "image/png": "[encoded data removed]",
      "text/plain": [
       "<Figure size 640x480 with 1 Axes>"
      ]
     },
     "metadata": {},
     "output_type": "display_data"
    }
   ],
   "source": [
    "y_preds_proba_xgb = optimized_xgb.predict_proba(X_test)[::, 1]\n",
    "y_pred_proba = y_preds_proba_xgb\n",
    "fpr, tpr, _ = roc_curve(y_test,  y_pred_proba)\n",
    "auc = roc_auc_score(y_test, y_pred_proba)\n",
    "plt.plot(fpr, tpr, label=\"data 1, auc=\"+str(auc))\n",
    "plt.title('XGBoost')\n",
    "plt.legend(loc=4)\n",
    "plt.show()"
   ]
  },
  {
   "cell_type": "markdown",
   "metadata": {},
   "source": [
    "### **特徵重要性提取**\n",
    "\n",
    "- **`feature_importances_xgb = pd.DataFrame(optimized_xgb.feature_importances_, index=columns, columns=['importance_xgb']).sort_values('importance_xgb', ascending=False)[:20]`**:\n",
    "    - **`optimized_xgb.feature_importances_`** 獲取了 XGBoost 模型中各個特徵的重要性。這些值表示每個特徵對於模型的預測能力貢獻的相對重要性。\n",
    "    - 這些重要性值被轉換成了一個 Pandas DataFrame，其中 **`index=columns`** 指定了每個特徵的名稱。\n",
    "    - **`.sort_values('importance_xgb', ascending=False)`** 對特徵按其重要性進行降序排序。\n",
    "    - **`[:20]`** 選取了前20個最重要的特徵。\n",
    "\n",
    "### **數據可視化**\n",
    "\n",
    "- **使用 Matplotlib 繪製條形圖**:\n",
    "    - **`plt.subplots(figsize=(17, 6))`**: 創建一個圖形和一個子圖，設定圖形大小為寬17英寸、高6英寸。\n",
    "    - **`plt.title(\"Feature importances from XGBoost\")`**: 給圖形添加標題。\n",
    "    - **`plt.bar(...)`**: 繪製條形圖，展示每個特徵的重要性。**`feature_importances_xgb.index`** 和 **`feature_importances_xgb['importance_xgb']`** 分別提供了 X 軸（特徵名稱）和 Y 軸（重要性值）的數據。\n",
    "    - **`plt.xticks(...)`**: 設置 X 軸的刻度標籤，並將其旋轉 45 度，以便於閱讀。\n",
    "    - **`plt.show()`**: 顯示圖表。"
   ]
  },
  {
   "cell_type": "code",
   "execution_count": 87,
   "metadata": {},
   "outputs": [
    {
     "data": {
      "image/png": "[encoded data removed]",
      "text/plain": [
       "<Figure size 1700x600 with 1 Axes>"
      ]
     },
     "metadata": {},
     "output_type": "display_data"
    }
   ],
   "source": [
    "# Feature Importance\n",
    "feature_importances_xgb = pd.DataFrame(optimized_xgb.feature_importances_,\n",
    "                                       index=columns,\n",
    "                                       columns=['importance_xgb']).sort_values('importance_xgb',\n",
    "                                                                               ascending=False)[:20]\n",
    "\n",
    "plt.subplots(figsize=(17, 6))\n",
    "plt.title(\"Feature importances from XGBoost\")\n",
    "plt.bar(feature_importances_xgb.index, feature_importances_xgb['importance_xgb'],\n",
    "        color=\"b\",  align=\"center\")\n",
    "plt.xticks(feature_importances_xgb.index, rotation=45)\n",
    "# plt.xlim([-1, X.shape[1]])\n",
    "plt.show()"
   ]
  }
 ],
 "metadata": {
  "kernelspec": {
   "display_name": "big_data",
   "language": "python",
   "name": "python3"
  },
  "language_info": {
   "codemirror_mode": {
    "name": "ipython",
    "version": 3
   },
   "file_extension": ".py",
   "mimetype": "text/x-python",
   "name": "python",
   "nbconvert_exporter": "python",
   "pygments_lexer": "ipython3",
   "version": "3.8.18"
  }
 },
 "nbformat": 4,
 "nbformat_minor": 2
}
